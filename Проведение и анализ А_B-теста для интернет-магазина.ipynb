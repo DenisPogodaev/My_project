{
 "cells": [
  {
   "cell_type": "markdown",
   "metadata": {},
   "source": [
    "# Проведение и анализ А/B-теста для интернет-магазина"
   ]
  },
  {
   "cell_type": "markdown",
   "metadata": {},
   "source": [
    "## Описание проекта"
   ]
  },
  {
   "cell_type": "markdown",
   "metadata": {},
   "source": [
    "Вы — аналитик крупного интернет-магазина. Вместе с отделом маркетинга вы подготовили список гипотез для увеличения выручки.<br>\n",
    "Приоритизируйте гипотезы, запустите A/B-тест и проанализируйте результаты. "
   ]
  },
  {
   "cell_type": "markdown",
   "metadata": {},
   "source": [
    "## Описание данных"
   ]
  },
  {
   "cell_type": "markdown",
   "metadata": {},
   "source": [
    "**Файл `hypothesis.csv`**\n",
    "- *Hypothesis* — краткое описание гипотезы;\n",
    "- *Reach* — охват пользователей по 10-балльной шкале;\n",
    "- *Impact* — влияние на пользователей по 10-балльной шкале;\n",
    "- *Confidence* — уверенность в гипотезе по 10-балльной шкале;\n",
    "- *Efforts* — затраты ресурсов на проверку гипотезы по 10-балльной шкале.\n",
    "\n",
    "**Файл `orders.csv`**\n",
    "- *transactionId* — идентификатор заказа;\n",
    "- *visitorId* — идентификатор пользователя, совершившего заказ;\n",
    "- *date* — дата, когда был совершён заказ;\n",
    "- *revenue* — выручка заказа;\n",
    "- *group* — группа A/B-теста, в которую попал заказ.\n",
    "\n",
    "**Файл `visitors.csv`**\n",
    "- *date* — дата;\n",
    "- *group* — группа A/B-теста;\n",
    "- *visitors* — количество пользователей в указанную дату в указанной группе A/B-теста"
   ]
  },
  {
   "cell_type": "markdown",
   "metadata": {},
   "source": [
    "## План проекта"
   ]
  },
  {
   "cell_type": "markdown",
   "metadata": {},
   "source": [
    "- Загрузка и предобработка данных\n",
    "- Приоритизация гипотез\n",
    "  1. Применим фреймворк ICE для приоритизации гипотез. Отсортируем их по убыванию приоритета;\n",
    "  2. Применим фреймворк RICE для приоритизации гипотез. Отсортируем их по убыванию приоритета;\n",
    "  3. Укажем, как изменилась приоритизация гипотез при применении RICE вместо ICE. Объясним, почему так произошло.\n",
    "- Анализ A/B-теста <br>\n",
    "  Этапы анализа:\n",
    "   1. Построим график кумулятивной выручки по группам. Сделаем выводы и предположения.\n",
    "   2. Построим график кумулятивного среднего чека по группам. Сделаем выводы и предположения.\n",
    "   3. Построим график относительного изменения кумулятивного среднего чека группы B к группе A. Сделаем выводы и предположения.\n",
    "   4. Построим график кумулятивной конверсии по группам. Сделаем выводы и предположения.\n",
    "   5. Построим график относительного изменения кумулятивной конверсии группы B к группе A. Сделаем выводы и предположения.\n",
    "   6. Построим точечный график количества заказов по пользователям. Сделаем выводы и предположения.\n",
    "   7. Посчитаем 95-й и 99-й перцентили количества заказов на пользователя. Выберем границу для определения аномальных пользователей.\n",
    "   8. Построим точечный график стоимостей заказов. Сделаем выводы и предположения.\n",
    "   9. Посчитаем 95-й и 99-й перцентили стоимости заказов. Выберем границу для определения аномальных заказов.\n",
    "   10. Посчитаем статистическую значимость различий в конверсии между группами по «сырым» данным. Сделаем выводы и предположения.\n",
    "   11. Посчитаем статистическую значимость различий в среднем чеке заказа между группами по «сырым» данным. Сделаем выводы и предположения.\n",
    "   12. Посчитаем статистическую значимость различий в конверсии между группами по «очищенным» данным. Сделаем выводы и предположения.\n",
    "   13. Посчитаем статистическую значимость различий в среднем чеке заказа между группами по «очищенным» данным. Сделаем выводы и предположения.\n",
    "   \n",
    "- Общий вывод <br>\n",
    "    Примем решение по результатам теста и объясним его. Варианты решений:\n",
    "       1. Остановить тест, зафиксировать победу одной из групп.\n",
    "       2. Остановить тест, зафиксировать отсутствие различий между группами.\n",
    "       3. Продолжить тест."
   ]
  },
  {
   "cell_type": "markdown",
   "metadata": {},
   "source": [
    "## Загрузка и предобработка данных"
   ]
  },
  {
   "cell_type": "markdown",
   "metadata": {},
   "source": [
    "Импортируем библиотеки:"
   ]
  },
  {
   "cell_type": "code",
   "execution_count": 1,
   "metadata": {},
   "outputs": [],
   "source": [
    "import pandas as pd\n",
    "import matplotlib.pyplot as plt\n",
    "import seaborn as sns\n",
    "import plotly.express as px\n",
    "import numpy as np\n",
    "from math import sqrt\n",
    "from scipy import stats as st\n",
    "import datetime as dt"
   ]
  },
  {
   "cell_type": "code",
   "execution_count": 2,
   "metadata": {},
   "outputs": [],
   "source": [
    "# снимаем ограничение на количество столбцов\n",
    "pd.set_option('display.max_columns', None)\n",
    "\n",
    "# снимаем ограничение на ширину столбцов\n",
    "pd.set_option('display.max_colwidth', None)\n",
    "\n",
    "# выставляем ограничение на показ знаков после запятой\n",
    "pd.options.display.float_format = '{:,.3f}'.format"
   ]
  },
  {
   "cell_type": "markdown",
   "metadata": {},
   "source": [
    "Считаем данные из csv-файла в датафреймы и сохраним в переменные: hypothesis, orders, visitors."
   ]
  },
  {
   "cell_type": "code",
   "execution_count": 3,
   "metadata": {},
   "outputs": [],
   "source": [
    "try:\n",
    "    hypothesis = pd.read_csv('/datasets/hypothesis.csv') \n",
    "    orders = pd.read_csv('/datasets/orders.csv') \n",
    "    visitors = pd.read_csv('/datasets/visitors.csv') \n",
    "except:\n",
    "    hypothesis = pd.read_csv('C:/Users/888/OneDrive/Рабочий стол/Принятие решений в бизнесе/hypothesis.csv') \n",
    "    orders = pd.read_csv('C:/Users/888/OneDrive/Рабочий стол/Принятие решений в бизнесе/orders.csv') \n",
    "    visitors = pd.read_csv('C:/Users/888/OneDrive/Рабочий стол/Принятие решений в бизнесе/visitors.csv') "
   ]
  },
  {
   "cell_type": "markdown",
   "metadata": {},
   "source": [
    "Выведем основную информацию о датафреймах"
   ]
  },
  {
   "cell_type": "code",
   "execution_count": 4,
   "metadata": {},
   "outputs": [],
   "source": [
    "# напишем функцию для обзора данных:\n",
    "def print_primary_info(df):\n",
    "    print(\"\\nПервичная информация о датафрейме\")\n",
    "    print(\"Количество записей:\", df.shape[0])\n",
    "    print(\"Количество столбцов:\", df.shape[1])\n",
    "    print(\"\\nПервые 10 строк:\")\n",
    "    display(df.head(10))\n",
    "    print(\"Информация о типах данных: \\n\")\n",
    "    print(df.info())\n",
    "    print(\"\\nПропуски:\")\n",
    "    display(df.isna().sum())\n",
    "    print(\"Процент пропусков от всего датафрейма:\")\n",
    "    display(df.isna().mean().sort_values(ascending=False)*100)\n",
    "    print(\"Дубликаты:\")\n",
    "    if df.duplicated().sum() > 0:\n",
    "        print('Дубликатов: ', df.duplicated().sum())\n",
    "    else:\n",
    "        print('Дубликатов НЕТ')    "
   ]
  },
  {
   "cell_type": "code",
   "execution_count": 5,
   "metadata": {},
   "outputs": [
    {
     "name": "stdout",
     "output_type": "stream",
     "text": [
      "\n",
      "Первичная информация о датафрейме\n",
      "Количество записей: 9\n",
      "Количество столбцов: 5\n",
      "\n",
      "Первые 10 строк:\n"
     ]
    },
    {
     "data": {
      "text/html": [
       "<div>\n",
       "<style scoped>\n",
       "    .dataframe tbody tr th:only-of-type {\n",
       "        vertical-align: middle;\n",
       "    }\n",
       "\n",
       "    .dataframe tbody tr th {\n",
       "        vertical-align: top;\n",
       "    }\n",
       "\n",
       "    .dataframe thead th {\n",
       "        text-align: right;\n",
       "    }\n",
       "</style>\n",
       "<table border=\"1\" class=\"dataframe\">\n",
       "  <thead>\n",
       "    <tr style=\"text-align: right;\">\n",
       "      <th></th>\n",
       "      <th>Hypothesis</th>\n",
       "      <th>Reach</th>\n",
       "      <th>Impact</th>\n",
       "      <th>Confidence</th>\n",
       "      <th>Efforts</th>\n",
       "    </tr>\n",
       "  </thead>\n",
       "  <tbody>\n",
       "    <tr>\n",
       "      <th>0</th>\n",
       "      <td>Добавить два новых канала привлечения трафика, что позволит привлекать на 30% больше пользователей</td>\n",
       "      <td>3</td>\n",
       "      <td>10</td>\n",
       "      <td>8</td>\n",
       "      <td>6</td>\n",
       "    </tr>\n",
       "    <tr>\n",
       "      <th>1</th>\n",
       "      <td>Запустить собственную службу доставки, что сократит срок доставки заказов</td>\n",
       "      <td>2</td>\n",
       "      <td>5</td>\n",
       "      <td>4</td>\n",
       "      <td>10</td>\n",
       "    </tr>\n",
       "    <tr>\n",
       "      <th>2</th>\n",
       "      <td>Добавить блоки рекомендаций товаров на сайт интернет магазина, чтобы повысить конверсию и средний чек заказа</td>\n",
       "      <td>8</td>\n",
       "      <td>3</td>\n",
       "      <td>7</td>\n",
       "      <td>3</td>\n",
       "    </tr>\n",
       "    <tr>\n",
       "      <th>3</th>\n",
       "      <td>Изменить структура категорий, что увеличит конверсию, т.к. пользователи быстрее найдут нужный товар</td>\n",
       "      <td>8</td>\n",
       "      <td>3</td>\n",
       "      <td>3</td>\n",
       "      <td>8</td>\n",
       "    </tr>\n",
       "    <tr>\n",
       "      <th>4</th>\n",
       "      <td>Изменить цвет фона главной страницы, чтобы увеличить вовлеченность пользователей</td>\n",
       "      <td>3</td>\n",
       "      <td>1</td>\n",
       "      <td>1</td>\n",
       "      <td>1</td>\n",
       "    </tr>\n",
       "    <tr>\n",
       "      <th>5</th>\n",
       "      <td>Добавить страницу отзывов клиентов о магазине, что позволит увеличить количество заказов</td>\n",
       "      <td>3</td>\n",
       "      <td>2</td>\n",
       "      <td>2</td>\n",
       "      <td>3</td>\n",
       "    </tr>\n",
       "    <tr>\n",
       "      <th>6</th>\n",
       "      <td>Показать на главной странице баннеры с актуальными акциями и распродажами, чтобы увеличить конверсию</td>\n",
       "      <td>5</td>\n",
       "      <td>3</td>\n",
       "      <td>8</td>\n",
       "      <td>3</td>\n",
       "    </tr>\n",
       "    <tr>\n",
       "      <th>7</th>\n",
       "      <td>Добавить форму подписки на все основные страницы, чтобы собрать базу клиентов для email-рассылок</td>\n",
       "      <td>10</td>\n",
       "      <td>7</td>\n",
       "      <td>8</td>\n",
       "      <td>5</td>\n",
       "    </tr>\n",
       "    <tr>\n",
       "      <th>8</th>\n",
       "      <td>Запустить акцию, дающую скидку на товар в день рождения</td>\n",
       "      <td>1</td>\n",
       "      <td>9</td>\n",
       "      <td>9</td>\n",
       "      <td>5</td>\n",
       "    </tr>\n",
       "  </tbody>\n",
       "</table>\n",
       "</div>"
      ],
      "text/plain": [
       "                                                                                                     Hypothesis  \\\n",
       "0            Добавить два новых канала привлечения трафика, что позволит привлекать на 30% больше пользователей   \n",
       "1                                     Запустить собственную службу доставки, что сократит срок доставки заказов   \n",
       "2  Добавить блоки рекомендаций товаров на сайт интернет магазина, чтобы повысить конверсию и средний чек заказа   \n",
       "3           Изменить структура категорий, что увеличит конверсию, т.к. пользователи быстрее найдут нужный товар   \n",
       "4                              Изменить цвет фона главной страницы, чтобы увеличить вовлеченность пользователей   \n",
       "5                      Добавить страницу отзывов клиентов о магазине, что позволит увеличить количество заказов   \n",
       "6          Показать на главной странице баннеры с актуальными акциями и распродажами, чтобы увеличить конверсию   \n",
       "7              Добавить форму подписки на все основные страницы, чтобы собрать базу клиентов для email-рассылок   \n",
       "8                                                       Запустить акцию, дающую скидку на товар в день рождения   \n",
       "\n",
       "   Reach  Impact  Confidence  Efforts  \n",
       "0      3      10           8        6  \n",
       "1      2       5           4       10  \n",
       "2      8       3           7        3  \n",
       "3      8       3           3        8  \n",
       "4      3       1           1        1  \n",
       "5      3       2           2        3  \n",
       "6      5       3           8        3  \n",
       "7     10       7           8        5  \n",
       "8      1       9           9        5  "
      ]
     },
     "metadata": {},
     "output_type": "display_data"
    },
    {
     "name": "stdout",
     "output_type": "stream",
     "text": [
      "Информация о типах данных: \n",
      "\n",
      "<class 'pandas.core.frame.DataFrame'>\n",
      "RangeIndex: 9 entries, 0 to 8\n",
      "Data columns (total 5 columns):\n",
      " #   Column      Non-Null Count  Dtype \n",
      "---  ------      --------------  ----- \n",
      " 0   Hypothesis  9 non-null      object\n",
      " 1   Reach       9 non-null      int64 \n",
      " 2   Impact      9 non-null      int64 \n",
      " 3   Confidence  9 non-null      int64 \n",
      " 4   Efforts     9 non-null      int64 \n",
      "dtypes: int64(4), object(1)\n",
      "memory usage: 488.0+ bytes\n",
      "None\n",
      "\n",
      "Пропуски:\n"
     ]
    },
    {
     "data": {
      "text/plain": [
       "Hypothesis    0\n",
       "Reach         0\n",
       "Impact        0\n",
       "Confidence    0\n",
       "Efforts       0\n",
       "dtype: int64"
      ]
     },
     "metadata": {},
     "output_type": "display_data"
    },
    {
     "name": "stdout",
     "output_type": "stream",
     "text": [
      "Процент пропусков от всего датафрейма:\n"
     ]
    },
    {
     "data": {
      "text/plain": [
       "Hypothesis   0.000\n",
       "Reach        0.000\n",
       "Impact       0.000\n",
       "Confidence   0.000\n",
       "Efforts      0.000\n",
       "dtype: float64"
      ]
     },
     "metadata": {},
     "output_type": "display_data"
    },
    {
     "name": "stdout",
     "output_type": "stream",
     "text": [
      "Дубликаты:\n",
      "Дубликатов НЕТ\n"
     ]
    }
   ],
   "source": [
    "#информация о датафрейме hypothesis:\n",
    "print_primary_info(hypothesis)"
   ]
  },
  {
   "cell_type": "markdown",
   "metadata": {},
   "source": [
    "Типы данных верные. Приведём название столбцов к хорошему стилю."
   ]
  },
  {
   "cell_type": "code",
   "execution_count": 6,
   "metadata": {},
   "outputs": [
    {
     "data": {
      "text/plain": [
       "Index(['hypothesis', 'reach', 'impact', 'confidence', 'efforts'], dtype='object')"
      ]
     },
     "execution_count": 6,
     "metadata": {},
     "output_type": "execute_result"
    }
   ],
   "source": [
    "hypothesis.columns = hypothesis.columns.str.lower()\n",
    "hypothesis.columns"
   ]
  },
  {
   "cell_type": "code",
   "execution_count": 7,
   "metadata": {},
   "outputs": [
    {
     "name": "stdout",
     "output_type": "stream",
     "text": [
      "\n",
      "Первичная информация о датафрейме\n",
      "Количество записей: 1197\n",
      "Количество столбцов: 5\n",
      "\n",
      "Первые 10 строк:\n"
     ]
    },
    {
     "data": {
      "text/html": [
       "<div>\n",
       "<style scoped>\n",
       "    .dataframe tbody tr th:only-of-type {\n",
       "        vertical-align: middle;\n",
       "    }\n",
       "\n",
       "    .dataframe tbody tr th {\n",
       "        vertical-align: top;\n",
       "    }\n",
       "\n",
       "    .dataframe thead th {\n",
       "        text-align: right;\n",
       "    }\n",
       "</style>\n",
       "<table border=\"1\" class=\"dataframe\">\n",
       "  <thead>\n",
       "    <tr style=\"text-align: right;\">\n",
       "      <th></th>\n",
       "      <th>transactionId</th>\n",
       "      <th>visitorId</th>\n",
       "      <th>date</th>\n",
       "      <th>revenue</th>\n",
       "      <th>group</th>\n",
       "    </tr>\n",
       "  </thead>\n",
       "  <tbody>\n",
       "    <tr>\n",
       "      <th>0</th>\n",
       "      <td>3667963787</td>\n",
       "      <td>3312258926</td>\n",
       "      <td>2019-08-15</td>\n",
       "      <td>1650</td>\n",
       "      <td>B</td>\n",
       "    </tr>\n",
       "    <tr>\n",
       "      <th>1</th>\n",
       "      <td>2804400009</td>\n",
       "      <td>3642806036</td>\n",
       "      <td>2019-08-15</td>\n",
       "      <td>730</td>\n",
       "      <td>B</td>\n",
       "    </tr>\n",
       "    <tr>\n",
       "      <th>2</th>\n",
       "      <td>2961555356</td>\n",
       "      <td>4069496402</td>\n",
       "      <td>2019-08-15</td>\n",
       "      <td>400</td>\n",
       "      <td>A</td>\n",
       "    </tr>\n",
       "    <tr>\n",
       "      <th>3</th>\n",
       "      <td>3797467345</td>\n",
       "      <td>1196621759</td>\n",
       "      <td>2019-08-15</td>\n",
       "      <td>9759</td>\n",
       "      <td>B</td>\n",
       "    </tr>\n",
       "    <tr>\n",
       "      <th>4</th>\n",
       "      <td>2282983706</td>\n",
       "      <td>2322279887</td>\n",
       "      <td>2019-08-15</td>\n",
       "      <td>2308</td>\n",
       "      <td>B</td>\n",
       "    </tr>\n",
       "    <tr>\n",
       "      <th>5</th>\n",
       "      <td>182168103</td>\n",
       "      <td>935554773</td>\n",
       "      <td>2019-08-15</td>\n",
       "      <td>2210</td>\n",
       "      <td>B</td>\n",
       "    </tr>\n",
       "    <tr>\n",
       "      <th>6</th>\n",
       "      <td>398296753</td>\n",
       "      <td>2900797465</td>\n",
       "      <td>2019-08-15</td>\n",
       "      <td>1860</td>\n",
       "      <td>B</td>\n",
       "    </tr>\n",
       "    <tr>\n",
       "      <th>7</th>\n",
       "      <td>2626614568</td>\n",
       "      <td>78758296</td>\n",
       "      <td>2019-08-15</td>\n",
       "      <td>1044</td>\n",
       "      <td>A</td>\n",
       "    </tr>\n",
       "    <tr>\n",
       "      <th>8</th>\n",
       "      <td>1576988021</td>\n",
       "      <td>295230930</td>\n",
       "      <td>2019-08-15</td>\n",
       "      <td>13710</td>\n",
       "      <td>A</td>\n",
       "    </tr>\n",
       "    <tr>\n",
       "      <th>9</th>\n",
       "      <td>1506739906</td>\n",
       "      <td>1882260405</td>\n",
       "      <td>2019-08-15</td>\n",
       "      <td>1855</td>\n",
       "      <td>B</td>\n",
       "    </tr>\n",
       "  </tbody>\n",
       "</table>\n",
       "</div>"
      ],
      "text/plain": [
       "   transactionId   visitorId        date  revenue group\n",
       "0     3667963787  3312258926  2019-08-15     1650     B\n",
       "1     2804400009  3642806036  2019-08-15      730     B\n",
       "2     2961555356  4069496402  2019-08-15      400     A\n",
       "3     3797467345  1196621759  2019-08-15     9759     B\n",
       "4     2282983706  2322279887  2019-08-15     2308     B\n",
       "5      182168103   935554773  2019-08-15     2210     B\n",
       "6      398296753  2900797465  2019-08-15     1860     B\n",
       "7     2626614568    78758296  2019-08-15     1044     A\n",
       "8     1576988021   295230930  2019-08-15    13710     A\n",
       "9     1506739906  1882260405  2019-08-15     1855     B"
      ]
     },
     "metadata": {},
     "output_type": "display_data"
    },
    {
     "name": "stdout",
     "output_type": "stream",
     "text": [
      "Информация о типах данных: \n",
      "\n",
      "<class 'pandas.core.frame.DataFrame'>\n",
      "RangeIndex: 1197 entries, 0 to 1196\n",
      "Data columns (total 5 columns):\n",
      " #   Column         Non-Null Count  Dtype \n",
      "---  ------         --------------  ----- \n",
      " 0   transactionId  1197 non-null   int64 \n",
      " 1   visitorId      1197 non-null   int64 \n",
      " 2   date           1197 non-null   object\n",
      " 3   revenue        1197 non-null   int64 \n",
      " 4   group          1197 non-null   object\n",
      "dtypes: int64(3), object(2)\n",
      "memory usage: 46.9+ KB\n",
      "None\n",
      "\n",
      "Пропуски:\n"
     ]
    },
    {
     "data": {
      "text/plain": [
       "transactionId    0\n",
       "visitorId        0\n",
       "date             0\n",
       "revenue          0\n",
       "group            0\n",
       "dtype: int64"
      ]
     },
     "metadata": {},
     "output_type": "display_data"
    },
    {
     "name": "stdout",
     "output_type": "stream",
     "text": [
      "Процент пропусков от всего датафрейма:\n"
     ]
    },
    {
     "data": {
      "text/plain": [
       "transactionId   0.000\n",
       "visitorId       0.000\n",
       "date            0.000\n",
       "revenue         0.000\n",
       "group           0.000\n",
       "dtype: float64"
      ]
     },
     "metadata": {},
     "output_type": "display_data"
    },
    {
     "name": "stdout",
     "output_type": "stream",
     "text": [
      "Дубликаты:\n",
      "Дубликатов НЕТ\n"
     ]
    }
   ],
   "source": [
    "#информация о датафрейме orders:\n",
    "print_primary_info(orders)"
   ]
  },
  {
   "cell_type": "markdown",
   "metadata": {},
   "source": [
    "Приведём название столбцов к хорошему стилю."
   ]
  },
  {
   "cell_type": "code",
   "execution_count": 8,
   "metadata": {},
   "outputs": [
    {
     "data": {
      "text/plain": [
       "Index(['transaction_id', 'visitor_id', 'date', 'revenue', 'group'], dtype='object')"
      ]
     },
     "execution_count": 8,
     "metadata": {},
     "output_type": "execute_result"
    }
   ],
   "source": [
    "orders = orders.rename(columns={'transactionId': 'transaction_id', 'visitorId': 'visitor_id'})\n",
    "orders.columns"
   ]
  },
  {
   "cell_type": "code",
   "execution_count": 9,
   "metadata": {},
   "outputs": [
    {
     "name": "stdout",
     "output_type": "stream",
     "text": [
      "\n",
      "Первичная информация о датафрейме\n",
      "Количество записей: 62\n",
      "Количество столбцов: 3\n",
      "\n",
      "Первые 10 строк:\n"
     ]
    },
    {
     "data": {
      "text/html": [
       "<div>\n",
       "<style scoped>\n",
       "    .dataframe tbody tr th:only-of-type {\n",
       "        vertical-align: middle;\n",
       "    }\n",
       "\n",
       "    .dataframe tbody tr th {\n",
       "        vertical-align: top;\n",
       "    }\n",
       "\n",
       "    .dataframe thead th {\n",
       "        text-align: right;\n",
       "    }\n",
       "</style>\n",
       "<table border=\"1\" class=\"dataframe\">\n",
       "  <thead>\n",
       "    <tr style=\"text-align: right;\">\n",
       "      <th></th>\n",
       "      <th>date</th>\n",
       "      <th>group</th>\n",
       "      <th>visitors</th>\n",
       "    </tr>\n",
       "  </thead>\n",
       "  <tbody>\n",
       "    <tr>\n",
       "      <th>0</th>\n",
       "      <td>2019-08-01</td>\n",
       "      <td>A</td>\n",
       "      <td>719</td>\n",
       "    </tr>\n",
       "    <tr>\n",
       "      <th>1</th>\n",
       "      <td>2019-08-02</td>\n",
       "      <td>A</td>\n",
       "      <td>619</td>\n",
       "    </tr>\n",
       "    <tr>\n",
       "      <th>2</th>\n",
       "      <td>2019-08-03</td>\n",
       "      <td>A</td>\n",
       "      <td>507</td>\n",
       "    </tr>\n",
       "    <tr>\n",
       "      <th>3</th>\n",
       "      <td>2019-08-04</td>\n",
       "      <td>A</td>\n",
       "      <td>717</td>\n",
       "    </tr>\n",
       "    <tr>\n",
       "      <th>4</th>\n",
       "      <td>2019-08-05</td>\n",
       "      <td>A</td>\n",
       "      <td>756</td>\n",
       "    </tr>\n",
       "    <tr>\n",
       "      <th>5</th>\n",
       "      <td>2019-08-06</td>\n",
       "      <td>A</td>\n",
       "      <td>667</td>\n",
       "    </tr>\n",
       "    <tr>\n",
       "      <th>6</th>\n",
       "      <td>2019-08-07</td>\n",
       "      <td>A</td>\n",
       "      <td>644</td>\n",
       "    </tr>\n",
       "    <tr>\n",
       "      <th>7</th>\n",
       "      <td>2019-08-08</td>\n",
       "      <td>A</td>\n",
       "      <td>610</td>\n",
       "    </tr>\n",
       "    <tr>\n",
       "      <th>8</th>\n",
       "      <td>2019-08-09</td>\n",
       "      <td>A</td>\n",
       "      <td>617</td>\n",
       "    </tr>\n",
       "    <tr>\n",
       "      <th>9</th>\n",
       "      <td>2019-08-10</td>\n",
       "      <td>A</td>\n",
       "      <td>406</td>\n",
       "    </tr>\n",
       "  </tbody>\n",
       "</table>\n",
       "</div>"
      ],
      "text/plain": [
       "         date group  visitors\n",
       "0  2019-08-01     A       719\n",
       "1  2019-08-02     A       619\n",
       "2  2019-08-03     A       507\n",
       "3  2019-08-04     A       717\n",
       "4  2019-08-05     A       756\n",
       "5  2019-08-06     A       667\n",
       "6  2019-08-07     A       644\n",
       "7  2019-08-08     A       610\n",
       "8  2019-08-09     A       617\n",
       "9  2019-08-10     A       406"
      ]
     },
     "metadata": {},
     "output_type": "display_data"
    },
    {
     "name": "stdout",
     "output_type": "stream",
     "text": [
      "Информация о типах данных: \n",
      "\n",
      "<class 'pandas.core.frame.DataFrame'>\n",
      "RangeIndex: 62 entries, 0 to 61\n",
      "Data columns (total 3 columns):\n",
      " #   Column    Non-Null Count  Dtype \n",
      "---  ------    --------------  ----- \n",
      " 0   date      62 non-null     object\n",
      " 1   group     62 non-null     object\n",
      " 2   visitors  62 non-null     int64 \n",
      "dtypes: int64(1), object(2)\n",
      "memory usage: 1.6+ KB\n",
      "None\n",
      "\n",
      "Пропуски:\n"
     ]
    },
    {
     "data": {
      "text/plain": [
       "date        0\n",
       "group       0\n",
       "visitors    0\n",
       "dtype: int64"
      ]
     },
     "metadata": {},
     "output_type": "display_data"
    },
    {
     "name": "stdout",
     "output_type": "stream",
     "text": [
      "Процент пропусков от всего датафрейма:\n"
     ]
    },
    {
     "data": {
      "text/plain": [
       "date       0.000\n",
       "group      0.000\n",
       "visitors   0.000\n",
       "dtype: float64"
      ]
     },
     "metadata": {},
     "output_type": "display_data"
    },
    {
     "name": "stdout",
     "output_type": "stream",
     "text": [
      "Дубликаты:\n",
      "Дубликатов НЕТ\n"
     ]
    }
   ],
   "source": [
    "#информация о датафрейме visitors:\n",
    "print_primary_info(visitors)"
   ]
  },
  {
   "cell_type": "markdown",
   "metadata": {},
   "source": [
    "Измененим тип данных в столбцах с датами в `orders` and `visitors`:"
   ]
  },
  {
   "cell_type": "code",
   "execution_count": 10,
   "metadata": {},
   "outputs": [
    {
     "name": "stdout",
     "output_type": "stream",
     "text": [
      "datetime64[ns]\n",
      "datetime64[ns]\n"
     ]
    }
   ],
   "source": [
    "orders['date'] = pd.to_datetime(orders['date'])\n",
    "visitors['date'] = pd.to_datetime(visitors['date'])\n",
    "\n",
    "# проверка\n",
    "print(orders['date'].dtypes)\n",
    "print(visitors['date'].dtypes)"
   ]
  },
  {
   "cell_type": "markdown",
   "metadata": {},
   "source": [
    "### Промежуточный вывод"
   ]
  },
  {
   "cell_type": "markdown",
   "metadata": {},
   "source": [
    "- Привели название столбцов к хорошему стилю.\n",
    "- Изменили тип данных в столбцах, содержащих информацию о дате и времени.\n",
    "- Данные полные и достаточны для исследования."
   ]
  },
  {
   "cell_type": "markdown",
   "metadata": {},
   "source": [
    "## Приоритизация гипотез"
   ]
  },
  {
   "cell_type": "markdown",
   "metadata": {},
   "source": [
    "1. Применим фреймворк ICE для приоритизации гипотез. Отсортируем их по убыванию приоритета;\n",
    "2. Применим фреймворк RICE для приоритизации гипотез. Отсортируем их по убыванию приоритета;\n",
    "3. Укажем, как изменилась приоритизация гипотез при применении RICE вместо ICE. Объясним, почему так произошло."
   ]
  },
  {
   "cell_type": "markdown",
   "metadata": {},
   "source": [
    "В файле `hypothesis.csv` 9 гипотез по увеличению выручки интернет-магазина с указанными параметрами Reach, Impact, Confidence, Effort.<br>\n",
    "Применим метод приоритезации гипотез - ICE (от. англ.: Impact, Confidence, Effort/ Влияние, Уверенность, Усилия)."
   ]
  },
  {
   "cell_type": "code",
   "execution_count": 11,
   "metadata": {},
   "outputs": [
    {
     "data": {
      "text/html": [
       "<div>\n",
       "<style scoped>\n",
       "    .dataframe tbody tr th:only-of-type {\n",
       "        vertical-align: middle;\n",
       "    }\n",
       "\n",
       "    .dataframe tbody tr th {\n",
       "        vertical-align: top;\n",
       "    }\n",
       "\n",
       "    .dataframe thead th {\n",
       "        text-align: right;\n",
       "    }\n",
       "</style>\n",
       "<table border=\"1\" class=\"dataframe\">\n",
       "  <thead>\n",
       "    <tr style=\"text-align: right;\">\n",
       "      <th></th>\n",
       "      <th>hypothesis</th>\n",
       "      <th>ice</th>\n",
       "    </tr>\n",
       "  </thead>\n",
       "  <tbody>\n",
       "    <tr>\n",
       "      <th>8</th>\n",
       "      <td>Запустить акцию, дающую скидку на товар в день рождения</td>\n",
       "      <td>16.200</td>\n",
       "    </tr>\n",
       "    <tr>\n",
       "      <th>0</th>\n",
       "      <td>Добавить два новых канала привлечения трафика, что позволит привлекать на 30% больше пользователей</td>\n",
       "      <td>13.333</td>\n",
       "    </tr>\n",
       "    <tr>\n",
       "      <th>7</th>\n",
       "      <td>Добавить форму подписки на все основные страницы, чтобы собрать базу клиентов для email-рассылок</td>\n",
       "      <td>11.200</td>\n",
       "    </tr>\n",
       "    <tr>\n",
       "      <th>6</th>\n",
       "      <td>Показать на главной странице баннеры с актуальными акциями и распродажами, чтобы увеличить конверсию</td>\n",
       "      <td>8.000</td>\n",
       "    </tr>\n",
       "    <tr>\n",
       "      <th>2</th>\n",
       "      <td>Добавить блоки рекомендаций товаров на сайт интернет магазина, чтобы повысить конверсию и средний чек заказа</td>\n",
       "      <td>7.000</td>\n",
       "    </tr>\n",
       "  </tbody>\n",
       "</table>\n",
       "</div>"
      ],
      "text/plain": [
       "                                                                                                     hypothesis  \\\n",
       "8                                                       Запустить акцию, дающую скидку на товар в день рождения   \n",
       "0            Добавить два новых канала привлечения трафика, что позволит привлекать на 30% больше пользователей   \n",
       "7              Добавить форму подписки на все основные страницы, чтобы собрать базу клиентов для email-рассылок   \n",
       "6          Показать на главной странице баннеры с актуальными акциями и распродажами, чтобы увеличить конверсию   \n",
       "2  Добавить блоки рекомендаций товаров на сайт интернет магазина, чтобы повысить конверсию и средний чек заказа   \n",
       "\n",
       "     ice  \n",
       "8 16.200  \n",
       "0 13.333  \n",
       "7 11.200  \n",
       "6  8.000  \n",
       "2  7.000  "
      ]
     },
     "metadata": {},
     "output_type": "display_data"
    }
   ],
   "source": [
    "# создаем новый столбец ice\n",
    "hypothesis['ice'] = hypothesis['impact'] * hypothesis['confidence'] / hypothesis['efforts']\n",
    "\n",
    "# Топ-5 гипотез по методу ICE:\n",
    "display(hypothesis[['hypothesis', 'ice']].sort_values(by='ice', ascending=False).head())"
   ]
  },
  {
   "cell_type": "code",
   "execution_count": 12,
   "metadata": {},
   "outputs": [
    {
     "data": {
      "image/png": "[encoded data removed]",
      "text/plain": [
       "<Figure size 432x288 with 1 Axes>"
      ]
     },
     "metadata": {
      "needs_background": "light"
     },
     "output_type": "display_data"
    }
   ],
   "source": [
    "ax = hypothesis[['hypothesis', 'ice']].sort_values(by=['ice']) \\\n",
    "                                      .set_index('hypothesis') \\\n",
    "                                      .plot(kind='barh', ec='black', grid=True)\n",
    "ax.set_xlabel('Приоритет', size=15)\n",
    "ax.set_ylabel(' ')\n",
    "ax.set_title('Приоритезация гипотез по методу ICE', size=18)\n",
    "plt.show()"
   ]
  },
  {
   "cell_type": "markdown",
   "metadata": {},
   "source": [
    "**Вывод:** Вывели 5 самых приоритетных гипотиз по методу ICE. На перврм месте - \"Запустить акцию, дающую скидку на товар в день рождения\"."
   ]
  },
  {
   "cell_type": "markdown",
   "metadata": {},
   "source": [
    "Применим метод приоритезации гипотез - RICE(R от англ. reach, «охват»):"
   ]
  },
  {
   "cell_type": "code",
   "execution_count": 13,
   "metadata": {},
   "outputs": [
    {
     "data": {
      "text/html": [
       "<div>\n",
       "<style scoped>\n",
       "    .dataframe tbody tr th:only-of-type {\n",
       "        vertical-align: middle;\n",
       "    }\n",
       "\n",
       "    .dataframe tbody tr th {\n",
       "        vertical-align: top;\n",
       "    }\n",
       "\n",
       "    .dataframe thead th {\n",
       "        text-align: right;\n",
       "    }\n",
       "</style>\n",
       "<table border=\"1\" class=\"dataframe\">\n",
       "  <thead>\n",
       "    <tr style=\"text-align: right;\">\n",
       "      <th></th>\n",
       "      <th>hypothesis</th>\n",
       "      <th>rice</th>\n",
       "    </tr>\n",
       "  </thead>\n",
       "  <tbody>\n",
       "    <tr>\n",
       "      <th>7</th>\n",
       "      <td>Добавить форму подписки на все основные страницы, чтобы собрать базу клиентов для email-рассылок</td>\n",
       "      <td>112.000</td>\n",
       "    </tr>\n",
       "    <tr>\n",
       "      <th>2</th>\n",
       "      <td>Добавить блоки рекомендаций товаров на сайт интернет магазина, чтобы повысить конверсию и средний чек заказа</td>\n",
       "      <td>56.000</td>\n",
       "    </tr>\n",
       "    <tr>\n",
       "      <th>0</th>\n",
       "      <td>Добавить два новых канала привлечения трафика, что позволит привлекать на 30% больше пользователей</td>\n",
       "      <td>40.000</td>\n",
       "    </tr>\n",
       "    <tr>\n",
       "      <th>6</th>\n",
       "      <td>Показать на главной странице баннеры с актуальными акциями и распродажами, чтобы увеличить конверсию</td>\n",
       "      <td>40.000</td>\n",
       "    </tr>\n",
       "    <tr>\n",
       "      <th>8</th>\n",
       "      <td>Запустить акцию, дающую скидку на товар в день рождения</td>\n",
       "      <td>16.200</td>\n",
       "    </tr>\n",
       "  </tbody>\n",
       "</table>\n",
       "</div>"
      ],
      "text/plain": [
       "                                                                                                     hypothesis  \\\n",
       "7              Добавить форму подписки на все основные страницы, чтобы собрать базу клиентов для email-рассылок   \n",
       "2  Добавить блоки рекомендаций товаров на сайт интернет магазина, чтобы повысить конверсию и средний чек заказа   \n",
       "0            Добавить два новых канала привлечения трафика, что позволит привлекать на 30% больше пользователей   \n",
       "6          Показать на главной странице баннеры с актуальными акциями и распродажами, чтобы увеличить конверсию   \n",
       "8                                                       Запустить акцию, дающую скидку на товар в день рождения   \n",
       "\n",
       "     rice  \n",
       "7 112.000  \n",
       "2  56.000  \n",
       "0  40.000  \n",
       "6  40.000  \n",
       "8  16.200  "
      ]
     },
     "metadata": {},
     "output_type": "display_data"
    }
   ],
   "source": [
    "# создаем новый столбец rice\n",
    "hypothesis['rice'] = hypothesis['reach'] * hypothesis['impact'] * hypothesis['confidence'] / hypothesis['efforts']\n",
    "\n",
    "# Топ-5 гипотез по методу RICE:\n",
    "display(hypothesis[['hypothesis', 'rice']].sort_values(by='rice', ascending=False).head())"
   ]
  },
  {
   "cell_type": "code",
   "execution_count": 14,
   "metadata": {},
   "outputs": [
    {
     "data": {
      "image/png": "[encoded data removed]",
      "text/plain": [
       "<Figure size 432x288 with 1 Axes>"
      ]
     },
     "metadata": {
      "needs_background": "light"
     },
     "output_type": "display_data"
    }
   ],
   "source": [
    "ax = hypothesis[['hypothesis', 'rice']].sort_values(by=['rice']) \\\n",
    "                                      .set_index('hypothesis') \\\n",
    "                                      .plot(kind='barh', ec='black', grid=True)\n",
    "ax.set_xlabel('Приоритет', size=15)\n",
    "ax.set_ylabel(' ')\n",
    "ax.set_title('Приоритезация гипотез по методу RICE', size=18)\n",
    "plt.show()"
   ]
  },
  {
   "cell_type": "markdown",
   "metadata": {},
   "source": [
    "**Вывод:** Вывели 5 самых приоритетных гипотиз по методу RICE. На первом месте с большим отрывом - \"Добавить форму подписки на все основные страницы, чтобы собрать базу клиентов для email-рассылок\"."
   ]
  },
  {
   "cell_type": "markdown",
   "metadata": {},
   "source": [
    "### Промежуточный вывод"
   ]
  },
  {
   "cell_type": "markdown",
   "metadata": {},
   "source": [
    "Мы убедились в эффективности приоритезации гипотез по методам ICE и RICE. Один компонент, *efforts*, влияет обратно пропорционально: чем меньше усилий требуется для реализации гипотезы, тем лучше. Остальные компоненты (*impact, confidence, efforts* и *reach* для RICE) влияют прямо пропорционально: чем выше их значение, тем лучше.<br>\n",
    "Методы ICE и RICE похожи, но выбор между ними существенно влияет на приоритезацию гипотез. Если нам важна широкая аудитория, выбираем RICE. Если этот компонент не важен или его сложно оценить, используем ICE."
   ]
  },
  {
   "cell_type": "markdown",
   "metadata": {},
   "source": [
    "## Анализ A/B-теста"
   ]
  },
  {
   "cell_type": "markdown",
   "metadata": {},
   "source": [
    "Результаты A/B-теста, описаны в файлах *orders.csv* и *visitors.csv*."
   ]
  },
  {
   "cell_type": "markdown",
   "metadata": {},
   "source": [
    "Для начала проверим корректность распределения на группы A и B:"
   ]
  },
  {
   "cell_type": "code",
   "execution_count": 15,
   "metadata": {},
   "outputs": [
    {
     "name": "stdout",
     "output_type": "stream",
     "text": [
      "Кол-во посетителей в группе А:  18736\n",
      "Кол-во посетителей в группе B:  18916\n",
      "Кол-во покупок в группе A:  557\n",
      "Кол-во покупок в группе B:  640\n",
      "p-значение:  0.7301376549390499\n",
      "Разница в количестве посетителей в группах A и B статистически не значима.\n"
     ]
    }
   ],
   "source": [
    "print('Кол-во посетителей в группе А: ', visitors[visitors['group']=='A']['visitors'].sum())\n",
    "print('Кол-во посетителей в группе B: ', visitors[visitors['group']=='B']['visitors'].sum())\n",
    "\n",
    "print('Кол-во покупок в группе A: ', len(orders[orders['group']=='A']))\n",
    "print('Кол-во покупок в группе B: ', len(orders[orders['group']=='B']))\n",
    "\n",
    "results = st.mannwhitneyu(visitors[visitors['group']=='A']['visitors'],\\\n",
    "                        visitors[visitors['group']=='B']['visitors'])\n",
    "alpha = 0.05\n",
    "\n",
    "print('p-значение: ', results.pvalue)\n",
    "if results.pvalue < alpha:\n",
    "    print('Разница в количестве посетителей в группах A и B статистически значима.')\n",
    "else:\n",
    "    print('Разница в количестве посетителей в группах A и B статистически не значима.')"
   ]
  },
  {
   "cell_type": "markdown",
   "metadata": {},
   "source": [
    "Проверим группы на совпадение пользователей:"
   ]
  },
  {
   "cell_type": "code",
   "execution_count": 16,
   "metadata": {},
   "outputs": [
    {
     "data": {
      "text/plain": [
       "array([4069496402,  963407295,  351125977, 3234906277,  199603092,\n",
       "        237748145, 3803269165, 2038680547, 2378935119, 4256040402,\n",
       "       2712142231,    8300375,  276558944,  457167155, 3062433592,\n",
       "       1738359350, 2458001652, 2716752286, 3891541246, 1648269707,\n",
       "       3656415546, 2686716486, 2954449915, 2927087541, 2579882178,\n",
       "       3957174400, 2780786433, 3984495233,  818047933, 1668030113,\n",
       "       3717692402, 2044997962, 1959144690, 1294878855, 1404934699,\n",
       "       2587333274, 3202540741, 1333886533, 2600415354, 3951559397,\n",
       "        393266494, 3972127743, 4120364173, 4266935830, 1230306981,\n",
       "       1614305549,  477780734, 1602967004, 1801183820, 4186807279,\n",
       "       3766097110, 3941795274,  471551937, 1316129916,  232979603,\n",
       "       2654030115, 3963646447, 2949041841])"
      ]
     },
     "metadata": {},
     "output_type": "display_data"
    },
    {
     "name": "stdout",
     "output_type": "stream",
     "text": [
      "Количество совпадающих пользователей в группах: 58\n",
      "Всего пользователей: 1031\n"
     ]
    }
   ],
   "source": [
    "visitor_id_a = orders[orders['group'] == 'A']['visitor_id']\n",
    "visitor_id_b = orders[orders['group'] == 'B']['visitor_id']\n",
    "matching_users = orders.query('visitor_id in @visitor_id_a and visitor_id in @visitor_id_b')\n",
    "\n",
    "display(matching_users['visitor_id'].unique())\n",
    "\n",
    "print('Количество совпадающих пользователей в группах:', matching_users['visitor_id'].nunique())\n",
    "print('Всего пользователей:', orders['visitor_id'].nunique())"
   ]
  },
  {
   "cell_type": "code",
   "execution_count": 17,
   "metadata": {},
   "outputs": [
    {
     "data": {
      "text/html": [
       "<div>\n",
       "<style scoped>\n",
       "    .dataframe tbody tr th:only-of-type {\n",
       "        vertical-align: middle;\n",
       "    }\n",
       "\n",
       "    .dataframe tbody tr th {\n",
       "        vertical-align: top;\n",
       "    }\n",
       "\n",
       "    .dataframe thead th {\n",
       "        text-align: right;\n",
       "    }\n",
       "</style>\n",
       "<table border=\"1\" class=\"dataframe\">\n",
       "  <thead>\n",
       "    <tr style=\"text-align: right;\">\n",
       "      <th></th>\n",
       "      <th>transaction_id</th>\n",
       "      <th>visitor_id</th>\n",
       "      <th>date</th>\n",
       "      <th>revenue</th>\n",
       "      <th>group</th>\n",
       "    </tr>\n",
       "  </thead>\n",
       "  <tbody>\n",
       "    <tr>\n",
       "      <th>2</th>\n",
       "      <td>2961555356</td>\n",
       "      <td>4069496402</td>\n",
       "      <td>2019-08-15</td>\n",
       "      <td>400</td>\n",
       "      <td>A</td>\n",
       "    </tr>\n",
       "    <tr>\n",
       "      <th>20</th>\n",
       "      <td>2904772834</td>\n",
       "      <td>963407295</td>\n",
       "      <td>2019-08-15</td>\n",
       "      <td>300</td>\n",
       "      <td>B</td>\n",
       "    </tr>\n",
       "    <tr>\n",
       "      <th>23</th>\n",
       "      <td>4252514150</td>\n",
       "      <td>351125977</td>\n",
       "      <td>2019-08-15</td>\n",
       "      <td>15185</td>\n",
       "      <td>B</td>\n",
       "    </tr>\n",
       "    <tr>\n",
       "      <th>24</th>\n",
       "      <td>1162046357</td>\n",
       "      <td>3234906277</td>\n",
       "      <td>2019-08-15</td>\n",
       "      <td>7555</td>\n",
       "      <td>B</td>\n",
       "    </tr>\n",
       "    <tr>\n",
       "      <th>26</th>\n",
       "      <td>2223239646</td>\n",
       "      <td>199603092</td>\n",
       "      <td>2019-08-15</td>\n",
       "      <td>3488</td>\n",
       "      <td>A</td>\n",
       "    </tr>\n",
       "    <tr>\n",
       "      <th>...</th>\n",
       "      <td>...</td>\n",
       "      <td>...</td>\n",
       "      <td>...</td>\n",
       "      <td>...</td>\n",
       "      <td>...</td>\n",
       "    </tr>\n",
       "    <tr>\n",
       "      <th>1182</th>\n",
       "      <td>2682156369</td>\n",
       "      <td>1668030113</td>\n",
       "      <td>2019-08-14</td>\n",
       "      <td>1290</td>\n",
       "      <td>B</td>\n",
       "    </tr>\n",
       "    <tr>\n",
       "      <th>1183</th>\n",
       "      <td>1458356232</td>\n",
       "      <td>963407295</td>\n",
       "      <td>2019-08-14</td>\n",
       "      <td>4940</td>\n",
       "      <td>A</td>\n",
       "    </tr>\n",
       "    <tr>\n",
       "      <th>1184</th>\n",
       "      <td>1329499668</td>\n",
       "      <td>2949041841</td>\n",
       "      <td>2019-08-14</td>\n",
       "      <td>10380</td>\n",
       "      <td>B</td>\n",
       "    </tr>\n",
       "    <tr>\n",
       "      <th>1189</th>\n",
       "      <td>4082620617</td>\n",
       "      <td>393266494</td>\n",
       "      <td>2019-08-14</td>\n",
       "      <td>31550</td>\n",
       "      <td>B</td>\n",
       "    </tr>\n",
       "    <tr>\n",
       "      <th>1195</th>\n",
       "      <td>1947021204</td>\n",
       "      <td>1614305549</td>\n",
       "      <td>2019-08-14</td>\n",
       "      <td>100</td>\n",
       "      <td>A</td>\n",
       "    </tr>\n",
       "  </tbody>\n",
       "</table>\n",
       "<p>181 rows × 5 columns</p>\n",
       "</div>"
      ],
      "text/plain": [
       "      transaction_id  visitor_id       date  revenue group\n",
       "2         2961555356  4069496402 2019-08-15      400     A\n",
       "20        2904772834   963407295 2019-08-15      300     B\n",
       "23        4252514150   351125977 2019-08-15    15185     B\n",
       "24        1162046357  3234906277 2019-08-15     7555     B\n",
       "26        2223239646   199603092 2019-08-15     3488     A\n",
       "...              ...         ...        ...      ...   ...\n",
       "1182      2682156369  1668030113 2019-08-14     1290     B\n",
       "1183      1458356232   963407295 2019-08-14     4940     A\n",
       "1184      1329499668  2949041841 2019-08-14    10380     B\n",
       "1189      4082620617   393266494 2019-08-14    31550     B\n",
       "1195      1947021204  1614305549 2019-08-14      100     A\n",
       "\n",
       "[181 rows x 5 columns]"
      ]
     },
     "metadata": {},
     "output_type": "display_data"
    },
    {
     "data": {
      "text/plain": [
       "count      181.000\n",
       "mean     8,612.901\n",
       "std     14,161.551\n",
       "min         50.000\n",
       "25%      1,530.000\n",
       "50%      3,460.000\n",
       "75%      8,439.000\n",
       "max     93,940.000\n",
       "Name: revenue, dtype: float64"
      ]
     },
     "metadata": {},
     "output_type": "display_data"
    }
   ],
   "source": [
    "display(matching_users)\n",
    "display(matching_users['revenue'].describe())"
   ]
  },
  {
   "cell_type": "markdown",
   "metadata": {},
   "source": [
    "Количество совпадающих пользователей в группах составляет 58, это 5,6% от общего числа пользователей. Поскольку таких пользователей немного, их можно удалить для корректного анализа А/В теста."
   ]
  },
  {
   "cell_type": "code",
   "execution_count": 18,
   "metadata": {},
   "outputs": [
    {
     "name": "stdout",
     "output_type": "stream",
     "text": [
      "Всего пользователей в тесте осталось: 973\n"
     ]
    }
   ],
   "source": [
    "orders = orders.query('visitor_id not in @matching_users[\"visitor_id\"]')\n",
    "print('Всего пользователей в тесте осталось:', orders['visitor_id'].nunique())"
   ]
  },
  {
   "cell_type": "markdown",
   "metadata": {},
   "source": [
    "**Поэтапно проанализируем А/В-тест:**\n",
    "1. Построим график кумулятивной выручки по группам. Сделаем выводы и предположения.\n",
    "2. Построим график кумулятивного среднего чека по группам. Сделаем выводы и предположения.\n",
    "3. Построим график относительного изменения кумулятивного среднего чека группы B к группе A. Сделаем выводы и предположения.\n",
    "4. Построим график кумулятивной конверсии по группам. Сделаем выводы и предположения.\n",
    "5. Построим график относительного изменения кумулятивной конверсии группы B к группе A. Сделаем выводы и предположения.\n",
    "6. Построим точечный график количества заказов по пользователям. Сделаем выводы и предположения.\n",
    "7. Посчитаем 95-й и 99-й перцентили количества заказов на пользователя. Выберем границу для определения аномальных пользователей.\n",
    "8. Построим точечный график стоимостей заказов. Сделаем выводы и предположения.\n",
    "9. Посчитаем 95-й и 99-й перцентили стоимости заказов. Выберем границу для определения аномальных заказов.\n",
    "10. Посчитаем статистическую значимость различий в конверсии между группами по «сырым» данным. Сделаем выводы и предположения.\n",
    "11. Посчитаем статистическую значимость различий в среднем чеке заказа между группами по «сырым» данным. Сделаем выводы и предположения.\n",
    "12. Посчитаем статистическую значимость различий в конверсии между группами по «очищенным» данным. Сделаем выводы и предположения.\n",
    "13. Посчитаем статистическую значимость различий в среднем чеке заказа между группами по «очищенным» данным. Сделаем выводы и предположения.\n",
    "14. Примем решение по результатам теста и объясним его. Варианты решений:\n",
    "       1. Остановить тест, зафиксировать победу одной из групп.\n",
    "       2. Остановить тест, зафиксировать отсутствие различий между группами.\n",
    "       3. Продолжить тест."
   ]
  },
  {
   "cell_type": "markdown",
   "metadata": {},
   "source": [
    "### График кумулятивной выручки по группам"
   ]
  },
  {
   "cell_type": "markdown",
   "metadata": {},
   "source": [
    "Создаём датафреймы с уникальными агрегироваными кумулятивными данными по каждой таблице:"
   ]
  },
  {
   "cell_type": "code",
   "execution_count": 19,
   "metadata": {},
   "outputs": [
    {
     "data": {
      "text/html": [
       "<div>\n",
       "<style scoped>\n",
       "    .dataframe tbody tr th:only-of-type {\n",
       "        vertical-align: middle;\n",
       "    }\n",
       "\n",
       "    .dataframe tbody tr th {\n",
       "        vertical-align: top;\n",
       "    }\n",
       "\n",
       "    .dataframe thead th {\n",
       "        text-align: right;\n",
       "    }\n",
       "</style>\n",
       "<table border=\"1\" class=\"dataframe\">\n",
       "  <thead>\n",
       "    <tr style=\"text-align: right;\">\n",
       "      <th></th>\n",
       "      <th>date</th>\n",
       "      <th>group</th>\n",
       "      <th>orders</th>\n",
       "      <th>buyers</th>\n",
       "      <th>revenue</th>\n",
       "      <th>visitors</th>\n",
       "    </tr>\n",
       "  </thead>\n",
       "  <tbody>\n",
       "    <tr>\n",
       "      <th>0</th>\n",
       "      <td>2019-08-01</td>\n",
       "      <td>A</td>\n",
       "      <td>23</td>\n",
       "      <td>19</td>\n",
       "      <td>142779</td>\n",
       "      <td>719</td>\n",
       "    </tr>\n",
       "    <tr>\n",
       "      <th>1</th>\n",
       "      <td>2019-08-01</td>\n",
       "      <td>B</td>\n",
       "      <td>17</td>\n",
       "      <td>17</td>\n",
       "      <td>59758</td>\n",
       "      <td>713</td>\n",
       "    </tr>\n",
       "    <tr>\n",
       "      <th>2</th>\n",
       "      <td>2019-08-02</td>\n",
       "      <td>A</td>\n",
       "      <td>42</td>\n",
       "      <td>36</td>\n",
       "      <td>234381</td>\n",
       "      <td>1338</td>\n",
       "    </tr>\n",
       "    <tr>\n",
       "      <th>3</th>\n",
       "      <td>2019-08-02</td>\n",
       "      <td>B</td>\n",
       "      <td>40</td>\n",
       "      <td>39</td>\n",
       "      <td>221801</td>\n",
       "      <td>1294</td>\n",
       "    </tr>\n",
       "    <tr>\n",
       "      <th>4</th>\n",
       "      <td>2019-08-03</td>\n",
       "      <td>A</td>\n",
       "      <td>66</td>\n",
       "      <td>60</td>\n",
       "      <td>346854</td>\n",
       "      <td>1845</td>\n",
       "    </tr>\n",
       "  </tbody>\n",
       "</table>\n",
       "</div>"
      ],
      "text/plain": [
       "        date group  orders  buyers  revenue  visitors\n",
       "0 2019-08-01     A      23      19   142779       719\n",
       "1 2019-08-01     B      17      17    59758       713\n",
       "2 2019-08-02     A      42      36   234381      1338\n",
       "3 2019-08-02     B      40      39   221801      1294\n",
       "4 2019-08-03     A      66      60   346854      1845"
      ]
     },
     "metadata": {},
     "output_type": "display_data"
    }
   ],
   "source": [
    "# создаем массив уникальных пар значений дат и групп теста\n",
    "data_groups = orders[['date', 'group']].drop_duplicates()  \n",
    "\n",
    "# получаем агрегированные кумулятивные данные о заказах по дням \n",
    "orders_aggregated = data_groups.apply(\n",
    "    lambda x: orders[\n",
    "        np.logical_and(\n",
    "            orders['date'] <= x['date'], orders['group'] == x['group']\n",
    "        )\n",
    "    ].agg({\n",
    "            'date': 'max',\n",
    "            'group': 'max',\n",
    "            'transaction_id': 'nunique',\n",
    "            'visitor_id': 'nunique',\n",
    "            'revenue': 'sum',\n",
    "        }\n",
    "    ),\n",
    "    axis=1,\n",
    ").sort_values(by=['date', 'group'])\n",
    "\n",
    "# получаем агрегированные кумулятивные данные о посетителях по дням \n",
    "visitors_aggregated = data_groups.apply(\n",
    "    lambda x: visitors[\n",
    "        np.logical_and(\n",
    "            visitors['date'] <= x['date'], visitors['group'] == x['group']\n",
    "        )\n",
    "    ].agg({\n",
    "        'date': 'max',\n",
    "        'group': 'max', \n",
    "        'visitors': 'sum'\n",
    "    }\n",
    "    ),\n",
    "    axis=1,\n",
    ").sort_values(by=['date', 'group'])\n",
    "\n",
    "# объединяем кумулятивные данные в одной таблице\n",
    "cumulative_data = orders_aggregated.merge(\n",
    "    visitors_aggregated, left_on=['date', 'group'], right_on=['date', 'group'])\n",
    "\n",
    "# переименум столбцы\n",
    "cumulative_data.columns = ['date', 'group', 'orders', 'buyers', 'revenue', 'visitors']\n",
    "\n",
    "display(cumulative_data.head())"
   ]
  },
  {
   "cell_type": "code",
   "execution_count": 20,
   "metadata": {},
   "outputs": [
    {
     "data": {
      "image/png": "[encoded data removed]",
      "text/plain": [
       "<Figure size 864x576 with 1 Axes>"
      ]
     },
     "metadata": {
      "needs_background": "light"
     },
     "output_type": "display_data"
    }
   ],
   "source": [
    "# датафрейм с кумулятивным количеством заказов и кумулятивной выручкой по дням в группе А\n",
    "cumulative_revenue_a = cumulative_data[cumulative_data['group']=='A'][['date', 'revenue', 'orders']]\n",
    "\n",
    "# датафрейм с кумулятивным количеством заказов и кумулятивной выручкой по дням в группе B\n",
    "cumulative_revenue_b = cumulative_data[cumulative_data['group']=='B'][['date', 'revenue', 'orders']]\n",
    "\n",
    "# размер графика\n",
    "plt.figure(figsize=(12, 8))\n",
    "\n",
    "# график выручки группы А\n",
    "plt.plot(cumulative_revenue_a['date'], cumulative_revenue_a['revenue'], label='A')\n",
    "\n",
    "# график выручки группы B\n",
    "plt.plot(cumulative_revenue_b['date'], cumulative_revenue_b['revenue'], label='B')\n",
    "\n",
    "plt.grid(visible=True)\n",
    "plt.title('Графики кумулятивной выручки по дням и группам A/B-теста', fontsize=18)\n",
    "plt.xlabel('Дата', fontsize=15)\n",
    "plt.xticks(rotation=30)\n",
    "plt.ylabel('Выручка', fontsize=15)\n",
    "plt.legend() \n",
    "plt.show()"
   ]
  },
  {
   "cell_type": "markdown",
   "metadata": {},
   "source": [
    "**Вывод:** \n",
    "- Кумулятивная выручка группы А растет линейно и меньше, чем у группы В. \n",
    "- В группе В наблюдается резкий скачок 18-19 августа, что может свидетельствовать о всплесках числа заказов или появлении очень дорогих заказов в выборке."
   ]
  },
  {
   "cell_type": "markdown",
   "metadata": {},
   "source": [
    "### График кумулятивного среднего чека по группам"
   ]
  },
  {
   "cell_type": "markdown",
   "metadata": {},
   "source": [
    "Разделим кумулятивную выручку на кумулятивное число заказов по каждой группе:"
   ]
  },
  {
   "cell_type": "code",
   "execution_count": 21,
   "metadata": {},
   "outputs": [
    {
     "data": {
      "image/png": "[encoded data removed]",
      "text/plain": [
       "<Figure size 864x576 with 1 Axes>"
      ]
     },
     "metadata": {
      "needs_background": "light"
     },
     "output_type": "display_data"
    }
   ],
   "source": [
    "# размер графика\n",
    "plt.figure(figsize=(12, 8))\n",
    "\n",
    "plt.plot(cumulative_revenue_a['date'], cumulative_revenue_a['revenue']/cumulative_revenue_a['orders'], label='A')\n",
    "plt.plot(cumulative_revenue_b['date'], cumulative_revenue_b['revenue']/cumulative_revenue_b['orders'], label='B')\n",
    "\n",
    "plt.grid(visible=True)\n",
    "plt.title('Графики кумулятивного среднего чека по дням и группам A/B-тестирования', fontsize=18)\n",
    "plt.xlabel('Дата', fontsize=15)\n",
    "plt.xticks(rotation=30)\n",
    "plt.ylabel('Средний чек', fontsize=15)\n",
    "plt.legend() \n",
    "plt.show()"
   ]
  },
  {
   "cell_type": "markdown",
   "metadata": {},
   "source": [
    "**Вывод:**<br>\n",
    "На графиках наблюдаем:\n",
    "- В первой половине теста графики нестабильны, с сильными ростами и падениями.\n",
    "- В группе В наблюдается резкий скачок 18-19 августа, что указывает на присутствие аномальных значений.\n",
    "- К концу периода кумулятивный средний чек группы B выше, чем у группы А.\n",
    "- К концу периода у группы А наблюдается тенденция к росту, а у B — к снижению."
   ]
  },
  {
   "cell_type": "markdown",
   "metadata": {},
   "source": [
    "### График относительного изменения кумулятивного среднего чека"
   ]
  },
  {
   "cell_type": "markdown",
   "metadata": {},
   "source": [
    "Для начала объеденим таблицы с кумулятивной выручкой:"
   ]
  },
  {
   "cell_type": "code",
   "execution_count": 22,
   "metadata": {},
   "outputs": [
    {
     "data": {
      "text/html": [
       "<div>\n",
       "<style scoped>\n",
       "    .dataframe tbody tr th:only-of-type {\n",
       "        vertical-align: middle;\n",
       "    }\n",
       "\n",
       "    .dataframe tbody tr th {\n",
       "        vertical-align: top;\n",
       "    }\n",
       "\n",
       "    .dataframe thead th {\n",
       "        text-align: right;\n",
       "    }\n",
       "</style>\n",
       "<table border=\"1\" class=\"dataframe\">\n",
       "  <thead>\n",
       "    <tr style=\"text-align: right;\">\n",
       "      <th></th>\n",
       "      <th>date</th>\n",
       "      <th>revenue_a</th>\n",
       "      <th>orders_a</th>\n",
       "      <th>revenue_b</th>\n",
       "      <th>orders_b</th>\n",
       "    </tr>\n",
       "  </thead>\n",
       "  <tbody>\n",
       "    <tr>\n",
       "      <th>0</th>\n",
       "      <td>2019-08-01</td>\n",
       "      <td>142779</td>\n",
       "      <td>23</td>\n",
       "      <td>59758</td>\n",
       "      <td>17</td>\n",
       "    </tr>\n",
       "    <tr>\n",
       "      <th>1</th>\n",
       "      <td>2019-08-02</td>\n",
       "      <td>234381</td>\n",
       "      <td>42</td>\n",
       "      <td>221801</td>\n",
       "      <td>40</td>\n",
       "    </tr>\n",
       "    <tr>\n",
       "      <th>2</th>\n",
       "      <td>2019-08-03</td>\n",
       "      <td>346854</td>\n",
       "      <td>66</td>\n",
       "      <td>288850</td>\n",
       "      <td>54</td>\n",
       "    </tr>\n",
       "    <tr>\n",
       "      <th>3</th>\n",
       "      <td>2019-08-04</td>\n",
       "      <td>388030</td>\n",
       "      <td>77</td>\n",
       "      <td>385740</td>\n",
       "      <td>68</td>\n",
       "    </tr>\n",
       "    <tr>\n",
       "      <th>4</th>\n",
       "      <td>2019-08-05</td>\n",
       "      <td>474413</td>\n",
       "      <td>99</td>\n",
       "      <td>475648</td>\n",
       "      <td>89</td>\n",
       "    </tr>\n",
       "  </tbody>\n",
       "</table>\n",
       "</div>"
      ],
      "text/plain": [
       "        date  revenue_a  orders_a  revenue_b  orders_b\n",
       "0 2019-08-01     142779        23      59758        17\n",
       "1 2019-08-02     234381        42     221801        40\n",
       "2 2019-08-03     346854        66     288850        54\n",
       "3 2019-08-04     388030        77     385740        68\n",
       "4 2019-08-05     474413        99     475648        89"
      ]
     },
     "execution_count": 22,
     "metadata": {},
     "output_type": "execute_result"
    }
   ],
   "source": [
    "# собираем данные в одном датафрейме\n",
    "merged_cumulative_revenue = cumulative_revenue_a.merge(\n",
    "                            cumulative_revenue_b,\n",
    "                            left_on='date',\n",
    "                            right_on='date',\n",
    "                            how='left',\n",
    "                            suffixes=['_a', '_b'])\n",
    "merged_cumulative_revenue.head()"
   ]
  },
  {
   "cell_type": "code",
   "execution_count": 23,
   "metadata": {},
   "outputs": [
    {
     "data": {
      "image/png": "[encoded data removed]",
      "text/plain": [
       "<Figure size 864x576 with 1 Axes>"
      ]
     },
     "metadata": {
      "needs_background": "light"
     },
     "output_type": "display_data"
    }
   ],
   "source": [
    "# размер графика\n",
    "plt.figure(figsize=(12, 8))\n",
    "\n",
    "# cтроим отношение средних чеков\n",
    "plt.plot(merged_cumulative_revenue['date'],\n",
    "        (merged_cumulative_revenue['revenue_b']/\n",
    "         merged_cumulative_revenue['orders_b'])/\n",
    "        (merged_cumulative_revenue['revenue_a']/\n",
    "         merged_cumulative_revenue['orders_a'])-1)\n",
    "\n",
    "# добавляем ось X\n",
    "plt.axhline(y=0, color='red', linestyle='--')\n",
    "\n",
    "plt.grid(visible=True)\n",
    "plt.title('График относительного изменения кумулятивного среднего чека группы B к группе A', fontsize=18)\n",
    "plt.xlabel('Дата', fontsize=15)\n",
    "plt.xticks(rotation=30)\n",
    "plt.ylabel('Отношение средних чеков', fontsize=15)\n",
    "plt.show()"
   ]
  },
  {
   "cell_type": "markdown",
   "metadata": {},
   "source": [
    "**Вывод:** На графике видны резкие скачки, что может указывать на дорогие заказы в пиковые дни."
   ]
  },
  {
   "cell_type": "markdown",
   "metadata": {},
   "source": [
    "### График кумулятивной конверсии по группам"
   ]
  },
  {
   "cell_type": "code",
   "execution_count": 24,
   "metadata": {},
   "outputs": [
    {
     "data": {
      "image/png": "[encoded data removed]",
      "text/plain": [
       "<Figure size 864x360 with 1 Axes>"
      ]
     },
     "metadata": {
      "needs_background": "light"
     },
     "output_type": "display_data"
    }
   ],
   "source": [
    "# считаем кумулятивную конверсию\n",
    "cumulative_data['conversion'] = cumulative_data['orders']/cumulative_data['visitors']\n",
    "\n",
    "# отделяем данные по группе A\n",
    "cumulative_data_a = cumulative_data[cumulative_data['group']=='A']\n",
    "\n",
    "# отделяем данные по группе B\n",
    "cumulative_data_b = cumulative_data[cumulative_data['group']=='B']\n",
    "\n",
    "# размер графика\n",
    "plt.figure(figsize=(12, 5))\n",
    "# задаем масштаб осей\n",
    "plt.axis([dt.datetime(2019, 8, 1), dt.datetime(2019, 9, 1), 0.02, 0.045])\n",
    "\n",
    "# строим графики\n",
    "plt.plot(cumulative_data_a['date'], cumulative_data_a['conversion'], label='A')\n",
    "plt.plot(cumulative_data_b['date'], cumulative_data_b['conversion'], label='B')\n",
    " \n",
    "plt.grid(visible=True)\n",
    "plt.title('График кумулятивной конверсии по группам', fontsize=18)\n",
    "plt.xlabel('Дата', fontsize=15)\n",
    "plt.xticks(rotation=30)\n",
    "plt.ylabel('Конверсия', fontsize=15)\n",
    "plt.legend()\n",
    "plt.show()"
   ]
  },
  {
   "cell_type": "markdown",
   "metadata": {},
   "source": [
    "**Вывод:** В начале теста конверсия обеих групп колеблется. На девятый день конверсия выровнялась, при этом у группы В она выше, чем у группы А."
   ]
  },
  {
   "cell_type": "markdown",
   "metadata": {},
   "source": [
    "### График относительного изменения кумулятивной конверсии группы B к группе A"
   ]
  },
  {
   "cell_type": "markdown",
   "metadata": {},
   "source": [
    "Для начала объеденим таблицы с конверсиями:"
   ]
  },
  {
   "cell_type": "code",
   "execution_count": 25,
   "metadata": {},
   "outputs": [
    {
     "data": {
      "text/html": [
       "<div>\n",
       "<style scoped>\n",
       "    .dataframe tbody tr th:only-of-type {\n",
       "        vertical-align: middle;\n",
       "    }\n",
       "\n",
       "    .dataframe tbody tr th {\n",
       "        vertical-align: top;\n",
       "    }\n",
       "\n",
       "    .dataframe thead th {\n",
       "        text-align: right;\n",
       "    }\n",
       "</style>\n",
       "<table border=\"1\" class=\"dataframe\">\n",
       "  <thead>\n",
       "    <tr style=\"text-align: right;\">\n",
       "      <th></th>\n",
       "      <th>date</th>\n",
       "      <th>conversion_a</th>\n",
       "      <th>conversion_b</th>\n",
       "    </tr>\n",
       "  </thead>\n",
       "  <tbody>\n",
       "    <tr>\n",
       "      <th>0</th>\n",
       "      <td>2019-08-01</td>\n",
       "      <td>0.032</td>\n",
       "      <td>0.024</td>\n",
       "    </tr>\n",
       "    <tr>\n",
       "      <th>1</th>\n",
       "      <td>2019-08-02</td>\n",
       "      <td>0.031</td>\n",
       "      <td>0.031</td>\n",
       "    </tr>\n",
       "    <tr>\n",
       "      <th>2</th>\n",
       "      <td>2019-08-03</td>\n",
       "      <td>0.036</td>\n",
       "      <td>0.030</td>\n",
       "    </tr>\n",
       "    <tr>\n",
       "      <th>3</th>\n",
       "      <td>2019-08-04</td>\n",
       "      <td>0.030</td>\n",
       "      <td>0.026</td>\n",
       "    </tr>\n",
       "    <tr>\n",
       "      <th>4</th>\n",
       "      <td>2019-08-05</td>\n",
       "      <td>0.030</td>\n",
       "      <td>0.027</td>\n",
       "    </tr>\n",
       "  </tbody>\n",
       "</table>\n",
       "</div>"
      ],
      "text/plain": [
       "        date  conversion_a  conversion_b\n",
       "0 2019-08-01         0.032         0.024\n",
       "1 2019-08-02         0.031         0.031\n",
       "2 2019-08-03         0.036         0.030\n",
       "3 2019-08-04         0.030         0.026\n",
       "4 2019-08-05         0.030         0.027"
      ]
     },
     "execution_count": 25,
     "metadata": {},
     "output_type": "execute_result"
    }
   ],
   "source": [
    "merged_cumulative_conversions = cumulative_data_a[['date','conversion']].merge(\n",
    "    cumulative_data_b[['date','conversion']], \n",
    "    left_on='date',\n",
    "    right_on='date', \n",
    "    how='left',\n",
    "    suffixes=['_a', '_b'])\n",
    " \n",
    "merged_cumulative_conversions.head()"
   ]
  },
  {
   "cell_type": "code",
   "execution_count": 26,
   "metadata": {},
   "outputs": [
    {
     "data": {
      "image/png": "[encoded data removed]",
      "text/plain": [
       "<Figure size 864x576 with 1 Axes>"
      ]
     },
     "metadata": {
      "needs_background": "light"
     },
     "output_type": "display_data"
    }
   ],
   "source": [
    "# размер графика\n",
    "plt.figure(figsize=(12, 8))\n",
    "\n",
    "# cтроим отношение конверсий\n",
    "plt.plot(merged_cumulative_conversions['date'],\n",
    "         merged_cumulative_conversions['conversion_b']/\n",
    "         merged_cumulative_conversions['conversion_a']-1)\n",
    "\n",
    "\n",
    "# добавляем ось X\n",
    "plt.axhline(y=0, color='red', linestyle='--')\n",
    "\n",
    "plt.grid(visible=True)\n",
    "plt.title('График относительного изменения кумулятивной конверсии группы B к группе A', fontsize=18)\n",
    "plt.xlabel('Дата', fontsize=15)\n",
    "plt.xticks(rotation=30)\n",
    "plt.ylabel('Отношение конверсий', fontsize=15)\n",
    "plt.show()"
   ]
  },
  {
   "cell_type": "markdown",
   "metadata": {},
   "source": [
    "**Вывод:** В начале теста группа В проигрывала, но затем на протяжении 10 дней наблюдался рост, который к концу теста немного снизился."
   ]
  },
  {
   "cell_type": "markdown",
   "metadata": {},
   "source": [
    "### Точечный график количества заказов по пользователям"
   ]
  },
  {
   "cell_type": "markdown",
   "metadata": {},
   "source": [
    "Создадим таблицу *orders_by_users* с колличеством заказов по каждому пользователю:"
   ]
  },
  {
   "cell_type": "code",
   "execution_count": 27,
   "metadata": {},
   "outputs": [
    {
     "data": {
      "text/html": [
       "<div>\n",
       "<style scoped>\n",
       "    .dataframe tbody tr th:only-of-type {\n",
       "        vertical-align: middle;\n",
       "    }\n",
       "\n",
       "    .dataframe tbody tr th {\n",
       "        vertical-align: top;\n",
       "    }\n",
       "\n",
       "    .dataframe thead th {\n",
       "        text-align: right;\n",
       "    }\n",
       "</style>\n",
       "<table border=\"1\" class=\"dataframe\">\n",
       "  <thead>\n",
       "    <tr style=\"text-align: right;\">\n",
       "      <th></th>\n",
       "      <th>visitor_id</th>\n",
       "      <th>orders</th>\n",
       "    </tr>\n",
       "  </thead>\n",
       "  <tbody>\n",
       "    <tr>\n",
       "      <th>908</th>\n",
       "      <td>3967698036</td>\n",
       "      <td>3</td>\n",
       "    </tr>\n",
       "    <tr>\n",
       "      <th>55</th>\n",
       "      <td>249864742</td>\n",
       "      <td>3</td>\n",
       "    </tr>\n",
       "    <tr>\n",
       "      <th>478</th>\n",
       "      <td>2108163459</td>\n",
       "      <td>3</td>\n",
       "    </tr>\n",
       "    <tr>\n",
       "      <th>687</th>\n",
       "      <td>2988190573</td>\n",
       "      <td>3</td>\n",
       "    </tr>\n",
       "    <tr>\n",
       "      <th>890</th>\n",
       "      <td>3908431265</td>\n",
       "      <td>3</td>\n",
       "    </tr>\n",
       "    <tr>\n",
       "      <th>138</th>\n",
       "      <td>611059232</td>\n",
       "      <td>3</td>\n",
       "    </tr>\n",
       "    <tr>\n",
       "      <th>632</th>\n",
       "      <td>2742574263</td>\n",
       "      <td>3</td>\n",
       "    </tr>\n",
       "    <tr>\n",
       "      <th>157</th>\n",
       "      <td>678354126</td>\n",
       "      <td>2</td>\n",
       "    </tr>\n",
       "    <tr>\n",
       "      <th>323</th>\n",
       "      <td>1404560065</td>\n",
       "      <td>2</td>\n",
       "    </tr>\n",
       "    <tr>\n",
       "      <th>452</th>\n",
       "      <td>1985475298</td>\n",
       "      <td>2</td>\n",
       "    </tr>\n",
       "  </tbody>\n",
       "</table>\n",
       "</div>"
      ],
      "text/plain": [
       "     visitor_id  orders\n",
       "908  3967698036       3\n",
       "55    249864742       3\n",
       "478  2108163459       3\n",
       "687  2988190573       3\n",
       "890  3908431265       3\n",
       "138   611059232       3\n",
       "632  2742574263       3\n",
       "157   678354126       2\n",
       "323  1404560065       2\n",
       "452  1985475298       2"
      ]
     },
     "metadata": {},
     "output_type": "display_data"
    },
    {
     "data": {
      "text/plain": [
       "count   973.000\n",
       "mean      1.044\n",
       "std       0.238\n",
       "min       1.000\n",
       "25%       1.000\n",
       "50%       1.000\n",
       "75%       1.000\n",
       "max       3.000\n",
       "Name: orders, dtype: float64"
      ]
     },
     "metadata": {},
     "output_type": "display_data"
    }
   ],
   "source": [
    "orders_by_users = (\n",
    "    orders.groupby('visitor_id', as_index=False)\n",
    "    .agg({'transaction_id': 'nunique'})\n",
    "    .sort_values(by='transaction_id', ascending=False)\n",
    "    .rename(columns={'transaction_id': 'orders'})\n",
    ")\n",
    "display(orders_by_users.head(10))\n",
    "display(orders_by_users['orders'].describe())"
   ]
  },
  {
   "cell_type": "code",
   "execution_count": 28,
   "metadata": {},
   "outputs": [
    {
     "data": {
      "image/png": "[encoded data removed]",
      "text/plain": [
       "<Figure size 864x576 with 1 Axes>"
      ]
     },
     "metadata": {
      "needs_background": "light"
     },
     "output_type": "display_data"
    }
   ],
   "source": [
    "# серия из чисел от 0 до количества наблюдений в orders_count \n",
    "x_values = pd.Series(range(0, len(orders_by_users)))\n",
    "\n",
    "# размер графика  \n",
    "plt.figure(figsize=(12,8)) \n",
    "\n",
    "#строим точечный график \n",
    "plt.scatter(x_values, orders_by_users['orders'], alpha=0.5)  \n",
    " \n",
    "plt.ylabel('Количество заказов', fontsize=12) \n",
    "plt.xlabel('Количество пользователей', fontsize=12) \n",
    "plt.title('Точечный график количества заказов по пользователям', fontsize=18) \n",
    "plt.show() "
   ]
  },
  {
   "cell_type": "markdown",
   "metadata": {},
   "source": [
    "**Вывод:** Большинство пользователей совершили один заказ, небольшое количество 7 пользователей — три заказа."
   ]
  },
  {
   "cell_type": "markdown",
   "metadata": {},
   "source": [
    "### 95-й и 99-й перцентили количества заказов на пользователя"
   ]
  },
  {
   "cell_type": "markdown",
   "metadata": {},
   "source": [
    "Методом `np.percentile('column', [percentile1, percentile2, percentile3])` находим 95-й и 99-й перцентили:"
   ]
  },
  {
   "cell_type": "code",
   "execution_count": 29,
   "metadata": {},
   "outputs": [
    {
     "data": {
      "text/plain": [
       "array([1., 2.])"
      ]
     },
     "execution_count": 29,
     "metadata": {},
     "output_type": "execute_result"
    }
   ],
   "source": [
    "np.percentile(orders_by_users['orders'], [95, 99])"
   ]
  },
  {
   "cell_type": "markdown",
   "metadata": {},
   "source": [
    "**Вывод:** Не более 1% пользователей совершили более двух заказов. Выберем 2 заказа на пользователя как верхнюю границу, а большее количество будем считать аномальным."
   ]
  },
  {
   "cell_type": "markdown",
   "metadata": {},
   "source": [
    "### Точечный график стоимостей заказов"
   ]
  },
  {
   "cell_type": "markdown",
   "metadata": {},
   "source": [
    "Топ-10 заказов по стоимости:"
   ]
  },
  {
   "cell_type": "code",
   "execution_count": 30,
   "metadata": {},
   "outputs": [
    {
     "data": {
      "text/html": [
       "<div>\n",
       "<style scoped>\n",
       "    .dataframe tbody tr th:only-of-type {\n",
       "        vertical-align: middle;\n",
       "    }\n",
       "\n",
       "    .dataframe tbody tr th {\n",
       "        vertical-align: top;\n",
       "    }\n",
       "\n",
       "    .dataframe thead th {\n",
       "        text-align: right;\n",
       "    }\n",
       "</style>\n",
       "<table border=\"1\" class=\"dataframe\">\n",
       "  <thead>\n",
       "    <tr style=\"text-align: right;\">\n",
       "      <th></th>\n",
       "      <th>transaction_id</th>\n",
       "      <th>visitor_id</th>\n",
       "      <th>date</th>\n",
       "      <th>revenue</th>\n",
       "      <th>group</th>\n",
       "    </tr>\n",
       "  </thead>\n",
       "  <tbody>\n",
       "    <tr>\n",
       "      <th>425</th>\n",
       "      <td>590470918</td>\n",
       "      <td>1920142716</td>\n",
       "      <td>2019-08-19</td>\n",
       "      <td>1294500</td>\n",
       "      <td>B</td>\n",
       "    </tr>\n",
       "    <tr>\n",
       "      <th>1196</th>\n",
       "      <td>3936777065</td>\n",
       "      <td>2108080724</td>\n",
       "      <td>2019-08-15</td>\n",
       "      <td>202740</td>\n",
       "      <td>B</td>\n",
       "    </tr>\n",
       "    <tr>\n",
       "      <th>1136</th>\n",
       "      <td>666610489</td>\n",
       "      <td>1307669133</td>\n",
       "      <td>2019-08-13</td>\n",
       "      <td>92550</td>\n",
       "      <td>A</td>\n",
       "    </tr>\n",
       "    <tr>\n",
       "      <th>744</th>\n",
       "      <td>3668308183</td>\n",
       "      <td>888512513</td>\n",
       "      <td>2019-08-27</td>\n",
       "      <td>86620</td>\n",
       "      <td>B</td>\n",
       "    </tr>\n",
       "    <tr>\n",
       "      <th>743</th>\n",
       "      <td>3603576309</td>\n",
       "      <td>4133034833</td>\n",
       "      <td>2019-08-09</td>\n",
       "      <td>67990</td>\n",
       "      <td>A</td>\n",
       "    </tr>\n",
       "    <tr>\n",
       "      <th>1103</th>\n",
       "      <td>1348774318</td>\n",
       "      <td>1164614297</td>\n",
       "      <td>2019-08-12</td>\n",
       "      <td>66350</td>\n",
       "      <td>A</td>\n",
       "    </tr>\n",
       "    <tr>\n",
       "      <th>1099</th>\n",
       "      <td>316924019</td>\n",
       "      <td>148427295</td>\n",
       "      <td>2019-08-12</td>\n",
       "      <td>65710</td>\n",
       "      <td>A</td>\n",
       "    </tr>\n",
       "    <tr>\n",
       "      <th>949</th>\n",
       "      <td>1347999392</td>\n",
       "      <td>887908475</td>\n",
       "      <td>2019-08-21</td>\n",
       "      <td>60450</td>\n",
       "      <td>A</td>\n",
       "    </tr>\n",
       "    <tr>\n",
       "      <th>940</th>\n",
       "      <td>2420050534</td>\n",
       "      <td>4003628586</td>\n",
       "      <td>2019-08-08</td>\n",
       "      <td>58550</td>\n",
       "      <td>B</td>\n",
       "    </tr>\n",
       "    <tr>\n",
       "      <th>131</th>\n",
       "      <td>3163614039</td>\n",
       "      <td>2254586615</td>\n",
       "      <td>2019-08-22</td>\n",
       "      <td>53904</td>\n",
       "      <td>A</td>\n",
       "    </tr>\n",
       "  </tbody>\n",
       "</table>\n",
       "</div>"
      ],
      "text/plain": [
       "      transaction_id  visitor_id       date  revenue group\n",
       "425        590470918  1920142716 2019-08-19  1294500     B\n",
       "1196      3936777065  2108080724 2019-08-15   202740     B\n",
       "1136       666610489  1307669133 2019-08-13    92550     A\n",
       "744       3668308183   888512513 2019-08-27    86620     B\n",
       "743       3603576309  4133034833 2019-08-09    67990     A\n",
       "1103      1348774318  1164614297 2019-08-12    66350     A\n",
       "1099       316924019   148427295 2019-08-12    65710     A\n",
       "949       1347999392   887908475 2019-08-21    60450     A\n",
       "940       2420050534  4003628586 2019-08-08    58550     B\n",
       "131       3163614039  2254586615 2019-08-22    53904     A"
      ]
     },
     "execution_count": 30,
     "metadata": {},
     "output_type": "execute_result"
    }
   ],
   "source": [
    "orders.sort_values(by='revenue', ascending=False).head(10)"
   ]
  },
  {
   "cell_type": "code",
   "execution_count": 31,
   "metadata": {},
   "outputs": [
    {
     "data": {
      "text/plain": [
       "count       1,016.000\n",
       "mean        8,300.815\n",
       "std        42,121.992\n",
       "min            50.000\n",
       "25%         1,190.000\n",
       "50%         2,955.000\n",
       "75%         8,134.250\n",
       "max     1,294,500.000\n",
       "Name: revenue, dtype: float64"
      ]
     },
     "execution_count": 31,
     "metadata": {},
     "output_type": "execute_result"
    }
   ],
   "source": [
    "orders['revenue'].describe()"
   ]
  },
  {
   "cell_type": "markdown",
   "metadata": {},
   "source": [
    "Самый большой заказ по стоимости почти 1.3 миллиона, второй по стоимости - 202740."
   ]
  },
  {
   "cell_type": "code",
   "execution_count": 32,
   "metadata": {},
   "outputs": [
    {
     "data": {
      "image/png": "[encoded data removed]",
      "text/plain": [
       "<Figure size 864x576 with 1 Axes>"
      ]
     },
     "metadata": {
      "needs_background": "light"
     },
     "output_type": "display_data"
    }
   ],
   "source": [
    "# серия из чисел от 0 до количества наблюдений в orders_count \n",
    "x_values = pd.Series(range(0, len(orders['revenue'])))\n",
    "\n",
    "# размер графика  \n",
    "plt.figure(figsize=(12,8)) \n",
    "\n",
    "#строим точечный график \n",
    "plt.scatter(x_values, orders['revenue'], alpha=0.5)  \n",
    " \n",
    "plt.ylabel('Стоимость заказов', fontsize=15) \n",
    "plt.xlabel('Количество пользователей', fontsize=15) \n",
    "plt.title('Точечный график стоимости заказов по пользователям', fontsize=18) \n",
    "plt.show() "
   ]
  },
  {
   "cell_type": "markdown",
   "metadata": {},
   "source": [
    "По такому графику сложно что-нибудь разглядеть, уменьшим масштаб."
   ]
  },
  {
   "cell_type": "code",
   "execution_count": 33,
   "metadata": {},
   "outputs": [
    {
     "data": {
      "image/png": "[encoded data removed]",
      "text/plain": [
       "<Figure size 864x576 with 1 Axes>"
      ]
     },
     "metadata": {
      "needs_background": "light"
     },
     "output_type": "display_data"
    }
   ],
   "source": [
    "# размер графика  \n",
    "plt.figure(figsize=(12,8))\n",
    "plt.ylim(0, 95000)\n",
    "\n",
    "#строим точечный график \n",
    "plt.scatter(x_values, orders['revenue'], alpha=0.5)  \n",
    " \n",
    "plt.ylabel('Стоимость заказов', fontsize=15) \n",
    "plt.xlabel('Количество пользователей', fontsize=15) \n",
    "plt.title('Точечный график стоимости заказов по пользователям', fontsize=18) \n",
    "plt.show() "
   ]
  },
  {
   "cell_type": "markdown",
   "metadata": {},
   "source": [
    "**Вывод:** Основная масса заказов распределилась по стоимости в диапазоне от 0 до 20 тысяч."
   ]
  },
  {
   "cell_type": "markdown",
   "metadata": {},
   "source": [
    "### 95-й и 99-й перцентили стоимости заказов"
   ]
  },
  {
   "cell_type": "markdown",
   "metadata": {},
   "source": [
    "Методом `np.percentile('column', [percentile1, percentile2, percentile3])` находим 95-й и 99-й перцентили:"
   ]
  },
  {
   "cell_type": "code",
   "execution_count": 34,
   "metadata": {},
   "outputs": [
    {
     "data": {
      "text/plain": [
       "array([26785., 53904.])"
      ]
     },
     "execution_count": 34,
     "metadata": {},
     "output_type": "execute_result"
    }
   ],
   "source": [
    "np.percentile(orders['revenue'], [95, 99])"
   ]
  },
  {
   "cell_type": "markdown",
   "metadata": {},
   "source": [
    "**Вывод:** Не более 5% заказов более 26785, и не более 1% заказов — более 53904. Выберем стоимость заказа 30000 как верхнюю границу, а большую стоимость заказа будем считать аномальной."
   ]
  },
  {
   "cell_type": "markdown",
   "metadata": {},
   "source": [
    "### Статистическая значимость различий в конверсии между группами по «сырым» данным"
   ]
  },
  {
   "cell_type": "markdown",
   "metadata": {},
   "source": [
    "Посчитаем статистическую значимость различий в конверсии между группами по «сырым» данным — без удаления аномальных значений (количество заказов и стоимость заказа).<br>\n",
    "Сформулируем гипотезы:\n",
    "- Нулевая **Н0**: различий в количестве заказов между группами нет.\n",
    "- Альтернативная **Н1**: различия в количестве заказов между группами есть.\n",
    "- Коэффициент альфа: 0.05\n",
    "\n",
    "Для расчета статистической значимости различий в конверсии между группами подготовим данные.<br>\n",
    "Создадим новый датафрейм `data` со столбцами:\n",
    "- *date* - дата;\n",
    "- *orders_per_date_a* - количество заказов в выбранную дату в группе A;\n",
    "- *revenue_per_date_a* - суммарная выручка в выбранную дату в группе A;\n",
    "- *orders_per_date_b* - количество заказов в выбранную дату в группе B;\n",
    "- *revenue_per_date_b* - суммарная выручка в выбранную дату в группе B;\n",
    "- *orders_cummulative_a* - суммарное число заказов до выбранной даты включительно в группе A;\n",
    "- *revenue_cummulative_a* - суммарная выручка до выбранной даты включительно в группе A;\n",
    "- *orders_cummulative_b* - суммарное число заказов до выбранной даты включительно в группе B;\n",
    "- *revenue_cummulative_b* - суммарная выручка до выбранной даты включительно в группе B;\n",
    "- *visitors_per_date_a* - количество пользователей в выбранную дату в группе A;\n",
    "- *visitors_cummulative_a* - количество пользователей до выбранной даты включительно в группе A;\n",
    "- *visitors_per_date_b* - количество пользователей в выбранную дату в группе B;\n",
    "- *visitors_cummulative_b* - количество пользователей до выбранной даты включительно в группе B."
   ]
  },
  {
   "cell_type": "code",
   "execution_count": 35,
   "metadata": {},
   "outputs": [
    {
     "data": {
      "text/html": [
       "<div>\n",
       "<style scoped>\n",
       "    .dataframe tbody tr th:only-of-type {\n",
       "        vertical-align: middle;\n",
       "    }\n",
       "\n",
       "    .dataframe tbody tr th {\n",
       "        vertical-align: top;\n",
       "    }\n",
       "\n",
       "    .dataframe thead th {\n",
       "        text-align: right;\n",
       "    }\n",
       "</style>\n",
       "<table border=\"1\" class=\"dataframe\">\n",
       "  <thead>\n",
       "    <tr style=\"text-align: right;\">\n",
       "      <th></th>\n",
       "      <th>date</th>\n",
       "      <th>orders_per_date_a</th>\n",
       "      <th>revenue_per_date_a</th>\n",
       "      <th>orders_per_date_b</th>\n",
       "      <th>revenue_per_date_b</th>\n",
       "      <th>orders_cummulative_a</th>\n",
       "      <th>revenue_cummulative_a</th>\n",
       "      <th>orders_cummulative_b</th>\n",
       "      <th>revenue_cummulative_b</th>\n",
       "      <th>visitors_per_date_a</th>\n",
       "      <th>visitors_per_date_b</th>\n",
       "      <th>visitors_cummulative_a</th>\n",
       "      <th>visitors_cummulative_b</th>\n",
       "    </tr>\n",
       "  </thead>\n",
       "  <tbody>\n",
       "    <tr>\n",
       "      <th>0</th>\n",
       "      <td>2019-08-01</td>\n",
       "      <td>23</td>\n",
       "      <td>142779</td>\n",
       "      <td>17</td>\n",
       "      <td>59758</td>\n",
       "      <td>23</td>\n",
       "      <td>142779</td>\n",
       "      <td>17</td>\n",
       "      <td>59758</td>\n",
       "      <td>719</td>\n",
       "      <td>713</td>\n",
       "      <td>719</td>\n",
       "      <td>713</td>\n",
       "    </tr>\n",
       "    <tr>\n",
       "      <th>1</th>\n",
       "      <td>2019-08-02</td>\n",
       "      <td>19</td>\n",
       "      <td>91602</td>\n",
       "      <td>23</td>\n",
       "      <td>162043</td>\n",
       "      <td>42</td>\n",
       "      <td>234381</td>\n",
       "      <td>40</td>\n",
       "      <td>221801</td>\n",
       "      <td>619</td>\n",
       "      <td>581</td>\n",
       "      <td>1338</td>\n",
       "      <td>1294</td>\n",
       "    </tr>\n",
       "    <tr>\n",
       "      <th>2</th>\n",
       "      <td>2019-08-03</td>\n",
       "      <td>24</td>\n",
       "      <td>112473</td>\n",
       "      <td>14</td>\n",
       "      <td>67049</td>\n",
       "      <td>66</td>\n",
       "      <td>346854</td>\n",
       "      <td>54</td>\n",
       "      <td>288850</td>\n",
       "      <td>507</td>\n",
       "      <td>509</td>\n",
       "      <td>1845</td>\n",
       "      <td>1803</td>\n",
       "    </tr>\n",
       "    <tr>\n",
       "      <th>3</th>\n",
       "      <td>2019-08-04</td>\n",
       "      <td>11</td>\n",
       "      <td>41176</td>\n",
       "      <td>14</td>\n",
       "      <td>96890</td>\n",
       "      <td>77</td>\n",
       "      <td>388030</td>\n",
       "      <td>68</td>\n",
       "      <td>385740</td>\n",
       "      <td>717</td>\n",
       "      <td>770</td>\n",
       "      <td>2562</td>\n",
       "      <td>2573</td>\n",
       "    </tr>\n",
       "    <tr>\n",
       "      <th>4</th>\n",
       "      <td>2019-08-05</td>\n",
       "      <td>22</td>\n",
       "      <td>86383</td>\n",
       "      <td>21</td>\n",
       "      <td>89908</td>\n",
       "      <td>99</td>\n",
       "      <td>474413</td>\n",
       "      <td>89</td>\n",
       "      <td>475648</td>\n",
       "      <td>756</td>\n",
       "      <td>707</td>\n",
       "      <td>3318</td>\n",
       "      <td>3280</td>\n",
       "    </tr>\n",
       "  </tbody>\n",
       "</table>\n",
       "</div>"
      ],
      "text/plain": [
       "        date  orders_per_date_a  revenue_per_date_a  orders_per_date_b  \\\n",
       "0 2019-08-01                 23              142779                 17   \n",
       "1 2019-08-02                 19               91602                 23   \n",
       "2 2019-08-03                 24              112473                 14   \n",
       "3 2019-08-04                 11               41176                 14   \n",
       "4 2019-08-05                 22               86383                 21   \n",
       "\n",
       "   revenue_per_date_b  orders_cummulative_a  revenue_cummulative_a  \\\n",
       "0               59758                    23                 142779   \n",
       "1              162043                    42                 234381   \n",
       "2               67049                    66                 346854   \n",
       "3               96890                    77                 388030   \n",
       "4               89908                    99                 474413   \n",
       "\n",
       "   orders_cummulative_b  revenue_cummulative_b  visitors_per_date_a  \\\n",
       "0                    17                  59758                  719   \n",
       "1                    40                 221801                  619   \n",
       "2                    54                 288850                  507   \n",
       "3                    68                 385740                  717   \n",
       "4                    89                 475648                  756   \n",
       "\n",
       "   visitors_per_date_b  visitors_cummulative_a  visitors_cummulative_b  \n",
       "0                  713                     719                     713  \n",
       "1                  581                    1338                    1294  \n",
       "2                  509                    1845                    1803  \n",
       "3                  770                    2562                    2573  \n",
       "4                  707                    3318                    3280  "
      ]
     },
     "metadata": {},
     "output_type": "display_data"
    }
   ],
   "source": [
    "# расчет количества пользователей в выбранную дату в группе А\n",
    "visitors_a_daily = visitors[visitors['group'] == 'A'][['date', 'visitors']]\n",
    "visitors_a_daily.columns = ['date', 'visitors_per_date_a']\n",
    "\n",
    "# расчет количества пользователей до выбранной даты включительно в группе А\n",
    "visitors_a_cummulative = visitors_a_daily.apply(\n",
    "    lambda x: visitors_a_daily[visitors_a_daily['date'] <= x['date']].agg(\n",
    "        {'date': 'max', 'visitors_per_date_a': 'sum'}\n",
    "    ),\n",
    "    axis=1,\n",
    ")\n",
    "visitors_a_cummulative.columns = ['date', 'visitors_cummulative_a']\n",
    "\n",
    "# расчет количества пользователей в выбранную дату в группе В\n",
    "visitors_b_daily = visitors[visitors['group'] == 'B'][['date', 'visitors']]\n",
    "visitors_b_daily.columns = ['date', 'visitors_per_date_b']\n",
    "\n",
    "# расчет количества пользователей до выбранной даты включительно в группе В\n",
    "visitors_b_cummulative = visitors_b_daily.apply(\n",
    "    lambda x: visitors_b_daily[visitors_b_daily['date'] <= x['date']].agg(\n",
    "        {'date': 'max', 'visitors_per_date_b': 'sum'}\n",
    "    ),\n",
    "    axis=1,\n",
    ")\n",
    "visitors_b_cummulative.columns = ['date', 'visitors_cummulative_b']\n",
    "\n",
    "# расчет количества заказов и суммарной выручки в выбранную дату в группе A\n",
    "orders_a_daily = (\n",
    "    orders[orders['group'] == 'A'][['date', 'transaction_id', 'visitor_id', 'revenue']]\n",
    "    .groupby('date', as_index=False)\n",
    "    .agg({'transaction_id': pd.Series.nunique, 'revenue': 'sum'})\n",
    ")\n",
    "orders_a_daily.columns = ['date', 'orders_per_date_a', 'revenue_per_date_a']\n",
    "\n",
    "# расчет суммарного числа заказов до выбранной даты включительно в группе A\n",
    "orders_a_cummulative = orders_a_daily.apply(\n",
    "    lambda x: orders_a_daily[orders_a_daily['date'] <= x['date']].agg(\n",
    "        {'date': 'max', 'orders_per_date_a': 'sum', 'revenue_per_date_a': 'sum'}\n",
    "    ),\n",
    "    axis=1,\n",
    ").sort_values(by=['date'])\n",
    "orders_a_cummulative.columns = [\n",
    "    'date',\n",
    "    'orders_cummulative_a',\n",
    "    'revenue_cummulative_a',\n",
    "]\n",
    "\n",
    "# расчет количества заказов и суммарной выручки в выбранную дату в группе В\n",
    "orders_b_daily = (\n",
    "    orders[orders['group'] == 'B'][['date', 'transaction_id', 'visitor_id', 'revenue']]\n",
    "    .groupby('date', as_index=False)\n",
    "    .agg({'transaction_id': pd.Series.nunique, 'revenue': 'sum'})\n",
    ")\n",
    "orders_b_daily.columns = ['date', 'orders_per_date_b', 'revenue_per_date_b']\n",
    "\n",
    "# расчет суммарного числа заказов до выбранной даты включительно в группе В\n",
    "orders_b_cummulative = orders_b_daily.apply(\n",
    "    lambda x: orders_b_daily[orders_b_daily['date'] <= x['date']].agg(\n",
    "        {'date': 'max', 'orders_per_date_b': 'sum', 'revenue_per_date_b': 'sum'}\n",
    "    ),\n",
    "    axis=1,\n",
    ").sort_values(by=['date'])\n",
    "orders_b_cummulative.columns = [\n",
    "    'date',\n",
    "    'orders_cummulative_b',\n",
    "    'revenue_cummulative_b',\n",
    "]\n",
    "\n",
    "# объединение датафреймов в один общий датафрейм data\n",
    "data = (\n",
    "    orders_a_daily.merge(\n",
    "        orders_b_daily, left_on='date', right_on='date', how='left'\n",
    "    )\n",
    "    .merge(orders_a_cummulative, left_on='date', right_on='date', how='left')\n",
    "    .merge(orders_b_cummulative, left_on='date', right_on='date', how='left')\n",
    "    .merge(visitors_a_daily, left_on='date', right_on='date', how='left')\n",
    "    .merge(visitors_b_daily, left_on='date', right_on='date', how='left')\n",
    "    .merge(visitors_a_cummulative, left_on='date', right_on='date', how='left')\n",
    "    .merge(visitors_b_cummulative, left_on='date', right_on='date', how='left')\n",
    ")\n",
    "\n",
    "display(data.head())"
   ]
  },
  {
   "cell_type": "markdown",
   "metadata": {},
   "source": [
    "Создадим переменные `orders_by_users_a` и `orders_by_users_b` со столбцами `['visitor_id', 'orders']`. В них для пользователей, которые заказывали хотя бы 1 раз, укажем число совершённых заказов."
   ]
  },
  {
   "cell_type": "code",
   "execution_count": 36,
   "metadata": {},
   "outputs": [],
   "source": [
    "orders_by_users_a = (\n",
    "    orders[orders['group'] == 'A']\n",
    "    .groupby('visitor_id', as_index=False)\n",
    "    .agg({'transaction_id': pd.Series.nunique})\n",
    ")\n",
    "orders_by_users_a.columns = ['visitor_id', 'orders']\n",
    "\n",
    "orders_by_users_b = (\n",
    "    orders[orders['group'] == 'B']\n",
    "    .groupby('visitor_id', as_index=False)\n",
    "    .agg({'transaction_id': pd.Series.nunique})\n",
    ")\n",
    "orders_by_users_b.columns = ['visitor_id', 'orders']"
   ]
  },
  {
   "cell_type": "markdown",
   "metadata": {},
   "source": [
    "Объявим переменные `sample_a` и `sample_b`, в которых пользователям из разных групп будет соответствовать количество заказов. Тем, кто ничего не заказал, будут соответствовать нули. "
   ]
  },
  {
   "cell_type": "code",
   "execution_count": 37,
   "metadata": {},
   "outputs": [],
   "source": [
    "sample_a = pd.concat([orders_by_users_a['orders'],\n",
    "                      pd.Series(0, index=np.arange(\n",
    "                          data['visitors_per_date_a'].sum() -\n",
    "                          len(orders_by_users_a['orders'])), name='orders')], axis=0)\n",
    "\n",
    "sample_b = pd.concat([orders_by_users_b['orders'],\n",
    "                      pd.Series(0, index=np.arange(\n",
    "                          data['visitors_per_date_b'].sum() -\n",
    "                          len(orders_by_users_b['orders'])), name='orders')], axis=0)"
   ]
  },
  {
   "cell_type": "markdown",
   "metadata": {},
   "source": [
    "Посчитаем статистическую значимость различия конверсии по результатам теста Манна-Уитни.<br>\n",
    "Выведем p-value для сравнения конверсии между группами."
   ]
  },
  {
   "cell_type": "code",
   "execution_count": 38,
   "metadata": {},
   "outputs": [
    {
     "name": "stdout",
     "output_type": "stream",
     "text": [
      "p-value = 0.011\n",
      "Относительное различие в средней конверсии между группами по «сырым» данным: 0.160\n"
     ]
    }
   ],
   "source": [
    "# рассчет статистической значимости различия конверсии по результатам теста Манна-Уитни\n",
    "print('p-value =', '{0:.3f}'.format(st.mannwhitneyu(sample_a, sample_b)[1]))\n",
    "\n",
    "# рассчет относительного различия в конверсии между группами\n",
    "print('Относительное различие в средней конверсии между группами по «сырым» данным:',\n",
    "      '{0:.3f}'.format(sample_b.mean() / sample_a.mean() - 1))"
   ]
  },
  {
   "cell_type": "markdown",
   "metadata": {},
   "source": [
    "**Вывод:** Число p-value = 0.011, что меньше 0.05. Нулевая гипотеза об отсутствии различий в конверсии между группами по «сырым» данным отвергается. Средняя конверсия группы В больше средней конверсии группы А."
   ]
  },
  {
   "cell_type": "markdown",
   "metadata": {},
   "source": [
    "### Статистическая значимость различий в среднем чеке заказа между группами по «сырым» данным"
   ]
  },
  {
   "cell_type": "markdown",
   "metadata": {},
   "source": [
    "Сформулируем гипотезы:\n",
    "- Нулевая **Н0**: различий в среднем чеке между группами нет.\n",
    "- Альтернативная **Н1**: различия в среднем чеке между группами есть.\n",
    "- Коэффициент альфа: 0.05"
   ]
  },
  {
   "cell_type": "code",
   "execution_count": 39,
   "metadata": {},
   "outputs": [
    {
     "name": "stdout",
     "output_type": "stream",
     "text": [
      "p-value = 0.829\n",
      "Относительное различие в среднем чеке между группами по «сырым» данным: 0.287\n"
     ]
    }
   ],
   "source": [
    "# рассчет статистической значимости различия среднего чека по результатам теста Манна-Уитни\n",
    "print('p-value =', '{0:.3f}'.format(st.mannwhitneyu(\n",
    "    orders[orders['group']=='A']['revenue'],\n",
    "    orders[orders['group']=='B']['revenue'])[1]))\n",
    "\n",
    "# рассчет относительного различия в среднем чеке между группами\n",
    "print('Относительное различие в среднем чеке между группами по «сырым» данным:',\n",
    "      '{0:.3f}'.format(\n",
    "          orders[orders['group']=='B']['revenue'].mean()/\n",
    "          orders[orders['group']=='A']['revenue'].mean()-1)) "
   ]
  },
  {
   "cell_type": "markdown",
   "metadata": {},
   "source": [
    "**Вывод:** p-value = 0.829, что больше 0.05. Следовательно, нет оснований отвергать нулевую гипотезу и считать, что в среднем чеке есть различия. Наблюдаемое различие в 28.7% не является статистически значимым, что указывает на наличие аномальных значений."
   ]
  },
  {
   "cell_type": "markdown",
   "metadata": {},
   "source": [
    "### Статистическая значимость различий в конверсии между группами по «очищенным» данным"
   ]
  },
  {
   "cell_type": "markdown",
   "metadata": {},
   "source": [
    "Очистим данные от аномальных значений.<br>\n",
    "Ранее мы установили верхнюю границу по количеству заказов на пользователя равную 2 и верхнюю границу по стоимости заказа равную 30000.<br>\n",
    "Введем переменные для обозначения границ аномалий."
   ]
  },
  {
   "cell_type": "code",
   "execution_count": 40,
   "metadata": {},
   "outputs": [],
   "source": [
    "# граница по количеству заказов:\n",
    "many_orders = 2\n",
    "# граница по стоимости заказа:\n",
    "expensive_order = 30000"
   ]
  },
  {
   "cell_type": "markdown",
   "metadata": {},
   "source": [
    "Объеденим пользователей с аномальными значениями в один датафрейм."
   ]
  },
  {
   "cell_type": "code",
   "execution_count": 41,
   "metadata": {},
   "outputs": [
    {
     "name": "stdout",
     "output_type": "stream",
     "text": [
      "1099    148427295\n",
      "928     204675465\n",
      "33      249864742\n",
      "684     358944393\n",
      "648     382846391\n",
      "Name: visitor_id, dtype: int64\n",
      "\n",
      "\n",
      "Количество аномальных пользователей: 49\n"
     ]
    }
   ],
   "source": [
    "users_with_many_orders = pd.concat([\n",
    "    orders_by_users_a[orders_by_users_a['orders'] > many_orders]['visitor_id'],\n",
    "    orders_by_users_b[orders_by_users_b['orders'] > many_orders]['visitor_id']], axis=0)\n",
    "users_with_expensive_orders = orders[orders['revenue'] > expensive_order]['visitor_id']\n",
    "abnormal_users = (pd.concat([\n",
    "    users_with_many_orders,\n",
    "    users_with_expensive_orders], axis=0)\n",
    "                  .drop_duplicates()\n",
    "                  .sort_values())\n",
    "\n",
    "print(abnormal_users.head())\n",
    "print('\\n')\n",
    "print('Количество аномальных пользователей:', abnormal_users.shape[0])"
   ]
  },
  {
   "cell_type": "markdown",
   "metadata": {},
   "source": [
    "Всего 49 аномальных пользователей. Проверим как они могли повлиять на результаты теста."
   ]
  },
  {
   "cell_type": "code",
   "execution_count": 42,
   "metadata": {},
   "outputs": [],
   "source": [
    "# отфильтрованные данные группы А:\n",
    "sample_a_filtered = pd.concat([\n",
    "    orders_by_users_a[np.logical_not(\n",
    "        orders_by_users_a['visitor_id']\n",
    "        .isin(abnormal_users))]['orders'],\n",
    "    pd.Series(0, index=np.arange(data['visitors_per_date_a'].sum() -\n",
    "                                 len(orders_by_users_a['orders'])), name='orders')], axis=0)\n",
    "\n",
    "# отфильтрованные данные группы В:\n",
    "sample_b_filtered = pd.concat([\n",
    "    orders_by_users_b[np.logical_not(\n",
    "        orders_by_users_b['visitor_id']\n",
    "        .isin(abnormal_users))]['orders'],\n",
    "    pd.Series(0, index=np.arange(data['visitors_per_date_b'].sum() -\n",
    "                                 len(orders_by_users_b['orders'])), name='orders')], axis=0)"
   ]
  },
  {
   "cell_type": "markdown",
   "metadata": {},
   "source": [
    "Гипотезы:\n",
    "\n",
    "- **Н0** - различий в конверсии между группами нет.\n",
    "- **Н1** - различия в конверсии между группами есть.\n",
    "- Коэффициент альфа: 0.05"
   ]
  },
  {
   "cell_type": "code",
   "execution_count": 43,
   "metadata": {},
   "outputs": [
    {
     "name": "stdout",
     "output_type": "stream",
     "text": [
      "p-value = 0.010\n",
      "Относительное различие в средней конверсии между группами по «очищенным» данным: 0.187\n"
     ]
    }
   ],
   "source": [
    "# рассчет статистической значимости различия конверсии по результатам теста Манна-Уитни\n",
    "print('p-value =', '{0:.3f}'.format(st.mannwhitneyu(sample_a_filtered, sample_b_filtered)[1]))\n",
    "\n",
    "# рассчет относительного различия в конверсии между группами\n",
    "print('Относительное различие в средней конверсии между группами по «очищенным» данным:',\n",
    "      '{0:.3f}'.format(sample_b_filtered.mean()/sample_a_filtered.mean()-1))"
   ]
  },
  {
   "cell_type": "markdown",
   "metadata": {},
   "source": [
    "**Вывод:**  Число p-value = 0.010, что меньше 0.05. Следовательно, нулевую гипотезу об отсутствии различий по «очищенным» данным в конверсии между группами отвергаем."
   ]
  },
  {
   "cell_type": "markdown",
   "metadata": {},
   "source": [
    "### Статистическая значимость различий в среднем чеке заказа между группами по «очищенным» данным"
   ]
  },
  {
   "cell_type": "markdown",
   "metadata": {},
   "source": [
    "Гипотезы:\n",
    "\n",
    "- **Н0** - различий в среднем чеке между группами нет.\n",
    "- **Н1** - различия в среднем чеке между группами есть.\n",
    "- Коэффициент альфа: 0.05"
   ]
  },
  {
   "cell_type": "code",
   "execution_count": 44,
   "metadata": {},
   "outputs": [
    {
     "name": "stdout",
     "output_type": "stream",
     "text": [
      "p-value = 0.741\n",
      "Относительное различие в среднем чеке между группами по «очищенным» данным: -0.027\n"
     ]
    }
   ],
   "source": [
    "print('p-value =',\n",
    "      '{0:.3f}'.format(st.mannwhitneyu(\n",
    "    orders[np.logical_and(\n",
    "        orders['group'] == 'A',\n",
    "        np.logical_not(orders['visitor_id']\n",
    "                       .isin(abnormal_users)))]['revenue'], \n",
    "    orders[np.logical_and(\n",
    "        orders['group'] == 'B',\n",
    "        np.logical_not(orders['visitor_id']\n",
    "                       .isin(abnormal_users)))]['revenue'])[1]))\n",
    "\n",
    "print('Относительное различие в среднем чеке между группами по «очищенным» данным:',\n",
    "      '{0:.3f}'.format(\n",
    "    orders[np.logical_and(\n",
    "        orders['group'] == 'B',\n",
    "        np.logical_not(orders['visitor_id']\n",
    "                       .isin(abnormal_users)))]['revenue'].mean() /\n",
    "    orders[np.logical_and(\n",
    "        orders['group'] == 'A',\n",
    "        np.logical_not(orders['visitor_id']\n",
    "                       .isin(abnormal_users)))]['revenue'].mean() - 1))"
   ]
  },
  {
   "cell_type": "markdown",
   "metadata": {},
   "source": [
    "**Вывод** Число p-value = 0.741, это значительно больше коэффициент альфа = 0.05. Следовательно, нет основания отвергать нулевую гипотезу и считать, что в среднем чеке по «очищенным» данным есть различия, нет. По «сырым» данным p-value был равен 0.829. <br> \n",
    "Наблюдаемое различие в среднем чеке по группам не является статистичке значимым. По «очищенным» данным средний чек группы А немного больше среднего чека группы В (относительное различие в среднем чеке между группами по «очищенным» данным: -0.027). По «сырым» данным было наоборот, относительное различие в среднем чеке между группами составляло 0.287."
   ]
  },
  {
   "cell_type": "markdown",
   "metadata": {},
   "source": [
    "## Общий вывод"
   ]
  },
  {
   "cell_type": "markdown",
   "metadata": {},
   "source": [
    "В задачи исследования входило:\n",
    "   - Приоритизируйте гипотезы.\n",
    "   - Запустите A/B-тест.\n",
    "   - Проанализируйте результаты. \n",
    "   \n",
    "В ходе изучения данных была выполнена предобработка:\n",
    "- Привели название столбцов к хорошему стилю.\n",
    "- Изменили тип данных в столбцах, содержащих информацию о дате и времени.\n",
    "\n",
    "В ходе приоритезации гипотез по методам ICE и RICE выделили ТОП-5 гипотез:\n",
    "- Добавить форму подписки на все основные страницы, чтобы собрать базу клиентов для email-рассылок.\n",
    "- Добавить блоки рекомендаций товаров на сайт интернет магазина, чтобы повысить конверсию и средний чек заказа.\n",
    "- Добавить два новых канала привлечения трафика, что позволит привлекать на 30% больше пользователей.\n",
    "- Показать на главной странице баннеры с актуальными акциями и распродажами, чтобы увеличить конверсию.\n",
    "- Запустить акцию, дающую скидку на товар в день рождения.\n",
    "\n",
    "Решение по результатам теста:<br>\n",
    "**Тест стоит остановить.**\n",
    "\n",
    "В ходе анвлиза результатов А/В-теста установили следуещее:\n",
    "- График кумулятивной выручки наглядно демонстрирует, что кумулятивная выручка группы А увеличивается линейно и остается ниже, чем у группы В.\n",
    "- График кумулятивного среднего чека по группам наглядно показывает, что к концу тестового периода кумулятивный средний чек группы B превышает показатели группы А. При этом у группы А наблюдается тенденция к росту, в то время как у группы B наблюдается снижение.\n",
    "- График кумулятивной конверсии по группам наглядно демонстрирует, что конверсия у группы В немного выше, чем у группы А.\n",
    "- Не более 1% пользователей совершили более двух заказов.\n",
    "-  Не более 5% заказов более 26785, и не более 1% заказов — более 53904. \n",
    "- По «сырым» и по «очищенным» данным есть различия по количеству заказов (конверсии).\n",
    "- По «сырым» и по «очищенным» данным статистически значимого различия в среднем чеке между группами не выявлено.\n",
    "\n",
    "Исходя из вышеизложенного: Группа В превосходит группу А по количеству заказов (конверсии). И так как в среднем чеке по группам нет различий выручка в группе В растёт.\n"
   ]
  }
 ],
 "metadata": {
  "ExecuteTimeLog": [
   {
    "duration": 1405,
    "start_time": "2024-11-17T13:32:02.466Z"
   },
   {
    "duration": 222,
    "start_time": "2024-11-17T13:39:22.848Z"
   },
   {
    "duration": 5,
    "start_time": "2024-11-17T13:50:13.451Z"
   },
   {
    "duration": 121,
    "start_time": "2024-11-17T13:52:30.810Z"
   },
   {
    "duration": 4,
    "start_time": "2024-11-17T13:55:35.156Z"
   },
   {
    "duration": 25,
    "start_time": "2024-11-17T13:55:37.925Z"
   },
   {
    "duration": 4,
    "start_time": "2024-11-17T13:56:32.718Z"
   },
   {
    "duration": 24,
    "start_time": "2024-11-17T13:56:34.782Z"
   },
   {
    "duration": 3,
    "start_time": "2024-11-17T14:05:32.158Z"
   },
   {
    "duration": 5,
    "start_time": "2024-11-17T14:06:26.558Z"
   },
   {
    "duration": 24,
    "start_time": "2024-11-17T14:07:35.377Z"
   },
   {
    "duration": 5,
    "start_time": "2024-11-17T14:10:16.090Z"
   },
   {
    "duration": 23,
    "start_time": "2024-11-17T14:11:58.343Z"
   },
   {
    "duration": 8,
    "start_time": "2024-11-17T14:14:09.591Z"
   },
   {
    "duration": 12,
    "start_time": "2024-11-17T15:12:13.191Z"
   },
   {
    "duration": 12,
    "start_time": "2024-11-17T15:12:24.479Z"
   },
   {
    "duration": 1339,
    "start_time": "2024-11-17T15:14:12.761Z"
   },
   {
    "duration": 3,
    "start_time": "2024-11-17T15:14:14.102Z"
   },
   {
    "duration": 85,
    "start_time": "2024-11-17T15:14:14.106Z"
   },
   {
    "duration": 5,
    "start_time": "2024-11-17T15:14:14.193Z"
   },
   {
    "duration": 30,
    "start_time": "2024-11-17T15:14:14.200Z"
   },
   {
    "duration": 5,
    "start_time": "2024-11-17T15:14:14.232Z"
   },
   {
    "duration": 53,
    "start_time": "2024-11-17T15:14:14.238Z"
   },
   {
    "duration": 4,
    "start_time": "2024-11-17T15:14:14.292Z"
   },
   {
    "duration": 22,
    "start_time": "2024-11-17T15:14:14.297Z"
   },
   {
    "duration": 7,
    "start_time": "2024-11-17T15:14:14.320Z"
   },
   {
    "duration": 49,
    "start_time": "2024-11-17T15:14:14.329Z"
   },
   {
    "duration": 322,
    "start_time": "2024-11-17T15:15:03.928Z"
   },
   {
    "duration": 310,
    "start_time": "2024-11-17T15:15:40.585Z"
   },
   {
    "duration": 277,
    "start_time": "2024-11-17T15:17:47.738Z"
   },
   {
    "duration": 275,
    "start_time": "2024-11-17T15:18:39.771Z"
   },
   {
    "duration": 275,
    "start_time": "2024-11-17T15:19:05.101Z"
   },
   {
    "duration": 10,
    "start_time": "2024-11-17T15:26:12.425Z"
   },
   {
    "duration": 10,
    "start_time": "2024-11-17T15:26:58.738Z"
   },
   {
    "duration": 105,
    "start_time": "2024-11-17T15:33:37.666Z"
   },
   {
    "duration": 9,
    "start_time": "2024-11-17T15:33:46.064Z"
   },
   {
    "duration": 283,
    "start_time": "2024-11-17T15:34:17.321Z"
   },
   {
    "duration": 64,
    "start_time": "2024-11-18T06:57:40.547Z"
   },
   {
    "duration": 53,
    "start_time": "2024-11-18T06:57:51.586Z"
   },
   {
    "duration": 51,
    "start_time": "2024-11-18T06:58:57.538Z"
   },
   {
    "duration": 1536,
    "start_time": "2024-11-18T06:59:31.102Z"
   },
   {
    "duration": 3,
    "start_time": "2024-11-18T06:59:32.641Z"
   },
   {
    "duration": 250,
    "start_time": "2024-11-18T06:59:32.646Z"
   },
   {
    "duration": 5,
    "start_time": "2024-11-18T06:59:32.898Z"
   },
   {
    "duration": 53,
    "start_time": "2024-11-18T06:59:32.906Z"
   },
   {
    "duration": 5,
    "start_time": "2024-11-18T06:59:32.961Z"
   },
   {
    "duration": 44,
    "start_time": "2024-11-18T06:59:32.967Z"
   },
   {
    "duration": 5,
    "start_time": "2024-11-18T06:59:33.013Z"
   },
   {
    "duration": 28,
    "start_time": "2024-11-18T06:59:33.020Z"
   },
   {
    "duration": 7,
    "start_time": "2024-11-18T06:59:33.050Z"
   },
   {
    "duration": 12,
    "start_time": "2024-11-18T06:59:33.097Z"
   },
   {
    "duration": 325,
    "start_time": "2024-11-18T06:59:33.110Z"
   },
   {
    "duration": 12,
    "start_time": "2024-11-18T06:59:33.436Z"
   },
   {
    "duration": 291,
    "start_time": "2024-11-18T06:59:33.450Z"
   },
   {
    "duration": 9,
    "start_time": "2024-11-18T06:59:33.743Z"
   },
   {
    "duration": 51,
    "start_time": "2024-11-18T07:02:07.686Z"
   },
   {
    "duration": 142,
    "start_time": "2024-11-18T07:02:34.926Z"
   },
   {
    "duration": 14,
    "start_time": "2024-11-18T07:04:37.062Z"
   },
   {
    "duration": 14,
    "start_time": "2024-11-18T07:05:49.901Z"
   },
   {
    "duration": 1273,
    "start_time": "2024-11-18T08:55:09.237Z"
   },
   {
    "duration": 4,
    "start_time": "2024-11-18T08:55:10.511Z"
   },
   {
    "duration": 88,
    "start_time": "2024-11-18T08:55:10.516Z"
   },
   {
    "duration": 5,
    "start_time": "2024-11-18T08:55:10.606Z"
   },
   {
    "duration": 38,
    "start_time": "2024-11-18T08:55:10.612Z"
   },
   {
    "duration": 4,
    "start_time": "2024-11-18T08:55:10.652Z"
   },
   {
    "duration": 48,
    "start_time": "2024-11-18T08:55:10.657Z"
   },
   {
    "duration": 5,
    "start_time": "2024-11-18T08:55:10.706Z"
   },
   {
    "duration": 33,
    "start_time": "2024-11-18T08:55:10.712Z"
   },
   {
    "duration": 7,
    "start_time": "2024-11-18T08:55:10.749Z"
   },
   {
    "duration": 47,
    "start_time": "2024-11-18T08:55:10.757Z"
   },
   {
    "duration": 301,
    "start_time": "2024-11-18T08:55:10.806Z"
   },
   {
    "duration": 11,
    "start_time": "2024-11-18T08:55:11.109Z"
   },
   {
    "duration": 284,
    "start_time": "2024-11-18T08:55:11.122Z"
   },
   {
    "duration": 14,
    "start_time": "2024-11-18T08:55:11.408Z"
   },
   {
    "duration": 1567,
    "start_time": "2024-11-18T14:55:09.791Z"
   },
   {
    "duration": 3,
    "start_time": "2024-11-18T14:55:11.360Z"
   },
   {
    "duration": 232,
    "start_time": "2024-11-18T14:55:11.364Z"
   },
   {
    "duration": 6,
    "start_time": "2024-11-18T14:55:11.597Z"
   },
   {
    "duration": 35,
    "start_time": "2024-11-18T14:55:11.605Z"
   },
   {
    "duration": 5,
    "start_time": "2024-11-18T14:55:11.641Z"
   },
   {
    "duration": 32,
    "start_time": "2024-11-18T14:55:11.647Z"
   },
   {
    "duration": 5,
    "start_time": "2024-11-18T14:55:11.706Z"
   },
   {
    "duration": 27,
    "start_time": "2024-11-18T14:55:11.712Z"
   },
   {
    "duration": 8,
    "start_time": "2024-11-18T14:55:11.740Z"
   },
   {
    "duration": 56,
    "start_time": "2024-11-18T14:55:11.749Z"
   },
   {
    "duration": 315,
    "start_time": "2024-11-18T14:55:11.807Z"
   },
   {
    "duration": 12,
    "start_time": "2024-11-18T14:55:12.123Z"
   },
   {
    "duration": 321,
    "start_time": "2024-11-18T14:55:12.137Z"
   },
   {
    "duration": 13,
    "start_time": "2024-11-18T14:55:12.460Z"
   },
   {
    "duration": 296,
    "start_time": "2024-11-18T15:16:37.362Z"
   },
   {
    "duration": 367,
    "start_time": "2024-11-18T15:21:53.701Z"
   },
   {
    "duration": 243,
    "start_time": "2024-11-18T15:22:20.469Z"
   },
   {
    "duration": 242,
    "start_time": "2024-11-18T15:23:12.390Z"
   },
   {
    "duration": 311,
    "start_time": "2024-11-18T15:23:27.624Z"
   },
   {
    "duration": 242,
    "start_time": "2024-11-18T15:25:52.665Z"
   },
   {
    "duration": 240,
    "start_time": "2024-11-18T15:38:31.763Z"
   },
   {
    "duration": 1578,
    "start_time": "2024-11-19T12:29:25.770Z"
   },
   {
    "duration": 14,
    "start_time": "2024-11-19T12:29:27.351Z"
   },
   {
    "duration": 232,
    "start_time": "2024-11-19T12:29:27.368Z"
   },
   {
    "duration": 5,
    "start_time": "2024-11-19T12:29:27.602Z"
   },
   {
    "duration": 38,
    "start_time": "2024-11-19T12:29:27.609Z"
   },
   {
    "duration": 13,
    "start_time": "2024-11-19T12:29:27.649Z"
   },
   {
    "duration": 33,
    "start_time": "2024-11-19T12:29:27.665Z"
   },
   {
    "duration": 5,
    "start_time": "2024-11-19T12:29:27.699Z"
   },
   {
    "duration": 57,
    "start_time": "2024-11-19T12:29:27.706Z"
   },
   {
    "duration": 13,
    "start_time": "2024-11-19T12:29:27.764Z"
   },
   {
    "duration": 14,
    "start_time": "2024-11-19T12:29:27.780Z"
   },
   {
    "duration": 365,
    "start_time": "2024-11-19T12:29:27.796Z"
   },
   {
    "duration": 13,
    "start_time": "2024-11-19T12:29:28.172Z"
   },
   {
    "duration": 330,
    "start_time": "2024-11-19T12:29:28.187Z"
   },
   {
    "duration": 15,
    "start_time": "2024-11-19T12:29:28.518Z"
   },
   {
    "duration": 355,
    "start_time": "2024-11-19T12:29:28.534Z"
   },
   {
    "duration": 383,
    "start_time": "2024-11-19T12:29:28.890Z"
   },
   {
    "duration": 274,
    "start_time": "2024-11-19T12:29:29.274Z"
   },
   {
    "duration": 449,
    "start_time": "2024-11-19T12:40:45.643Z"
   },
   {
    "duration": 132,
    "start_time": "2024-11-19T13:04:18.580Z"
   },
   {
    "duration": 397,
    "start_time": "2024-11-19T13:04:41.981Z"
   },
   {
    "duration": 356,
    "start_time": "2024-11-19T13:05:15.194Z"
   },
   {
    "duration": 293,
    "start_time": "2024-11-19T13:09:15.870Z"
   },
   {
    "duration": 296,
    "start_time": "2024-11-19T13:09:35.362Z"
   },
   {
    "duration": 275,
    "start_time": "2024-11-19T13:10:05.587Z"
   },
   {
    "duration": 264,
    "start_time": "2024-11-19T13:10:20.180Z"
   },
   {
    "duration": 16,
    "start_time": "2024-11-19T13:31:52.498Z"
   },
   {
    "duration": 12,
    "start_time": "2024-11-19T13:38:15.135Z"
   },
   {
    "duration": 1396,
    "start_time": "2024-11-19T13:38:34.916Z"
   },
   {
    "duration": 3,
    "start_time": "2024-11-19T13:38:36.314Z"
   },
   {
    "duration": 111,
    "start_time": "2024-11-19T13:38:36.319Z"
   },
   {
    "duration": 5,
    "start_time": "2024-11-19T13:38:36.431Z"
   },
   {
    "duration": 46,
    "start_time": "2024-11-19T13:38:36.438Z"
   },
   {
    "duration": 38,
    "start_time": "2024-11-19T13:38:36.486Z"
   },
   {
    "duration": 143,
    "start_time": "2024-11-19T13:38:36.525Z"
   },
   {
    "duration": 7,
    "start_time": "2024-11-19T13:38:36.676Z"
   },
   {
    "duration": 24,
    "start_time": "2024-11-19T13:38:36.685Z"
   },
   {
    "duration": 7,
    "start_time": "2024-11-19T13:38:36.710Z"
   },
   {
    "duration": 57,
    "start_time": "2024-11-19T13:38:36.718Z"
   },
   {
    "duration": 425,
    "start_time": "2024-11-19T13:38:36.777Z"
   },
   {
    "duration": 12,
    "start_time": "2024-11-19T13:38:37.204Z"
   },
   {
    "duration": 346,
    "start_time": "2024-11-19T13:38:37.218Z"
   },
   {
    "duration": 20,
    "start_time": "2024-11-19T13:38:37.566Z"
   },
   {
    "duration": 337,
    "start_time": "2024-11-19T13:38:37.588Z"
   },
   {
    "duration": 381,
    "start_time": "2024-11-19T13:38:37.927Z"
   },
   {
    "duration": 284,
    "start_time": "2024-11-19T13:38:38.310Z"
   },
   {
    "duration": 12,
    "start_time": "2024-11-19T13:38:38.596Z"
   },
   {
    "duration": 432,
    "start_time": "2024-11-19T13:38:38.610Z"
   },
   {
    "duration": 274,
    "start_time": "2024-11-19T13:38:39.044Z"
   },
   {
    "duration": 15,
    "start_time": "2024-11-19T13:38:39.320Z"
   },
   {
    "duration": 1277,
    "start_time": "2024-11-19T14:07:41.200Z"
   },
   {
    "duration": 4,
    "start_time": "2024-11-19T14:07:42.479Z"
   },
   {
    "duration": 100,
    "start_time": "2024-11-19T14:07:42.484Z"
   },
   {
    "duration": 5,
    "start_time": "2024-11-19T14:07:42.586Z"
   },
   {
    "duration": 32,
    "start_time": "2024-11-19T14:07:42.593Z"
   },
   {
    "duration": 16,
    "start_time": "2024-11-19T14:07:42.626Z"
   },
   {
    "duration": 54,
    "start_time": "2024-11-19T14:07:42.643Z"
   },
   {
    "duration": 58,
    "start_time": "2024-11-19T14:07:42.699Z"
   },
   {
    "duration": 26,
    "start_time": "2024-11-19T14:07:42.759Z"
   },
   {
    "duration": 7,
    "start_time": "2024-11-19T14:07:42.787Z"
   },
   {
    "duration": 40,
    "start_time": "2024-11-19T14:07:42.795Z"
   },
   {
    "duration": 295,
    "start_time": "2024-11-19T14:07:42.837Z"
   },
   {
    "duration": 23,
    "start_time": "2024-11-19T14:07:43.134Z"
   },
   {
    "duration": 280,
    "start_time": "2024-11-19T14:07:43.158Z"
   },
   {
    "duration": 21,
    "start_time": "2024-11-19T14:07:43.440Z"
   },
   {
    "duration": 301,
    "start_time": "2024-11-19T14:07:43.463Z"
   },
   {
    "duration": 375,
    "start_time": "2024-11-19T14:07:43.765Z"
   },
   {
    "duration": 244,
    "start_time": "2024-11-19T14:07:44.141Z"
   },
   {
    "duration": 11,
    "start_time": "2024-11-19T14:07:44.387Z"
   },
   {
    "duration": 347,
    "start_time": "2024-11-19T14:07:44.399Z"
   },
   {
    "duration": 216,
    "start_time": "2024-11-19T14:07:44.751Z"
   },
   {
    "duration": 13,
    "start_time": "2024-11-19T14:07:44.968Z"
   },
   {
    "duration": 456,
    "start_time": "2024-11-19T14:07:44.982Z"
   },
   {
    "duration": 322,
    "start_time": "2024-11-19T14:09:03.979Z"
   },
   {
    "duration": 13,
    "start_time": "2024-11-19T14:28:37.415Z"
   },
   {
    "duration": 16,
    "start_time": "2024-11-19T14:32:09.907Z"
   },
   {
    "duration": 17,
    "start_time": "2024-11-19T14:32:47.171Z"
   },
   {
    "duration": 110,
    "start_time": "2024-11-19T14:47:28.998Z"
   },
   {
    "duration": 169,
    "start_time": "2024-11-19T14:47:54.126Z"
   },
   {
    "duration": 156,
    "start_time": "2024-11-19T14:49:35.272Z"
   },
   {
    "duration": 6,
    "start_time": "2024-11-19T15:04:42.172Z"
   },
   {
    "duration": 1473,
    "start_time": "2024-11-20T11:53:32.116Z"
   },
   {
    "duration": 3,
    "start_time": "2024-11-20T11:53:33.591Z"
   },
   {
    "duration": 239,
    "start_time": "2024-11-20T11:53:33.596Z"
   },
   {
    "duration": 5,
    "start_time": "2024-11-20T11:53:33.837Z"
   },
   {
    "duration": 52,
    "start_time": "2024-11-20T11:53:33.843Z"
   },
   {
    "duration": 7,
    "start_time": "2024-11-20T11:53:33.905Z"
   },
   {
    "duration": 59,
    "start_time": "2024-11-20T11:53:33.914Z"
   },
   {
    "duration": 8,
    "start_time": "2024-11-20T11:53:33.975Z"
   },
   {
    "duration": 74,
    "start_time": "2024-11-20T11:53:33.984Z"
   },
   {
    "duration": 6,
    "start_time": "2024-11-20T11:53:34.061Z"
   },
   {
    "duration": 13,
    "start_time": "2024-11-20T11:53:34.069Z"
   },
   {
    "duration": 329,
    "start_time": "2024-11-20T11:53:34.083Z"
   },
   {
    "duration": 11,
    "start_time": "2024-11-20T11:53:34.414Z"
   },
   {
    "duration": 292,
    "start_time": "2024-11-20T11:53:34.426Z"
   },
   {
    "duration": 14,
    "start_time": "2024-11-20T11:53:34.719Z"
   },
   {
    "duration": 311,
    "start_time": "2024-11-20T11:53:34.735Z"
   },
   {
    "duration": 338,
    "start_time": "2024-11-20T11:53:35.048Z"
   },
   {
    "duration": 256,
    "start_time": "2024-11-20T11:53:35.388Z"
   },
   {
    "duration": 14,
    "start_time": "2024-11-20T11:53:35.646Z"
   },
   {
    "duration": 399,
    "start_time": "2024-11-20T11:53:35.662Z"
   },
   {
    "duration": 227,
    "start_time": "2024-11-20T11:53:36.062Z"
   },
   {
    "duration": 14,
    "start_time": "2024-11-20T11:53:36.290Z"
   },
   {
    "duration": 424,
    "start_time": "2024-11-20T11:53:36.305Z"
   },
   {
    "duration": 22,
    "start_time": "2024-11-20T11:53:36.731Z"
   },
   {
    "duration": 176,
    "start_time": "2024-11-20T11:53:36.754Z"
   },
   {
    "duration": 5,
    "start_time": "2024-11-20T11:53:36.932Z"
   },
   {
    "duration": 9,
    "start_time": "2024-11-20T12:08:55.126Z"
   },
   {
    "duration": 10,
    "start_time": "2024-11-20T12:09:00.054Z"
   },
   {
    "duration": 174,
    "start_time": "2024-11-20T12:12:59.169Z"
   },
   {
    "duration": 209,
    "start_time": "2024-11-20T12:16:05.476Z"
   },
   {
    "duration": 179,
    "start_time": "2024-11-20T12:16:53.508Z"
   },
   {
    "duration": 178,
    "start_time": "2024-11-20T12:17:51.782Z"
   },
   {
    "duration": 180,
    "start_time": "2024-11-20T12:17:55.206Z"
   },
   {
    "duration": 8,
    "start_time": "2024-11-20T12:21:33.721Z"
   },
   {
    "duration": 53,
    "start_time": "2024-11-20T12:28:01.573Z"
   },
   {
    "duration": 5,
    "start_time": "2024-11-20T12:28:10.397Z"
   },
   {
    "duration": 5,
    "start_time": "2024-11-20T12:32:44.632Z"
   },
   {
    "duration": 5,
    "start_time": "2024-11-20T12:34:48.722Z"
   },
   {
    "duration": 5,
    "start_time": "2024-11-20T12:35:49.027Z"
   },
   {
    "duration": 227,
    "start_time": "2024-11-20T13:36:17.699Z"
   },
   {
    "duration": 138,
    "start_time": "2024-11-20T13:41:15.400Z"
   },
   {
    "duration": 6,
    "start_time": "2024-11-20T13:44:39.106Z"
   },
   {
    "duration": 114,
    "start_time": "2024-11-20T13:49:15.573Z"
   },
   {
    "duration": 27,
    "start_time": "2024-11-20T13:49:24.093Z"
   },
   {
    "duration": 1336,
    "start_time": "2024-11-20T13:49:35.951Z"
   },
   {
    "duration": 3,
    "start_time": "2024-11-20T13:49:37.289Z"
   },
   {
    "duration": 156,
    "start_time": "2024-11-20T13:49:37.293Z"
   },
   {
    "duration": 5,
    "start_time": "2024-11-20T13:49:37.451Z"
   },
   {
    "duration": 35,
    "start_time": "2024-11-20T13:49:37.457Z"
   },
   {
    "duration": 5,
    "start_time": "2024-11-20T13:49:37.494Z"
   },
   {
    "duration": 50,
    "start_time": "2024-11-20T13:49:37.500Z"
   },
   {
    "duration": 4,
    "start_time": "2024-11-20T13:49:37.551Z"
   },
   {
    "duration": 43,
    "start_time": "2024-11-20T13:49:37.557Z"
   },
   {
    "duration": 7,
    "start_time": "2024-11-20T13:49:37.603Z"
   },
   {
    "duration": 17,
    "start_time": "2024-11-20T13:49:37.612Z"
   },
   {
    "duration": 417,
    "start_time": "2024-11-20T13:49:37.630Z"
   },
   {
    "duration": 11,
    "start_time": "2024-11-20T13:49:38.052Z"
   },
   {
    "duration": 338,
    "start_time": "2024-11-20T13:49:38.064Z"
   },
   {
    "duration": 12,
    "start_time": "2024-11-20T13:49:38.404Z"
   },
   {
    "duration": 335,
    "start_time": "2024-11-20T13:49:38.418Z"
   },
   {
    "duration": 334,
    "start_time": "2024-11-20T13:49:38.754Z"
   },
   {
    "duration": 265,
    "start_time": "2024-11-20T13:49:39.089Z"
   },
   {
    "duration": 12,
    "start_time": "2024-11-20T13:49:39.356Z"
   },
   {
    "duration": 353,
    "start_time": "2024-11-20T13:49:39.369Z"
   },
   {
    "duration": 233,
    "start_time": "2024-11-20T13:49:39.724Z"
   },
   {
    "duration": 14,
    "start_time": "2024-11-20T13:49:39.958Z"
   },
   {
    "duration": 439,
    "start_time": "2024-11-20T13:49:39.973Z"
   },
   {
    "duration": 18,
    "start_time": "2024-11-20T13:49:40.413Z"
   },
   {
    "duration": 187,
    "start_time": "2024-11-20T13:49:40.432Z"
   },
   {
    "duration": 6,
    "start_time": "2024-11-20T13:49:40.620Z"
   },
   {
    "duration": 25,
    "start_time": "2024-11-20T13:49:40.628Z"
   },
   {
    "duration": 9,
    "start_time": "2024-11-20T13:49:40.656Z"
   },
   {
    "duration": 195,
    "start_time": "2024-11-20T13:49:40.666Z"
   },
   {
    "duration": 210,
    "start_time": "2024-11-20T13:49:40.863Z"
   },
   {
    "duration": 5,
    "start_time": "2024-11-20T13:49:41.074Z"
   },
   {
    "duration": 236,
    "start_time": "2024-11-20T13:49:41.080Z"
   },
   {
    "duration": 147,
    "start_time": "2024-11-20T13:49:41.317Z"
   },
   {
    "duration": 6,
    "start_time": "2024-11-20T13:49:41.466Z"
   },
   {
    "duration": 28,
    "start_time": "2024-11-20T13:49:41.473Z"
   },
   {
    "duration": 1362,
    "start_time": "2024-11-24T05:52:32.096Z"
   },
   {
    "duration": 3,
    "start_time": "2024-11-24T05:52:33.460Z"
   },
   {
    "duration": 232,
    "start_time": "2024-11-24T05:52:33.465Z"
   },
   {
    "duration": 5,
    "start_time": "2024-11-24T05:52:33.699Z"
   },
   {
    "duration": 37,
    "start_time": "2024-11-24T05:52:33.705Z"
   },
   {
    "duration": 5,
    "start_time": "2024-11-24T05:52:33.744Z"
   },
   {
    "duration": 35,
    "start_time": "2024-11-24T05:52:33.751Z"
   },
   {
    "duration": 4,
    "start_time": "2024-11-24T05:52:33.787Z"
   },
   {
    "duration": 34,
    "start_time": "2024-11-24T05:52:33.793Z"
   },
   {
    "duration": 7,
    "start_time": "2024-11-24T05:52:33.829Z"
   },
   {
    "duration": 40,
    "start_time": "2024-11-24T05:52:33.837Z"
   },
   {
    "duration": 295,
    "start_time": "2024-11-24T05:52:33.878Z"
   },
   {
    "duration": 11,
    "start_time": "2024-11-24T05:52:34.174Z"
   },
   {
    "duration": 274,
    "start_time": "2024-11-24T05:52:34.186Z"
   },
   {
    "duration": 18,
    "start_time": "2024-11-24T05:52:34.461Z"
   },
   {
    "duration": 319,
    "start_time": "2024-11-24T05:52:34.480Z"
   },
   {
    "duration": 314,
    "start_time": "2024-11-24T05:52:34.800Z"
   },
   {
    "duration": 256,
    "start_time": "2024-11-24T05:52:35.116Z"
   },
   {
    "duration": 10,
    "start_time": "2024-11-24T05:52:35.374Z"
   },
   {
    "duration": 389,
    "start_time": "2024-11-24T05:52:35.386Z"
   },
   {
    "duration": 208,
    "start_time": "2024-11-24T05:52:35.776Z"
   },
   {
    "duration": 13,
    "start_time": "2024-11-24T05:52:35.985Z"
   },
   {
    "duration": 408,
    "start_time": "2024-11-24T05:52:36.000Z"
   },
   {
    "duration": 16,
    "start_time": "2024-11-24T05:52:36.409Z"
   },
   {
    "duration": 165,
    "start_time": "2024-11-24T05:52:36.427Z"
   },
   {
    "duration": 5,
    "start_time": "2024-11-24T05:52:36.594Z"
   },
   {
    "duration": 16,
    "start_time": "2024-11-24T05:52:36.600Z"
   },
   {
    "duration": 16,
    "start_time": "2024-11-24T05:52:36.620Z"
   },
   {
    "duration": 180,
    "start_time": "2024-11-24T05:52:36.637Z"
   },
   {
    "duration": 196,
    "start_time": "2024-11-24T05:52:36.819Z"
   },
   {
    "duration": 5,
    "start_time": "2024-11-24T05:52:37.017Z"
   },
   {
    "duration": 211,
    "start_time": "2024-11-24T05:52:37.024Z"
   },
   {
    "duration": 140,
    "start_time": "2024-11-24T05:52:37.236Z"
   },
   {
    "duration": 6,
    "start_time": "2024-11-24T05:52:37.378Z"
   },
   {
    "duration": 32,
    "start_time": "2024-11-24T05:52:37.385Z"
   },
   {
    "duration": 104,
    "start_time": "2024-11-24T05:56:13.192Z"
   },
   {
    "duration": 11,
    "start_time": "2024-11-24T05:56:20.681Z"
   },
   {
    "duration": 3,
    "start_time": "2024-11-24T06:24:54.591Z"
   },
   {
    "duration": 13,
    "start_time": "2024-11-24T06:28:20.850Z"
   },
   {
    "duration": 11,
    "start_time": "2024-11-24T06:29:02.994Z"
   },
   {
    "duration": 9,
    "start_time": "2024-11-24T06:34:32.334Z"
   },
   {
    "duration": 12,
    "start_time": "2024-11-24T06:35:03.176Z"
   },
   {
    "duration": 27,
    "start_time": "2024-11-24T06:35:11.938Z"
   },
   {
    "duration": 12,
    "start_time": "2024-11-24T06:51:21.396Z"
   },
   {
    "duration": 16,
    "start_time": "2024-11-24T06:51:29.594Z"
   },
   {
    "duration": 181,
    "start_time": "2024-11-24T07:10:29.460Z"
   },
   {
    "duration": 60,
    "start_time": "2024-11-24T07:10:59.917Z"
   },
   {
    "duration": 167,
    "start_time": "2024-11-24T07:11:06.636Z"
   },
   {
    "duration": 61,
    "start_time": "2024-11-24T07:33:28.179Z"
   },
   {
    "duration": 281,
    "start_time": "2024-11-24T07:38:44.166Z"
   },
   {
    "duration": 1290,
    "start_time": "2024-11-24T08:25:20.081Z"
   },
   {
    "duration": 4,
    "start_time": "2024-11-24T08:25:21.372Z"
   },
   {
    "duration": 74,
    "start_time": "2024-11-24T08:25:21.377Z"
   },
   {
    "duration": 5,
    "start_time": "2024-11-24T08:25:21.453Z"
   },
   {
    "duration": 34,
    "start_time": "2024-11-24T08:25:21.459Z"
   },
   {
    "duration": 5,
    "start_time": "2024-11-24T08:25:21.495Z"
   },
   {
    "duration": 69,
    "start_time": "2024-11-24T08:25:21.502Z"
   },
   {
    "duration": 5,
    "start_time": "2024-11-24T08:25:21.573Z"
   },
   {
    "duration": 28,
    "start_time": "2024-11-24T08:25:21.580Z"
   },
   {
    "duration": 21,
    "start_time": "2024-11-24T08:25:21.611Z"
   },
   {
    "duration": 37,
    "start_time": "2024-11-24T08:25:21.633Z"
   },
   {
    "duration": 306,
    "start_time": "2024-11-24T08:25:21.672Z"
   },
   {
    "duration": 12,
    "start_time": "2024-11-24T08:25:21.979Z"
   },
   {
    "duration": 288,
    "start_time": "2024-11-24T08:25:21.992Z"
   },
   {
    "duration": 13,
    "start_time": "2024-11-24T08:25:22.282Z"
   },
   {
    "duration": 303,
    "start_time": "2024-11-24T08:25:22.297Z"
   },
   {
    "duration": 330,
    "start_time": "2024-11-24T08:25:22.602Z"
   },
   {
    "duration": 262,
    "start_time": "2024-11-24T08:25:22.934Z"
   },
   {
    "duration": 12,
    "start_time": "2024-11-24T08:25:23.198Z"
   },
   {
    "duration": 347,
    "start_time": "2024-11-24T08:25:23.212Z"
   },
   {
    "duration": 230,
    "start_time": "2024-11-24T08:25:23.561Z"
   },
   {
    "duration": 13,
    "start_time": "2024-11-24T08:25:23.792Z"
   },
   {
    "duration": 437,
    "start_time": "2024-11-24T08:25:23.806Z"
   },
   {
    "duration": 29,
    "start_time": "2024-11-24T08:25:24.245Z"
   },
   {
    "duration": 170,
    "start_time": "2024-11-24T08:25:24.276Z"
   },
   {
    "duration": 6,
    "start_time": "2024-11-24T08:25:24.447Z"
   },
   {
    "duration": 23,
    "start_time": "2024-11-24T08:25:24.454Z"
   },
   {
    "duration": 8,
    "start_time": "2024-11-24T08:25:24.480Z"
   },
   {
    "duration": 197,
    "start_time": "2024-11-24T08:25:24.490Z"
   },
   {
    "duration": 210,
    "start_time": "2024-11-24T08:25:24.689Z"
   },
   {
    "duration": 5,
    "start_time": "2024-11-24T08:25:24.900Z"
   },
   {
    "duration": 223,
    "start_time": "2024-11-24T08:25:24.906Z"
   },
   {
    "duration": 165,
    "start_time": "2024-11-24T08:25:25.131Z"
   },
   {
    "duration": 6,
    "start_time": "2024-11-24T08:25:25.297Z"
   },
   {
    "duration": 47,
    "start_time": "2024-11-24T08:25:25.305Z"
   },
   {
    "duration": 13,
    "start_time": "2024-11-24T08:25:25.354Z"
   },
   {
    "duration": 2,
    "start_time": "2024-11-24T08:25:25.370Z"
   },
   {
    "duration": 10,
    "start_time": "2024-11-24T08:25:25.374Z"
   },
   {
    "duration": 58,
    "start_time": "2024-11-24T08:25:25.386Z"
   },
   {
    "duration": 25,
    "start_time": "2024-11-24T08:25:25.446Z"
   },
   {
    "duration": 20,
    "start_time": "2024-11-24T08:25:25.472Z"
   },
   {
    "duration": 1244,
    "start_time": "2024-11-24T08:43:17.798Z"
   },
   {
    "duration": 4,
    "start_time": "2024-11-24T08:43:19.044Z"
   },
   {
    "duration": 75,
    "start_time": "2024-11-24T08:43:19.049Z"
   },
   {
    "duration": 5,
    "start_time": "2024-11-24T08:43:19.126Z"
   },
   {
    "duration": 29,
    "start_time": "2024-11-24T08:43:19.133Z"
   },
   {
    "duration": 4,
    "start_time": "2024-11-24T08:43:19.164Z"
   },
   {
    "duration": 25,
    "start_time": "2024-11-24T08:43:19.170Z"
   },
   {
    "duration": 6,
    "start_time": "2024-11-24T08:43:19.197Z"
   },
   {
    "duration": 68,
    "start_time": "2024-11-24T08:43:19.205Z"
   },
   {
    "duration": 10,
    "start_time": "2024-11-24T08:43:19.277Z"
   },
   {
    "duration": 22,
    "start_time": "2024-11-24T08:43:19.289Z"
   },
   {
    "duration": 383,
    "start_time": "2024-11-24T08:43:19.313Z"
   },
   {
    "duration": 10,
    "start_time": "2024-11-24T08:43:19.698Z"
   },
   {
    "duration": 319,
    "start_time": "2024-11-24T08:43:19.709Z"
   },
   {
    "duration": 12,
    "start_time": "2024-11-24T08:43:20.030Z"
   },
   {
    "duration": 332,
    "start_time": "2024-11-24T08:43:20.044Z"
   },
   {
    "duration": 329,
    "start_time": "2024-11-24T08:43:20.377Z"
   },
   {
    "duration": 240,
    "start_time": "2024-11-24T08:43:20.708Z"
   },
   {
    "duration": 21,
    "start_time": "2024-11-24T08:43:20.950Z"
   },
   {
    "duration": 383,
    "start_time": "2024-11-24T08:43:20.973Z"
   },
   {
    "duration": 236,
    "start_time": "2024-11-24T08:43:21.358Z"
   },
   {
    "duration": 13,
    "start_time": "2024-11-24T08:43:21.595Z"
   },
   {
    "duration": 451,
    "start_time": "2024-11-24T08:43:21.610Z"
   },
   {
    "duration": 20,
    "start_time": "2024-11-24T08:43:22.063Z"
   },
   {
    "duration": 166,
    "start_time": "2024-11-24T08:43:22.085Z"
   },
   {
    "duration": 5,
    "start_time": "2024-11-24T08:43:22.253Z"
   },
   {
    "duration": 10,
    "start_time": "2024-11-24T08:43:22.270Z"
   },
   {
    "duration": 8,
    "start_time": "2024-11-24T08:43:22.284Z"
   },
   {
    "duration": 188,
    "start_time": "2024-11-24T08:43:22.293Z"
   },
   {
    "duration": 199,
    "start_time": "2024-11-24T08:43:22.483Z"
   },
   {
    "duration": 4,
    "start_time": "2024-11-24T08:43:22.684Z"
   },
   {
    "duration": 231,
    "start_time": "2024-11-24T08:43:22.691Z"
   },
   {
    "duration": 163,
    "start_time": "2024-11-24T08:43:22.924Z"
   },
   {
    "duration": 6,
    "start_time": "2024-11-24T08:43:23.089Z"
   },
   {
    "duration": 27,
    "start_time": "2024-11-24T08:43:23.097Z"
   },
   {
    "duration": 11,
    "start_time": "2024-11-24T08:43:23.126Z"
   },
   {
    "duration": 3,
    "start_time": "2024-11-24T08:43:23.139Z"
   },
   {
    "duration": 13,
    "start_time": "2024-11-24T08:43:23.171Z"
   },
   {
    "duration": 10,
    "start_time": "2024-11-24T08:43:23.186Z"
   },
   {
    "duration": 29,
    "start_time": "2024-11-24T08:43:23.198Z"
   },
   {
    "duration": 13,
    "start_time": "2024-11-24T08:43:23.229Z"
   },
   {
    "duration": 1460,
    "start_time": "2024-11-24T09:10:32.479Z"
   },
   {
    "duration": 5,
    "start_time": "2024-11-24T09:10:33.943Z"
   },
   {
    "duration": 234,
    "start_time": "2024-11-24T09:10:33.956Z"
   },
   {
    "duration": 5,
    "start_time": "2024-11-24T09:10:34.192Z"
   },
   {
    "duration": 86,
    "start_time": "2024-11-24T09:10:34.199Z"
   },
   {
    "duration": 5,
    "start_time": "2024-11-24T09:10:34.287Z"
   },
   {
    "duration": 59,
    "start_time": "2024-11-24T09:10:34.293Z"
   },
   {
    "duration": 8,
    "start_time": "2024-11-24T09:10:34.354Z"
   },
   {
    "duration": 50,
    "start_time": "2024-11-24T09:10:34.363Z"
   },
   {
    "duration": 37,
    "start_time": "2024-11-24T09:10:34.415Z"
   },
   {
    "duration": 24,
    "start_time": "2024-11-24T09:10:34.454Z"
   },
   {
    "duration": 340,
    "start_time": "2024-11-24T09:10:34.480Z"
   },
   {
    "duration": 11,
    "start_time": "2024-11-24T09:10:34.821Z"
   },
   {
    "duration": 302,
    "start_time": "2024-11-24T09:10:34.834Z"
   },
   {
    "duration": 20,
    "start_time": "2024-11-24T09:10:35.137Z"
   },
   {
    "duration": 308,
    "start_time": "2024-11-24T09:10:35.158Z"
   },
   {
    "duration": 490,
    "start_time": "2024-11-24T09:10:35.468Z"
   },
   {
    "duration": 525,
    "start_time": "2024-11-24T09:10:35.959Z"
   },
   {
    "duration": 13,
    "start_time": "2024-11-24T09:10:36.486Z"
   },
   {
    "duration": 618,
    "start_time": "2024-11-24T09:10:36.553Z"
   },
   {
    "duration": 338,
    "start_time": "2024-11-24T09:10:37.172Z"
   },
   {
    "duration": 14,
    "start_time": "2024-11-24T09:10:37.512Z"
   },
   {
    "duration": 446,
    "start_time": "2024-11-24T09:10:37.527Z"
   },
   {
    "duration": 18,
    "start_time": "2024-11-24T09:10:37.975Z"
   },
   {
    "duration": 190,
    "start_time": "2024-11-24T09:10:37.995Z"
   },
   {
    "duration": 6,
    "start_time": "2024-11-24T09:10:38.187Z"
   },
   {
    "duration": 57,
    "start_time": "2024-11-24T09:10:38.195Z"
   },
   {
    "duration": 13,
    "start_time": "2024-11-24T09:10:38.254Z"
   },
   {
    "duration": 189,
    "start_time": "2024-11-24T09:10:38.269Z"
   },
   {
    "duration": 212,
    "start_time": "2024-11-24T09:10:38.460Z"
   },
   {
    "duration": 6,
    "start_time": "2024-11-24T09:10:38.674Z"
   },
   {
    "duration": 229,
    "start_time": "2024-11-24T09:10:38.681Z"
   },
   {
    "duration": 141,
    "start_time": "2024-11-24T09:10:38.911Z"
   },
   {
    "duration": 6,
    "start_time": "2024-11-24T09:10:39.054Z"
   },
   {
    "duration": 97,
    "start_time": "2024-11-24T09:10:39.062Z"
   },
   {
    "duration": 12,
    "start_time": "2024-11-24T09:10:39.160Z"
   },
   {
    "duration": 13,
    "start_time": "2024-11-24T09:10:39.173Z"
   },
   {
    "duration": 17,
    "start_time": "2024-11-24T09:10:39.187Z"
   },
   {
    "duration": 18,
    "start_time": "2024-11-24T09:10:39.206Z"
   },
   {
    "duration": 30,
    "start_time": "2024-11-24T09:10:39.225Z"
   },
   {
    "duration": 14,
    "start_time": "2024-11-24T09:10:39.259Z"
   },
   {
    "duration": 80,
    "start_time": "2024-11-26T07:12:23.049Z"
   },
   {
    "duration": 56,
    "start_time": "2024-11-26T07:12:56.896Z"
   },
   {
    "duration": 53,
    "start_time": "2024-11-26T07:15:39.538Z"
   },
   {
    "duration": 1543,
    "start_time": "2024-11-26T07:16:05.096Z"
   },
   {
    "duration": 3,
    "start_time": "2024-11-26T07:16:06.640Z"
   },
   {
    "duration": 224,
    "start_time": "2024-11-26T07:16:06.645Z"
   },
   {
    "duration": 4,
    "start_time": "2024-11-26T07:16:06.871Z"
   },
   {
    "duration": 38,
    "start_time": "2024-11-26T07:16:06.877Z"
   },
   {
    "duration": 4,
    "start_time": "2024-11-26T07:16:06.916Z"
   },
   {
    "duration": 64,
    "start_time": "2024-11-26T07:16:06.922Z"
   },
   {
    "duration": 5,
    "start_time": "2024-11-26T07:16:06.987Z"
   },
   {
    "duration": 40,
    "start_time": "2024-11-26T07:16:06.993Z"
   },
   {
    "duration": 8,
    "start_time": "2024-11-26T07:16:07.035Z"
   },
   {
    "duration": 21,
    "start_time": "2024-11-26T07:16:07.044Z"
   },
   {
    "duration": 306,
    "start_time": "2024-11-26T07:16:07.067Z"
   },
   {
    "duration": 8,
    "start_time": "2024-11-26T07:16:07.375Z"
   },
   {
    "duration": 263,
    "start_time": "2024-11-26T07:16:07.386Z"
   },
   {
    "duration": 11,
    "start_time": "2024-11-26T07:16:07.650Z"
   },
   {
    "duration": 116,
    "start_time": "2024-11-26T07:16:07.663Z"
   },
   {
    "duration": 0,
    "start_time": "2024-11-26T07:16:07.780Z"
   },
   {
    "duration": 0,
    "start_time": "2024-11-26T07:16:07.781Z"
   },
   {
    "duration": 0,
    "start_time": "2024-11-26T07:16:07.782Z"
   },
   {
    "duration": 0,
    "start_time": "2024-11-26T07:16:07.783Z"
   },
   {
    "duration": 0,
    "start_time": "2024-11-26T07:16:07.785Z"
   },
   {
    "duration": 0,
    "start_time": "2024-11-26T07:16:07.786Z"
   },
   {
    "duration": 0,
    "start_time": "2024-11-26T07:16:07.787Z"
   },
   {
    "duration": 0,
    "start_time": "2024-11-26T07:16:07.788Z"
   },
   {
    "duration": 0,
    "start_time": "2024-11-26T07:16:07.789Z"
   },
   {
    "duration": 0,
    "start_time": "2024-11-26T07:16:07.790Z"
   },
   {
    "duration": 0,
    "start_time": "2024-11-26T07:16:07.791Z"
   },
   {
    "duration": 0,
    "start_time": "2024-11-26T07:16:07.791Z"
   },
   {
    "duration": 0,
    "start_time": "2024-11-26T07:16:07.792Z"
   },
   {
    "duration": 0,
    "start_time": "2024-11-26T07:16:07.793Z"
   },
   {
    "duration": 0,
    "start_time": "2024-11-26T07:16:07.812Z"
   },
   {
    "duration": 0,
    "start_time": "2024-11-26T07:16:07.813Z"
   },
   {
    "duration": 0,
    "start_time": "2024-11-26T07:16:07.814Z"
   },
   {
    "duration": 0,
    "start_time": "2024-11-26T07:16:07.814Z"
   },
   {
    "duration": 0,
    "start_time": "2024-11-26T07:16:07.815Z"
   },
   {
    "duration": 0,
    "start_time": "2024-11-26T07:16:07.816Z"
   },
   {
    "duration": 0,
    "start_time": "2024-11-26T07:16:07.817Z"
   },
   {
    "duration": 0,
    "start_time": "2024-11-26T07:16:07.818Z"
   },
   {
    "duration": 0,
    "start_time": "2024-11-26T07:16:07.819Z"
   },
   {
    "duration": 0,
    "start_time": "2024-11-26T07:16:07.820Z"
   },
   {
    "duration": 0,
    "start_time": "2024-11-26T07:16:07.821Z"
   },
   {
    "duration": 0,
    "start_time": "2024-11-26T07:16:07.822Z"
   },
   {
    "duration": 9,
    "start_time": "2024-11-26T07:16:37.979Z"
   },
   {
    "duration": 70,
    "start_time": "2024-11-26T07:17:42.508Z"
   },
   {
    "duration": 63,
    "start_time": "2024-11-26T07:17:57.228Z"
   },
   {
    "duration": 68,
    "start_time": "2024-11-26T07:18:17.877Z"
   },
   {
    "duration": 10,
    "start_time": "2024-11-26T07:20:21.018Z"
   },
   {
    "duration": 14,
    "start_time": "2024-11-26T07:21:57.664Z"
   },
   {
    "duration": 9,
    "start_time": "2024-11-26T07:22:10.520Z"
   },
   {
    "duration": 11,
    "start_time": "2024-11-26T07:22:41.527Z"
   },
   {
    "duration": 11,
    "start_time": "2024-11-26T07:23:45.673Z"
   },
   {
    "duration": 15,
    "start_time": "2024-11-26T07:25:16.754Z"
   },
   {
    "duration": 14,
    "start_time": "2024-11-26T07:25:45.015Z"
   },
   {
    "duration": 16,
    "start_time": "2024-11-26T07:33:52.705Z"
   },
   {
    "duration": 16,
    "start_time": "2024-11-26T07:35:05.539Z"
   },
   {
    "duration": 16,
    "start_time": "2024-11-26T07:35:27.867Z"
   },
   {
    "duration": 15,
    "start_time": "2024-11-26T07:37:01.533Z"
   },
   {
    "duration": 108,
    "start_time": "2024-11-26T07:42:16.914Z"
   },
   {
    "duration": 16,
    "start_time": "2024-11-26T07:42:44.064Z"
   },
   {
    "duration": 1152,
    "start_time": "2024-11-26T07:44:41.900Z"
   },
   {
    "duration": 3,
    "start_time": "2024-11-26T07:44:43.054Z"
   },
   {
    "duration": 84,
    "start_time": "2024-11-26T07:44:43.058Z"
   },
   {
    "duration": 6,
    "start_time": "2024-11-26T07:44:43.144Z"
   },
   {
    "duration": 42,
    "start_time": "2024-11-26T07:44:43.152Z"
   },
   {
    "duration": 4,
    "start_time": "2024-11-26T07:44:43.196Z"
   },
   {
    "duration": 31,
    "start_time": "2024-11-26T07:44:43.201Z"
   },
   {
    "duration": 4,
    "start_time": "2024-11-26T07:44:43.233Z"
   },
   {
    "duration": 27,
    "start_time": "2024-11-26T07:44:43.239Z"
   },
   {
    "duration": 48,
    "start_time": "2024-11-26T07:44:43.269Z"
   },
   {
    "duration": 12,
    "start_time": "2024-11-26T07:44:43.319Z"
   },
   {
    "duration": 310,
    "start_time": "2024-11-26T07:44:43.333Z"
   },
   {
    "duration": 9,
    "start_time": "2024-11-26T07:44:43.645Z"
   },
   {
    "duration": 271,
    "start_time": "2024-11-26T07:44:43.656Z"
   },
   {
    "duration": 12,
    "start_time": "2024-11-26T07:44:43.929Z"
   },
   {
    "duration": 58,
    "start_time": "2024-11-26T07:44:43.943Z"
   },
   {
    "duration": 0,
    "start_time": "2024-11-26T07:44:44.003Z"
   },
   {
    "duration": 0,
    "start_time": "2024-11-26T07:44:44.004Z"
   },
   {
    "duration": 0,
    "start_time": "2024-11-26T07:44:44.005Z"
   },
   {
    "duration": 0,
    "start_time": "2024-11-26T07:44:44.006Z"
   },
   {
    "duration": 0,
    "start_time": "2024-11-26T07:44:44.007Z"
   },
   {
    "duration": 0,
    "start_time": "2024-11-26T07:44:44.008Z"
   },
   {
    "duration": 0,
    "start_time": "2024-11-26T07:44:44.009Z"
   },
   {
    "duration": 0,
    "start_time": "2024-11-26T07:44:44.010Z"
   },
   {
    "duration": 0,
    "start_time": "2024-11-26T07:44:44.011Z"
   },
   {
    "duration": 0,
    "start_time": "2024-11-26T07:44:44.012Z"
   },
   {
    "duration": 0,
    "start_time": "2024-11-26T07:44:44.013Z"
   },
   {
    "duration": 0,
    "start_time": "2024-11-26T07:44:44.014Z"
   },
   {
    "duration": 0,
    "start_time": "2024-11-26T07:44:44.015Z"
   },
   {
    "duration": 0,
    "start_time": "2024-11-26T07:44:44.016Z"
   },
   {
    "duration": 0,
    "start_time": "2024-11-26T07:44:44.017Z"
   },
   {
    "duration": 0,
    "start_time": "2024-11-26T07:44:44.018Z"
   },
   {
    "duration": 0,
    "start_time": "2024-11-26T07:44:44.019Z"
   },
   {
    "duration": 0,
    "start_time": "2024-11-26T07:44:44.020Z"
   },
   {
    "duration": 0,
    "start_time": "2024-11-26T07:44:44.021Z"
   },
   {
    "duration": 0,
    "start_time": "2024-11-26T07:44:44.022Z"
   },
   {
    "duration": 0,
    "start_time": "2024-11-26T07:44:44.023Z"
   },
   {
    "duration": 0,
    "start_time": "2024-11-26T07:44:44.024Z"
   },
   {
    "duration": 0,
    "start_time": "2024-11-26T07:44:44.025Z"
   },
   {
    "duration": 0,
    "start_time": "2024-11-26T07:44:44.026Z"
   },
   {
    "duration": 0,
    "start_time": "2024-11-26T07:44:44.027Z"
   },
   {
    "duration": 0,
    "start_time": "2024-11-26T07:44:44.028Z"
   },
   {
    "duration": 0,
    "start_time": "2024-11-26T07:44:44.029Z"
   },
   {
    "duration": 0,
    "start_time": "2024-11-26T07:44:44.030Z"
   },
   {
    "duration": 1116,
    "start_time": "2024-11-26T07:45:28.369Z"
   },
   {
    "duration": 4,
    "start_time": "2024-11-26T07:45:29.487Z"
   },
   {
    "duration": 82,
    "start_time": "2024-11-26T07:45:29.493Z"
   },
   {
    "duration": 5,
    "start_time": "2024-11-26T07:45:29.576Z"
   },
   {
    "duration": 31,
    "start_time": "2024-11-26T07:45:29.582Z"
   },
   {
    "duration": 5,
    "start_time": "2024-11-26T07:45:29.614Z"
   },
   {
    "duration": 28,
    "start_time": "2024-11-26T07:45:29.621Z"
   },
   {
    "duration": 4,
    "start_time": "2024-11-26T07:45:29.651Z"
   },
   {
    "duration": 65,
    "start_time": "2024-11-26T07:45:29.657Z"
   },
   {
    "duration": 6,
    "start_time": "2024-11-26T07:45:29.724Z"
   },
   {
    "duration": 8,
    "start_time": "2024-11-26T07:45:29.732Z"
   },
   {
    "duration": 308,
    "start_time": "2024-11-26T07:45:29.742Z"
   },
   {
    "duration": 9,
    "start_time": "2024-11-26T07:45:30.052Z"
   },
   {
    "duration": 301,
    "start_time": "2024-11-26T07:45:30.062Z"
   },
   {
    "duration": 12,
    "start_time": "2024-11-26T07:45:30.365Z"
   },
   {
    "duration": 65,
    "start_time": "2024-11-26T07:45:30.378Z"
   },
   {
    "duration": 0,
    "start_time": "2024-11-26T07:45:30.445Z"
   },
   {
    "duration": 0,
    "start_time": "2024-11-26T07:45:30.446Z"
   },
   {
    "duration": 0,
    "start_time": "2024-11-26T07:45:30.447Z"
   },
   {
    "duration": 0,
    "start_time": "2024-11-26T07:45:30.448Z"
   },
   {
    "duration": 0,
    "start_time": "2024-11-26T07:45:30.449Z"
   },
   {
    "duration": 0,
    "start_time": "2024-11-26T07:45:30.451Z"
   },
   {
    "duration": 0,
    "start_time": "2024-11-26T07:45:30.452Z"
   },
   {
    "duration": 0,
    "start_time": "2024-11-26T07:45:30.452Z"
   },
   {
    "duration": 0,
    "start_time": "2024-11-26T07:45:30.453Z"
   },
   {
    "duration": 0,
    "start_time": "2024-11-26T07:45:30.455Z"
   },
   {
    "duration": 0,
    "start_time": "2024-11-26T07:45:30.456Z"
   },
   {
    "duration": 0,
    "start_time": "2024-11-26T07:45:30.457Z"
   },
   {
    "duration": 0,
    "start_time": "2024-11-26T07:45:30.458Z"
   },
   {
    "duration": 0,
    "start_time": "2024-11-26T07:45:30.459Z"
   },
   {
    "duration": 0,
    "start_time": "2024-11-26T07:45:30.460Z"
   },
   {
    "duration": 0,
    "start_time": "2024-11-26T07:45:30.461Z"
   },
   {
    "duration": 0,
    "start_time": "2024-11-26T07:45:30.462Z"
   },
   {
    "duration": 0,
    "start_time": "2024-11-26T07:45:30.463Z"
   },
   {
    "duration": 0,
    "start_time": "2024-11-26T07:45:30.464Z"
   },
   {
    "duration": 0,
    "start_time": "2024-11-26T07:45:30.465Z"
   },
   {
    "duration": 0,
    "start_time": "2024-11-26T07:45:30.465Z"
   },
   {
    "duration": 0,
    "start_time": "2024-11-26T07:45:30.466Z"
   },
   {
    "duration": 0,
    "start_time": "2024-11-26T07:45:30.467Z"
   },
   {
    "duration": 0,
    "start_time": "2024-11-26T07:45:30.468Z"
   },
   {
    "duration": 0,
    "start_time": "2024-11-26T07:45:30.469Z"
   },
   {
    "duration": 0,
    "start_time": "2024-11-26T07:45:30.470Z"
   },
   {
    "duration": 0,
    "start_time": "2024-11-26T07:45:30.471Z"
   },
   {
    "duration": 0,
    "start_time": "2024-11-26T07:45:30.472Z"
   },
   {
    "duration": 87,
    "start_time": "2024-11-26T07:46:43.850Z"
   },
   {
    "duration": 1158,
    "start_time": "2024-11-26T07:47:04.224Z"
   },
   {
    "duration": 4,
    "start_time": "2024-11-26T07:47:05.383Z"
   },
   {
    "duration": 93,
    "start_time": "2024-11-26T07:47:05.388Z"
   },
   {
    "duration": 5,
    "start_time": "2024-11-26T07:47:05.482Z"
   },
   {
    "duration": 59,
    "start_time": "2024-11-26T07:47:05.488Z"
   },
   {
    "duration": 4,
    "start_time": "2024-11-26T07:47:05.549Z"
   },
   {
    "duration": 66,
    "start_time": "2024-11-26T07:47:05.554Z"
   },
   {
    "duration": 46,
    "start_time": "2024-11-26T07:47:05.622Z"
   },
   {
    "duration": 52,
    "start_time": "2024-11-26T07:47:05.669Z"
   },
   {
    "duration": 6,
    "start_time": "2024-11-26T07:47:05.723Z"
   },
   {
    "duration": 81,
    "start_time": "2024-11-26T07:47:05.731Z"
   },
   {
    "duration": 314,
    "start_time": "2024-11-26T07:47:05.814Z"
   },
   {
    "duration": 9,
    "start_time": "2024-11-26T07:47:06.130Z"
   },
   {
    "duration": 270,
    "start_time": "2024-11-26T07:47:06.140Z"
   },
   {
    "duration": 13,
    "start_time": "2024-11-26T07:47:06.411Z"
   },
   {
    "duration": 69,
    "start_time": "2024-11-26T07:47:06.425Z"
   },
   {
    "duration": 0,
    "start_time": "2024-11-26T07:47:06.496Z"
   },
   {
    "duration": 0,
    "start_time": "2024-11-26T07:47:06.497Z"
   },
   {
    "duration": 0,
    "start_time": "2024-11-26T07:47:06.499Z"
   },
   {
    "duration": 0,
    "start_time": "2024-11-26T07:47:06.500Z"
   },
   {
    "duration": 1,
    "start_time": "2024-11-26T07:47:06.500Z"
   },
   {
    "duration": 0,
    "start_time": "2024-11-26T07:47:06.501Z"
   },
   {
    "duration": 0,
    "start_time": "2024-11-26T07:47:06.502Z"
   },
   {
    "duration": 0,
    "start_time": "2024-11-26T07:47:06.503Z"
   },
   {
    "duration": 0,
    "start_time": "2024-11-26T07:47:06.504Z"
   },
   {
    "duration": 0,
    "start_time": "2024-11-26T07:47:06.505Z"
   },
   {
    "duration": 0,
    "start_time": "2024-11-26T07:47:06.505Z"
   },
   {
    "duration": 0,
    "start_time": "2024-11-26T07:47:06.506Z"
   },
   {
    "duration": 0,
    "start_time": "2024-11-26T07:47:06.507Z"
   },
   {
    "duration": 0,
    "start_time": "2024-11-26T07:47:06.509Z"
   },
   {
    "duration": 0,
    "start_time": "2024-11-26T07:47:06.511Z"
   },
   {
    "duration": 0,
    "start_time": "2024-11-26T07:47:06.512Z"
   },
   {
    "duration": 0,
    "start_time": "2024-11-26T07:47:06.513Z"
   },
   {
    "duration": 0,
    "start_time": "2024-11-26T07:47:06.515Z"
   },
   {
    "duration": 0,
    "start_time": "2024-11-26T07:47:06.516Z"
   },
   {
    "duration": 0,
    "start_time": "2024-11-26T07:47:06.517Z"
   },
   {
    "duration": 0,
    "start_time": "2024-11-26T07:47:06.518Z"
   },
   {
    "duration": 0,
    "start_time": "2024-11-26T07:47:06.519Z"
   },
   {
    "duration": 0,
    "start_time": "2024-11-26T07:47:06.521Z"
   },
   {
    "duration": 0,
    "start_time": "2024-11-26T07:47:06.522Z"
   },
   {
    "duration": 0,
    "start_time": "2024-11-26T07:47:06.523Z"
   },
   {
    "duration": 0,
    "start_time": "2024-11-26T07:47:06.525Z"
   },
   {
    "duration": 0,
    "start_time": "2024-11-26T07:47:06.526Z"
   },
   {
    "duration": 0,
    "start_time": "2024-11-26T07:47:06.527Z"
   },
   {
    "duration": 1216,
    "start_time": "2024-11-26T07:47:46.823Z"
   },
   {
    "duration": 4,
    "start_time": "2024-11-26T07:47:48.041Z"
   },
   {
    "duration": 80,
    "start_time": "2024-11-26T07:47:48.046Z"
   },
   {
    "duration": 5,
    "start_time": "2024-11-26T07:47:48.128Z"
   },
   {
    "duration": 42,
    "start_time": "2024-11-26T07:47:48.134Z"
   },
   {
    "duration": 4,
    "start_time": "2024-11-26T07:47:48.178Z"
   },
   {
    "duration": 43,
    "start_time": "2024-11-26T07:47:48.184Z"
   },
   {
    "duration": 5,
    "start_time": "2024-11-26T07:47:48.228Z"
   },
   {
    "duration": 29,
    "start_time": "2024-11-26T07:47:48.235Z"
   },
   {
    "duration": 6,
    "start_time": "2024-11-26T07:47:48.266Z"
   },
   {
    "duration": 10,
    "start_time": "2024-11-26T07:47:48.312Z"
   },
   {
    "duration": 308,
    "start_time": "2024-11-26T07:47:48.324Z"
   },
   {
    "duration": 11,
    "start_time": "2024-11-26T07:47:48.633Z"
   },
   {
    "duration": 286,
    "start_time": "2024-11-26T07:47:48.645Z"
   },
   {
    "duration": 13,
    "start_time": "2024-11-26T07:47:48.933Z"
   },
   {
    "duration": 11,
    "start_time": "2024-11-26T07:47:48.947Z"
   },
   {
    "duration": 14,
    "start_time": "2024-11-26T07:47:48.960Z"
   },
   {
    "duration": 143,
    "start_time": "2024-11-26T07:47:48.975Z"
   },
   {
    "duration": 258,
    "start_time": "2024-11-26T07:47:49.120Z"
   },
   {
    "duration": 279,
    "start_time": "2024-11-26T07:47:49.379Z"
   },
   {
    "duration": 218,
    "start_time": "2024-11-26T07:47:49.660Z"
   },
   {
    "duration": 9,
    "start_time": "2024-11-26T07:47:49.879Z"
   },
   {
    "duration": 383,
    "start_time": "2024-11-26T07:47:49.890Z"
   },
   {
    "duration": 197,
    "start_time": "2024-11-26T07:47:50.274Z"
   },
   {
    "duration": 12,
    "start_time": "2024-11-26T07:47:50.472Z"
   },
   {
    "duration": 365,
    "start_time": "2024-11-26T07:47:50.485Z"
   },
   {
    "duration": 15,
    "start_time": "2024-11-26T07:47:50.851Z"
   },
   {
    "duration": 188,
    "start_time": "2024-11-26T07:47:50.869Z"
   },
   {
    "duration": 16,
    "start_time": "2024-11-26T07:47:51.059Z"
   },
   {
    "duration": 16,
    "start_time": "2024-11-26T07:47:51.077Z"
   },
   {
    "duration": 23,
    "start_time": "2024-11-26T07:47:51.095Z"
   },
   {
    "duration": 210,
    "start_time": "2024-11-26T07:47:51.119Z"
   },
   {
    "duration": 175,
    "start_time": "2024-11-26T07:47:51.331Z"
   },
   {
    "duration": 5,
    "start_time": "2024-11-26T07:47:51.512Z"
   },
   {
    "duration": 202,
    "start_time": "2024-11-26T07:47:51.518Z"
   },
   {
    "duration": 133,
    "start_time": "2024-11-26T07:47:51.721Z"
   },
   {
    "duration": 5,
    "start_time": "2024-11-26T07:47:51.855Z"
   },
   {
    "duration": 22,
    "start_time": "2024-11-26T07:47:51.862Z"
   },
   {
    "duration": 27,
    "start_time": "2024-11-26T07:47:51.885Z"
   },
   {
    "duration": 2,
    "start_time": "2024-11-26T07:47:51.914Z"
   },
   {
    "duration": 8,
    "start_time": "2024-11-26T07:47:51.918Z"
   },
   {
    "duration": 6,
    "start_time": "2024-11-26T07:47:51.928Z"
   },
   {
    "duration": 19,
    "start_time": "2024-11-26T07:47:51.935Z"
   },
   {
    "duration": 12,
    "start_time": "2024-11-26T07:47:51.955Z"
   },
   {
    "duration": 1123,
    "start_time": "2024-11-26T07:50:09.128Z"
   },
   {
    "duration": 3,
    "start_time": "2024-11-26T07:50:10.253Z"
   },
   {
    "duration": 77,
    "start_time": "2024-11-26T07:50:10.258Z"
   },
   {
    "duration": 5,
    "start_time": "2024-11-26T07:50:10.337Z"
   },
   {
    "duration": 37,
    "start_time": "2024-11-26T07:50:10.344Z"
   },
   {
    "duration": 6,
    "start_time": "2024-11-26T07:50:10.382Z"
   },
   {
    "duration": 46,
    "start_time": "2024-11-26T07:50:10.389Z"
   },
   {
    "duration": 6,
    "start_time": "2024-11-26T07:50:10.436Z"
   },
   {
    "duration": 70,
    "start_time": "2024-11-26T07:50:10.444Z"
   },
   {
    "duration": 7,
    "start_time": "2024-11-26T07:50:10.516Z"
   },
   {
    "duration": 14,
    "start_time": "2024-11-26T07:50:10.524Z"
   },
   {
    "duration": 306,
    "start_time": "2024-11-26T07:50:10.539Z"
   },
   {
    "duration": 10,
    "start_time": "2024-11-26T07:50:10.846Z"
   },
   {
    "duration": 303,
    "start_time": "2024-11-26T07:50:10.859Z"
   },
   {
    "duration": 12,
    "start_time": "2024-11-26T07:50:11.163Z"
   },
   {
    "duration": 25,
    "start_time": "2024-11-26T07:50:11.176Z"
   },
   {
    "duration": 19,
    "start_time": "2024-11-26T07:50:11.211Z"
   },
   {
    "duration": 125,
    "start_time": "2024-11-26T07:50:11.232Z"
   },
   {
    "duration": 261,
    "start_time": "2024-11-26T07:50:11.359Z"
   },
   {
    "duration": 290,
    "start_time": "2024-11-26T07:50:11.622Z"
   },
   {
    "duration": 259,
    "start_time": "2024-11-26T07:50:11.914Z"
   },
   {
    "duration": 10,
    "start_time": "2024-11-26T07:50:12.175Z"
   },
   {
    "duration": 337,
    "start_time": "2024-11-26T07:50:12.187Z"
   },
   {
    "duration": 193,
    "start_time": "2024-11-26T07:50:12.525Z"
   },
   {
    "duration": 15,
    "start_time": "2024-11-26T07:50:12.720Z"
   },
   {
    "duration": 407,
    "start_time": "2024-11-26T07:50:12.737Z"
   },
   {
    "duration": 15,
    "start_time": "2024-11-26T07:50:13.146Z"
   },
   {
    "duration": 196,
    "start_time": "2024-11-26T07:50:13.162Z"
   },
   {
    "duration": 5,
    "start_time": "2024-11-26T07:50:13.359Z"
   },
   {
    "duration": 14,
    "start_time": "2024-11-26T07:50:13.366Z"
   },
   {
    "duration": 7,
    "start_time": "2024-11-26T07:50:13.382Z"
   },
   {
    "duration": 189,
    "start_time": "2024-11-26T07:50:13.390Z"
   },
   {
    "duration": 165,
    "start_time": "2024-11-26T07:50:13.581Z"
   },
   {
    "duration": 5,
    "start_time": "2024-11-26T07:50:13.748Z"
   },
   {
    "duration": 227,
    "start_time": "2024-11-26T07:50:13.755Z"
   },
   {
    "duration": 134,
    "start_time": "2024-11-26T07:50:13.984Z"
   },
   {
    "duration": 6,
    "start_time": "2024-11-26T07:50:14.120Z"
   },
   {
    "duration": 49,
    "start_time": "2024-11-26T07:50:14.127Z"
   },
   {
    "duration": 10,
    "start_time": "2024-11-26T07:50:14.178Z"
   },
   {
    "duration": 3,
    "start_time": "2024-11-26T07:50:14.189Z"
   },
   {
    "duration": 10,
    "start_time": "2024-11-26T07:50:14.211Z"
   },
   {
    "duration": 15,
    "start_time": "2024-11-26T07:50:14.222Z"
   },
   {
    "duration": 32,
    "start_time": "2024-11-26T07:50:14.238Z"
   },
   {
    "duration": 12,
    "start_time": "2024-11-26T07:50:14.271Z"
   },
   {
    "duration": 1162,
    "start_time": "2024-11-26T07:51:27.284Z"
   },
   {
    "duration": 3,
    "start_time": "2024-11-26T07:51:28.449Z"
   },
   {
    "duration": 76,
    "start_time": "2024-11-26T07:51:28.453Z"
   },
   {
    "duration": 5,
    "start_time": "2024-11-26T07:51:28.531Z"
   },
   {
    "duration": 29,
    "start_time": "2024-11-26T07:51:28.537Z"
   },
   {
    "duration": 5,
    "start_time": "2024-11-26T07:51:28.567Z"
   },
   {
    "duration": 49,
    "start_time": "2024-11-26T07:51:28.573Z"
   },
   {
    "duration": 5,
    "start_time": "2024-11-26T07:51:28.623Z"
   },
   {
    "duration": 30,
    "start_time": "2024-11-26T07:51:28.629Z"
   },
   {
    "duration": 7,
    "start_time": "2024-11-26T07:51:28.661Z"
   },
   {
    "duration": 47,
    "start_time": "2024-11-26T07:51:28.669Z"
   },
   {
    "duration": 295,
    "start_time": "2024-11-26T07:51:28.717Z"
   },
   {
    "duration": 11,
    "start_time": "2024-11-26T07:51:29.014Z"
   },
   {
    "duration": 302,
    "start_time": "2024-11-26T07:51:29.026Z"
   },
   {
    "duration": 12,
    "start_time": "2024-11-26T07:51:29.330Z"
   },
   {
    "duration": 10,
    "start_time": "2024-11-26T07:51:29.344Z"
   },
   {
    "duration": 15,
    "start_time": "2024-11-26T07:51:29.356Z"
   },
   {
    "duration": 151,
    "start_time": "2024-11-26T07:51:29.372Z"
   },
   {
    "duration": 265,
    "start_time": "2024-11-26T07:51:29.524Z"
   },
   {
    "duration": 297,
    "start_time": "2024-11-26T07:51:29.791Z"
   },
   {
    "duration": 230,
    "start_time": "2024-11-26T07:51:30.091Z"
   },
   {
    "duration": 11,
    "start_time": "2024-11-26T07:51:30.322Z"
   },
   {
    "duration": 341,
    "start_time": "2024-11-26T07:51:30.334Z"
   },
   {
    "duration": 200,
    "start_time": "2024-11-26T07:51:30.677Z"
   },
   {
    "duration": 12,
    "start_time": "2024-11-26T07:51:30.878Z"
   },
   {
    "duration": 404,
    "start_time": "2024-11-26T07:51:30.891Z"
   },
   {
    "duration": 24,
    "start_time": "2024-11-26T07:51:31.297Z"
   },
   {
    "duration": 292,
    "start_time": "2024-11-26T07:51:31.325Z"
   },
   {
    "duration": 4,
    "start_time": "2024-11-26T07:51:31.619Z"
   },
   {
    "duration": 10,
    "start_time": "2024-11-26T07:51:31.625Z"
   },
   {
    "duration": 33,
    "start_time": "2024-11-26T07:51:31.636Z"
   },
   {
    "duration": 312,
    "start_time": "2024-11-26T07:51:31.712Z"
   },
   {
    "duration": 313,
    "start_time": "2024-11-26T07:51:32.026Z"
   },
   {
    "duration": 4,
    "start_time": "2024-11-26T07:51:32.340Z"
   },
   {
    "duration": 406,
    "start_time": "2024-11-26T07:51:32.346Z"
   },
   {
    "duration": 178,
    "start_time": "2024-11-26T07:51:32.754Z"
   },
   {
    "duration": 6,
    "start_time": "2024-11-26T07:51:32.933Z"
   },
   {
    "duration": 46,
    "start_time": "2024-11-26T07:51:32.940Z"
   },
   {
    "duration": 24,
    "start_time": "2024-11-26T07:51:32.988Z"
   },
   {
    "duration": 3,
    "start_time": "2024-11-26T07:51:33.013Z"
   },
   {
    "duration": 23,
    "start_time": "2024-11-26T07:51:33.017Z"
   },
   {
    "duration": 9,
    "start_time": "2024-11-26T07:51:33.041Z"
   },
   {
    "duration": 55,
    "start_time": "2024-11-26T07:51:33.051Z"
   },
   {
    "duration": 14,
    "start_time": "2024-11-26T07:51:33.108Z"
   },
   {
    "duration": 1143,
    "start_time": "2024-11-26T07:51:51.404Z"
   },
   {
    "duration": 3,
    "start_time": "2024-11-26T07:51:52.549Z"
   },
   {
    "duration": 78,
    "start_time": "2024-11-26T07:51:52.553Z"
   },
   {
    "duration": 4,
    "start_time": "2024-11-26T07:51:52.633Z"
   },
   {
    "duration": 33,
    "start_time": "2024-11-26T07:51:52.639Z"
   },
   {
    "duration": 4,
    "start_time": "2024-11-26T07:51:52.674Z"
   },
   {
    "duration": 54,
    "start_time": "2024-11-26T07:51:52.679Z"
   },
   {
    "duration": 4,
    "start_time": "2024-11-26T07:51:52.735Z"
   },
   {
    "duration": 27,
    "start_time": "2024-11-26T07:51:52.741Z"
   },
   {
    "duration": 10,
    "start_time": "2024-11-26T07:51:52.814Z"
   },
   {
    "duration": 15,
    "start_time": "2024-11-26T07:51:52.826Z"
   },
   {
    "duration": 313,
    "start_time": "2024-11-26T07:51:52.843Z"
   },
   {
    "duration": 10,
    "start_time": "2024-11-26T07:51:53.157Z"
   },
   {
    "duration": 294,
    "start_time": "2024-11-26T07:51:53.168Z"
   },
   {
    "duration": 12,
    "start_time": "2024-11-26T07:51:53.464Z"
   },
   {
    "duration": 33,
    "start_time": "2024-11-26T07:51:53.478Z"
   },
   {
    "duration": 0,
    "start_time": "2024-11-26T07:51:53.513Z"
   },
   {
    "duration": 0,
    "start_time": "2024-11-26T07:51:53.514Z"
   },
   {
    "duration": 0,
    "start_time": "2024-11-26T07:51:53.515Z"
   },
   {
    "duration": 0,
    "start_time": "2024-11-26T07:51:53.516Z"
   },
   {
    "duration": 0,
    "start_time": "2024-11-26T07:51:53.517Z"
   },
   {
    "duration": 0,
    "start_time": "2024-11-26T07:51:53.518Z"
   },
   {
    "duration": 0,
    "start_time": "2024-11-26T07:51:53.519Z"
   },
   {
    "duration": 0,
    "start_time": "2024-11-26T07:51:53.520Z"
   },
   {
    "duration": 0,
    "start_time": "2024-11-26T07:51:53.521Z"
   },
   {
    "duration": 0,
    "start_time": "2024-11-26T07:51:53.522Z"
   },
   {
    "duration": 0,
    "start_time": "2024-11-26T07:51:53.523Z"
   },
   {
    "duration": 0,
    "start_time": "2024-11-26T07:51:53.524Z"
   },
   {
    "duration": 0,
    "start_time": "2024-11-26T07:51:53.525Z"
   },
   {
    "duration": 0,
    "start_time": "2024-11-26T07:51:53.526Z"
   },
   {
    "duration": 1,
    "start_time": "2024-11-26T07:51:53.526Z"
   },
   {
    "duration": 0,
    "start_time": "2024-11-26T07:51:53.527Z"
   },
   {
    "duration": 0,
    "start_time": "2024-11-26T07:51:53.528Z"
   },
   {
    "duration": 0,
    "start_time": "2024-11-26T07:51:53.529Z"
   },
   {
    "duration": 0,
    "start_time": "2024-11-26T07:51:53.530Z"
   },
   {
    "duration": 0,
    "start_time": "2024-11-26T07:51:53.531Z"
   },
   {
    "duration": 0,
    "start_time": "2024-11-26T07:51:53.532Z"
   },
   {
    "duration": 0,
    "start_time": "2024-11-26T07:51:53.533Z"
   },
   {
    "duration": 0,
    "start_time": "2024-11-26T07:51:53.534Z"
   },
   {
    "duration": 0,
    "start_time": "2024-11-26T07:51:53.535Z"
   },
   {
    "duration": 0,
    "start_time": "2024-11-26T07:51:53.536Z"
   },
   {
    "duration": 0,
    "start_time": "2024-11-26T07:51:53.537Z"
   },
   {
    "duration": 0,
    "start_time": "2024-11-26T07:51:53.538Z"
   },
   {
    "duration": 0,
    "start_time": "2024-11-26T07:51:53.539Z"
   },
   {
    "duration": 1401,
    "start_time": "2024-11-26T07:52:22.367Z"
   },
   {
    "duration": 2,
    "start_time": "2024-11-26T07:52:23.770Z"
   },
   {
    "duration": 91,
    "start_time": "2024-11-26T07:52:23.774Z"
   },
   {
    "duration": 4,
    "start_time": "2024-11-26T07:52:23.867Z"
   },
   {
    "duration": 44,
    "start_time": "2024-11-26T07:52:23.872Z"
   },
   {
    "duration": 4,
    "start_time": "2024-11-26T07:52:23.918Z"
   },
   {
    "duration": 38,
    "start_time": "2024-11-26T07:52:23.923Z"
   },
   {
    "duration": 22,
    "start_time": "2024-11-26T07:52:23.962Z"
   },
   {
    "duration": 60,
    "start_time": "2024-11-26T07:52:23.985Z"
   },
   {
    "duration": 12,
    "start_time": "2024-11-26T07:52:24.047Z"
   },
   {
    "duration": 27,
    "start_time": "2024-11-26T07:52:24.060Z"
   },
   {
    "duration": 289,
    "start_time": "2024-11-26T07:52:24.089Z"
   },
   {
    "duration": 10,
    "start_time": "2024-11-26T07:52:24.379Z"
   },
   {
    "duration": 284,
    "start_time": "2024-11-26T07:52:24.390Z"
   },
   {
    "duration": 12,
    "start_time": "2024-11-26T07:52:24.675Z"
   },
   {
    "duration": 27,
    "start_time": "2024-11-26T07:52:24.689Z"
   },
   {
    "duration": 16,
    "start_time": "2024-11-26T07:52:24.717Z"
   },
   {
    "duration": 146,
    "start_time": "2024-11-26T07:52:24.734Z"
   },
   {
    "duration": 300,
    "start_time": "2024-11-26T07:52:24.882Z"
   },
   {
    "duration": 291,
    "start_time": "2024-11-26T07:52:25.183Z"
   },
   {
    "duration": 228,
    "start_time": "2024-11-26T07:52:25.476Z"
   },
   {
    "duration": 10,
    "start_time": "2024-11-26T07:52:25.711Z"
   },
   {
    "duration": 315,
    "start_time": "2024-11-26T07:52:25.723Z"
   },
   {
    "duration": 207,
    "start_time": "2024-11-26T07:52:26.039Z"
   },
   {
    "duration": 16,
    "start_time": "2024-11-26T07:52:26.253Z"
   },
   {
    "duration": 378,
    "start_time": "2024-11-26T07:52:26.270Z"
   },
   {
    "duration": 15,
    "start_time": "2024-11-26T07:52:26.650Z"
   },
   {
    "duration": 179,
    "start_time": "2024-11-26T07:52:26.668Z"
   },
   {
    "duration": 5,
    "start_time": "2024-11-26T07:52:26.849Z"
   },
   {
    "duration": 62,
    "start_time": "2024-11-26T07:52:26.855Z"
   },
   {
    "duration": 14,
    "start_time": "2024-11-26T07:52:26.918Z"
   },
   {
    "duration": 187,
    "start_time": "2024-11-26T07:52:26.933Z"
   },
   {
    "duration": 193,
    "start_time": "2024-11-26T07:52:27.122Z"
   },
   {
    "duration": 4,
    "start_time": "2024-11-26T07:52:27.317Z"
   },
   {
    "duration": 215,
    "start_time": "2024-11-26T07:52:27.323Z"
   },
   {
    "duration": 157,
    "start_time": "2024-11-26T07:52:27.540Z"
   },
   {
    "duration": 13,
    "start_time": "2024-11-26T07:52:27.699Z"
   },
   {
    "duration": 19,
    "start_time": "2024-11-26T07:52:27.714Z"
   },
   {
    "duration": 10,
    "start_time": "2024-11-26T07:52:27.735Z"
   },
   {
    "duration": 15,
    "start_time": "2024-11-26T07:52:27.746Z"
   },
   {
    "duration": 30,
    "start_time": "2024-11-26T07:52:27.762Z"
   },
   {
    "duration": 12,
    "start_time": "2024-11-26T07:52:27.793Z"
   },
   {
    "duration": 23,
    "start_time": "2024-11-26T07:52:27.806Z"
   },
   {
    "duration": 14,
    "start_time": "2024-11-26T07:52:27.830Z"
   },
   {
    "duration": 1212,
    "start_time": "2024-11-26T07:59:06.088Z"
   },
   {
    "duration": 3,
    "start_time": "2024-11-26T07:59:07.302Z"
   },
   {
    "duration": 72,
    "start_time": "2024-11-26T07:59:07.312Z"
   },
   {
    "duration": 5,
    "start_time": "2024-11-26T07:59:07.386Z"
   },
   {
    "duration": 70,
    "start_time": "2024-11-26T07:59:07.393Z"
   },
   {
    "duration": 16,
    "start_time": "2024-11-26T07:59:07.465Z"
   },
   {
    "duration": 36,
    "start_time": "2024-11-26T07:59:07.482Z"
   },
   {
    "duration": 6,
    "start_time": "2024-11-26T07:59:07.520Z"
   },
   {
    "duration": 26,
    "start_time": "2024-11-26T07:59:07.528Z"
   },
   {
    "duration": 13,
    "start_time": "2024-11-26T07:59:07.556Z"
   },
   {
    "duration": 44,
    "start_time": "2024-11-26T07:59:07.570Z"
   },
   {
    "duration": 290,
    "start_time": "2024-11-26T07:59:07.615Z"
   },
   {
    "duration": 13,
    "start_time": "2024-11-26T07:59:07.906Z"
   },
   {
    "duration": 293,
    "start_time": "2024-11-26T07:59:07.921Z"
   },
   {
    "duration": 12,
    "start_time": "2024-11-26T07:59:08.216Z"
   },
   {
    "duration": 62,
    "start_time": "2024-11-26T07:59:08.229Z"
   },
   {
    "duration": 17,
    "start_time": "2024-11-26T07:59:08.293Z"
   },
   {
    "duration": 106,
    "start_time": "2024-11-26T07:59:08.311Z"
   },
   {
    "duration": 302,
    "start_time": "2024-11-26T07:59:08.419Z"
   },
   {
    "duration": 303,
    "start_time": "2024-11-26T07:59:08.723Z"
   },
   {
    "duration": 223,
    "start_time": "2024-11-26T07:59:09.028Z"
   },
   {
    "duration": 11,
    "start_time": "2024-11-26T07:59:09.253Z"
   },
   {
    "duration": 311,
    "start_time": "2024-11-26T07:59:09.265Z"
   },
   {
    "duration": 198,
    "start_time": "2024-11-26T07:59:09.577Z"
   },
   {
    "duration": 11,
    "start_time": "2024-11-26T07:59:09.776Z"
   },
   {
    "duration": 382,
    "start_time": "2024-11-26T07:59:09.789Z"
   },
   {
    "duration": 16,
    "start_time": "2024-11-26T07:59:10.176Z"
   },
   {
    "duration": 195,
    "start_time": "2024-11-26T07:59:10.193Z"
   },
   {
    "duration": 5,
    "start_time": "2024-11-26T07:59:10.389Z"
   },
   {
    "duration": 20,
    "start_time": "2024-11-26T07:59:10.395Z"
   },
   {
    "duration": 7,
    "start_time": "2024-11-26T07:59:10.416Z"
   },
   {
    "duration": 170,
    "start_time": "2024-11-26T07:59:10.424Z"
   },
   {
    "duration": 164,
    "start_time": "2024-11-26T07:59:10.596Z"
   },
   {
    "duration": 4,
    "start_time": "2024-11-26T07:59:10.762Z"
   },
   {
    "duration": 236,
    "start_time": "2024-11-26T07:59:10.768Z"
   },
   {
    "duration": 140,
    "start_time": "2024-11-26T07:59:11.006Z"
   },
   {
    "duration": 7,
    "start_time": "2024-11-26T07:59:11.148Z"
   },
   {
    "duration": 22,
    "start_time": "2024-11-26T07:59:11.157Z"
   },
   {
    "duration": 37,
    "start_time": "2024-11-26T07:59:11.181Z"
   },
   {
    "duration": 3,
    "start_time": "2024-11-26T07:59:11.219Z"
   },
   {
    "duration": 10,
    "start_time": "2024-11-26T07:59:11.224Z"
   },
   {
    "duration": 11,
    "start_time": "2024-11-26T07:59:11.236Z"
   },
   {
    "duration": 27,
    "start_time": "2024-11-26T07:59:11.248Z"
   },
   {
    "duration": 43,
    "start_time": "2024-11-26T07:59:11.277Z"
   },
   {
    "duration": 56,
    "start_time": "2024-11-26T08:06:11.344Z"
   },
   {
    "duration": 4,
    "start_time": "2024-11-26T08:06:16.104Z"
   },
   {
    "duration": 4,
    "start_time": "2024-11-26T08:06:36.169Z"
   },
   {
    "duration": 3,
    "start_time": "2024-11-26T08:25:33.383Z"
   },
   {
    "duration": 1162,
    "start_time": "2024-11-26T08:39:54.381Z"
   },
   {
    "duration": 4,
    "start_time": "2024-11-26T08:39:55.545Z"
   },
   {
    "duration": 72,
    "start_time": "2024-11-26T08:39:55.551Z"
   },
   {
    "duration": 6,
    "start_time": "2024-11-26T08:39:55.625Z"
   },
   {
    "duration": 30,
    "start_time": "2024-11-26T08:39:55.632Z"
   },
   {
    "duration": 4,
    "start_time": "2024-11-26T08:39:55.663Z"
   },
   {
    "duration": 44,
    "start_time": "2024-11-26T08:39:55.668Z"
   },
   {
    "duration": 5,
    "start_time": "2024-11-26T08:39:55.713Z"
   },
   {
    "duration": 35,
    "start_time": "2024-11-26T08:39:55.719Z"
   },
   {
    "duration": 7,
    "start_time": "2024-11-26T08:39:55.758Z"
   },
   {
    "duration": 10,
    "start_time": "2024-11-26T08:39:55.766Z"
   },
   {
    "duration": 280,
    "start_time": "2024-11-26T08:39:55.812Z"
   },
   {
    "duration": 19,
    "start_time": "2024-11-26T08:39:56.094Z"
   },
   {
    "duration": 259,
    "start_time": "2024-11-26T08:39:56.114Z"
   },
   {
    "duration": 13,
    "start_time": "2024-11-26T08:39:56.375Z"
   },
   {
    "duration": 41,
    "start_time": "2024-11-26T08:39:56.390Z"
   },
   {
    "duration": 14,
    "start_time": "2024-11-26T08:39:56.432Z"
   },
   {
    "duration": 108,
    "start_time": "2024-11-26T08:39:56.448Z"
   },
   {
    "duration": 255,
    "start_time": "2024-11-26T08:39:56.557Z"
   },
   {
    "duration": 357,
    "start_time": "2024-11-26T08:39:56.813Z"
   },
   {
    "duration": 223,
    "start_time": "2024-11-26T08:39:57.172Z"
   },
   {
    "duration": 20,
    "start_time": "2024-11-26T08:39:57.396Z"
   },
   {
    "duration": 319,
    "start_time": "2024-11-26T08:39:57.418Z"
   },
   {
    "duration": 193,
    "start_time": "2024-11-26T08:39:57.738Z"
   },
   {
    "duration": 12,
    "start_time": "2024-11-26T08:39:57.932Z"
   },
   {
    "duration": 392,
    "start_time": "2024-11-26T08:39:57.946Z"
   },
   {
    "duration": 13,
    "start_time": "2024-11-26T08:39:58.340Z"
   },
   {
    "duration": 208,
    "start_time": "2024-11-26T08:39:58.356Z"
   },
   {
    "duration": 5,
    "start_time": "2024-11-26T08:39:58.565Z"
   },
   {
    "duration": 9,
    "start_time": "2024-11-26T08:39:58.571Z"
   },
   {
    "duration": 31,
    "start_time": "2024-11-26T08:39:58.582Z"
   },
   {
    "duration": 156,
    "start_time": "2024-11-26T08:39:58.614Z"
   },
   {
    "duration": 172,
    "start_time": "2024-11-26T08:39:58.771Z"
   },
   {
    "duration": 4,
    "start_time": "2024-11-26T08:39:58.945Z"
   },
   {
    "duration": 212,
    "start_time": "2024-11-26T08:39:58.950Z"
   },
   {
    "duration": 123,
    "start_time": "2024-11-26T08:39:59.163Z"
   },
   {
    "duration": 5,
    "start_time": "2024-11-26T08:39:59.288Z"
   },
   {
    "duration": 35,
    "start_time": "2024-11-26T08:39:59.294Z"
   },
   {
    "duration": 9,
    "start_time": "2024-11-26T08:39:59.331Z"
   },
   {
    "duration": 12,
    "start_time": "2024-11-26T08:39:59.342Z"
   },
   {
    "duration": 9,
    "start_time": "2024-11-26T08:39:59.355Z"
   },
   {
    "duration": 9,
    "start_time": "2024-11-26T08:39:59.366Z"
   },
   {
    "duration": 64,
    "start_time": "2024-11-26T08:39:59.376Z"
   },
   {
    "duration": 12,
    "start_time": "2024-11-26T08:39:59.442Z"
   },
   {
    "duration": 1142,
    "start_time": "2024-11-26T08:43:14.933Z"
   },
   {
    "duration": 2,
    "start_time": "2024-11-26T08:43:16.077Z"
   },
   {
    "duration": 97,
    "start_time": "2024-11-26T08:43:16.081Z"
   },
   {
    "duration": 4,
    "start_time": "2024-11-26T08:43:16.180Z"
   },
   {
    "duration": 32,
    "start_time": "2024-11-26T08:43:16.185Z"
   },
   {
    "duration": 5,
    "start_time": "2024-11-26T08:43:16.218Z"
   },
   {
    "duration": 34,
    "start_time": "2024-11-26T08:43:16.225Z"
   },
   {
    "duration": 5,
    "start_time": "2024-11-26T08:43:16.260Z"
   },
   {
    "duration": 59,
    "start_time": "2024-11-26T08:43:16.266Z"
   },
   {
    "duration": 7,
    "start_time": "2024-11-26T08:43:16.327Z"
   },
   {
    "duration": 25,
    "start_time": "2024-11-26T08:43:16.335Z"
   },
   {
    "duration": 313,
    "start_time": "2024-11-26T08:43:16.361Z"
   },
   {
    "duration": 10,
    "start_time": "2024-11-26T08:43:16.675Z"
   },
   {
    "duration": 283,
    "start_time": "2024-11-26T08:43:16.686Z"
   },
   {
    "duration": 14,
    "start_time": "2024-11-26T08:43:16.971Z"
   },
   {
    "duration": 32,
    "start_time": "2024-11-26T08:43:16.987Z"
   },
   {
    "duration": 18,
    "start_time": "2024-11-26T08:43:17.021Z"
   },
   {
    "duration": 204,
    "start_time": "2024-11-26T08:43:17.041Z"
   },
   {
    "duration": 277,
    "start_time": "2024-11-26T08:43:17.247Z"
   },
   {
    "duration": 282,
    "start_time": "2024-11-26T08:43:17.525Z"
   },
   {
    "duration": 216,
    "start_time": "2024-11-26T08:43:17.808Z"
   },
   {
    "duration": 10,
    "start_time": "2024-11-26T08:43:18.026Z"
   },
   {
    "duration": 324,
    "start_time": "2024-11-26T08:43:18.037Z"
   },
   {
    "duration": 201,
    "start_time": "2024-11-26T08:43:18.363Z"
   },
   {
    "duration": 13,
    "start_time": "2024-11-26T08:43:18.565Z"
   },
   {
    "duration": 384,
    "start_time": "2024-11-26T08:43:18.579Z"
   },
   {
    "duration": 22,
    "start_time": "2024-11-26T08:43:18.965Z"
   },
   {
    "duration": 191,
    "start_time": "2024-11-26T08:43:18.991Z"
   },
   {
    "duration": 5,
    "start_time": "2024-11-26T08:43:19.183Z"
   },
   {
    "duration": 30,
    "start_time": "2024-11-26T08:43:19.190Z"
   },
   {
    "duration": 15,
    "start_time": "2024-11-26T08:43:19.222Z"
   },
   {
    "duration": 177,
    "start_time": "2024-11-26T08:43:19.239Z"
   },
   {
    "duration": 167,
    "start_time": "2024-11-26T08:43:19.418Z"
   },
   {
    "duration": 5,
    "start_time": "2024-11-26T08:43:19.586Z"
   },
   {
    "duration": 222,
    "start_time": "2024-11-26T08:43:19.593Z"
   },
   {
    "duration": 135,
    "start_time": "2024-11-26T08:43:19.816Z"
   },
   {
    "duration": 5,
    "start_time": "2024-11-26T08:43:19.953Z"
   },
   {
    "duration": 24,
    "start_time": "2024-11-26T08:43:19.960Z"
   },
   {
    "duration": 31,
    "start_time": "2024-11-26T08:43:19.986Z"
   },
   {
    "duration": 2,
    "start_time": "2024-11-26T08:43:20.019Z"
   },
   {
    "duration": 22,
    "start_time": "2024-11-26T08:43:20.023Z"
   },
   {
    "duration": 13,
    "start_time": "2024-11-26T08:43:20.046Z"
   },
   {
    "duration": 25,
    "start_time": "2024-11-26T08:43:20.061Z"
   },
   {
    "duration": 30,
    "start_time": "2024-11-26T08:43:20.088Z"
   },
   {
    "duration": 1521,
    "start_time": "2024-11-26T13:11:04.293Z"
   },
   {
    "duration": 3,
    "start_time": "2024-11-26T13:11:05.816Z"
   },
   {
    "duration": 271,
    "start_time": "2024-11-26T13:11:05.821Z"
   },
   {
    "duration": 6,
    "start_time": "2024-11-26T13:11:06.095Z"
   },
   {
    "duration": 101,
    "start_time": "2024-11-26T13:11:06.103Z"
   },
   {
    "duration": 5,
    "start_time": "2024-11-26T13:11:06.206Z"
   },
   {
    "duration": 49,
    "start_time": "2024-11-26T13:11:06.213Z"
   },
   {
    "duration": 4,
    "start_time": "2024-11-26T13:11:06.264Z"
   },
   {
    "duration": 61,
    "start_time": "2024-11-26T13:11:06.270Z"
   },
   {
    "duration": 7,
    "start_time": "2024-11-26T13:11:06.334Z"
   },
   {
    "duration": 20,
    "start_time": "2024-11-26T13:11:06.343Z"
   },
   {
    "duration": 316,
    "start_time": "2024-11-26T13:11:06.365Z"
   },
   {
    "duration": 21,
    "start_time": "2024-11-26T13:11:06.683Z"
   },
   {
    "duration": 287,
    "start_time": "2024-11-26T13:11:06.705Z"
   },
   {
    "duration": 14,
    "start_time": "2024-11-26T13:11:06.998Z"
   },
   {
    "duration": 37,
    "start_time": "2024-11-26T13:11:07.014Z"
   },
   {
    "duration": 34,
    "start_time": "2024-11-26T13:11:07.053Z"
   },
   {
    "duration": 129,
    "start_time": "2024-11-26T13:11:07.089Z"
   },
   {
    "duration": 285,
    "start_time": "2024-11-26T13:11:07.220Z"
   },
   {
    "duration": 339,
    "start_time": "2024-11-26T13:11:07.507Z"
   },
   {
    "duration": 253,
    "start_time": "2024-11-26T13:11:07.848Z"
   },
   {
    "duration": 11,
    "start_time": "2024-11-26T13:11:08.103Z"
   },
   {
    "duration": 392,
    "start_time": "2024-11-26T13:11:08.116Z"
   },
   {
    "duration": 232,
    "start_time": "2024-11-26T13:11:08.510Z"
   },
   {
    "duration": 13,
    "start_time": "2024-11-26T13:11:08.744Z"
   },
   {
    "duration": 393,
    "start_time": "2024-11-26T13:11:08.759Z"
   },
   {
    "duration": 20,
    "start_time": "2024-11-26T13:11:09.154Z"
   },
   {
    "duration": 207,
    "start_time": "2024-11-26T13:11:09.178Z"
   },
   {
    "duration": 13,
    "start_time": "2024-11-26T13:11:09.386Z"
   },
   {
    "duration": 12,
    "start_time": "2024-11-26T13:11:09.400Z"
   },
   {
    "duration": 7,
    "start_time": "2024-11-26T13:11:09.413Z"
   },
   {
    "duration": 187,
    "start_time": "2024-11-26T13:11:09.422Z"
   },
   {
    "duration": 205,
    "start_time": "2024-11-26T13:11:09.611Z"
   },
   {
    "duration": 5,
    "start_time": "2024-11-26T13:11:09.817Z"
   },
   {
    "duration": 234,
    "start_time": "2024-11-26T13:11:09.824Z"
   },
   {
    "duration": 131,
    "start_time": "2024-11-26T13:11:10.060Z"
   },
   {
    "duration": 8,
    "start_time": "2024-11-26T13:11:10.193Z"
   },
   {
    "duration": 29,
    "start_time": "2024-11-26T13:11:10.202Z"
   },
   {
    "duration": 11,
    "start_time": "2024-11-26T13:11:10.232Z"
   },
   {
    "duration": 3,
    "start_time": "2024-11-26T13:11:10.245Z"
   },
   {
    "duration": 10,
    "start_time": "2024-11-26T13:11:10.250Z"
   },
   {
    "duration": 37,
    "start_time": "2024-11-26T13:11:10.261Z"
   },
   {
    "duration": 26,
    "start_time": "2024-11-26T13:11:10.300Z"
   },
   {
    "duration": 14,
    "start_time": "2024-11-26T13:11:10.327Z"
   }
  ],
  "kernelspec": {
   "display_name": "Python 3 (ipykernel)",
   "language": "python",
   "name": "python3"
  },
  "language_info": {
   "codemirror_mode": {
    "name": "ipython",
    "version": 3
   },
   "file_extension": ".py",
   "mimetype": "text/x-python",
   "name": "python",
   "nbconvert_exporter": "python",
   "pygments_lexer": "ipython3",
   "version": "3.11.5"
  },
  "toc": {
   "base_numbering": 1,
   "nav_menu": {},
   "number_sections": true,
   "sideBar": true,
   "skip_h1_title": true,
   "title_cell": "Table of Contents",
   "title_sidebar": "Проведение и анализ А/B-теста для интернет-магазина",
   "toc_cell": false,
   "toc_position": {
    "height": "calc(100% - 180px)",
    "left": "10px",
    "top": "150px",
    "width": "444px"
   },
   "toc_section_display": true,
   "toc_window_display": true
  }
 },
 "nbformat": 4,
 "nbformat_minor": 4
}
