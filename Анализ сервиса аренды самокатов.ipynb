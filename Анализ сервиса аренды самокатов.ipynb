{
 "cells": [
  {
   "cell_type": "markdown",
   "id": "221d74e1",
   "metadata": {},
   "source": [
    "# Анализ сервиса аренды самокатов GoFast"
   ]
  },
  {
   "cell_type": "markdown",
   "id": "370dd4ab",
   "metadata": {},
   "source": [
    "## Описание проекта"
   ]
  },
  {
   "cell_type": "markdown",
   "id": "40ed5353",
   "metadata": {},
   "source": [
    "Вы аналитик популярного сервиса аренды самокатов GoFast. Вам передали данные о некоторых пользователях из нескольких городов, а также об их поездках. Проанализируйте данные и проверьте некоторые гипотезы, которые могут помочь бизнесу вырасти.\n",
    "<br>\n",
    "Чтобы совершать поездки по городу, пользователи сервиса GoFast пользуются мобильным приложением.<br>\n",
    "Сервисом можно пользоваться:\n",
    "1. Без подписки:\n",
    "- абонентская плата отсутствует;\n",
    "- стоимость одной минуты поездки — 8 рублей;\n",
    "- стоимость старта (начала поездки) — 50 рублей;\n",
    "2. С подпиской Ultra:\n",
    "- абонентская плата — 199 рублей в месяц;\n",
    "- стоимость одной минуты поездки — 6 рублей;\n",
    "- стоимость старта — бесплатно."
   ]
  },
  {
   "cell_type": "markdown",
   "id": "46302e11",
   "metadata": {},
   "source": [
    "## Описание данных"
   ]
  },
  {
   "cell_type": "markdown",
   "id": "aede981b",
   "metadata": {},
   "source": [
    "**Пользователи** — ``users_go.csv``\n",
    "- *user_id* — уникальный идентификатор пользователя\n",
    "- *name* — имя пользователя\n",
    "- *age* — возраст\n",
    "- *city* — город\n",
    "- *subscription_type* — тип подписки (free, ultra)<br>\n",
    "<br>\n",
    "\n",
    "**Поeздки** — ``rides_go.csv``\n",
    "- *user_id* — уникальный идентификатор пользователя\n",
    "- *distance* — расстояние, которое пользователь проехал в текущей сессии (в метрах)\n",
    "- *duration* — продолжительность сессии (в минутах) — время с того момента, как пользователь нажал кнопку «Начать поездку» до момента, как он нажал кнопку «Завершить поездку»\n",
    "- *date* — дата совершения поездки <br>\n",
    "<br>\n",
    "\n",
    "**Подписки** — ``subscriptions_go.csv``\n",
    "- *subscription_type* — тип подписки\n",
    "- *minute_price* — стоимость одной минуты поездки по данной подписке\n",
    "- *start_ride_price* — стоимость начала поездки\n",
    "- *subscription_fee* — стоимость ежемесячного платежа"
   ]
  },
  {
   "cell_type": "markdown",
   "id": "3053734c",
   "metadata": {},
   "source": [
    "## План проекта"
   ]
  },
  {
   "cell_type": "markdown",
   "id": "91e1c872",
   "metadata": {},
   "source": [
    "- Загрузка данных\n",
    "- Предобработка данных\n",
    "- Исследовательский анализ данных\n",
    "- Объединение данных\n",
    "- Подсчёт выручки\n",
    "- Проверка гипотез\n",
    "- Распределения\n",
    "- Вывод"
   ]
  },
  {
   "cell_type": "markdown",
   "id": "c42cbe00",
   "metadata": {},
   "source": [
    "## Загрузка и изучение данных"
   ]
  },
  {
   "cell_type": "markdown",
   "id": "a6feb097",
   "metadata": {},
   "source": [
    "Импортируем библиотеки:"
   ]
  },
  {
   "cell_type": "code",
   "execution_count": 1,
   "id": "72576667",
   "metadata": {},
   "outputs": [],
   "source": [
    "import pandas as pd\n",
    "import matplotlib.pyplot as plt\n",
    "import seaborn as sns\n",
    "import plotly.express as px\n",
    "import numpy as np\n",
    "from math import sqrt\n",
    "from scipy import stats as st\n",
    "from scipy.stats import binom"
   ]
  },
  {
   "cell_type": "markdown",
   "id": "ff3a2f7e",
   "metadata": {},
   "source": [
    "Считаем данные из csv-файла в датафреймы и сохраним в переменные users_go, rides_go, subscriptions_go:"
   ]
  },
  {
   "cell_type": "code",
   "execution_count": 2,
   "id": "cb85f853",
   "metadata": {},
   "outputs": [],
   "source": [
    "try:\n",
    "    users_go = pd.read_csv('/datasets/users_go.csv') \n",
    "    rides_go = pd.read_csv('/datasets/rides_go.csv') \n",
    "    subscriptions_go = pd.read_csv('/datasets/subscriptions_go.csv') \n",
    "except:\n",
    "    users_go = pd.read_csv('C:/Users/888/OneDrive/Рабочий стол/GoFast/users_go.csv') \n",
    "    rides_go = pd.read_csv('C:/Users/888/OneDrive/Рабочий стол/GoFast/rides_go.csv') \n",
    "    subscriptions_go = pd.read_csv('C:/Users/888/OneDrive/Рабочий стол/GoFast/subscriptions_go.csv') "
   ]
  },
  {
   "cell_type": "markdown",
   "id": "3ffc106e",
   "metadata": {},
   "source": [
    "Выведем первые 3 строки датафреймов:"
   ]
  },
  {
   "cell_type": "code",
   "execution_count": 3,
   "id": "2ddb1a72",
   "metadata": {},
   "outputs": [
    {
     "data": {
      "text/html": [
       "<div>\n",
       "<style scoped>\n",
       "    .dataframe tbody tr th:only-of-type {\n",
       "        vertical-align: middle;\n",
       "    }\n",
       "\n",
       "    .dataframe tbody tr th {\n",
       "        vertical-align: top;\n",
       "    }\n",
       "\n",
       "    .dataframe thead th {\n",
       "        text-align: right;\n",
       "    }\n",
       "</style>\n",
       "<table border=\"1\" class=\"dataframe\">\n",
       "  <thead>\n",
       "    <tr style=\"text-align: right;\">\n",
       "      <th></th>\n",
       "      <th>user_id</th>\n",
       "      <th>name</th>\n",
       "      <th>age</th>\n",
       "      <th>city</th>\n",
       "      <th>subscription_type</th>\n",
       "    </tr>\n",
       "  </thead>\n",
       "  <tbody>\n",
       "    <tr>\n",
       "      <th>0</th>\n",
       "      <td>1</td>\n",
       "      <td>Кира</td>\n",
       "      <td>22</td>\n",
       "      <td>Тюмень</td>\n",
       "      <td>ultra</td>\n",
       "    </tr>\n",
       "    <tr>\n",
       "      <th>1</th>\n",
       "      <td>2</td>\n",
       "      <td>Станислав</td>\n",
       "      <td>31</td>\n",
       "      <td>Омск</td>\n",
       "      <td>ultra</td>\n",
       "    </tr>\n",
       "    <tr>\n",
       "      <th>2</th>\n",
       "      <td>3</td>\n",
       "      <td>Алексей</td>\n",
       "      <td>20</td>\n",
       "      <td>Москва</td>\n",
       "      <td>ultra</td>\n",
       "    </tr>\n",
       "  </tbody>\n",
       "</table>\n",
       "</div>"
      ],
      "text/plain": [
       "   user_id       name  age    city subscription_type\n",
       "0        1       Кира   22  Тюмень             ultra\n",
       "1        2  Станислав   31    Омск             ultra\n",
       "2        3    Алексей   20  Москва             ultra"
      ]
     },
     "metadata": {},
     "output_type": "display_data"
    },
    {
     "data": {
      "text/html": [
       "<div>\n",
       "<style scoped>\n",
       "    .dataframe tbody tr th:only-of-type {\n",
       "        vertical-align: middle;\n",
       "    }\n",
       "\n",
       "    .dataframe tbody tr th {\n",
       "        vertical-align: top;\n",
       "    }\n",
       "\n",
       "    .dataframe thead th {\n",
       "        text-align: right;\n",
       "    }\n",
       "</style>\n",
       "<table border=\"1\" class=\"dataframe\">\n",
       "  <thead>\n",
       "    <tr style=\"text-align: right;\">\n",
       "      <th></th>\n",
       "      <th>user_id</th>\n",
       "      <th>distance</th>\n",
       "      <th>duration</th>\n",
       "      <th>date</th>\n",
       "    </tr>\n",
       "  </thead>\n",
       "  <tbody>\n",
       "    <tr>\n",
       "      <th>0</th>\n",
       "      <td>1</td>\n",
       "      <td>4409.919140</td>\n",
       "      <td>25.599769</td>\n",
       "      <td>2021-01-01</td>\n",
       "    </tr>\n",
       "    <tr>\n",
       "      <th>1</th>\n",
       "      <td>1</td>\n",
       "      <td>2617.592153</td>\n",
       "      <td>15.816871</td>\n",
       "      <td>2021-01-18</td>\n",
       "    </tr>\n",
       "    <tr>\n",
       "      <th>2</th>\n",
       "      <td>1</td>\n",
       "      <td>754.159807</td>\n",
       "      <td>6.232113</td>\n",
       "      <td>2021-04-20</td>\n",
       "    </tr>\n",
       "  </tbody>\n",
       "</table>\n",
       "</div>"
      ],
      "text/plain": [
       "   user_id     distance   duration        date\n",
       "0        1  4409.919140  25.599769  2021-01-01\n",
       "1        1  2617.592153  15.816871  2021-01-18\n",
       "2        1   754.159807   6.232113  2021-04-20"
      ]
     },
     "metadata": {},
     "output_type": "display_data"
    },
    {
     "data": {
      "text/html": [
       "<div>\n",
       "<style scoped>\n",
       "    .dataframe tbody tr th:only-of-type {\n",
       "        vertical-align: middle;\n",
       "    }\n",
       "\n",
       "    .dataframe tbody tr th {\n",
       "        vertical-align: top;\n",
       "    }\n",
       "\n",
       "    .dataframe thead th {\n",
       "        text-align: right;\n",
       "    }\n",
       "</style>\n",
       "<table border=\"1\" class=\"dataframe\">\n",
       "  <thead>\n",
       "    <tr style=\"text-align: right;\">\n",
       "      <th></th>\n",
       "      <th>subscription_type</th>\n",
       "      <th>minute_price</th>\n",
       "      <th>start_ride_price</th>\n",
       "      <th>subscription_fee</th>\n",
       "    </tr>\n",
       "  </thead>\n",
       "  <tbody>\n",
       "    <tr>\n",
       "      <th>0</th>\n",
       "      <td>free</td>\n",
       "      <td>8</td>\n",
       "      <td>50</td>\n",
       "      <td>0</td>\n",
       "    </tr>\n",
       "    <tr>\n",
       "      <th>1</th>\n",
       "      <td>ultra</td>\n",
       "      <td>6</td>\n",
       "      <td>0</td>\n",
       "      <td>199</td>\n",
       "    </tr>\n",
       "  </tbody>\n",
       "</table>\n",
       "</div>"
      ],
      "text/plain": [
       "  subscription_type  minute_price  start_ride_price  subscription_fee\n",
       "0              free             8                50                 0\n",
       "1             ultra             6                 0               199"
      ]
     },
     "metadata": {},
     "output_type": "display_data"
    }
   ],
   "source": [
    "display(users_go.head(3))\n",
    "display(rides_go.head(3))\n",
    "display(subscriptions_go.head(3))"
   ]
  },
  {
   "cell_type": "markdown",
   "id": "103a4b84",
   "metadata": {},
   "source": [
    "Выведем основную информацию о датафреймах с помощью метода info():"
   ]
  },
  {
   "cell_type": "code",
   "execution_count": 4,
   "id": "40fcf1ef",
   "metadata": {},
   "outputs": [],
   "source": [
    "def print_primary_info(dataset):\n",
    "    print(\"\\nПервичная информация о датафрейме\")\n",
    "    print(\"Количество записей:\", dataset.shape[0])\n",
    "    print(\"Количество столбцов:\", dataset.shape[1])\n",
    "    print(\"Первые 5 записей:\")\n",
    "    display(dataset.head())\n",
    "    print(\"Информация о столбцах:\")\n",
    "    print(dataset.info())"
   ]
  },
  {
   "cell_type": "code",
   "execution_count": 5,
   "id": "c6272ba4",
   "metadata": {},
   "outputs": [
    {
     "name": "stdout",
     "output_type": "stream",
     "text": [
      "\n",
      "Первичная информация о датафрейме\n",
      "Количество записей: 1565\n",
      "Количество столбцов: 5\n",
      "Первые 5 записей:\n"
     ]
    },
    {
     "data": {
      "text/html": [
       "<div>\n",
       "<style scoped>\n",
       "    .dataframe tbody tr th:only-of-type {\n",
       "        vertical-align: middle;\n",
       "    }\n",
       "\n",
       "    .dataframe tbody tr th {\n",
       "        vertical-align: top;\n",
       "    }\n",
       "\n",
       "    .dataframe thead th {\n",
       "        text-align: right;\n",
       "    }\n",
       "</style>\n",
       "<table border=\"1\" class=\"dataframe\">\n",
       "  <thead>\n",
       "    <tr style=\"text-align: right;\">\n",
       "      <th></th>\n",
       "      <th>user_id</th>\n",
       "      <th>name</th>\n",
       "      <th>age</th>\n",
       "      <th>city</th>\n",
       "      <th>subscription_type</th>\n",
       "    </tr>\n",
       "  </thead>\n",
       "  <tbody>\n",
       "    <tr>\n",
       "      <th>0</th>\n",
       "      <td>1</td>\n",
       "      <td>Кира</td>\n",
       "      <td>22</td>\n",
       "      <td>Тюмень</td>\n",
       "      <td>ultra</td>\n",
       "    </tr>\n",
       "    <tr>\n",
       "      <th>1</th>\n",
       "      <td>2</td>\n",
       "      <td>Станислав</td>\n",
       "      <td>31</td>\n",
       "      <td>Омск</td>\n",
       "      <td>ultra</td>\n",
       "    </tr>\n",
       "    <tr>\n",
       "      <th>2</th>\n",
       "      <td>3</td>\n",
       "      <td>Алексей</td>\n",
       "      <td>20</td>\n",
       "      <td>Москва</td>\n",
       "      <td>ultra</td>\n",
       "    </tr>\n",
       "    <tr>\n",
       "      <th>3</th>\n",
       "      <td>4</td>\n",
       "      <td>Константин</td>\n",
       "      <td>26</td>\n",
       "      <td>Ростов-на-Дону</td>\n",
       "      <td>ultra</td>\n",
       "    </tr>\n",
       "    <tr>\n",
       "      <th>4</th>\n",
       "      <td>5</td>\n",
       "      <td>Адель</td>\n",
       "      <td>28</td>\n",
       "      <td>Омск</td>\n",
       "      <td>ultra</td>\n",
       "    </tr>\n",
       "  </tbody>\n",
       "</table>\n",
       "</div>"
      ],
      "text/plain": [
       "   user_id        name  age            city subscription_type\n",
       "0        1        Кира   22          Тюмень             ultra\n",
       "1        2   Станислав   31            Омск             ultra\n",
       "2        3     Алексей   20          Москва             ultra\n",
       "3        4  Константин   26  Ростов-на-Дону             ultra\n",
       "4        5       Адель   28            Омск             ultra"
      ]
     },
     "metadata": {},
     "output_type": "display_data"
    },
    {
     "name": "stdout",
     "output_type": "stream",
     "text": [
      "Информация о столбцах:\n",
      "<class 'pandas.core.frame.DataFrame'>\n",
      "RangeIndex: 1565 entries, 0 to 1564\n",
      "Data columns (total 5 columns):\n",
      " #   Column             Non-Null Count  Dtype \n",
      "---  ------             --------------  ----- \n",
      " 0   user_id            1565 non-null   int64 \n",
      " 1   name               1565 non-null   object\n",
      " 2   age                1565 non-null   int64 \n",
      " 3   city               1565 non-null   object\n",
      " 4   subscription_type  1565 non-null   object\n",
      "dtypes: int64(2), object(3)\n",
      "memory usage: 61.3+ KB\n",
      "None\n"
     ]
    }
   ],
   "source": [
    "#информация о датафрейме users_go\n",
    "print_primary_info(users_go);"
   ]
  },
  {
   "cell_type": "code",
   "execution_count": 6,
   "id": "ffcd63f2",
   "metadata": {},
   "outputs": [
    {
     "name": "stdout",
     "output_type": "stream",
     "text": [
      "\n",
      "Первичная информация о датафрейме\n",
      "Количество записей: 18068\n",
      "Количество столбцов: 4\n",
      "Первые 5 записей:\n"
     ]
    },
    {
     "data": {
      "text/html": [
       "<div>\n",
       "<style scoped>\n",
       "    .dataframe tbody tr th:only-of-type {\n",
       "        vertical-align: middle;\n",
       "    }\n",
       "\n",
       "    .dataframe tbody tr th {\n",
       "        vertical-align: top;\n",
       "    }\n",
       "\n",
       "    .dataframe thead th {\n",
       "        text-align: right;\n",
       "    }\n",
       "</style>\n",
       "<table border=\"1\" class=\"dataframe\">\n",
       "  <thead>\n",
       "    <tr style=\"text-align: right;\">\n",
       "      <th></th>\n",
       "      <th>user_id</th>\n",
       "      <th>distance</th>\n",
       "      <th>duration</th>\n",
       "      <th>date</th>\n",
       "    </tr>\n",
       "  </thead>\n",
       "  <tbody>\n",
       "    <tr>\n",
       "      <th>0</th>\n",
       "      <td>1</td>\n",
       "      <td>4409.919140</td>\n",
       "      <td>25.599769</td>\n",
       "      <td>2021-01-01</td>\n",
       "    </tr>\n",
       "    <tr>\n",
       "      <th>1</th>\n",
       "      <td>1</td>\n",
       "      <td>2617.592153</td>\n",
       "      <td>15.816871</td>\n",
       "      <td>2021-01-18</td>\n",
       "    </tr>\n",
       "    <tr>\n",
       "      <th>2</th>\n",
       "      <td>1</td>\n",
       "      <td>754.159807</td>\n",
       "      <td>6.232113</td>\n",
       "      <td>2021-04-20</td>\n",
       "    </tr>\n",
       "    <tr>\n",
       "      <th>3</th>\n",
       "      <td>1</td>\n",
       "      <td>2694.783254</td>\n",
       "      <td>18.511000</td>\n",
       "      <td>2021-08-11</td>\n",
       "    </tr>\n",
       "    <tr>\n",
       "      <th>4</th>\n",
       "      <td>1</td>\n",
       "      <td>4028.687306</td>\n",
       "      <td>26.265803</td>\n",
       "      <td>2021-08-28</td>\n",
       "    </tr>\n",
       "  </tbody>\n",
       "</table>\n",
       "</div>"
      ],
      "text/plain": [
       "   user_id     distance   duration        date\n",
       "0        1  4409.919140  25.599769  2021-01-01\n",
       "1        1  2617.592153  15.816871  2021-01-18\n",
       "2        1   754.159807   6.232113  2021-04-20\n",
       "3        1  2694.783254  18.511000  2021-08-11\n",
       "4        1  4028.687306  26.265803  2021-08-28"
      ]
     },
     "metadata": {},
     "output_type": "display_data"
    },
    {
     "name": "stdout",
     "output_type": "stream",
     "text": [
      "Информация о столбцах:\n",
      "<class 'pandas.core.frame.DataFrame'>\n",
      "RangeIndex: 18068 entries, 0 to 18067\n",
      "Data columns (total 4 columns):\n",
      " #   Column    Non-Null Count  Dtype  \n",
      "---  ------    --------------  -----  \n",
      " 0   user_id   18068 non-null  int64  \n",
      " 1   distance  18068 non-null  float64\n",
      " 2   duration  18068 non-null  float64\n",
      " 3   date      18068 non-null  object \n",
      "dtypes: float64(2), int64(1), object(1)\n",
      "memory usage: 564.8+ KB\n",
      "None\n"
     ]
    }
   ],
   "source": [
    "#информация о датафрейме rides_go\n",
    "print_primary_info(rides_go);"
   ]
  },
  {
   "cell_type": "code",
   "execution_count": 7,
   "id": "a5da1404",
   "metadata": {},
   "outputs": [
    {
     "name": "stdout",
     "output_type": "stream",
     "text": [
      "\n",
      "Первичная информация о датафрейме\n",
      "Количество записей: 2\n",
      "Количество столбцов: 4\n",
      "Первые 5 записей:\n"
     ]
    },
    {
     "data": {
      "text/html": [
       "<div>\n",
       "<style scoped>\n",
       "    .dataframe tbody tr th:only-of-type {\n",
       "        vertical-align: middle;\n",
       "    }\n",
       "\n",
       "    .dataframe tbody tr th {\n",
       "        vertical-align: top;\n",
       "    }\n",
       "\n",
       "    .dataframe thead th {\n",
       "        text-align: right;\n",
       "    }\n",
       "</style>\n",
       "<table border=\"1\" class=\"dataframe\">\n",
       "  <thead>\n",
       "    <tr style=\"text-align: right;\">\n",
       "      <th></th>\n",
       "      <th>subscription_type</th>\n",
       "      <th>minute_price</th>\n",
       "      <th>start_ride_price</th>\n",
       "      <th>subscription_fee</th>\n",
       "    </tr>\n",
       "  </thead>\n",
       "  <tbody>\n",
       "    <tr>\n",
       "      <th>0</th>\n",
       "      <td>free</td>\n",
       "      <td>8</td>\n",
       "      <td>50</td>\n",
       "      <td>0</td>\n",
       "    </tr>\n",
       "    <tr>\n",
       "      <th>1</th>\n",
       "      <td>ultra</td>\n",
       "      <td>6</td>\n",
       "      <td>0</td>\n",
       "      <td>199</td>\n",
       "    </tr>\n",
       "  </tbody>\n",
       "</table>\n",
       "</div>"
      ],
      "text/plain": [
       "  subscription_type  minute_price  start_ride_price  subscription_fee\n",
       "0              free             8                50                 0\n",
       "1             ultra             6                 0               199"
      ]
     },
     "metadata": {},
     "output_type": "display_data"
    },
    {
     "name": "stdout",
     "output_type": "stream",
     "text": [
      "Информация о столбцах:\n",
      "<class 'pandas.core.frame.DataFrame'>\n",
      "RangeIndex: 2 entries, 0 to 1\n",
      "Data columns (total 4 columns):\n",
      " #   Column             Non-Null Count  Dtype \n",
      "---  ------             --------------  ----- \n",
      " 0   subscription_type  2 non-null      object\n",
      " 1   minute_price       2 non-null      int64 \n",
      " 2   start_ride_price   2 non-null      int64 \n",
      " 3   subscription_fee   2 non-null      int64 \n",
      "dtypes: int64(3), object(1)\n",
      "memory usage: 192.0+ bytes\n",
      "None\n"
     ]
    }
   ],
   "source": [
    "#информация о датафрейме subscriptions_go\n",
    "print_primary_info(subscriptions_go);"
   ]
  },
  {
   "cell_type": "markdown",
   "id": "75611172",
   "metadata": {},
   "source": [
    "Проверим датафрейм `users_go` на отсутствующие значения:"
   ]
  },
  {
   "cell_type": "code",
   "execution_count": 8,
   "id": "5d5a363b",
   "metadata": {},
   "outputs": [
    {
     "data": {
      "text/plain": [
       "user_id              0\n",
       "name                 0\n",
       "age                  0\n",
       "city                 0\n",
       "subscription_type    0\n",
       "dtype: int64"
      ]
     },
     "execution_count": 8,
     "metadata": {},
     "output_type": "execute_result"
    }
   ],
   "source": [
    "users_go.isna().sum()"
   ]
  },
  {
   "cell_type": "markdown",
   "id": "79b7fc9a",
   "metadata": {},
   "source": [
    "Проверим датафрейм `rides_go` на отсутствующие значения:"
   ]
  },
  {
   "cell_type": "code",
   "execution_count": 9,
   "id": "334b6d17",
   "metadata": {},
   "outputs": [
    {
     "data": {
      "text/plain": [
       "user_id     0\n",
       "distance    0\n",
       "duration    0\n",
       "date        0\n",
       "dtype: int64"
      ]
     },
     "execution_count": 9,
     "metadata": {},
     "output_type": "execute_result"
    }
   ],
   "source": [
    "rides_go.isna().sum()"
   ]
  },
  {
   "cell_type": "markdown",
   "id": "0f0467b9",
   "metadata": {},
   "source": [
    "Проверим датафреймы `users_go` и `rides_go` на явные дубликаты:"
   ]
  },
  {
   "cell_type": "code",
   "execution_count": 10,
   "id": "a3e92aa1",
   "metadata": {},
   "outputs": [
    {
     "name": "stdout",
     "output_type": "stream",
     "text": [
      "Количество явных дубликатов в users_go =  31\n",
      "Количество явных дубликатов в rides_go =  0\n"
     ]
    }
   ],
   "source": [
    "print('Количество явных дубликатов в users_go = ', users_go.duplicated().sum())\n",
    "print('Количество явных дубликатов в rides_go = ', rides_go.duplicated().sum())"
   ]
  },
  {
   "cell_type": "markdown",
   "id": "920c1886",
   "metadata": {},
   "source": [
    "### Промежуточный вывод"
   ]
  },
  {
   "cell_type": "markdown",
   "id": "780e5089",
   "metadata": {},
   "source": [
    "- В `users_go` 1565 записи, пропуски отсутствуют, количество явных дубликатов 31.\n",
    "- В `rides_go` 18068 записи, пропуски отсутствуют, явных дубликатов нет. В столбце *date* некорректный тип данных.\n",
    "- В `subscriptions_go` 2 записи, пропуски отсутствуют, явных дубликатов нет.\n",
    "- Данные полные и достаточны для исследования."
   ]
  },
  {
   "cell_type": "markdown",
   "id": "e95ebca7",
   "metadata": {},
   "source": [
    "## Предобработка данных"
   ]
  },
  {
   "cell_type": "markdown",
   "id": "89258735",
   "metadata": {},
   "source": [
    "### Меняем тип данных"
   ]
  },
  {
   "cell_type": "markdown",
   "id": "3d0c4040",
   "metadata": {},
   "source": [
    "Приведем столбец *date* из датафрейма `rides_go` к типу datetime:"
   ]
  },
  {
   "cell_type": "code",
   "execution_count": 11,
   "id": "6024b2cd",
   "metadata": {},
   "outputs": [
    {
     "data": {
      "text/plain": [
       "0   2021-01-01\n",
       "1   2021-01-18\n",
       "2   2021-04-20\n",
       "3   2021-08-11\n",
       "4   2021-08-28\n",
       "5   2021-10-09\n",
       "6   2021-10-19\n",
       "7   2021-11-06\n",
       "8   2021-11-14\n",
       "9   2021-11-22\n",
       "Name: date, dtype: datetime64[ns]"
      ]
     },
     "execution_count": 11,
     "metadata": {},
     "output_type": "execute_result"
    }
   ],
   "source": [
    "rides_go['date'] = pd.to_datetime(rides_go['date'], format='%Y-%m-%d')\n",
    "rides_go['date'].head(10)"
   ]
  },
  {
   "cell_type": "markdown",
   "id": "20285ef7",
   "metadata": {},
   "source": [
    "### Создаём новый столбец с номером месяца"
   ]
  },
  {
   "cell_type": "markdown",
   "id": "06bcab61",
   "metadata": {},
   "source": [
    "Проверим за какой год представленны данные чтоб не было ошибок:"
   ]
  },
  {
   "cell_type": "code",
   "execution_count": 12,
   "id": "b3d6134a",
   "metadata": {},
   "outputs": [
    {
     "data": {
      "text/plain": [
       "array([2021])"
      ]
     },
     "execution_count": 12,
     "metadata": {},
     "output_type": "execute_result"
    }
   ],
   "source": [
    "rides_go['date'].dt.year.unique()"
   ]
  },
  {
   "cell_type": "markdown",
   "id": "b37b3b9d",
   "metadata": {},
   "source": [
    "Данные представленны только 2021 год."
   ]
  },
  {
   "cell_type": "code",
   "execution_count": 13,
   "id": "370684b2",
   "metadata": {},
   "outputs": [],
   "source": [
    "rides_go['month'] = rides_go['date'].dt.month"
   ]
  },
  {
   "cell_type": "markdown",
   "id": "9f4e01bf",
   "metadata": {},
   "source": [
    "### Удаление дубликатов"
   ]
  },
  {
   "cell_type": "code",
   "execution_count": 14,
   "id": "57a9c547",
   "metadata": {},
   "outputs": [],
   "source": [
    "users_go.drop_duplicates(inplace=True)"
   ]
  },
  {
   "cell_type": "code",
   "execution_count": 15,
   "id": "7ff37d39",
   "metadata": {},
   "outputs": [
    {
     "name": "stdout",
     "output_type": "stream",
     "text": [
      "Количество явных дубликатов в users_go =  0\n"
     ]
    }
   ],
   "source": [
    "print('Количество явных дубликатов в users_go = ', users_go.duplicated().sum())"
   ]
  },
  {
   "cell_type": "markdown",
   "id": "081f023d",
   "metadata": {},
   "source": [
    "Проверим столбец *city* датафрейма `users_go` на неявные дубликаты:"
   ]
  },
  {
   "cell_type": "code",
   "execution_count": 16,
   "id": "afcb1b99",
   "metadata": {},
   "outputs": [
    {
     "data": {
      "text/plain": [
       "array(['Тюмень', 'Омск', 'Москва', 'Ростов-на-Дону', 'Краснодар',\n",
       "       'Пятигорск', 'Екатеринбург', 'Сочи'], dtype=object)"
      ]
     },
     "execution_count": 16,
     "metadata": {},
     "output_type": "execute_result"
    }
   ],
   "source": [
    "users_go['city'].unique()"
   ]
  },
  {
   "cell_type": "markdown",
   "id": "324300fa",
   "metadata": {},
   "source": [
    "Неявные дубликаты отсутсвуют."
   ]
  },
  {
   "cell_type": "markdown",
   "id": "24d4ba38",
   "metadata": {},
   "source": [
    "### Промежуточный вывод"
   ]
  },
  {
   "cell_type": "markdown",
   "id": "51f69db5",
   "metadata": {},
   "source": [
    "- В столбце *date* из датафрейма `rides_go` поменяли тип данных на datetime.\n",
    "- В датафрейм `rides_go` добавили столбец *month*.\n",
    "- В датафрейме `users_go` удалили дубликаты.\n",
    "- Данные готовы для дальнейшего иследования."
   ]
  },
  {
   "cell_type": "markdown",
   "id": "212593c7",
   "metadata": {},
   "source": [
    "## Исследовательский анализ данных"
   ]
  },
  {
   "cell_type": "markdown",
   "id": "65461135",
   "metadata": {},
   "source": [
    "### Частота встречаемости городов"
   ]
  },
  {
   "cell_type": "code",
   "execution_count": 17,
   "id": "e3a4274c",
   "metadata": {},
   "outputs": [
    {
     "data": {
      "image/png": "[encoded data removed]",
      "text/plain": [
       "<Figure size 720x360 with 1 Axes>"
      ]
     },
     "metadata": {
      "needs_background": "light"
     },
     "output_type": "display_data"
    },
    {
     "data": {
      "text/html": [
       "<div>\n",
       "<style scoped>\n",
       "    .dataframe tbody tr th:only-of-type {\n",
       "        vertical-align: middle;\n",
       "    }\n",
       "\n",
       "    .dataframe tbody tr th {\n",
       "        vertical-align: top;\n",
       "    }\n",
       "\n",
       "    .dataframe thead th {\n",
       "        text-align: right;\n",
       "    }\n",
       "</style>\n",
       "<table border=\"1\" class=\"dataframe\">\n",
       "  <thead>\n",
       "    <tr style=\"text-align: right;\">\n",
       "      <th></th>\n",
       "      <th>user_id</th>\n",
       "    </tr>\n",
       "    <tr>\n",
       "      <th>city</th>\n",
       "      <th></th>\n",
       "    </tr>\n",
       "  </thead>\n",
       "  <tbody>\n",
       "    <tr>\n",
       "      <th>Пятигорск</th>\n",
       "      <td>219</td>\n",
       "    </tr>\n",
       "    <tr>\n",
       "      <th>Екатеринбург</th>\n",
       "      <td>204</td>\n",
       "    </tr>\n",
       "    <tr>\n",
       "      <th>Ростов-на-Дону</th>\n",
       "      <td>198</td>\n",
       "    </tr>\n",
       "    <tr>\n",
       "      <th>Краснодар</th>\n",
       "      <td>193</td>\n",
       "    </tr>\n",
       "    <tr>\n",
       "      <th>Сочи</th>\n",
       "      <td>189</td>\n",
       "    </tr>\n",
       "    <tr>\n",
       "      <th>Омск</th>\n",
       "      <td>183</td>\n",
       "    </tr>\n",
       "    <tr>\n",
       "      <th>Тюмень</th>\n",
       "      <td>180</td>\n",
       "    </tr>\n",
       "    <tr>\n",
       "      <th>Москва</th>\n",
       "      <td>168</td>\n",
       "    </tr>\n",
       "  </tbody>\n",
       "</table>\n",
       "</div>"
      ],
      "text/plain": [
       "                user_id\n",
       "city                   \n",
       "Пятигорск           219\n",
       "Екатеринбург        204\n",
       "Ростов-на-Дону      198\n",
       "Краснодар           193\n",
       "Сочи                189\n",
       "Омск                183\n",
       "Тюмень              180\n",
       "Москва              168"
      ]
     },
     "execution_count": 17,
     "metadata": {},
     "output_type": "execute_result"
    }
   ],
   "source": [
    "(users_go.pivot_table(index='city', values='user_id', aggfunc='count')\n",
    "        .sort_values(by='user_id', ascending=True)\n",
    "        .plot(kind='barh', ec='black', grid=True, figsize=(10, 5), legend=False))\n",
    "    \n",
    "plt.title('Количество пользователей по городам', size=20)\n",
    "plt.ylabel('Города', size=15)\n",
    "plt.xlabel('Количество пользователей', size=15)\n",
    "plt.show()\n",
    "\n",
    "users_go.pivot_table(index='city', values='user_id', aggfunc='count').sort_values(by='user_id', ascending=False)"
   ]
  },
  {
   "cell_type": "markdown",
   "id": "9517a45e",
   "metadata": {},
   "source": [
    "**Вывод:** В данных присутсвуют 8 городов. Больше всего пользователей в Пятигорске и Екатеринбурге."
   ]
  },
  {
   "cell_type": "markdown",
   "id": "d3183134",
   "metadata": {},
   "source": [
    "### Соотношение пользователей с подпиской и без подписки"
   ]
  },
  {
   "cell_type": "code",
   "execution_count": 18,
   "id": "af1ff20e",
   "metadata": {},
   "outputs": [
    {
     "name": "stdout",
     "output_type": "stream",
     "text": [
      "Всего пользователей: 1534\n",
      "С подпиской: 699\n",
      "Без подписки: 835\n"
     ]
    },
    {
     "data": {
      "image/png": "[encoded data removed]",
      "text/plain": [
       "<Figure size 576x576 with 1 Axes>"
      ]
     },
     "metadata": {},
     "output_type": "display_data"
    }
   ],
   "source": [
    "print('Всего пользователей:', users_go.shape[0])\n",
    "print('С подпиской:', (users_go['subscription_type'] == 'ultra').sum())\n",
    "print('Без подписки:', (users_go['subscription_type'] == 'free').sum())\n",
    "\n",
    "(users_go.pivot_table(index='subscription_type', values='user_id', aggfunc='count')\n",
    "    .sort_values(by='user_id', ascending=True)\n",
    "    .plot(kind = 'pie', y='user_id', figsize=(8,8), autopct='%1.1f%%', labels=['с подпиской','без подписки'],))\n",
    "plt.title('Соотношение пользователей с подпиской и без подписки', size=15)\n",
    "plt.show()"
   ]
  },
  {
   "cell_type": "markdown",
   "id": "0a6d473d",
   "metadata": {},
   "source": [
    "**Вывод:** Без подписки пользователей больше почти на 9%. С подпиской - 699 и Без подписки - 835."
   ]
  },
  {
   "cell_type": "markdown",
   "id": "cc4cb8ab",
   "metadata": {},
   "source": [
    "### Возраст пользователей"
   ]
  },
  {
   "cell_type": "code",
   "execution_count": 19,
   "id": "3e3d9c47",
   "metadata": {},
   "outputs": [
    {
     "data": {
      "image/png": "[encoded data removed]",
      "text/plain": [
       "<Figure size 720x360 with 1 Axes>"
      ]
     },
     "metadata": {
      "needs_background": "light"
     },
     "output_type": "display_data"
    }
   ],
   "source": [
    "(users_go.pivot_table(index='age', values='user_id', aggfunc='count')\n",
    "         .sort_values(by='age', ascending=True)\n",
    "         .plot(kind='bar', ec='black', grid=True, figsize=(10, 5)))\n",
    "plt.title('Количество пользователей по возрастам', size=20)\n",
    "plt.xlabel('Возраст', size=15)\n",
    "plt.xticks(rotation=10)\n",
    "plt.ylabel('Количество', size=15)\n",
    "plt.show()"
   ]
  },
  {
   "cell_type": "code",
   "execution_count": 20,
   "id": "eac2c2f0",
   "metadata": {},
   "outputs": [
    {
     "data": {
      "text/plain": [
       "count    1534.000000\n",
       "mean       24.903520\n",
       "std         4.572367\n",
       "min        12.000000\n",
       "25%        22.000000\n",
       "50%        25.000000\n",
       "75%        28.000000\n",
       "max        43.000000\n",
       "Name: age, dtype: float64"
      ]
     },
     "execution_count": 20,
     "metadata": {},
     "output_type": "execute_result"
    }
   ],
   "source": [
    "users_go['age'].describe()"
   ]
  },
  {
   "cell_type": "code",
   "execution_count": 21,
   "id": "a2b5a09c",
   "metadata": {},
   "outputs": [
    {
     "data": {
      "image/png": "[encoded data removed]",
      "text/plain": [
       "<Figure size 720x360 with 1 Axes>"
      ]
     },
     "metadata": {
      "needs_background": "light"
     },
     "output_type": "display_data"
    }
   ],
   "source": [
    "users_go['age'].hist(bins=100,figsize=(10, 5), ec='black', legend=True)\n",
    "plt.title('Количество поездок в зависимости от возраста пользователей', size=20)\n",
    "plt.xlabel('Возраст', size=15)\n",
    "plt.ylabel('Количество поездок', size=15)\n",
    "plt.show()"
   ]
  },
  {
   "cell_type": "markdown",
   "id": "a7d730cf",
   "metadata": {},
   "source": [
    "**Вывод:**\n",
    "- Минимальный возраст 12 лет и максимальный 43.\n",
    "- Средний возраст пользователей нормально распределён с медианой равной 25 лет. Средний и медианный возраст почти равны. Основной возраст пользователей 22-28 лет."
   ]
  },
  {
   "cell_type": "markdown",
   "id": "a7ae8f29",
   "metadata": {},
   "source": [
    "### Расстояние, которое пользователь преодолел за одну поездку"
   ]
  },
  {
   "cell_type": "code",
   "execution_count": 22,
   "id": "57843662",
   "metadata": {},
   "outputs": [
    {
     "data": {
      "image/png": "[encoded data removed]",
      "text/plain": [
       "<Figure size 1080x576 with 1 Axes>"
      ]
     },
     "metadata": {
      "needs_background": "light"
     },
     "output_type": "display_data"
    }
   ],
   "source": [
    "rides_go['distance'].hist(bins=100,figsize=(15, 8), ec='black', legend=True)\n",
    "plt.title('Количество поездок в зависимости от расстояния поездки', size=20)\n",
    "plt.xlabel('Расстояние в метрах', size=15)\n",
    "plt.ylabel('Количество поездок', size=15)\n",
    "plt.show()"
   ]
  },
  {
   "cell_type": "code",
   "execution_count": 23,
   "id": "6e22f45f",
   "metadata": {},
   "outputs": [
    {
     "data": {
      "text/plain": [
       "count    18068.000000\n",
       "mean      3070.659976\n",
       "std       1116.831209\n",
       "min          0.855683\n",
       "25%       2543.226360\n",
       "50%       3133.609994\n",
       "75%       3776.222735\n",
       "max       7211.007745\n",
       "Name: distance, dtype: float64"
      ]
     },
     "execution_count": 23,
     "metadata": {},
     "output_type": "execute_result"
    }
   ],
   "source": [
    "rides_go['distance'].describe()"
   ]
  },
  {
   "cell_type": "code",
   "execution_count": 24,
   "id": "f4cf37cd",
   "metadata": {},
   "outputs": [
    {
     "data": {
      "image/png": "[encoded data removed]",
      "text/plain": [
       "<Figure size 1440x144 with 1 Axes>"
      ]
     },
     "metadata": {
      "needs_background": "light"
     },
     "output_type": "display_data"
    }
   ],
   "source": [
    "fig, ax = plt.subplots(figsize = (20,2))\n",
    "ax = rides_go[['distance']].boxplot(vert = False, ax =ax)\n",
    "ax.set_title('Диаграмма размаха количества поездок в зависимости от расстояния поездки', pad = 18, size=20)\n",
    "ax.set_xlabel('Расстояние в метрах', labelpad=10, size=15);"
   ]
  },
  {
   "cell_type": "markdown",
   "id": "4fe6fad6",
   "metadata": {},
   "source": [
    "**Вывод:**\n",
    "- Минимальная поездка 86 метров и максимальная 7211 метров.\n",
    "- Средняя и медианная примерно равны 3100 метров. Первый квартиль равен 2543 метра, второй - 3776.\n",
    "- Распределение имеет два пика 700 и 3100 метра. Оба пика имеют нормальное распределение.\n",
    "- Поездки меньши 600 метров и больше 6000 метров это выбросы, оставим без внимания."
   ]
  },
  {
   "cell_type": "markdown",
   "id": "c5140152",
   "metadata": {},
   "source": [
    "### Продолжительность поездок"
   ]
  },
  {
   "cell_type": "code",
   "execution_count": 25,
   "id": "2c991598",
   "metadata": {},
   "outputs": [
    {
     "data": {
      "image/png": "[encoded data removed]",
      "text/plain": [
       "<Figure size 1080x576 with 1 Axes>"
      ]
     },
     "metadata": {
      "needs_background": "light"
     },
     "output_type": "display_data"
    }
   ],
   "source": [
    "rides_go['duration'].hist(bins=50,figsize=(15, 8), ec='black', legend=True)\n",
    "plt.title('Количество поездок в зависимости от продолжительности', size=20)\n",
    "plt.xlabel('Продолжительность поездки', size=15)\n",
    "plt.ylabel('Количество поездок', size=15)\n",
    "plt.show()"
   ]
  },
  {
   "cell_type": "code",
   "execution_count": 26,
   "id": "f1106434",
   "metadata": {},
   "outputs": [
    {
     "data": {
      "text/plain": [
       "count    18068.000000\n",
       "mean        17.805011\n",
       "std          6.091051\n",
       "min          0.500000\n",
       "25%         13.597563\n",
       "50%         17.678395\n",
       "75%         21.724800\n",
       "max         40.823963\n",
       "Name: duration, dtype: float64"
      ]
     },
     "execution_count": 26,
     "metadata": {},
     "output_type": "execute_result"
    }
   ],
   "source": [
    "rides_go['duration'].describe()"
   ]
  },
  {
   "cell_type": "code",
   "execution_count": 27,
   "id": "bd2cb76e",
   "metadata": {
    "scrolled": true
   },
   "outputs": [
    {
     "data": {
      "image/png": "[encoded data removed]",
      "text/plain": [
       "<Figure size 1440x144 with 1 Axes>"
      ]
     },
     "metadata": {
      "needs_background": "light"
     },
     "output_type": "display_data"
    }
   ],
   "source": [
    "fig, ax = plt.subplots(figsize = (20,2))\n",
    "ax = rides_go[['duration']].boxplot(vert = False, ax =ax)\n",
    "ax.set_title('Диаграмма размаха количества поездок в зависимости от продолжительности', pad = 18, size=20)\n",
    "ax.set_xlabel('Продолжительность поездки', labelpad=10, size=15);"
   ]
  },
  {
   "cell_type": "markdown",
   "id": "af85bf9a",
   "metadata": {},
   "source": [
    "**Вывод:**\n",
    "- Минимальная поездка полминуты и максимальная почти 41 минута.\n",
    "- Средняя и медианная примерно равны 18 минутам. \n",
    "- Первый квартиль располагается в райне 14 минут, третий - 22 минуты.\n",
    "- Поездки длительностью меньше минуты могут быть аномальными, что может указывать на неисправность самоката.\n",
    "- Гистограмма показывает нормальное распределение продолжительности поездок."
   ]
  },
  {
   "cell_type": "markdown",
   "id": "93329498",
   "metadata": {},
   "source": [
    "### Промежуточный вывод"
   ]
  },
  {
   "cell_type": "markdown",
   "id": "6e83204c",
   "metadata": {},
   "source": [
    "- В данных присутсвуют 8 городов: Тюмень, Омск, Москва, Ростов-на-Дону, Краснодар, Пятигорск, Екатеринбург, Сочи. Больше всего пользователей в Пятигорске и Екатеринбурге.\n",
    "- Без подписки пользователей больше, почти на 9%. Всего пользователей - 1534. С подпиской - 699 и без подписки - 835.\n",
    "- Средний возраст пользователей нормально распределён с медианой, равной 25 годам. Средний и медианный возраст почти равны. Основной возраст пользователей — 22–28 лет.\n",
    "- Средняя и медианная растояния поездки примерно равны 3100 метров. Первый квартиль равен 2543 метра, второй - 3776. Распределение имеет два пика 700 и 3100 метра. Оба пика имеют нормальное распределение зависимости. Поездки меньши 600 метров и больше 6000 метров это выбросы, оставим без внимания.\n",
    "- Средняя и медианная времени поедки примерно равны 18 минутам. Первый квартиль располагается в райне 14 минут, второй - 22 минуты. Поездки длительностью меньше минуты могут быть аномальными, что может указывать на неисправность самоката (оставим без внимания). Зависимость количества поездок от времени имеет нормальное распределение."
   ]
  },
  {
   "cell_type": "markdown",
   "id": "4ef51331",
   "metadata": {},
   "source": [
    "## Объединение данных"
   ]
  },
  {
   "cell_type": "markdown",
   "id": "5c3f485c",
   "metadata": {},
   "source": [
    "### Объединение"
   ]
  },
  {
   "cell_type": "markdown",
   "id": "a9a9b0b5",
   "metadata": {},
   "source": [
    "Объединим данные о пользователях, поездках и подписках в один датафрейм. Для этого воспользуем методом merge()."
   ]
  },
  {
   "cell_type": "code",
   "execution_count": 28,
   "id": "b8f0d534",
   "metadata": {},
   "outputs": [],
   "source": [
    "data_go = pd.merge(users_go, subscriptions_go, on='subscription_type')\n",
    "data_go = pd.merge(rides_go, data_go, on='user_id')"
   ]
  },
  {
   "cell_type": "code",
   "execution_count": 29,
   "id": "43264f7d",
   "metadata": {},
   "outputs": [
    {
     "name": "stdout",
     "output_type": "stream",
     "text": [
      "<class 'pandas.core.frame.DataFrame'>\n",
      "Int64Index: 18068 entries, 0 to 18067\n",
      "Data columns (total 12 columns):\n",
      " #   Column             Non-Null Count  Dtype         \n",
      "---  ------             --------------  -----         \n",
      " 0   user_id            18068 non-null  int64         \n",
      " 1   distance           18068 non-null  float64       \n",
      " 2   duration           18068 non-null  float64       \n",
      " 3   date               18068 non-null  datetime64[ns]\n",
      " 4   month              18068 non-null  int64         \n",
      " 5   name               18068 non-null  object        \n",
      " 6   age                18068 non-null  int64         \n",
      " 7   city               18068 non-null  object        \n",
      " 8   subscription_type  18068 non-null  object        \n",
      " 9   minute_price       18068 non-null  int64         \n",
      " 10  start_ride_price   18068 non-null  int64         \n",
      " 11  subscription_fee   18068 non-null  int64         \n",
      "dtypes: datetime64[ns](1), float64(2), int64(6), object(3)\n",
      "memory usage: 1.8+ MB\n"
     ]
    },
    {
     "data": {
      "text/html": [
       "<div>\n",
       "<style scoped>\n",
       "    .dataframe tbody tr th:only-of-type {\n",
       "        vertical-align: middle;\n",
       "    }\n",
       "\n",
       "    .dataframe tbody tr th {\n",
       "        vertical-align: top;\n",
       "    }\n",
       "\n",
       "    .dataframe thead th {\n",
       "        text-align: right;\n",
       "    }\n",
       "</style>\n",
       "<table border=\"1\" class=\"dataframe\">\n",
       "  <thead>\n",
       "    <tr style=\"text-align: right;\">\n",
       "      <th></th>\n",
       "      <th>user_id</th>\n",
       "      <th>distance</th>\n",
       "      <th>duration</th>\n",
       "      <th>date</th>\n",
       "      <th>month</th>\n",
       "      <th>name</th>\n",
       "      <th>age</th>\n",
       "      <th>city</th>\n",
       "      <th>subscription_type</th>\n",
       "      <th>minute_price</th>\n",
       "      <th>start_ride_price</th>\n",
       "      <th>subscription_fee</th>\n",
       "    </tr>\n",
       "  </thead>\n",
       "  <tbody>\n",
       "    <tr>\n",
       "      <th>0</th>\n",
       "      <td>1</td>\n",
       "      <td>4409.919140</td>\n",
       "      <td>25.599769</td>\n",
       "      <td>2021-01-01</td>\n",
       "      <td>1</td>\n",
       "      <td>Кира</td>\n",
       "      <td>22</td>\n",
       "      <td>Тюмень</td>\n",
       "      <td>ultra</td>\n",
       "      <td>6</td>\n",
       "      <td>0</td>\n",
       "      <td>199</td>\n",
       "    </tr>\n",
       "    <tr>\n",
       "      <th>1</th>\n",
       "      <td>1</td>\n",
       "      <td>2617.592153</td>\n",
       "      <td>15.816871</td>\n",
       "      <td>2021-01-18</td>\n",
       "      <td>1</td>\n",
       "      <td>Кира</td>\n",
       "      <td>22</td>\n",
       "      <td>Тюмень</td>\n",
       "      <td>ultra</td>\n",
       "      <td>6</td>\n",
       "      <td>0</td>\n",
       "      <td>199</td>\n",
       "    </tr>\n",
       "    <tr>\n",
       "      <th>2</th>\n",
       "      <td>1</td>\n",
       "      <td>754.159807</td>\n",
       "      <td>6.232113</td>\n",
       "      <td>2021-04-20</td>\n",
       "      <td>4</td>\n",
       "      <td>Кира</td>\n",
       "      <td>22</td>\n",
       "      <td>Тюмень</td>\n",
       "      <td>ultra</td>\n",
       "      <td>6</td>\n",
       "      <td>0</td>\n",
       "      <td>199</td>\n",
       "    </tr>\n",
       "    <tr>\n",
       "      <th>3</th>\n",
       "      <td>1</td>\n",
       "      <td>2694.783254</td>\n",
       "      <td>18.511000</td>\n",
       "      <td>2021-08-11</td>\n",
       "      <td>8</td>\n",
       "      <td>Кира</td>\n",
       "      <td>22</td>\n",
       "      <td>Тюмень</td>\n",
       "      <td>ultra</td>\n",
       "      <td>6</td>\n",
       "      <td>0</td>\n",
       "      <td>199</td>\n",
       "    </tr>\n",
       "    <tr>\n",
       "      <th>4</th>\n",
       "      <td>1</td>\n",
       "      <td>4028.687306</td>\n",
       "      <td>26.265803</td>\n",
       "      <td>2021-08-28</td>\n",
       "      <td>8</td>\n",
       "      <td>Кира</td>\n",
       "      <td>22</td>\n",
       "      <td>Тюмень</td>\n",
       "      <td>ultra</td>\n",
       "      <td>6</td>\n",
       "      <td>0</td>\n",
       "      <td>199</td>\n",
       "    </tr>\n",
       "    <tr>\n",
       "      <th>...</th>\n",
       "      <td>...</td>\n",
       "      <td>...</td>\n",
       "      <td>...</td>\n",
       "      <td>...</td>\n",
       "      <td>...</td>\n",
       "      <td>...</td>\n",
       "      <td>...</td>\n",
       "      <td>...</td>\n",
       "      <td>...</td>\n",
       "      <td>...</td>\n",
       "      <td>...</td>\n",
       "      <td>...</td>\n",
       "    </tr>\n",
       "    <tr>\n",
       "      <th>18063</th>\n",
       "      <td>1534</td>\n",
       "      <td>3781.098080</td>\n",
       "      <td>19.822962</td>\n",
       "      <td>2021-11-04</td>\n",
       "      <td>11</td>\n",
       "      <td>Альберт</td>\n",
       "      <td>25</td>\n",
       "      <td>Краснодар</td>\n",
       "      <td>free</td>\n",
       "      <td>8</td>\n",
       "      <td>50</td>\n",
       "      <td>0</td>\n",
       "    </tr>\n",
       "    <tr>\n",
       "      <th>18064</th>\n",
       "      <td>1534</td>\n",
       "      <td>2840.423057</td>\n",
       "      <td>21.409799</td>\n",
       "      <td>2021-11-16</td>\n",
       "      <td>11</td>\n",
       "      <td>Альберт</td>\n",
       "      <td>25</td>\n",
       "      <td>Краснодар</td>\n",
       "      <td>free</td>\n",
       "      <td>8</td>\n",
       "      <td>50</td>\n",
       "      <td>0</td>\n",
       "    </tr>\n",
       "    <tr>\n",
       "      <th>18065</th>\n",
       "      <td>1534</td>\n",
       "      <td>3826.185507</td>\n",
       "      <td>18.435051</td>\n",
       "      <td>2021-11-18</td>\n",
       "      <td>11</td>\n",
       "      <td>Альберт</td>\n",
       "      <td>25</td>\n",
       "      <td>Краснодар</td>\n",
       "      <td>free</td>\n",
       "      <td>8</td>\n",
       "      <td>50</td>\n",
       "      <td>0</td>\n",
       "    </tr>\n",
       "    <tr>\n",
       "      <th>18066</th>\n",
       "      <td>1534</td>\n",
       "      <td>2902.308661</td>\n",
       "      <td>16.674362</td>\n",
       "      <td>2021-11-27</td>\n",
       "      <td>11</td>\n",
       "      <td>Альберт</td>\n",
       "      <td>25</td>\n",
       "      <td>Краснодар</td>\n",
       "      <td>free</td>\n",
       "      <td>8</td>\n",
       "      <td>50</td>\n",
       "      <td>0</td>\n",
       "    </tr>\n",
       "    <tr>\n",
       "      <th>18067</th>\n",
       "      <td>1534</td>\n",
       "      <td>2371.711192</td>\n",
       "      <td>15.893917</td>\n",
       "      <td>2021-12-29</td>\n",
       "      <td>12</td>\n",
       "      <td>Альберт</td>\n",
       "      <td>25</td>\n",
       "      <td>Краснодар</td>\n",
       "      <td>free</td>\n",
       "      <td>8</td>\n",
       "      <td>50</td>\n",
       "      <td>0</td>\n",
       "    </tr>\n",
       "  </tbody>\n",
       "</table>\n",
       "<p>18068 rows × 12 columns</p>\n",
       "</div>"
      ],
      "text/plain": [
       "       user_id     distance   duration       date  month     name  age  \\\n",
       "0            1  4409.919140  25.599769 2021-01-01      1     Кира   22   \n",
       "1            1  2617.592153  15.816871 2021-01-18      1     Кира   22   \n",
       "2            1   754.159807   6.232113 2021-04-20      4     Кира   22   \n",
       "3            1  2694.783254  18.511000 2021-08-11      8     Кира   22   \n",
       "4            1  4028.687306  26.265803 2021-08-28      8     Кира   22   \n",
       "...        ...          ...        ...        ...    ...      ...  ...   \n",
       "18063     1534  3781.098080  19.822962 2021-11-04     11  Альберт   25   \n",
       "18064     1534  2840.423057  21.409799 2021-11-16     11  Альберт   25   \n",
       "18065     1534  3826.185507  18.435051 2021-11-18     11  Альберт   25   \n",
       "18066     1534  2902.308661  16.674362 2021-11-27     11  Альберт   25   \n",
       "18067     1534  2371.711192  15.893917 2021-12-29     12  Альберт   25   \n",
       "\n",
       "            city subscription_type  minute_price  start_ride_price  \\\n",
       "0         Тюмень             ultra             6                 0   \n",
       "1         Тюмень             ultra             6                 0   \n",
       "2         Тюмень             ultra             6                 0   \n",
       "3         Тюмень             ultra             6                 0   \n",
       "4         Тюмень             ultra             6                 0   \n",
       "...          ...               ...           ...               ...   \n",
       "18063  Краснодар              free             8                50   \n",
       "18064  Краснодар              free             8                50   \n",
       "18065  Краснодар              free             8                50   \n",
       "18066  Краснодар              free             8                50   \n",
       "18067  Краснодар              free             8                50   \n",
       "\n",
       "       subscription_fee  \n",
       "0                   199  \n",
       "1                   199  \n",
       "2                   199  \n",
       "3                   199  \n",
       "4                   199  \n",
       "...                 ...  \n",
       "18063                 0  \n",
       "18064                 0  \n",
       "18065                 0  \n",
       "18066                 0  \n",
       "18067                 0  \n",
       "\n",
       "[18068 rows x 12 columns]"
      ]
     },
     "metadata": {},
     "output_type": "display_data"
    }
   ],
   "source": [
    "data_go.info()\n",
    "display(data_go)"
   ]
  },
  {
   "cell_type": "markdown",
   "id": "c812b3ee",
   "metadata": {},
   "source": [
    "Проверим датафрейм `data_go` на отсутствующие значения:"
   ]
  },
  {
   "cell_type": "code",
   "execution_count": 30,
   "id": "a373fadf",
   "metadata": {},
   "outputs": [
    {
     "data": {
      "text/plain": [
       "user_id              0\n",
       "distance             0\n",
       "duration             0\n",
       "date                 0\n",
       "month                0\n",
       "name                 0\n",
       "age                  0\n",
       "city                 0\n",
       "subscription_type    0\n",
       "minute_price         0\n",
       "start_ride_price     0\n",
       "subscription_fee     0\n",
       "dtype: int64"
      ]
     },
     "execution_count": 30,
     "metadata": {},
     "output_type": "execute_result"
    }
   ],
   "source": [
    "data_go.isna().sum()"
   ]
  },
  {
   "cell_type": "markdown",
   "id": "a500f24f",
   "metadata": {},
   "source": [
    "**Вывод:**\n",
    "- Полученный датафрейм `data_go` имеет 18086 записей о поездках.\n",
    "- Пропуски отсутствуют.\n",
    "- Данные полные, потерь при объединении нет."
   ]
  },
  {
   "cell_type": "markdown",
   "id": "a6d24671",
   "metadata": {},
   "source": [
    "### Создание ещё два датафрейма"
   ]
  },
  {
   "cell_type": "markdown",
   "id": "65eef7a7",
   "metadata": {},
   "source": [
    "С данными о пользователях без подписки:"
   ]
  },
  {
   "cell_type": "code",
   "execution_count": 31,
   "id": "689e6d6b",
   "metadata": {},
   "outputs": [
    {
     "data": {
      "text/html": [
       "<div>\n",
       "<style scoped>\n",
       "    .dataframe tbody tr th:only-of-type {\n",
       "        vertical-align: middle;\n",
       "    }\n",
       "\n",
       "    .dataframe tbody tr th {\n",
       "        vertical-align: top;\n",
       "    }\n",
       "\n",
       "    .dataframe thead th {\n",
       "        text-align: right;\n",
       "    }\n",
       "</style>\n",
       "<table border=\"1\" class=\"dataframe\">\n",
       "  <thead>\n",
       "    <tr style=\"text-align: right;\">\n",
       "      <th></th>\n",
       "      <th>user_id</th>\n",
       "      <th>distance</th>\n",
       "      <th>duration</th>\n",
       "      <th>date</th>\n",
       "      <th>month</th>\n",
       "      <th>name</th>\n",
       "      <th>age</th>\n",
       "      <th>city</th>\n",
       "      <th>subscription_type</th>\n",
       "      <th>minute_price</th>\n",
       "      <th>start_ride_price</th>\n",
       "      <th>subscription_fee</th>\n",
       "    </tr>\n",
       "  </thead>\n",
       "  <tbody>\n",
       "    <tr>\n",
       "      <th>6500</th>\n",
       "      <td>700</td>\n",
       "      <td>2515.690719</td>\n",
       "      <td>14.944286</td>\n",
       "      <td>2021-01-02</td>\n",
       "      <td>1</td>\n",
       "      <td>Айдар</td>\n",
       "      <td>22</td>\n",
       "      <td>Омск</td>\n",
       "      <td>free</td>\n",
       "      <td>8</td>\n",
       "      <td>50</td>\n",
       "      <td>0</td>\n",
       "    </tr>\n",
       "    <tr>\n",
       "      <th>6501</th>\n",
       "      <td>700</td>\n",
       "      <td>846.932642</td>\n",
       "      <td>16.234663</td>\n",
       "      <td>2021-02-01</td>\n",
       "      <td>2</td>\n",
       "      <td>Айдар</td>\n",
       "      <td>22</td>\n",
       "      <td>Омск</td>\n",
       "      <td>free</td>\n",
       "      <td>8</td>\n",
       "      <td>50</td>\n",
       "      <td>0</td>\n",
       "    </tr>\n",
       "    <tr>\n",
       "      <th>6502</th>\n",
       "      <td>700</td>\n",
       "      <td>4004.434142</td>\n",
       "      <td>20.016628</td>\n",
       "      <td>2021-02-04</td>\n",
       "      <td>2</td>\n",
       "      <td>Айдар</td>\n",
       "      <td>22</td>\n",
       "      <td>Омск</td>\n",
       "      <td>free</td>\n",
       "      <td>8</td>\n",
       "      <td>50</td>\n",
       "      <td>0</td>\n",
       "    </tr>\n",
       "    <tr>\n",
       "      <th>6503</th>\n",
       "      <td>700</td>\n",
       "      <td>1205.911290</td>\n",
       "      <td>9.782872</td>\n",
       "      <td>2021-02-10</td>\n",
       "      <td>2</td>\n",
       "      <td>Айдар</td>\n",
       "      <td>22</td>\n",
       "      <td>Омск</td>\n",
       "      <td>free</td>\n",
       "      <td>8</td>\n",
       "      <td>50</td>\n",
       "      <td>0</td>\n",
       "    </tr>\n",
       "    <tr>\n",
       "      <th>6504</th>\n",
       "      <td>700</td>\n",
       "      <td>3047.379435</td>\n",
       "      <td>17.427673</td>\n",
       "      <td>2021-02-14</td>\n",
       "      <td>2</td>\n",
       "      <td>Айдар</td>\n",
       "      <td>22</td>\n",
       "      <td>Омск</td>\n",
       "      <td>free</td>\n",
       "      <td>8</td>\n",
       "      <td>50</td>\n",
       "      <td>0</td>\n",
       "    </tr>\n",
       "  </tbody>\n",
       "</table>\n",
       "</div>"
      ],
      "text/plain": [
       "      user_id     distance   duration       date  month   name  age  city  \\\n",
       "6500      700  2515.690719  14.944286 2021-01-02      1  Айдар   22  Омск   \n",
       "6501      700   846.932642  16.234663 2021-02-01      2  Айдар   22  Омск   \n",
       "6502      700  4004.434142  20.016628 2021-02-04      2  Айдар   22  Омск   \n",
       "6503      700  1205.911290   9.782872 2021-02-10      2  Айдар   22  Омск   \n",
       "6504      700  3047.379435  17.427673 2021-02-14      2  Айдар   22  Омск   \n",
       "\n",
       "     subscription_type  minute_price  start_ride_price  subscription_fee  \n",
       "6500              free             8                50                 0  \n",
       "6501              free             8                50                 0  \n",
       "6502              free             8                50                 0  \n",
       "6503              free             8                50                 0  \n",
       "6504              free             8                50                 0  "
      ]
     },
     "execution_count": 31,
     "metadata": {},
     "output_type": "execute_result"
    }
   ],
   "source": [
    "data_go_free = data_go[data_go['subscription_type'] == 'free']\n",
    "data_go_free.head()"
   ]
  },
  {
   "cell_type": "markdown",
   "id": "d2955e8f",
   "metadata": {},
   "source": [
    "С данными о пользователях с подпиской:"
   ]
  },
  {
   "cell_type": "code",
   "execution_count": 32,
   "id": "8cb2befe",
   "metadata": {},
   "outputs": [
    {
     "data": {
      "text/html": [
       "<div>\n",
       "<style scoped>\n",
       "    .dataframe tbody tr th:only-of-type {\n",
       "        vertical-align: middle;\n",
       "    }\n",
       "\n",
       "    .dataframe tbody tr th {\n",
       "        vertical-align: top;\n",
       "    }\n",
       "\n",
       "    .dataframe thead th {\n",
       "        text-align: right;\n",
       "    }\n",
       "</style>\n",
       "<table border=\"1\" class=\"dataframe\">\n",
       "  <thead>\n",
       "    <tr style=\"text-align: right;\">\n",
       "      <th></th>\n",
       "      <th>user_id</th>\n",
       "      <th>distance</th>\n",
       "      <th>duration</th>\n",
       "      <th>date</th>\n",
       "      <th>month</th>\n",
       "      <th>name</th>\n",
       "      <th>age</th>\n",
       "      <th>city</th>\n",
       "      <th>subscription_type</th>\n",
       "      <th>minute_price</th>\n",
       "      <th>start_ride_price</th>\n",
       "      <th>subscription_fee</th>\n",
       "    </tr>\n",
       "  </thead>\n",
       "  <tbody>\n",
       "    <tr>\n",
       "      <th>0</th>\n",
       "      <td>1</td>\n",
       "      <td>4409.919140</td>\n",
       "      <td>25.599769</td>\n",
       "      <td>2021-01-01</td>\n",
       "      <td>1</td>\n",
       "      <td>Кира</td>\n",
       "      <td>22</td>\n",
       "      <td>Тюмень</td>\n",
       "      <td>ultra</td>\n",
       "      <td>6</td>\n",
       "      <td>0</td>\n",
       "      <td>199</td>\n",
       "    </tr>\n",
       "    <tr>\n",
       "      <th>1</th>\n",
       "      <td>1</td>\n",
       "      <td>2617.592153</td>\n",
       "      <td>15.816871</td>\n",
       "      <td>2021-01-18</td>\n",
       "      <td>1</td>\n",
       "      <td>Кира</td>\n",
       "      <td>22</td>\n",
       "      <td>Тюмень</td>\n",
       "      <td>ultra</td>\n",
       "      <td>6</td>\n",
       "      <td>0</td>\n",
       "      <td>199</td>\n",
       "    </tr>\n",
       "    <tr>\n",
       "      <th>2</th>\n",
       "      <td>1</td>\n",
       "      <td>754.159807</td>\n",
       "      <td>6.232113</td>\n",
       "      <td>2021-04-20</td>\n",
       "      <td>4</td>\n",
       "      <td>Кира</td>\n",
       "      <td>22</td>\n",
       "      <td>Тюмень</td>\n",
       "      <td>ultra</td>\n",
       "      <td>6</td>\n",
       "      <td>0</td>\n",
       "      <td>199</td>\n",
       "    </tr>\n",
       "    <tr>\n",
       "      <th>3</th>\n",
       "      <td>1</td>\n",
       "      <td>2694.783254</td>\n",
       "      <td>18.511000</td>\n",
       "      <td>2021-08-11</td>\n",
       "      <td>8</td>\n",
       "      <td>Кира</td>\n",
       "      <td>22</td>\n",
       "      <td>Тюмень</td>\n",
       "      <td>ultra</td>\n",
       "      <td>6</td>\n",
       "      <td>0</td>\n",
       "      <td>199</td>\n",
       "    </tr>\n",
       "    <tr>\n",
       "      <th>4</th>\n",
       "      <td>1</td>\n",
       "      <td>4028.687306</td>\n",
       "      <td>26.265803</td>\n",
       "      <td>2021-08-28</td>\n",
       "      <td>8</td>\n",
       "      <td>Кира</td>\n",
       "      <td>22</td>\n",
       "      <td>Тюмень</td>\n",
       "      <td>ultra</td>\n",
       "      <td>6</td>\n",
       "      <td>0</td>\n",
       "      <td>199</td>\n",
       "    </tr>\n",
       "  </tbody>\n",
       "</table>\n",
       "</div>"
      ],
      "text/plain": [
       "   user_id     distance   duration       date  month  name  age    city  \\\n",
       "0        1  4409.919140  25.599769 2021-01-01      1  Кира   22  Тюмень   \n",
       "1        1  2617.592153  15.816871 2021-01-18      1  Кира   22  Тюмень   \n",
       "2        1   754.159807   6.232113 2021-04-20      4  Кира   22  Тюмень   \n",
       "3        1  2694.783254  18.511000 2021-08-11      8  Кира   22  Тюмень   \n",
       "4        1  4028.687306  26.265803 2021-08-28      8  Кира   22  Тюмень   \n",
       "\n",
       "  subscription_type  minute_price  start_ride_price  subscription_fee  \n",
       "0             ultra             6                 0               199  \n",
       "1             ultra             6                 0               199  \n",
       "2             ultra             6                 0               199  \n",
       "3             ultra             6                 0               199  \n",
       "4             ultra             6                 0               199  "
      ]
     },
     "execution_count": 32,
     "metadata": {},
     "output_type": "execute_result"
    }
   ],
   "source": [
    "data_go_ultra = data_go[data_go['subscription_type'] == 'ultra']\n",
    "data_go_ultra.head()"
   ]
  },
  {
   "cell_type": "code",
   "execution_count": 33,
   "id": "a6ed85d4",
   "metadata": {},
   "outputs": [
    {
     "name": "stdout",
     "output_type": "stream",
     "text": [
      "user_id              0\n",
      "distance             0\n",
      "duration             0\n",
      "date                 0\n",
      "month                0\n",
      "name                 0\n",
      "age                  0\n",
      "city                 0\n",
      "subscription_type    0\n",
      "minute_price         0\n",
      "start_ride_price     0\n",
      "subscription_fee     0\n",
      "dtype: int64\n",
      "\n",
      "user_id              0\n",
      "distance             0\n",
      "duration             0\n",
      "date                 0\n",
      "month                0\n",
      "name                 0\n",
      "age                  0\n",
      "city                 0\n",
      "subscription_type    0\n",
      "minute_price         0\n",
      "start_ride_price     0\n",
      "subscription_fee     0\n",
      "dtype: int64\n"
     ]
    }
   ],
   "source": [
    "# Проверим на пропуски:\n",
    "print(data_go_free.isna().sum())\n",
    "print()\n",
    "print(data_go_ultra.isna().sum())"
   ]
  },
  {
   "cell_type": "code",
   "execution_count": 34,
   "id": "aa33192c",
   "metadata": {},
   "outputs": [
    {
     "name": "stdout",
     "output_type": "stream",
     "text": [
      "Количество записей в данных без подписки: 11568\n",
      "Количество записей в данных с подпиской: 6500\n",
      "Всего записей: 18068\n"
     ]
    }
   ],
   "source": [
    "print('Количество записей в данных без подписки:',data_go_free.shape[0])\n",
    "print('Количество записей в данных с подпиской:',data_go_ultra.shape[0])\n",
    "print('Всего записей:', data_go_free.shape[0]+data_go_ultra.shape[0])"
   ]
  },
  {
   "cell_type": "markdown",
   "id": "515abec6",
   "metadata": {},
   "source": [
    "**Вывод:**\n",
    "- Созданны два датафрейма `data_go_free` - поездки без подписки и `data_go_ultra` - с подпиской.\n",
    "- При разделении пропусков и потерь данных нет."
   ]
  },
  {
   "cell_type": "markdown",
   "id": "b5dbe83e",
   "metadata": {},
   "source": [
    "###  Визуализируем информацию о расстоянии и времени поездок"
   ]
  },
  {
   "cell_type": "markdown",
   "id": "ccb89b2e",
   "metadata": {},
   "source": [
    "Визуализация информации о расстоянии:"
   ]
  },
  {
   "cell_type": "code",
   "execution_count": 35,
   "id": "98c7756b",
   "metadata": {},
   "outputs": [
    {
     "data": {
      "image/png": "[encoded data removed]",
      "text/plain": [
       "<Figure size 1080x864 with 2 Axes>"
      ]
     },
     "metadata": {
      "needs_background": "light"
     },
     "output_type": "display_data"
    }
   ],
   "source": [
    "plt.figure(figsize=(15, 12))\n",
    "ax1 = plt.subplot(2, 2, 1)\n",
    "data_go_free['distance'].hist(bins=50, ec='black', legend=True, grid=True, ax=ax1)\n",
    "plt.title('Без подписки',fontsize=18)\n",
    "plt.ylabel('Количество поездок',fontsize=15)\n",
    "plt.xlabel('Расстояние в метрах',fontsize=15)\n",
    "\n",
    "ax2 = plt.subplot(2, 2, 2)\n",
    "data_go_ultra['distance'].hist(bins=50, ec='black', legend=True, grid=True, ax=ax2)\n",
    "plt.title('С подпиской',fontsize=18)\n",
    "plt.ylabel('Количество поездок',fontsize=15)\n",
    "plt.xlabel('Расстояние в метрах',fontsize=15)\n",
    "plt.show();"
   ]
  },
  {
   "cell_type": "markdown",
   "id": "c29a63c3",
   "metadata": {},
   "source": [
    "Визуализация информации о времени поездок:"
   ]
  },
  {
   "cell_type": "code",
   "execution_count": 36,
   "id": "4e2421c9",
   "metadata": {},
   "outputs": [
    {
     "data": {
      "image/png": "[encoded data removed]",
      "text/plain": [
       "<Figure size 1080x864 with 2 Axes>"
      ]
     },
     "metadata": {
      "needs_background": "light"
     },
     "output_type": "display_data"
    }
   ],
   "source": [
    "plt.figure(figsize=(15, 12))\n",
    "ax1 = plt.subplot(2, 2, 1)\n",
    "data_go_free['duration'].hist(bins=50, ec='black', legend=True, grid=True, ax=ax1)\n",
    "plt.title('Без подписки',fontsize=18)\n",
    "plt.ylabel('Количество поездок',fontsize=15)\n",
    "plt.xlabel('Продолжительность поездки, мин.',fontsize=15)\n",
    "\n",
    "ax2 = plt.subplot(2, 2, 2)\n",
    "data_go_ultra['duration'].hist(bins=50, ec='black', legend=True, grid=True, ax=ax2)\n",
    "plt.title('С подпиской',fontsize=18)\n",
    "plt.ylabel('Количество поездок',fontsize=15)\n",
    "plt.xlabel('Продолжительность поездки, мин.',fontsize=15)\n",
    "plt.show();"
   ]
  },
  {
   "cell_type": "code",
   "execution_count": 37,
   "id": "30eeb9ef",
   "metadata": {},
   "outputs": [
    {
     "data": {
      "text/html": [
       "<div>\n",
       "<style scoped>\n",
       "    .dataframe tbody tr th:only-of-type {\n",
       "        vertical-align: middle;\n",
       "    }\n",
       "\n",
       "    .dataframe tbody tr th {\n",
       "        vertical-align: top;\n",
       "    }\n",
       "\n",
       "    .dataframe thead th {\n",
       "        text-align: right;\n",
       "    }\n",
       "</style>\n",
       "<table border=\"1\" class=\"dataframe\">\n",
       "  <thead>\n",
       "    <tr style=\"text-align: right;\">\n",
       "      <th></th>\n",
       "      <th>count</th>\n",
       "      <th>mean</th>\n",
       "      <th>std</th>\n",
       "      <th>min</th>\n",
       "      <th>25%</th>\n",
       "      <th>50%</th>\n",
       "      <th>75%</th>\n",
       "      <th>max</th>\n",
       "    </tr>\n",
       "  </thead>\n",
       "  <tbody>\n",
       "    <tr>\n",
       "      <th>distance</th>\n",
       "      <td>11568.0</td>\n",
       "      <td>3045.495282</td>\n",
       "      <td>1246.173806</td>\n",
       "      <td>0.855683</td>\n",
       "      <td>2366.562689</td>\n",
       "      <td>3114.648465</td>\n",
       "      <td>3905.697894</td>\n",
       "      <td>7211.007745</td>\n",
       "    </tr>\n",
       "    <tr>\n",
       "      <th>duration</th>\n",
       "      <td>11568.0</td>\n",
       "      <td>17.390909</td>\n",
       "      <td>6.326803</td>\n",
       "      <td>0.500000</td>\n",
       "      <td>12.958437</td>\n",
       "      <td>17.326890</td>\n",
       "      <td>21.594071</td>\n",
       "      <td>34.948498</td>\n",
       "    </tr>\n",
       "  </tbody>\n",
       "</table>\n",
       "</div>"
      ],
      "text/plain": [
       "            count         mean          std       min          25%  \\\n",
       "distance  11568.0  3045.495282  1246.173806  0.855683  2366.562689   \n",
       "duration  11568.0    17.390909     6.326803  0.500000    12.958437   \n",
       "\n",
       "                  50%          75%          max  \n",
       "distance  3114.648465  3905.697894  7211.007745  \n",
       "duration    17.326890    21.594071    34.948498  "
      ]
     },
     "execution_count": 37,
     "metadata": {},
     "output_type": "execute_result"
    }
   ],
   "source": [
    "data_go_free[['distance','duration']].describe().transpose()"
   ]
  },
  {
   "cell_type": "code",
   "execution_count": 38,
   "id": "0f12a268",
   "metadata": {
    "scrolled": true
   },
   "outputs": [
    {
     "data": {
      "text/html": [
       "<div>\n",
       "<style scoped>\n",
       "    .dataframe tbody tr th:only-of-type {\n",
       "        vertical-align: middle;\n",
       "    }\n",
       "\n",
       "    .dataframe tbody tr th {\n",
       "        vertical-align: top;\n",
       "    }\n",
       "\n",
       "    .dataframe thead th {\n",
       "        text-align: right;\n",
       "    }\n",
       "</style>\n",
       "<table border=\"1\" class=\"dataframe\">\n",
       "  <thead>\n",
       "    <tr style=\"text-align: right;\">\n",
       "      <th></th>\n",
       "      <th>count</th>\n",
       "      <th>mean</th>\n",
       "      <th>std</th>\n",
       "      <th>min</th>\n",
       "      <th>25%</th>\n",
       "      <th>50%</th>\n",
       "      <th>75%</th>\n",
       "      <th>max</th>\n",
       "    </tr>\n",
       "  </thead>\n",
       "  <tbody>\n",
       "    <tr>\n",
       "      <th>distance</th>\n",
       "      <td>6500.0</td>\n",
       "      <td>3115.445388</td>\n",
       "      <td>836.895330</td>\n",
       "      <td>244.210438</td>\n",
       "      <td>2785.444017</td>\n",
       "      <td>3148.637229</td>\n",
       "      <td>3560.574425</td>\n",
       "      <td>5699.769662</td>\n",
       "    </tr>\n",
       "    <tr>\n",
       "      <th>duration</th>\n",
       "      <td>6500.0</td>\n",
       "      <td>18.541985</td>\n",
       "      <td>5.572048</td>\n",
       "      <td>3.760353</td>\n",
       "      <td>14.524654</td>\n",
       "      <td>18.178153</td>\n",
       "      <td>21.884129</td>\n",
       "      <td>40.823963</td>\n",
       "    </tr>\n",
       "  </tbody>\n",
       "</table>\n",
       "</div>"
      ],
      "text/plain": [
       "           count         mean         std         min          25%  \\\n",
       "distance  6500.0  3115.445388  836.895330  244.210438  2785.444017   \n",
       "duration  6500.0    18.541985    5.572048    3.760353    14.524654   \n",
       "\n",
       "                  50%          75%          max  \n",
       "distance  3148.637229  3560.574425  5699.769662  \n",
       "duration    18.178153    21.884129    40.823963  "
      ]
     },
     "execution_count": 38,
     "metadata": {},
     "output_type": "execute_result"
    }
   ],
   "source": [
    "data_go_ultra[['distance','duration']].describe().transpose()"
   ]
  },
  {
   "cell_type": "markdown",
   "id": "e8c5aa9f",
   "metadata": {},
   "source": [
    "### Промежуточный вывод"
   ]
  },
  {
   "cell_type": "markdown",
   "id": "cd80e0ed",
   "metadata": {},
   "source": [
    "- На этом этапе объеденили данные в одну таблицу, разделили на датафреймы: без подписки `data_go_free` и с подпиской `data_go_ultra`.\n",
    "- Расстояние поездки без подписки варьируется в пределах от 2000 до 4500 метров, с медианной величиной 3115 метров. В то время как с подпиской это расстояние составляет от 2800 до 3500 метров, с медианной величиной 3148 метров.\n",
    "- Время поездки без подписки варьируется от 10 до 18 минут, с медианной величиной чуть больше 17 минут. В то время как с подпиской это время составляет от 13 до 23 минут, с медианной величиной чуть больше 18 минут.\n",
    "\n",
    "Согласно данных и их визуализации можно сделать вывод, что вероятно подпиской регулярно пользуются одни и те же пользователи, чтобы добраться до учебы или работы."
   ]
  },
  {
   "cell_type": "markdown",
   "id": "402d620f",
   "metadata": {},
   "source": [
    "## Подсчёт выручки"
   ]
  },
  {
   "cell_type": "markdown",
   "id": "0c751642",
   "metadata": {},
   "source": [
    "### Подсчёт общей выручки сервиса"
   ]
  },
  {
   "cell_type": "markdown",
   "id": "86fb0cc0",
   "metadata": {},
   "source": [
    " Создадим датафрейм с агрегированными данными о поездках на основе датафрейма с объединёнными данными из шага 7:"
   ]
  },
  {
   "cell_type": "code",
   "execution_count": 39,
   "id": "c9afaff1",
   "metadata": {
    "scrolled": true
   },
   "outputs": [
    {
     "data": {
      "text/html": [
       "<div>\n",
       "<style scoped>\n",
       "    .dataframe tbody tr th:only-of-type {\n",
       "        vertical-align: middle;\n",
       "    }\n",
       "\n",
       "    .dataframe tbody tr th {\n",
       "        vertical-align: top;\n",
       "    }\n",
       "\n",
       "    .dataframe thead th {\n",
       "        text-align: right;\n",
       "    }\n",
       "</style>\n",
       "<table border=\"1\" class=\"dataframe\">\n",
       "  <thead>\n",
       "    <tr style=\"text-align: right;\">\n",
       "      <th></th>\n",
       "      <th></th>\n",
       "      <th>count</th>\n",
       "      <th>distance</th>\n",
       "      <th>duration</th>\n",
       "      <th>minute_price</th>\n",
       "      <th>start_ride_price</th>\n",
       "      <th>subscription_fee</th>\n",
       "    </tr>\n",
       "    <tr>\n",
       "      <th>user_id</th>\n",
       "      <th>month</th>\n",
       "      <th></th>\n",
       "      <th></th>\n",
       "      <th></th>\n",
       "      <th></th>\n",
       "      <th></th>\n",
       "      <th></th>\n",
       "    </tr>\n",
       "  </thead>\n",
       "  <tbody>\n",
       "    <tr>\n",
       "      <th rowspan=\"6\" valign=\"top\">1</th>\n",
       "      <th>1</th>\n",
       "      <td>2</td>\n",
       "      <td>7027.511294</td>\n",
       "      <td>42.0</td>\n",
       "      <td>6</td>\n",
       "      <td>0</td>\n",
       "      <td>199</td>\n",
       "    </tr>\n",
       "    <tr>\n",
       "      <th>4</th>\n",
       "      <td>1</td>\n",
       "      <td>754.159807</td>\n",
       "      <td>7.0</td>\n",
       "      <td>6</td>\n",
       "      <td>0</td>\n",
       "      <td>199</td>\n",
       "    </tr>\n",
       "    <tr>\n",
       "      <th>8</th>\n",
       "      <td>2</td>\n",
       "      <td>6723.470560</td>\n",
       "      <td>46.0</td>\n",
       "      <td>6</td>\n",
       "      <td>0</td>\n",
       "      <td>199</td>\n",
       "    </tr>\n",
       "    <tr>\n",
       "      <th>10</th>\n",
       "      <td>2</td>\n",
       "      <td>5809.911100</td>\n",
       "      <td>32.0</td>\n",
       "      <td>6</td>\n",
       "      <td>0</td>\n",
       "      <td>199</td>\n",
       "    </tr>\n",
       "    <tr>\n",
       "      <th>11</th>\n",
       "      <td>3</td>\n",
       "      <td>7003.499363</td>\n",
       "      <td>56.0</td>\n",
       "      <td>6</td>\n",
       "      <td>0</td>\n",
       "      <td>199</td>\n",
       "    </tr>\n",
       "    <tr>\n",
       "      <th>12</th>\n",
       "      <td>2</td>\n",
       "      <td>6751.629942</td>\n",
       "      <td>28.0</td>\n",
       "      <td>6</td>\n",
       "      <td>0</td>\n",
       "      <td>199</td>\n",
       "    </tr>\n",
       "    <tr>\n",
       "      <th rowspan=\"7\" valign=\"top\">2</th>\n",
       "      <th>3</th>\n",
       "      <td>3</td>\n",
       "      <td>10187.723006</td>\n",
       "      <td>63.0</td>\n",
       "      <td>6</td>\n",
       "      <td>0</td>\n",
       "      <td>199</td>\n",
       "    </tr>\n",
       "    <tr>\n",
       "      <th>4</th>\n",
       "      <td>2</td>\n",
       "      <td>6164.381824</td>\n",
       "      <td>40.0</td>\n",
       "      <td>6</td>\n",
       "      <td>0</td>\n",
       "      <td>199</td>\n",
       "    </tr>\n",
       "    <tr>\n",
       "      <th>6</th>\n",
       "      <td>1</td>\n",
       "      <td>3255.338202</td>\n",
       "      <td>14.0</td>\n",
       "      <td>6</td>\n",
       "      <td>0</td>\n",
       "      <td>199</td>\n",
       "    </tr>\n",
       "    <tr>\n",
       "      <th>7</th>\n",
       "      <td>2</td>\n",
       "      <td>6780.722964</td>\n",
       "      <td>48.0</td>\n",
       "      <td>6</td>\n",
       "      <td>0</td>\n",
       "      <td>199</td>\n",
       "    </tr>\n",
       "    <tr>\n",
       "      <th>8</th>\n",
       "      <td>1</td>\n",
       "      <td>923.007439</td>\n",
       "      <td>7.0</td>\n",
       "      <td>6</td>\n",
       "      <td>0</td>\n",
       "      <td>199</td>\n",
       "    </tr>\n",
       "    <tr>\n",
       "      <th>10</th>\n",
       "      <td>1</td>\n",
       "      <td>2824.636598</td>\n",
       "      <td>19.0</td>\n",
       "      <td>6</td>\n",
       "      <td>0</td>\n",
       "      <td>199</td>\n",
       "    </tr>\n",
       "    <tr>\n",
       "      <th>12</th>\n",
       "      <td>1</td>\n",
       "      <td>3828.248580</td>\n",
       "      <td>12.0</td>\n",
       "      <td>6</td>\n",
       "      <td>0</td>\n",
       "      <td>199</td>\n",
       "    </tr>\n",
       "    <tr>\n",
       "      <th rowspan=\"7\" valign=\"top\">3</th>\n",
       "      <th>1</th>\n",
       "      <td>1</td>\n",
       "      <td>3061.777147</td>\n",
       "      <td>13.0</td>\n",
       "      <td>6</td>\n",
       "      <td>0</td>\n",
       "      <td>199</td>\n",
       "    </tr>\n",
       "    <tr>\n",
       "      <th>2</th>\n",
       "      <td>2</td>\n",
       "      <td>5421.152016</td>\n",
       "      <td>39.0</td>\n",
       "      <td>6</td>\n",
       "      <td>0</td>\n",
       "      <td>199</td>\n",
       "    </tr>\n",
       "    <tr>\n",
       "      <th>4</th>\n",
       "      <td>1</td>\n",
       "      <td>2956.651632</td>\n",
       "      <td>21.0</td>\n",
       "      <td>6</td>\n",
       "      <td>0</td>\n",
       "      <td>199</td>\n",
       "    </tr>\n",
       "    <tr>\n",
       "      <th>5</th>\n",
       "      <td>3</td>\n",
       "      <td>9064.026918</td>\n",
       "      <td>63.0</td>\n",
       "      <td>6</td>\n",
       "      <td>0</td>\n",
       "      <td>199</td>\n",
       "    </tr>\n",
       "    <tr>\n",
       "      <th>7</th>\n",
       "      <td>3</td>\n",
       "      <td>10919.595403</td>\n",
       "      <td>67.0</td>\n",
       "      <td>6</td>\n",
       "      <td>0</td>\n",
       "      <td>199</td>\n",
       "    </tr>\n",
       "    <tr>\n",
       "      <th>9</th>\n",
       "      <td>1</td>\n",
       "      <td>2891.012822</td>\n",
       "      <td>23.0</td>\n",
       "      <td>6</td>\n",
       "      <td>0</td>\n",
       "      <td>199</td>\n",
       "    </tr>\n",
       "    <tr>\n",
       "      <th>12</th>\n",
       "      <td>1</td>\n",
       "      <td>2593.381928</td>\n",
       "      <td>13.0</td>\n",
       "      <td>6</td>\n",
       "      <td>0</td>\n",
       "      <td>199</td>\n",
       "    </tr>\n",
       "  </tbody>\n",
       "</table>\n",
       "</div>"
      ],
      "text/plain": [
       "               count      distance  duration  minute_price  start_ride_price  \\\n",
       "user_id month                                                                  \n",
       "1       1          2   7027.511294      42.0             6                 0   \n",
       "        4          1    754.159807       7.0             6                 0   \n",
       "        8          2   6723.470560      46.0             6                 0   \n",
       "        10         2   5809.911100      32.0             6                 0   \n",
       "        11         3   7003.499363      56.0             6                 0   \n",
       "        12         2   6751.629942      28.0             6                 0   \n",
       "2       3          3  10187.723006      63.0             6                 0   \n",
       "        4          2   6164.381824      40.0             6                 0   \n",
       "        6          1   3255.338202      14.0             6                 0   \n",
       "        7          2   6780.722964      48.0             6                 0   \n",
       "        8          1    923.007439       7.0             6                 0   \n",
       "        10         1   2824.636598      19.0             6                 0   \n",
       "        12         1   3828.248580      12.0             6                 0   \n",
       "3       1          1   3061.777147      13.0             6                 0   \n",
       "        2          2   5421.152016      39.0             6                 0   \n",
       "        4          1   2956.651632      21.0             6                 0   \n",
       "        5          3   9064.026918      63.0             6                 0   \n",
       "        7          3  10919.595403      67.0             6                 0   \n",
       "        9          1   2891.012822      23.0             6                 0   \n",
       "        12         1   2593.381928      13.0             6                 0   \n",
       "\n",
       "               subscription_fee  \n",
       "user_id month                    \n",
       "1       1                   199  \n",
       "        4                   199  \n",
       "        8                   199  \n",
       "        10                  199  \n",
       "        11                  199  \n",
       "        12                  199  \n",
       "2       3                   199  \n",
       "        4                   199  \n",
       "        6                   199  \n",
       "        7                   199  \n",
       "        8                   199  \n",
       "        10                  199  \n",
       "        12                  199  \n",
       "3       1                   199  \n",
       "        2                   199  \n",
       "        4                   199  \n",
       "        5                   199  \n",
       "        7                   199  \n",
       "        9                   199  \n",
       "        12                  199  "
      ]
     },
     "execution_count": 39,
     "metadata": {},
     "output_type": "execute_result"
    }
   ],
   "source": [
    "# каждое значение из столбца duration округляется с помощью «потолка»: \n",
    "data_go['duration'] = np.ceil(data_go['duration'])\n",
    "\n",
    "revenue = data_go.pivot_table(\n",
    "    index=('user_id', 'month'), \n",
    "    values=('distance', \n",
    "            'duration', \n",
    "            'minute_price', \n",
    "            'start_ride_price', \n",
    "            'subscription_fee'), \n",
    "    aggfunc=({'distance':{'count', 'sum'}, \n",
    "             'duration':'sum',\n",
    "             'minute_price': 'mean',\n",
    "             'start_ride_price':'mean',\n",
    "             'subscription_fee':'mean',}))\n",
    "\n",
    "revenue.columns = ['count', 'distance', 'duration', \n",
    "                   'minute_price','start_ride_price', \n",
    "                   'subscription_fee']\n",
    "\n",
    "revenue.head(20)"
   ]
  },
  {
   "cell_type": "code",
   "execution_count": 40,
   "id": "26aa81ef",
   "metadata": {},
   "outputs": [
    {
     "data": {
      "text/plain": [
       "count               0\n",
       "distance            0\n",
       "duration            0\n",
       "minute_price        0\n",
       "start_ride_price    0\n",
       "subscription_fee    0\n",
       "dtype: int64"
      ]
     },
     "execution_count": 40,
     "metadata": {},
     "output_type": "execute_result"
    }
   ],
   "source": [
    "#Проверим на наличие пропусков:\n",
    "revenue.isna().sum()"
   ]
  },
  {
   "cell_type": "markdown",
   "id": "ff0d8ab7",
   "metadata": {},
   "source": [
    "В этот же датафрейм добавляем столбец с помесячной выручкой, которую принёс каждый пользователь. "
   ]
  },
  {
   "cell_type": "code",
   "execution_count": 41,
   "id": "8057b0b1",
   "metadata": {},
   "outputs": [
    {
     "data": {
      "text/html": [
       "<div>\n",
       "<style scoped>\n",
       "    .dataframe tbody tr th:only-of-type {\n",
       "        vertical-align: middle;\n",
       "    }\n",
       "\n",
       "    .dataframe tbody tr th {\n",
       "        vertical-align: top;\n",
       "    }\n",
       "\n",
       "    .dataframe thead th {\n",
       "        text-align: right;\n",
       "    }\n",
       "</style>\n",
       "<table border=\"1\" class=\"dataframe\">\n",
       "  <thead>\n",
       "    <tr style=\"text-align: right;\">\n",
       "      <th></th>\n",
       "      <th></th>\n",
       "      <th>count</th>\n",
       "      <th>distance</th>\n",
       "      <th>duration</th>\n",
       "      <th>minute_price</th>\n",
       "      <th>start_ride_price</th>\n",
       "      <th>subscription_fee</th>\n",
       "      <th>revenue</th>\n",
       "    </tr>\n",
       "    <tr>\n",
       "      <th>user_id</th>\n",
       "      <th>month</th>\n",
       "      <th></th>\n",
       "      <th></th>\n",
       "      <th></th>\n",
       "      <th></th>\n",
       "      <th></th>\n",
       "      <th></th>\n",
       "      <th></th>\n",
       "    </tr>\n",
       "  </thead>\n",
       "  <tbody>\n",
       "    <tr>\n",
       "      <th rowspan=\"6\" valign=\"top\">1</th>\n",
       "      <th>1</th>\n",
       "      <td>2</td>\n",
       "      <td>7027.511294</td>\n",
       "      <td>42.0</td>\n",
       "      <td>6</td>\n",
       "      <td>0</td>\n",
       "      <td>199</td>\n",
       "      <td>451.0</td>\n",
       "    </tr>\n",
       "    <tr>\n",
       "      <th>4</th>\n",
       "      <td>1</td>\n",
       "      <td>754.159807</td>\n",
       "      <td>7.0</td>\n",
       "      <td>6</td>\n",
       "      <td>0</td>\n",
       "      <td>199</td>\n",
       "      <td>241.0</td>\n",
       "    </tr>\n",
       "    <tr>\n",
       "      <th>8</th>\n",
       "      <td>2</td>\n",
       "      <td>6723.470560</td>\n",
       "      <td>46.0</td>\n",
       "      <td>6</td>\n",
       "      <td>0</td>\n",
       "      <td>199</td>\n",
       "      <td>475.0</td>\n",
       "    </tr>\n",
       "    <tr>\n",
       "      <th>10</th>\n",
       "      <td>2</td>\n",
       "      <td>5809.911100</td>\n",
       "      <td>32.0</td>\n",
       "      <td>6</td>\n",
       "      <td>0</td>\n",
       "      <td>199</td>\n",
       "      <td>391.0</td>\n",
       "    </tr>\n",
       "    <tr>\n",
       "      <th>11</th>\n",
       "      <td>3</td>\n",
       "      <td>7003.499363</td>\n",
       "      <td>56.0</td>\n",
       "      <td>6</td>\n",
       "      <td>0</td>\n",
       "      <td>199</td>\n",
       "      <td>535.0</td>\n",
       "    </tr>\n",
       "    <tr>\n",
       "      <th>12</th>\n",
       "      <td>2</td>\n",
       "      <td>6751.629942</td>\n",
       "      <td>28.0</td>\n",
       "      <td>6</td>\n",
       "      <td>0</td>\n",
       "      <td>199</td>\n",
       "      <td>367.0</td>\n",
       "    </tr>\n",
       "    <tr>\n",
       "      <th rowspan=\"7\" valign=\"top\">2</th>\n",
       "      <th>3</th>\n",
       "      <td>3</td>\n",
       "      <td>10187.723006</td>\n",
       "      <td>63.0</td>\n",
       "      <td>6</td>\n",
       "      <td>0</td>\n",
       "      <td>199</td>\n",
       "      <td>577.0</td>\n",
       "    </tr>\n",
       "    <tr>\n",
       "      <th>4</th>\n",
       "      <td>2</td>\n",
       "      <td>6164.381824</td>\n",
       "      <td>40.0</td>\n",
       "      <td>6</td>\n",
       "      <td>0</td>\n",
       "      <td>199</td>\n",
       "      <td>439.0</td>\n",
       "    </tr>\n",
       "    <tr>\n",
       "      <th>6</th>\n",
       "      <td>1</td>\n",
       "      <td>3255.338202</td>\n",
       "      <td>14.0</td>\n",
       "      <td>6</td>\n",
       "      <td>0</td>\n",
       "      <td>199</td>\n",
       "      <td>283.0</td>\n",
       "    </tr>\n",
       "    <tr>\n",
       "      <th>7</th>\n",
       "      <td>2</td>\n",
       "      <td>6780.722964</td>\n",
       "      <td>48.0</td>\n",
       "      <td>6</td>\n",
       "      <td>0</td>\n",
       "      <td>199</td>\n",
       "      <td>487.0</td>\n",
       "    </tr>\n",
       "    <tr>\n",
       "      <th>8</th>\n",
       "      <td>1</td>\n",
       "      <td>923.007439</td>\n",
       "      <td>7.0</td>\n",
       "      <td>6</td>\n",
       "      <td>0</td>\n",
       "      <td>199</td>\n",
       "      <td>241.0</td>\n",
       "    </tr>\n",
       "    <tr>\n",
       "      <th>10</th>\n",
       "      <td>1</td>\n",
       "      <td>2824.636598</td>\n",
       "      <td>19.0</td>\n",
       "      <td>6</td>\n",
       "      <td>0</td>\n",
       "      <td>199</td>\n",
       "      <td>313.0</td>\n",
       "    </tr>\n",
       "    <tr>\n",
       "      <th>12</th>\n",
       "      <td>1</td>\n",
       "      <td>3828.248580</td>\n",
       "      <td>12.0</td>\n",
       "      <td>6</td>\n",
       "      <td>0</td>\n",
       "      <td>199</td>\n",
       "      <td>271.0</td>\n",
       "    </tr>\n",
       "    <tr>\n",
       "      <th rowspan=\"7\" valign=\"top\">3</th>\n",
       "      <th>1</th>\n",
       "      <td>1</td>\n",
       "      <td>3061.777147</td>\n",
       "      <td>13.0</td>\n",
       "      <td>6</td>\n",
       "      <td>0</td>\n",
       "      <td>199</td>\n",
       "      <td>277.0</td>\n",
       "    </tr>\n",
       "    <tr>\n",
       "      <th>2</th>\n",
       "      <td>2</td>\n",
       "      <td>5421.152016</td>\n",
       "      <td>39.0</td>\n",
       "      <td>6</td>\n",
       "      <td>0</td>\n",
       "      <td>199</td>\n",
       "      <td>433.0</td>\n",
       "    </tr>\n",
       "    <tr>\n",
       "      <th>4</th>\n",
       "      <td>1</td>\n",
       "      <td>2956.651632</td>\n",
       "      <td>21.0</td>\n",
       "      <td>6</td>\n",
       "      <td>0</td>\n",
       "      <td>199</td>\n",
       "      <td>325.0</td>\n",
       "    </tr>\n",
       "    <tr>\n",
       "      <th>5</th>\n",
       "      <td>3</td>\n",
       "      <td>9064.026918</td>\n",
       "      <td>63.0</td>\n",
       "      <td>6</td>\n",
       "      <td>0</td>\n",
       "      <td>199</td>\n",
       "      <td>577.0</td>\n",
       "    </tr>\n",
       "    <tr>\n",
       "      <th>7</th>\n",
       "      <td>3</td>\n",
       "      <td>10919.595403</td>\n",
       "      <td>67.0</td>\n",
       "      <td>6</td>\n",
       "      <td>0</td>\n",
       "      <td>199</td>\n",
       "      <td>601.0</td>\n",
       "    </tr>\n",
       "    <tr>\n",
       "      <th>9</th>\n",
       "      <td>1</td>\n",
       "      <td>2891.012822</td>\n",
       "      <td>23.0</td>\n",
       "      <td>6</td>\n",
       "      <td>0</td>\n",
       "      <td>199</td>\n",
       "      <td>337.0</td>\n",
       "    </tr>\n",
       "    <tr>\n",
       "      <th>12</th>\n",
       "      <td>1</td>\n",
       "      <td>2593.381928</td>\n",
       "      <td>13.0</td>\n",
       "      <td>6</td>\n",
       "      <td>0</td>\n",
       "      <td>199</td>\n",
       "      <td>277.0</td>\n",
       "    </tr>\n",
       "  </tbody>\n",
       "</table>\n",
       "</div>"
      ],
      "text/plain": [
       "               count      distance  duration  minute_price  start_ride_price  \\\n",
       "user_id month                                                                  \n",
       "1       1          2   7027.511294      42.0             6                 0   \n",
       "        4          1    754.159807       7.0             6                 0   \n",
       "        8          2   6723.470560      46.0             6                 0   \n",
       "        10         2   5809.911100      32.0             6                 0   \n",
       "        11         3   7003.499363      56.0             6                 0   \n",
       "        12         2   6751.629942      28.0             6                 0   \n",
       "2       3          3  10187.723006      63.0             6                 0   \n",
       "        4          2   6164.381824      40.0             6                 0   \n",
       "        6          1   3255.338202      14.0             6                 0   \n",
       "        7          2   6780.722964      48.0             6                 0   \n",
       "        8          1    923.007439       7.0             6                 0   \n",
       "        10         1   2824.636598      19.0             6                 0   \n",
       "        12         1   3828.248580      12.0             6                 0   \n",
       "3       1          1   3061.777147      13.0             6                 0   \n",
       "        2          2   5421.152016      39.0             6                 0   \n",
       "        4          1   2956.651632      21.0             6                 0   \n",
       "        5          3   9064.026918      63.0             6                 0   \n",
       "        7          3  10919.595403      67.0             6                 0   \n",
       "        9          1   2891.012822      23.0             6                 0   \n",
       "        12         1   2593.381928      13.0             6                 0   \n",
       "\n",
       "               subscription_fee  revenue  \n",
       "user_id month                             \n",
       "1       1                   199    451.0  \n",
       "        4                   199    241.0  \n",
       "        8                   199    475.0  \n",
       "        10                  199    391.0  \n",
       "        11                  199    535.0  \n",
       "        12                  199    367.0  \n",
       "2       3                   199    577.0  \n",
       "        4                   199    439.0  \n",
       "        6                   199    283.0  \n",
       "        7                   199    487.0  \n",
       "        8                   199    241.0  \n",
       "        10                  199    313.0  \n",
       "        12                  199    271.0  \n",
       "3       1                   199    277.0  \n",
       "        2                   199    433.0  \n",
       "        4                   199    325.0  \n",
       "        5                   199    577.0  \n",
       "        7                   199    601.0  \n",
       "        9                   199    337.0  \n",
       "        12                  199    277.0  "
      ]
     },
     "metadata": {},
     "output_type": "display_data"
    },
    {
     "name": "stdout",
     "output_type": "stream",
     "text": [
      "Записи с  2021-01-01 00:00:00 по 2021-12-30 00:00:00\n",
      "Выручка за 2021 год составила: 3878641.0 руб.\n"
     ]
    }
   ],
   "source": [
    "revenue['revenue'] = (revenue['start_ride_price']*revenue['count']+\n",
    "                      revenue['minute_price']*revenue['duration']+\n",
    "                      revenue['subscription_fee'])\n",
    "display(revenue.head(20))\n",
    "print('Записи с ', data_go['date'].min(), 'по', data_go['date'].max())\n",
    "print('Выручка за 2021 год составила:',revenue['revenue'].sum(), 'руб.')"
   ]
  },
  {
   "cell_type": "markdown",
   "id": "452f1c5c",
   "metadata": {},
   "source": [
    "### Подсчёт выручки с подпиской и без"
   ]
  },
  {
   "cell_type": "code",
   "execution_count": 42,
   "id": "af0b64fc",
   "metadata": {},
   "outputs": [
    {
     "name": "stdout",
     "output_type": "stream",
     "text": [
      "Выручка пользователей с подпиской за 2021 год составила: 1644537.0 руб.\n",
      "Количество поездок с подпиской: 6500\n",
      "Выручка пользователей без подписки за 2021 год составила: 2234104.0 руб.\n",
      "Количество поездок без подписки: 11568\n"
     ]
    }
   ],
   "source": [
    "print('Выручка пользователей с подпиской за 2021 год составила:',\\\n",
    "      revenue.loc[revenue['subscription_fee'] > 0, 'revenue'].sum(), 'руб.')\n",
    "print('Количество поездок с подпиской:',data_go_ultra.shape[0])\n",
    "print('Выручка пользователей без подписки за 2021 год составила:',\\\n",
    "      revenue.loc[revenue['subscription_fee'] == 0, 'revenue'].sum(), 'руб.')\n",
    "print('Количество поездок без подписки:',data_go_free.shape[0])"
   ]
  },
  {
   "cell_type": "code",
   "execution_count": 43,
   "id": "f18d0b26",
   "metadata": {},
   "outputs": [
    {
     "name": "stdout",
     "output_type": "stream",
     "text": [
      "С подпиской:\n",
      "count    4533.000000\n",
      "mean      362.792191\n",
      "std        88.262737\n",
      "min       223.000000\n",
      "25%       301.000000\n",
      "50%       337.000000\n",
      "75%       409.000000\n",
      "max       955.000000\n",
      "Name: revenue, dtype: float64\n"
     ]
    }
   ],
   "source": [
    "print('С подпиской:')\n",
    "print(revenue.loc[revenue['subscription_fee'] > 0, 'revenue'].describe())"
   ]
  },
  {
   "cell_type": "code",
   "execution_count": 44,
   "id": "bf8b338e",
   "metadata": {},
   "outputs": [
    {
     "name": "stdout",
     "output_type": "stream",
     "text": [
      "Без подписки:\n",
      "count    6798.000000\n",
      "mean      328.641365\n",
      "std       183.868330\n",
      "min        58.000000\n",
      "25%       194.000000\n",
      "50%       274.000000\n",
      "75%       428.000000\n",
      "max      1444.000000\n",
      "Name: revenue, dtype: float64\n"
     ]
    }
   ],
   "source": [
    "print('Без подписки:')\n",
    "print(revenue.loc[revenue['subscription_fee'] == 0, 'revenue'].describe())"
   ]
  },
  {
   "cell_type": "markdown",
   "id": "3b95a3b7",
   "metadata": {},
   "source": [
    "### Промежуточный вывод"
   ]
  },
  {
   "cell_type": "markdown",
   "id": "17b09cb6",
   "metadata": {},
   "source": [
    "- В данных записи только за 2021 год.\n",
    "- Выручка сервиса аренды самокатов GoFast составила: 3878641.0 рублей. Выручка пользователей с подпиской 1644537.0 руб. и без подписки - 2234104.0 руб.\n",
    "- В среднем пользователи с подпиской тратят на поездку 362,8 рублей, без подписки 328,6 рублей."
   ]
  },
  {
   "cell_type": "markdown",
   "id": "41545ac0",
   "metadata": {},
   "source": [
    "## Проверка гипотез"
   ]
  },
  {
   "cell_type": "markdown",
   "id": "72aac38c",
   "metadata": {},
   "source": [
    "### Тратят ли пользователи с подпиской больше времени на поездки?"
   ]
  },
  {
   "cell_type": "markdown",
   "id": "a5d194b6",
   "metadata": {},
   "source": [
    "Если да, то пользователи с подпиской могут быть «выгоднее» для компании. Проверим гипотезу. Используя исходные данные о продолжительности каждой сессии — отдельно для подписчиков и тех, у кого нет подписки.<br>\n",
    "<br>\n",
    "**Проверим гипотезу:** пользователи с подпиской тратят больше времени на поездки, чем пользователи на бесплатном тарифе.\n",
    "- H0: Среднее время поездки пользователей с подпиской ultra = среднему времени поездки пользователей без подписке.\n",
    "- H1: Среднее время поездки пользователей с подпиской ultra > среднего времени поездки пользователей без подписке.\n",
    "- alpha = 0.05"
   ]
  },
  {
   "cell_type": "code",
   "execution_count": 45,
   "id": "0d852314",
   "metadata": {},
   "outputs": [
    {
     "name": "stdout",
     "output_type": "stream",
     "text": [
      "p-значение: 1.2804098316645618e-34\n",
      "Отвергаем нулевую гипотезу\n"
     ]
    }
   ],
   "source": [
    "results = st.ttest_ind(\n",
    "    data_go_ultra['duration'], \n",
    "    data_go_free['duration'],\n",
    "    alternative='greater')\n",
    "print('p-значение:', results.pvalue)\n",
    "\n",
    "alpha = 0.05\n",
    "if results.pvalue < alpha:\n",
    "    print('Отвергаем нулевую гипотезу')\n",
    "else:\n",
    "    print('Не получилось отвергнуть нулевую гипотезу')"
   ]
  },
  {
   "cell_type": "markdown",
   "id": "b06614d6",
   "metadata": {},
   "source": [
    "**Вывод:**  Проверили гипотезу и можем сделать верное предположение, что среднее время поездки пользователей с подпиской ultra больше среднего времени поездки пользователей без подписке."
   ]
  },
  {
   "cell_type": "markdown",
   "id": "a4368a35",
   "metadata": {},
   "source": [
    "### Проверим, что пользователи с подпиской проезжают расстояние, не превышающее 3130 метров за одну поездку"
   ]
  },
  {
   "cell_type": "markdown",
   "id": "7740be5b",
   "metadata": {},
   "source": [
    "Расстояние одной поездки в 3130 метров — оптимальное с точки зрения износа самоката. Можно ли сказать, что среднее расстояние, которое проезжают пользователи с подпиской за одну поездку, не превышает 3130 метров? Проверим гипотезу и сделаем выводы.<br>\n",
    "<br>\n",
    "**Проверим гипотезу:** пользователи с подпиской проезжают расстояние, не превышающее 3130 метров за одну поездку.\n",
    "- H0: Среднее расстояние поездки пользователей с подпиской ultra = 3130 метров\n",
    "- H1: Среднее расстояние поездки пользователей с подпиской ultra > 3130 метров\n",
    "- alpha = 0.05"
   ]
  },
  {
   "cell_type": "code",
   "execution_count": 46,
   "id": "799980e3",
   "metadata": {},
   "outputs": [
    {
     "name": "stdout",
     "output_type": "stream",
     "text": [
      "p-значение: 0.9195368847849785\n",
      "Не получилось отвергнуть нулевую гипотезу\n"
     ]
    }
   ],
   "source": [
    "distance = 3130\n",
    "alpha = 0.05\n",
    "\n",
    "results = st.ttest_1samp(\n",
    "    data_go_ultra['distance'], \n",
    "    distance,\n",
    "    alternative='greater')\n",
    "print('p-значение:', results.pvalue)\n",
    "\n",
    "if results.pvalue < alpha:\n",
    "    print('Отвергаем нулевую гипотезу')\n",
    "else:\n",
    "    print('Не получилось отвергнуть нулевую гипотезу')"
   ]
  },
  {
   "cell_type": "markdown",
   "id": "0c2979a4",
   "metadata": {},
   "source": [
    "**Вывод:** Не получилось отвергнуть гипотезу. Мы не можем утверждать, что расстояние, которое проехали пользователи с поездкой ultra, не превышает 3130 метров."
   ]
  },
  {
   "cell_type": "markdown",
   "id": "d975edbb",
   "metadata": {},
   "source": [
    "### Проверим гипотезу о помесячной выручки"
   ]
  },
  {
   "cell_type": "markdown",
   "id": "7a628984",
   "metadata": {},
   "source": [
    " Проверим гипотезу о том, будет ли помесячная выручка от пользователей с подпиской по месяцам выше, чем выручка от пользователей без подписки.<br>\n",
    " <br>\n",
    " **Проверим гипотезу:** помесячная выручка от пользователей с подпиской выше, чем выручка от пользователей без подписки.\n",
    "- H0: Выручка от пользователей с подпиской ultra = выручке от пользователей без подписки.\n",
    "- H1: Выручка от пользователей с подпиской ultra > выручки от пользователей без подписки.\n",
    "- alpha = 0.05"
   ]
  },
  {
   "cell_type": "code",
   "execution_count": 47,
   "id": "c6a10413",
   "metadata": {},
   "outputs": [
    {
     "name": "stdout",
     "output_type": "stream",
     "text": [
      "p-значение: 1.8850394384715216e-31\n",
      "Отвергаем нулевую гипотезу\n"
     ]
    }
   ],
   "source": [
    "results = st.ttest_ind(\n",
    "    revenue.loc[revenue['subscription_fee'] > 0, 'revenue'], \n",
    "    revenue.loc[revenue['subscription_fee'] == 0, 'revenue'],\n",
    "    alternative='greater')\n",
    "print('p-значение:', results.pvalue)\n",
    "\n",
    "alpha = 0.05\n",
    "if results.pvalue < alpha:\n",
    "    print('Отвергаем нулевую гипотезу')\n",
    "else:\n",
    "    print('Не получилось отвергнуть нулевую гипотезу')"
   ]
  },
  {
   "cell_type": "markdown",
   "id": "f39972b7",
   "metadata": {},
   "source": [
    "**Вывод:** Проверили гипотезу и можем сделать верное предположение: выручка от пользователей с подпиской ultra больше выручки от пользователей без подписки."
   ]
  },
  {
   "cell_type": "markdown",
   "id": "12854c22",
   "metadata": {},
   "source": [
    "<div class=\"alert alert-da nger\">\n",
    "<font size=\"4\"><b>❌ Комментарий ревьюера</b></font>\n",
    "    <br /> \n",
    "    <font size=\"3\", color = \"black\">\n",
    "<br /> \n",
    "Стоит  поправить все выводы"
   ]
  },
  {
   "cell_type": "markdown",
   "id": "ffb9c8b2",
   "metadata": {},
   "source": [
    "### Разбор ситуации"
   ]
  },
  {
   "cell_type": "markdown",
   "id": "c553cdf2",
   "metadata": {},
   "source": [
    "**Представьте такую ситуацию: техническая команда сервиса обновила сервера, с которыми взаимодействует мобильное приложение. Она надеется, что из-за этого количество обращений в техподдержку значимо снизилось. Некоторый файл содержит для каждого пользователя данные о количестве обращений до обновления и после него. Какой тест понадобился бы для проверки этой гипотезы?**"
   ]
  },
  {
   "cell_type": "markdown",
   "id": "3ac7824f",
   "metadata": {},
   "source": [
    "Теоретически это две зависимые выборки. В данных некоторая переменная измеряется дважды (количество обращений до обновления и после него) для одних и тех же пользователей и имеет одинаковые размеры. В этом случае можно применить метод `scipy.stats.ttest_rel()`. При проверке на то, что истинное среднее значение генеральной выборки до изменения больше, чем истинное среднее значение генеральной совокупности после изменения, следует указать `alternative=\"less\"`: `scipy.stats.ttest_rel(after, before, alternative=\"less\")`.\n",
    "<br>\n",
    "Если требования к зависимым выборкам не выполняются, можно воспользоваться методом `scipy.stats.ttest_ind(after, before, equal_var=False, alternative=\"less\")`,`equal_var=False` применяем по причине что выборки не равны."
   ]
  },
  {
   "cell_type": "markdown",
   "id": "e4e5c222",
   "metadata": {},
   "source": [
    "### Промежуточный вывод"
   ]
  },
  {
   "cell_type": "markdown",
   "id": "7013fd3a",
   "metadata": {},
   "source": [
    "- Проверили гипотезу и можем сделать верное предположение, что среднее время поездки пользователей с подпиской ultra больше среднего времени поездки пользователей без подписке.\n",
    "- Не получилось отвергнуть гипотезу. Мы не можем утверждать, что расстояние, которое проехали пользователи с поездкой ultra, не превышает 3130 метров.\n",
    "- Проверили гипотезу и можем сделать верное предположение: выручка от пользователей с подпиской ultra больше выручки от пользователей без подписки.\n",
    "- Если выборки зависимы используем метод `scipy.stats.ttest_rel(after, before, alternative=\"less\")`. Если требования к зависимым выборкам не выполняются, можно воспользоваться методом `scipy.stats.ttest_ind(after, before, equal_var=False, alternative=\"less\")`,`equal_var=False` применяем по причине что выборки не равны."
   ]
  },
  {
   "cell_type": "markdown",
   "id": "61213c5e",
   "metadata": {},
   "source": [
    "## Распределения"
   ]
  },
  {
   "cell_type": "markdown",
   "id": "9fb01270",
   "metadata": {},
   "source": [
    "### Задача 1"
   ]
  },
  {
   "cell_type": "markdown",
   "id": "626f7730",
   "metadata": {},
   "source": [
    "Отделу маркетинга GoFast поставили задачу: нужно провести акцию с раздачей промокодов на один бесплатный месяц подписки, в рамках которой как минимум 100 существующих клиентов должны продлить эту подписку. То есть по завершении периода действия подписки пользователь может либо отказаться от неё, либо продлить, совершив соответствующий платёж. <br>\n",
    "Эта акция уже проводилась ранее и по итогу выяснилось, что после бесплатного пробного периода подписку продлевают 10 % пользователей. Выясним, какое минимальное количество промокодов нужно разослать, чтобы вероятность не выполнить план была примерно 5 %. Подберите параметры распределения, описывающего эту ситуацию, постройте график распределения и сформулируйте ответ на вопрос о количестве промокодов."
   ]
  },
  {
   "cell_type": "code",
   "execution_count": 48,
   "id": "58c15535",
   "metadata": {},
   "outputs": [
    {
     "name": "stdout",
     "output_type": "stream",
     "text": [
      "При раздаче промокодов в количестве = 1161 вероятность, не выполнить план меньше 5.0 %\n"
     ]
    },
    {
     "data": {
      "image/png": "[encoded data removed]",
      "text/plain": [
       "<Figure size 432x288 with 1 Axes>"
      ]
     },
     "metadata": {
      "needs_background": "light"
     },
     "output_type": "display_data"
    }
   ],
   "source": [
    "n = 1000 # Количество промокодов\n",
    "p = 0.1  # Вероятность продления подписки\n",
    "k = 99   # Минимальное количество продлений\n",
    "binom_cdf = 0.05 # Вероятность не выполнить план\n",
    "\n",
    "while binom_cdf < binom.cdf(k, n, p):\n",
    "    n += 1\n",
    "print(f'При раздаче промокодов в количестве = {n} вероятность, не выполнить план меньше {binom.cdf(k, n, p).round(2)*100} %')\n",
    "\n",
    "# зададим мат.ожидание и ст.отклонение нормального распределения равными\n",
    "# мат.ожиданию и ст.отклонению биномиального распределения\n",
    "mu = n * p\n",
    "sigma = (n * p * (1 - p))**0.5\n",
    "\n",
    "arange = np.arange((mu - 4 * sigma),(mu + 4 * sigma),1)\n",
    "\n",
    "plt.plot(arange, st.norm.pdf(arange, mu, sigma), 'b-')\n",
    "plt.axvline(x=k, color='red')\n",
    "plt.axvline(x=mu, color='green')\n",
    "plt.show()"
   ]
  },
  {
   "cell_type": "markdown",
   "id": "9fafe19f",
   "metadata": {},
   "source": [
    "**Вывод:** Необходимо раздать как минимум 1161 промокода, чтобы как минимум 100 существующих клиентов продлили подписку. Вероятность не выполнить план составляет 5%."
   ]
  },
  {
   "cell_type": "markdown",
   "id": "7a2806ff",
   "metadata": {},
   "source": [
    "### Задача 2"
   ]
  },
  {
   "cell_type": "markdown",
   "id": "0810511a",
   "metadata": {},
   "source": [
    "Отдел маркетинга рассылает клиентам push-уведомления в мобильном приложении. Клиенты могут открыть его или не открывать. Известно, что уведомления открывают около 40 % получивших клиентов. Отдел планирует разослать 1 млн уведомлений. <br>\n",
    "С помощью аппроксимации постройте примерный график распределения и оцените вероятность того, что уведомление откроют не более 399,5 тыс. пользователей."
   ]
  },
  {
   "cell_type": "code",
   "execution_count": 49,
   "id": "c6b34a35",
   "metadata": {},
   "outputs": [
    {
     "name": "stdout",
     "output_type": "stream",
     "text": [
      "Вероятность открытия сообщений: 0.15371708296369768\n"
     ]
    },
    {
     "data": {
      "image/png": "[encoded data removed]",
      "text/plain": [
       "<Figure size 432x288 with 1 Axes>"
      ]
     },
     "metadata": {
      "needs_background": "light"
     },
     "output_type": "display_data"
    }
   ],
   "source": [
    "# параметры биномиального распределения\n",
    "n = 1000000 # Общее количество уведомлений\n",
    "p = 0.4     # Вероятность открытия уведомления\n",
    "k = 399500  # Минимальное количество пользователей\n",
    "# зададим мат.ожидание и ст.отклонение нормального распределения равными\n",
    "# мат.ожиданию и ст.отклонению биномиального распределения\n",
    "mu = n * p                   # параметры \n",
    "sigma = sqrt(n * p * (1 - p))# нормального распределения\n",
    "\n",
    "# задаём нормальное распределение\n",
    "distr = st.norm(mu, sigma) \n",
    "\n",
    "# считаем вероятность хвоста слева от 399.5 тысяч\n",
    "result = distr.cdf(k)\n",
    "print('Вероятность открытия сообщений:', result)\n",
    "\n",
    "arange = np.arange((mu - 4 * sigma),(mu + 4 * sigma),1)\n",
    "plt.plot(arange, st.norm.pdf(arange, mu, sigma), 'b-')\n",
    "plt.xticks(rotation=90)\n",
    "plt.axvline(x=k, color='red')\n",
    "plt.axvline(x=mu, color='green')\n",
    "plt.show()"
   ]
  },
  {
   "cell_type": "markdown",
   "id": "34804364",
   "metadata": {},
   "source": [
    "**Вывод:** Если разослать 1 млн уведомлений и учесть, что откроют их только 40% получивших клиентов, вероятность того, что уведомление откроют не более 399,5 тыс. пользователей составит 0.1537 или 15,37%."
   ]
  },
  {
   "cell_type": "markdown",
   "id": "aa71c5a1",
   "metadata": {},
   "source": [
    "## Вывод"
   ]
  },
  {
   "cell_type": "markdown",
   "id": "cb83f05b",
   "metadata": {},
   "source": [
    "В ходе исследования данных о пользователях популярного сервиса аренды самокатов GoFast были выполнены следующие этапы и сделаны выводы:\n",
    "1) Загрузка и изучение данных:\n",
    "- В `users_go` 1565 записи, пропуски отсутствуют, количество явных дубликатов 31.\n",
    "- В `rides_go` 18068 записи, пропуски отсутствуют, явных дубликатов нет. В столбце *date* некорректный тип данных.\n",
    "- В `subscriptions_go` 2 записи, пропуски отсутствуют, явных дубликатов нет.\n",
    "- Данные полные и достаточны для исследования.\n",
    "\n",
    "2) Предобработка данных:\n",
    "- В столбце *date* из датафрейма `rides_go` поменяли тип данных на datetime.\n",
    "- В датафрейм `rides_go` добавили столбец *month*.\n",
    "- В датафрейме `users_go` удалили дубликаты.\n",
    "- Данные готовы для дальнейшего иследования.\n",
    "\n",
    "3) Исследовательский анализ данных:\n",
    "- В данных присутсвуют 8 городов: Тюмень, Омск, Москва, Ростов-на-Дону, Краснодар, Пятигорск, Екатеринбург, Сочи. Больше всего пользователей в Пятигорске и Екатеринбурге.\n",
    "- Без подписки пользователей больше, почти на 9%. Всего пользователей - 1534. С подпиской - 699 и без подписки - 835.\n",
    "- Средний возраст пользователей нормально распределён с медианой, равной 25 годам. Средний и медианный возраст почти равны. Основной возраст пользователей — 22–28 лет.\n",
    "- Средняя и медианная растояния поездки примерно равны 3100 метров. Первый квартиль равен 2543 метра, второй - 3776. Распределение имеет два пика 700 и 3100 метра. Оба пика имеют нормальное распределение зависимости. Поездки меньши 600 метров и больше 6000 метров это выбросы, оставим без внимания.\n",
    "- Средняя и медианная времени поедки примерно равны 18 минутам. Первый квартиль располагается в райне 14 минут, второй - 22 минуты. Поездки длительностью меньше минуты могут быть аномальными, что может указывать на неисправность самоката (оставим без внимания). Зависимость количества поездок от времени имеет нормальное распределение.\n",
    "\n",
    "4) Объединение данных\n",
    "- На этом этапе объеденили данные в одну таблицу, разделили на датафреймы: без подписки `data_go_free` и с подпиской `data_go_ultra`.\n",
    "- Расстояние поездки без подписки варьируется в пределах от 2000 до 4500 метров, с медианной величиной 3115 метров. В то время как с подпиской это расстояние составляет от 2800 до 3500 метров, с медианной величиной 3148 метров.\n",
    "- Время поездки без подписки варьируется от 10 до 18 минут, с медианной величиной чуть больше 17 минут. В то время как с подпиской это время составляет от 13 до 23 минут, с медианной величиной чуть больше 18 минут.\n",
    "- Согласно данных и их визуализации можно сделать вывод, что вероятно подпиской регулярно пользуются одни и те же пользователи, чтобы добраться до учебы или работы.\n",
    "\n",
    "5) Подсчёт выручки:\n",
    "- В данных записи только за 2021 год.\n",
    "- Выручка сервиса аренды самокатов GoFast составила: 3878641.0 рублей. Выручка пользователей с подпиской 1644537.0 руб. и без подписки - 2234104.0 руб.\n",
    "- В среднем пользователи с подпиской тратят на поездку 362,8 рублей, без подписки 328,6 рублей.\n",
    "\n",
    "6) Проверка гипотез:\n",
    "- Проверили гипотезу и можем сделать верное предположение, что среднее время поездки пользователей с подпиской ultra больше среднего времени поездки пользователей без подписке.\n",
    "- Не получилось отвергнуть гипотезу. Предположение, что среднее расстояние, которое проехали пользователи с поездкой ultra, не превышает 3130 метров, неверно.\n",
    "- Проверили гипотезу и можем сделать верное предположение, что выручка от пользователей с подпиской ultra больше выручки от пользователей без подписки.\n",
    "- Если выборки зависимы используем метод `scipy.stats.ttest_rel(after, before, alternative=\"less\")`. Если требования к зависимым выборкам не выполняются, можно воспользоваться методом `scipy.stats.ttest_ind(after, before, equal_var=False, alternative=\"less\")`,`equal_var=False` применяем по причине что выборки не равны.\n",
    "\n",
    "7) Распределения:\n",
    "- Необходимо раздать как минимум 1161 промокода, чтобы как минимум 100 существующих клиентов продлили подписку. Вероятность не выполнить план составляет 5%.\n",
    "- Если разослать 1 млн уведомлений и учесть, что откроют их только 40% получивших клиентов, вероятность того, что уведомление откроют не более 399,5 тыс. пользователей составит 0.1537 или 15,37%."
   ]
  },
  {
   "cell_type": "markdown",
   "id": "0b09d14b",
   "metadata": {},
   "source": [
    "**Рекомендация:**<br>\n",
    "На основании проведенного исследования данных о пользователях сервиса аренды самокатов GoFast можно сделать вывод, что пользователи с подпиской представляют большую ценность для сервиса. Они тратят больше времени на поездки, что приводит к увеличению выручки.<br>\n",
    "Для дальнейшего развития сервиса рекомендуется принять меры по привлечению и удержанию пользователей с подпиской. Это может включать в себя улучшение условий подписки, введение дополнительных бонусов и скидок, а также улучшение качества обслуживания.<br>\n",
    "Таким образом, увеличение количества пользователей с подпиской станет ключевым фактором для повышения общей эффективности и прибыльности сервиса аренды самокатов GoFast."
   ]
  }
 ],
 "metadata": {
  "ExecuteTimeLog": [
   {
    "duration": 1272,
    "start_time": "2024-10-26T11:11:30.581Z"
   },
   {
    "duration": 284,
    "start_time": "2024-10-26T11:11:31.855Z"
   },
   {
    "duration": 64,
    "start_time": "2024-10-26T11:17:16.993Z"
   },
   {
    "duration": 19,
    "start_time": "2024-10-26T11:22:43.943Z"
   },
   {
    "duration": 23,
    "start_time": "2024-10-26T11:30:28.678Z"
   },
   {
    "duration": 10,
    "start_time": "2024-10-26T11:37:13.345Z"
   },
   {
    "duration": 9,
    "start_time": "2024-10-26T11:38:06.657Z"
   },
   {
    "duration": 9,
    "start_time": "2024-10-26T12:25:33.532Z"
   },
   {
    "duration": 5,
    "start_time": "2024-10-26T12:27:16.504Z"
   },
   {
    "duration": 6,
    "start_time": "2024-10-26T12:29:52.443Z"
   },
   {
    "duration": 3,
    "start_time": "2024-10-26T12:30:04.265Z"
   },
   {
    "duration": 5,
    "start_time": "2024-10-26T12:34:27.368Z"
   },
   {
    "duration": 5,
    "start_time": "2024-10-26T12:34:53.213Z"
   },
   {
    "duration": 59,
    "start_time": "2024-10-26T12:38:44.827Z"
   },
   {
    "duration": 4,
    "start_time": "2024-10-26T12:38:50.008Z"
   },
   {
    "duration": 1150,
    "start_time": "2024-10-26T12:46:19.359Z"
   },
   {
    "duration": 66,
    "start_time": "2024-10-26T12:46:20.511Z"
   },
   {
    "duration": 18,
    "start_time": "2024-10-26T12:46:20.581Z"
   },
   {
    "duration": 21,
    "start_time": "2024-10-26T12:46:20.600Z"
   },
   {
    "duration": 39,
    "start_time": "2024-10-26T12:46:20.623Z"
   },
   {
    "duration": 12,
    "start_time": "2024-10-26T12:46:20.664Z"
   },
   {
    "duration": 9,
    "start_time": "2024-10-26T12:46:20.678Z"
   },
   {
    "duration": 42,
    "start_time": "2024-10-26T12:46:20.688Z"
   },
   {
    "duration": 4,
    "start_time": "2024-10-26T12:46:20.732Z"
   },
   {
    "duration": 17,
    "start_time": "2024-10-26T12:46:20.738Z"
   },
   {
    "duration": 11,
    "start_time": "2024-10-26T12:46:20.756Z"
   },
   {
    "duration": 5,
    "start_time": "2024-10-26T12:46:20.768Z"
   },
   {
    "duration": 1131,
    "start_time": "2024-10-26T12:47:10.373Z"
   },
   {
    "duration": 66,
    "start_time": "2024-10-26T12:47:11.506Z"
   },
   {
    "duration": 19,
    "start_time": "2024-10-26T12:47:11.573Z"
   },
   {
    "duration": 29,
    "start_time": "2024-10-26T12:47:11.594Z"
   },
   {
    "duration": 5,
    "start_time": "2024-10-26T12:47:11.625Z"
   },
   {
    "duration": 6,
    "start_time": "2024-10-26T12:47:11.632Z"
   },
   {
    "duration": 24,
    "start_time": "2024-10-26T12:47:11.639Z"
   },
   {
    "duration": 8,
    "start_time": "2024-10-26T12:47:11.664Z"
   },
   {
    "duration": 4,
    "start_time": "2024-10-26T12:47:11.673Z"
   },
   {
    "duration": 3,
    "start_time": "2024-10-26T12:47:11.679Z"
   },
   {
    "duration": 3,
    "start_time": "2024-10-26T12:47:11.684Z"
   },
   {
    "duration": 7,
    "start_time": "2024-10-26T12:47:11.689Z"
   },
   {
    "duration": 16,
    "start_time": "2024-10-26T12:47:11.697Z"
   },
   {
    "duration": 184,
    "start_time": "2024-10-26T12:52:55.035Z"
   },
   {
    "duration": 65,
    "start_time": "2024-10-26T12:56:30.846Z"
   },
   {
    "duration": 57,
    "start_time": "2024-10-26T12:57:52.479Z"
   },
   {
    "duration": 161,
    "start_time": "2024-10-26T12:58:35.263Z"
   },
   {
    "duration": 59,
    "start_time": "2024-10-26T13:01:47.891Z"
   },
   {
    "duration": 172,
    "start_time": "2024-10-26T13:02:00.018Z"
   },
   {
    "duration": 165,
    "start_time": "2024-10-26T13:03:36.715Z"
   },
   {
    "duration": 183,
    "start_time": "2024-10-26T13:04:01.044Z"
   },
   {
    "duration": 169,
    "start_time": "2024-10-26T13:14:24.172Z"
   },
   {
    "duration": 177,
    "start_time": "2024-10-26T13:23:13.955Z"
   },
   {
    "duration": 199,
    "start_time": "2024-10-26T13:25:21.043Z"
   },
   {
    "duration": 165,
    "start_time": "2024-10-26T13:27:00.744Z"
   },
   {
    "duration": 147,
    "start_time": "2024-10-26T13:27:53.909Z"
   },
   {
    "duration": 223,
    "start_time": "2024-10-26T13:28:44.590Z"
   },
   {
    "duration": 152,
    "start_time": "2024-10-26T13:29:31.068Z"
   },
   {
    "duration": 153,
    "start_time": "2024-10-26T13:30:44.655Z"
   },
   {
    "duration": 136,
    "start_time": "2024-10-26T13:31:04.345Z"
   },
   {
    "duration": 144,
    "start_time": "2024-10-26T13:31:18.668Z"
   },
   {
    "duration": 153,
    "start_time": "2024-10-26T13:34:59.842Z"
   },
   {
    "duration": 14,
    "start_time": "2024-10-26T13:35:41.443Z"
   },
   {
    "duration": 151,
    "start_time": "2024-10-26T13:36:14.485Z"
   },
   {
    "duration": 141,
    "start_time": "2024-10-26T13:36:31.787Z"
   },
   {
    "duration": 142,
    "start_time": "2024-10-26T13:36:41.171Z"
   },
   {
    "duration": 317,
    "start_time": "2024-10-26T13:42:55.552Z"
   },
   {
    "duration": 244,
    "start_time": "2024-10-26T13:43:38.009Z"
   },
   {
    "duration": 261,
    "start_time": "2024-10-26T13:43:51.145Z"
   },
   {
    "duration": 267,
    "start_time": "2024-10-26T13:45:07.402Z"
   },
   {
    "duration": 8,
    "start_time": "2024-10-26T13:45:49.586Z"
   },
   {
    "duration": 683,
    "start_time": "2024-10-26T13:49:46.141Z"
   },
   {
    "duration": 220,
    "start_time": "2024-10-26T13:49:59.969Z"
   },
   {
    "duration": 7,
    "start_time": "2024-10-26T13:52:10.911Z"
   },
   {
    "duration": 217,
    "start_time": "2024-10-26T13:53:08.016Z"
   },
   {
    "duration": 197,
    "start_time": "2024-10-26T13:53:18.096Z"
   },
   {
    "duration": 201,
    "start_time": "2024-10-26T13:53:26.415Z"
   },
   {
    "duration": 279,
    "start_time": "2024-10-26T13:53:36.450Z"
   },
   {
    "duration": 234,
    "start_time": "2024-10-26T13:53:52.152Z"
   },
   {
    "duration": 305,
    "start_time": "2024-10-26T13:54:00.929Z"
   },
   {
    "duration": 162,
    "start_time": "2024-10-26T13:54:07.216Z"
   },
   {
    "duration": 203,
    "start_time": "2024-10-26T13:54:16.108Z"
   },
   {
    "duration": 220,
    "start_time": "2024-10-26T13:54:25.945Z"
   },
   {
    "duration": 317,
    "start_time": "2024-10-26T13:54:30.609Z"
   },
   {
    "duration": 211,
    "start_time": "2024-10-26T13:54:40.147Z"
   },
   {
    "duration": 204,
    "start_time": "2024-10-26T13:56:32.226Z"
   },
   {
    "duration": 200,
    "start_time": "2024-10-26T13:56:44.714Z"
   },
   {
    "duration": 213,
    "start_time": "2024-10-26T13:56:53.859Z"
   },
   {
    "duration": 277,
    "start_time": "2024-10-26T13:57:33.918Z"
   },
   {
    "duration": 222,
    "start_time": "2024-10-26T13:57:45.243Z"
   },
   {
    "duration": 9,
    "start_time": "2024-10-26T13:57:57.212Z"
   },
   {
    "duration": 213,
    "start_time": "2024-10-26T13:58:02.996Z"
   },
   {
    "duration": 226,
    "start_time": "2024-10-26T13:58:21.156Z"
   },
   {
    "duration": 214,
    "start_time": "2024-10-26T13:58:29.812Z"
   },
   {
    "duration": 309,
    "start_time": "2024-10-26T14:00:18.032Z"
   },
   {
    "duration": 364,
    "start_time": "2024-10-26T14:00:41.317Z"
   },
   {
    "duration": 298,
    "start_time": "2024-10-26T14:00:54.342Z"
   },
   {
    "duration": 291,
    "start_time": "2024-10-26T14:01:26.838Z"
   },
   {
    "duration": 283,
    "start_time": "2024-10-26T14:20:03.917Z"
   },
   {
    "duration": 291,
    "start_time": "2024-10-26T14:20:55.045Z"
   },
   {
    "duration": 7,
    "start_time": "2024-10-26T14:21:27.772Z"
   },
   {
    "duration": 831,
    "start_time": "2024-10-26T14:22:03.110Z"
   },
   {
    "duration": 226,
    "start_time": "2024-10-26T14:22:13.462Z"
   },
   {
    "duration": 1428,
    "start_time": "2024-10-27T04:59:38.651Z"
   },
   {
    "duration": 291,
    "start_time": "2024-10-27T04:59:40.081Z"
   },
   {
    "duration": 21,
    "start_time": "2024-10-27T04:59:40.373Z"
   },
   {
    "duration": 25,
    "start_time": "2024-10-27T04:59:40.396Z"
   },
   {
    "duration": 9,
    "start_time": "2024-10-27T04:59:40.424Z"
   },
   {
    "duration": 14,
    "start_time": "2024-10-27T04:59:40.434Z"
   },
   {
    "duration": 30,
    "start_time": "2024-10-27T04:59:40.450Z"
   },
   {
    "duration": 18,
    "start_time": "2024-10-27T04:59:40.482Z"
   },
   {
    "duration": 7,
    "start_time": "2024-10-27T04:59:40.501Z"
   },
   {
    "duration": 6,
    "start_time": "2024-10-27T04:59:40.510Z"
   },
   {
    "duration": 7,
    "start_time": "2024-10-27T04:59:40.518Z"
   },
   {
    "duration": 16,
    "start_time": "2024-10-27T04:59:40.526Z"
   },
   {
    "duration": 5,
    "start_time": "2024-10-27T04:59:40.543Z"
   },
   {
    "duration": 225,
    "start_time": "2024-10-27T04:59:40.551Z"
   },
   {
    "duration": 169,
    "start_time": "2024-10-27T04:59:40.778Z"
   },
   {
    "duration": 289,
    "start_time": "2024-10-27T04:59:40.949Z"
   },
   {
    "duration": 7,
    "start_time": "2024-10-27T04:59:41.242Z"
   },
   {
    "duration": 355,
    "start_time": "2024-10-27T04:59:41.251Z"
   },
   {
    "duration": 8,
    "start_time": "2024-10-27T04:59:41.607Z"
   },
   {
    "duration": 274,
    "start_time": "2024-10-27T04:59:41.617Z"
   },
   {
    "duration": 10,
    "start_time": "2024-10-27T04:59:41.892Z"
   },
   {
    "duration": 283,
    "start_time": "2024-10-27T05:07:32.786Z"
   },
   {
    "duration": 145,
    "start_time": "2024-10-27T05:08:16.866Z"
   },
   {
    "duration": 142,
    "start_time": "2024-10-27T05:09:56.139Z"
   },
   {
    "duration": 148,
    "start_time": "2024-10-27T05:11:31.484Z"
   },
   {
    "duration": 141,
    "start_time": "2024-10-27T05:11:41.420Z"
   },
   {
    "duration": 141,
    "start_time": "2024-10-27T05:11:49.021Z"
   },
   {
    "duration": 147,
    "start_time": "2024-10-27T05:12:01.420Z"
   },
   {
    "duration": 118,
    "start_time": "2024-10-27T05:13:02.957Z"
   },
   {
    "duration": 103,
    "start_time": "2024-10-27T05:13:21.517Z"
   },
   {
    "duration": 103,
    "start_time": "2024-10-27T05:13:32.278Z"
   },
   {
    "duration": 152,
    "start_time": "2024-10-27T05:18:12.602Z"
   },
   {
    "duration": 490,
    "start_time": "2024-10-27T05:22:31.166Z"
   },
   {
    "duration": 1231,
    "start_time": "2024-10-27T05:23:05.801Z"
   },
   {
    "duration": 70,
    "start_time": "2024-10-27T05:23:07.034Z"
   },
   {
    "duration": 21,
    "start_time": "2024-10-27T05:23:07.105Z"
   },
   {
    "duration": 25,
    "start_time": "2024-10-27T05:23:07.128Z"
   },
   {
    "duration": 11,
    "start_time": "2024-10-27T05:23:07.155Z"
   },
   {
    "duration": 15,
    "start_time": "2024-10-27T05:23:07.167Z"
   },
   {
    "duration": 11,
    "start_time": "2024-10-27T05:23:07.184Z"
   },
   {
    "duration": 13,
    "start_time": "2024-10-27T05:23:07.197Z"
   },
   {
    "duration": 17,
    "start_time": "2024-10-27T05:23:07.212Z"
   },
   {
    "duration": 12,
    "start_time": "2024-10-27T05:23:07.231Z"
   },
   {
    "duration": 10,
    "start_time": "2024-10-27T05:23:07.245Z"
   },
   {
    "duration": 5,
    "start_time": "2024-10-27T05:23:07.257Z"
   },
   {
    "duration": 5,
    "start_time": "2024-10-27T05:23:07.263Z"
   },
   {
    "duration": 231,
    "start_time": "2024-10-27T05:23:07.271Z"
   },
   {
    "duration": 172,
    "start_time": "2024-10-27T05:23:07.504Z"
   },
   {
    "duration": 311,
    "start_time": "2024-10-27T05:23:07.678Z"
   },
   {
    "duration": 9,
    "start_time": "2024-10-27T05:23:07.990Z"
   },
   {
    "duration": 349,
    "start_time": "2024-10-27T05:23:08.000Z"
   },
   {
    "duration": 9,
    "start_time": "2024-10-27T05:23:08.351Z"
   },
   {
    "duration": 167,
    "start_time": "2024-10-27T05:23:08.362Z"
   },
   {
    "duration": 395,
    "start_time": "2024-10-27T05:23:08.531Z"
   },
   {
    "duration": 9,
    "start_time": "2024-10-27T05:23:08.929Z"
   },
   {
    "duration": 148,
    "start_time": "2024-10-27T05:23:08.939Z"
   },
   {
    "duration": 417,
    "start_time": "2024-10-27T05:23:09.089Z"
   },
   {
    "duration": 424,
    "start_time": "2024-10-27T05:24:20.718Z"
   },
   {
    "duration": 317,
    "start_time": "2024-10-27T05:24:24.686Z"
   },
   {
    "duration": 393,
    "start_time": "2024-10-27T05:24:45.438Z"
   },
   {
    "duration": 484,
    "start_time": "2024-10-27T05:26:12.839Z"
   },
   {
    "duration": 338,
    "start_time": "2024-10-27T05:26:47.278Z"
   },
   {
    "duration": 410,
    "start_time": "2024-10-27T05:27:41.072Z"
   },
   {
    "duration": 66,
    "start_time": "2024-10-27T05:29:44.265Z"
   },
   {
    "duration": 73,
    "start_time": "2024-10-27T05:30:17.849Z"
   },
   {
    "duration": 60,
    "start_time": "2024-10-27T05:30:54.482Z"
   },
   {
    "duration": 269,
    "start_time": "2024-10-27T05:31:11.346Z"
   },
   {
    "duration": 398,
    "start_time": "2024-10-27T05:31:26.858Z"
   },
   {
    "duration": 377,
    "start_time": "2024-10-27T05:32:26.092Z"
   },
   {
    "duration": 163,
    "start_time": "2024-10-27T05:34:47.549Z"
   },
   {
    "duration": 135,
    "start_time": "2024-10-27T05:35:07.734Z"
   },
   {
    "duration": 142,
    "start_time": "2024-10-27T05:35:17.596Z"
   },
   {
    "duration": 169,
    "start_time": "2024-10-27T05:54:22.739Z"
   },
   {
    "duration": 15,
    "start_time": "2024-10-27T05:58:30.575Z"
   },
   {
    "duration": 14,
    "start_time": "2024-10-27T05:58:43.742Z"
   },
   {
    "duration": 42,
    "start_time": "2024-10-27T05:59:38.327Z"
   },
   {
    "duration": 19,
    "start_time": "2024-10-27T06:06:32.391Z"
   },
   {
    "duration": 15,
    "start_time": "2024-10-27T06:07:52.439Z"
   },
   {
    "duration": 1237,
    "start_time": "2024-10-27T06:10:32.003Z"
   },
   {
    "duration": 71,
    "start_time": "2024-10-27T06:10:33.243Z"
   },
   {
    "duration": 22,
    "start_time": "2024-10-27T06:10:33.315Z"
   },
   {
    "duration": 25,
    "start_time": "2024-10-27T06:10:33.339Z"
   },
   {
    "duration": 8,
    "start_time": "2024-10-27T06:10:33.365Z"
   },
   {
    "duration": 22,
    "start_time": "2024-10-27T06:10:33.374Z"
   },
   {
    "duration": 15,
    "start_time": "2024-10-27T06:10:33.399Z"
   },
   {
    "duration": 29,
    "start_time": "2024-10-27T06:10:33.416Z"
   },
   {
    "duration": 8,
    "start_time": "2024-10-27T06:10:33.447Z"
   },
   {
    "duration": 6,
    "start_time": "2024-10-27T06:10:33.459Z"
   },
   {
    "duration": 7,
    "start_time": "2024-10-27T06:10:33.467Z"
   },
   {
    "duration": 25,
    "start_time": "2024-10-27T06:10:33.476Z"
   },
   {
    "duration": 23,
    "start_time": "2024-10-27T06:10:33.503Z"
   },
   {
    "duration": 223,
    "start_time": "2024-10-27T06:10:33.528Z"
   },
   {
    "duration": 196,
    "start_time": "2024-10-27T06:10:33.753Z"
   },
   {
    "duration": 306,
    "start_time": "2024-10-27T06:10:33.950Z"
   },
   {
    "duration": 9,
    "start_time": "2024-10-27T06:10:34.258Z"
   },
   {
    "duration": 466,
    "start_time": "2024-10-27T06:10:34.268Z"
   },
   {
    "duration": 11,
    "start_time": "2024-10-27T06:10:34.736Z"
   },
   {
    "duration": 166,
    "start_time": "2024-10-27T06:10:34.749Z"
   },
   {
    "duration": 346,
    "start_time": "2024-10-27T06:10:34.917Z"
   },
   {
    "duration": 9,
    "start_time": "2024-10-27T06:10:35.265Z"
   },
   {
    "duration": 177,
    "start_time": "2024-10-27T06:10:35.275Z"
   },
   {
    "duration": 15,
    "start_time": "2024-10-27T06:10:35.455Z"
   },
   {
    "duration": 54,
    "start_time": "2024-10-27T06:10:35.472Z"
   },
   {
    "duration": 15,
    "start_time": "2024-10-27T06:10:35.529Z"
   },
   {
    "duration": 25,
    "start_time": "2024-10-27T06:10:35.546Z"
   },
   {
    "duration": 1379,
    "start_time": "2024-10-28T10:57:04.255Z"
   },
   {
    "duration": 389,
    "start_time": "2024-10-28T10:57:05.636Z"
   },
   {
    "duration": 21,
    "start_time": "2024-10-28T10:57:06.026Z"
   },
   {
    "duration": 58,
    "start_time": "2024-10-28T10:57:06.048Z"
   },
   {
    "duration": 5,
    "start_time": "2024-10-28T10:57:06.108Z"
   },
   {
    "duration": 37,
    "start_time": "2024-10-28T10:57:06.114Z"
   },
   {
    "duration": 30,
    "start_time": "2024-10-28T10:57:06.153Z"
   },
   {
    "duration": 9,
    "start_time": "2024-10-28T10:57:06.185Z"
   },
   {
    "duration": 6,
    "start_time": "2024-10-28T10:57:06.196Z"
   },
   {
    "duration": 4,
    "start_time": "2024-10-28T10:57:06.205Z"
   },
   {
    "duration": 15,
    "start_time": "2024-10-28T10:57:06.211Z"
   },
   {
    "duration": 5,
    "start_time": "2024-10-28T10:57:06.227Z"
   },
   {
    "duration": 16,
    "start_time": "2024-10-28T10:57:06.234Z"
   },
   {
    "duration": 288,
    "start_time": "2024-10-28T10:57:06.251Z"
   },
   {
    "duration": 174,
    "start_time": "2024-10-28T10:57:06.541Z"
   },
   {
    "duration": 296,
    "start_time": "2024-10-28T10:57:06.720Z"
   },
   {
    "duration": 7,
    "start_time": "2024-10-28T10:57:07.021Z"
   },
   {
    "duration": 380,
    "start_time": "2024-10-28T10:57:07.029Z"
   },
   {
    "duration": 15,
    "start_time": "2024-10-28T10:57:07.411Z"
   },
   {
    "duration": 155,
    "start_time": "2024-10-28T10:57:07.427Z"
   },
   {
    "duration": 347,
    "start_time": "2024-10-28T10:57:07.584Z"
   },
   {
    "duration": 10,
    "start_time": "2024-10-28T10:57:07.933Z"
   },
   {
    "duration": 160,
    "start_time": "2024-10-28T10:57:07.945Z"
   },
   {
    "duration": 20,
    "start_time": "2024-10-28T10:57:08.107Z"
   },
   {
    "duration": 28,
    "start_time": "2024-10-28T10:57:08.129Z"
   },
   {
    "duration": 35,
    "start_time": "2024-10-28T10:57:08.158Z"
   },
   {
    "duration": 14,
    "start_time": "2024-10-28T10:57:08.194Z"
   },
   {
    "duration": 288,
    "start_time": "2024-10-28T11:03:02.253Z"
   },
   {
    "duration": 273,
    "start_time": "2024-10-28T11:03:15.320Z"
   },
   {
    "duration": 1254,
    "start_time": "2024-10-28T11:14:42.570Z"
   },
   {
    "duration": 76,
    "start_time": "2024-10-28T11:14:43.827Z"
   },
   {
    "duration": 19,
    "start_time": "2024-10-28T11:14:43.905Z"
   },
   {
    "duration": 23,
    "start_time": "2024-10-28T11:14:43.926Z"
   },
   {
    "duration": 14,
    "start_time": "2024-10-28T11:14:43.950Z"
   },
   {
    "duration": 30,
    "start_time": "2024-10-28T11:14:43.965Z"
   },
   {
    "duration": 22,
    "start_time": "2024-10-28T11:14:43.997Z"
   },
   {
    "duration": 21,
    "start_time": "2024-10-28T11:14:44.021Z"
   },
   {
    "duration": 17,
    "start_time": "2024-10-28T11:14:44.044Z"
   },
   {
    "duration": 20,
    "start_time": "2024-10-28T11:14:44.064Z"
   },
   {
    "duration": 22,
    "start_time": "2024-10-28T11:14:44.085Z"
   },
   {
    "duration": 19,
    "start_time": "2024-10-28T11:14:44.109Z"
   },
   {
    "duration": 18,
    "start_time": "2024-10-28T11:14:44.130Z"
   },
   {
    "duration": 219,
    "start_time": "2024-10-28T11:14:44.149Z"
   },
   {
    "duration": 189,
    "start_time": "2024-10-28T11:14:44.369Z"
   },
   {
    "duration": 335,
    "start_time": "2024-10-28T11:14:44.559Z"
   },
   {
    "duration": 7,
    "start_time": "2024-10-28T11:14:44.895Z"
   },
   {
    "duration": 371,
    "start_time": "2024-10-28T11:14:44.904Z"
   },
   {
    "duration": 9,
    "start_time": "2024-10-28T11:14:45.278Z"
   },
   {
    "duration": 192,
    "start_time": "2024-10-28T11:14:45.289Z"
   },
   {
    "duration": 360,
    "start_time": "2024-10-28T11:14:45.482Z"
   },
   {
    "duration": 8,
    "start_time": "2024-10-28T11:14:45.843Z"
   },
   {
    "duration": 159,
    "start_time": "2024-10-28T11:14:45.853Z"
   },
   {
    "duration": 20,
    "start_time": "2024-10-28T11:14:46.013Z"
   },
   {
    "duration": 31,
    "start_time": "2024-10-28T11:14:46.035Z"
   },
   {
    "duration": 16,
    "start_time": "2024-10-28T11:14:46.067Z"
   },
   {
    "duration": 38,
    "start_time": "2024-10-28T11:14:46.084Z"
   },
   {
    "duration": 301,
    "start_time": "2024-10-28T11:14:46.126Z"
   },
   {
    "duration": 246,
    "start_time": "2024-10-28T11:14:46.429Z"
   },
   {
    "duration": 380,
    "start_time": "2024-10-28T11:31:31.172Z"
   },
   {
    "duration": 600,
    "start_time": "2024-10-28T11:45:42.932Z"
   },
   {
    "duration": 521,
    "start_time": "2024-10-28T11:46:15.549Z"
   },
   {
    "duration": 426,
    "start_time": "2024-10-28T11:48:17.448Z"
   },
   {
    "duration": 451,
    "start_time": "2024-10-28T11:49:26.600Z"
   },
   {
    "duration": 402,
    "start_time": "2024-10-28T11:50:26.553Z"
   },
   {
    "duration": 419,
    "start_time": "2024-10-28T11:56:39.349Z"
   },
   {
    "duration": 546,
    "start_time": "2024-10-28T11:57:53.061Z"
   },
   {
    "duration": 30,
    "start_time": "2024-10-28T11:58:55.774Z"
   },
   {
    "duration": 31,
    "start_time": "2024-10-28T11:59:36.966Z"
   },
   {
    "duration": 847,
    "start_time": "2024-10-28T12:01:26.727Z"
   },
   {
    "duration": 8,
    "start_time": "2024-10-28T12:01:57.777Z"
   },
   {
    "duration": 9,
    "start_time": "2024-10-28T12:07:22.676Z"
   },
   {
    "duration": 31,
    "start_time": "2024-10-28T12:07:32.710Z"
   },
   {
    "duration": 40,
    "start_time": "2024-10-28T12:07:44.212Z"
   },
   {
    "duration": 1229,
    "start_time": "2024-10-28T12:09:02.757Z"
   },
   {
    "duration": 20,
    "start_time": "2024-10-28T12:09:25.229Z"
   },
   {
    "duration": 17,
    "start_time": "2024-10-28T12:09:41.246Z"
   },
   {
    "duration": 564,
    "start_time": "2024-10-28T12:12:36.440Z"
   },
   {
    "duration": 507,
    "start_time": "2024-10-28T12:12:53.069Z"
   },
   {
    "duration": 448,
    "start_time": "2024-10-28T12:13:32.041Z"
   },
   {
    "duration": 182,
    "start_time": "2024-10-28T14:56:53.605Z"
   },
   {
    "duration": 48,
    "start_time": "2024-10-28T14:57:25.302Z"
   },
   {
    "duration": 9,
    "start_time": "2024-10-28T15:07:03.014Z"
   },
   {
    "duration": 8,
    "start_time": "2024-10-28T15:17:54.230Z"
   },
   {
    "duration": 12,
    "start_time": "2024-10-28T15:18:10.534Z"
   },
   {
    "duration": 19,
    "start_time": "2024-10-28T15:18:23.793Z"
   },
   {
    "duration": 1516,
    "start_time": "2024-10-30T13:35:56.186Z"
   },
   {
    "duration": 278,
    "start_time": "2024-10-30T13:35:57.704Z"
   },
   {
    "duration": 20,
    "start_time": "2024-10-30T13:35:57.984Z"
   },
   {
    "duration": 68,
    "start_time": "2024-10-30T13:35:58.007Z"
   },
   {
    "duration": 21,
    "start_time": "2024-10-30T13:35:58.077Z"
   },
   {
    "duration": 25,
    "start_time": "2024-10-30T13:35:58.099Z"
   },
   {
    "duration": 11,
    "start_time": "2024-10-30T13:35:58.128Z"
   },
   {
    "duration": 11,
    "start_time": "2024-10-30T13:35:58.140Z"
   },
   {
    "duration": 14,
    "start_time": "2024-10-30T13:35:58.152Z"
   },
   {
    "duration": 13,
    "start_time": "2024-10-30T13:35:58.169Z"
   },
   {
    "duration": 5,
    "start_time": "2024-10-30T13:35:58.184Z"
   },
   {
    "duration": 16,
    "start_time": "2024-10-30T13:35:58.191Z"
   },
   {
    "duration": 5,
    "start_time": "2024-10-30T13:35:58.208Z"
   },
   {
    "duration": 244,
    "start_time": "2024-10-30T13:35:58.214Z"
   },
   {
    "duration": 185,
    "start_time": "2024-10-30T13:35:58.460Z"
   },
   {
    "duration": 304,
    "start_time": "2024-10-30T13:35:58.648Z"
   },
   {
    "duration": 7,
    "start_time": "2024-10-30T13:35:58.954Z"
   },
   {
    "duration": 412,
    "start_time": "2024-10-30T13:35:58.962Z"
   },
   {
    "duration": 10,
    "start_time": "2024-10-30T13:35:59.376Z"
   },
   {
    "duration": 200,
    "start_time": "2024-10-30T13:35:59.387Z"
   },
   {
    "duration": 368,
    "start_time": "2024-10-30T13:35:59.589Z"
   },
   {
    "duration": 10,
    "start_time": "2024-10-30T13:35:59.958Z"
   },
   {
    "duration": 171,
    "start_time": "2024-10-30T13:35:59.969Z"
   },
   {
    "duration": 14,
    "start_time": "2024-10-30T13:36:00.142Z"
   },
   {
    "duration": 104,
    "start_time": "2024-10-30T13:36:00.157Z"
   },
   {
    "duration": 39,
    "start_time": "2024-10-30T13:36:00.263Z"
   },
   {
    "duration": 74,
    "start_time": "2024-10-30T13:36:00.304Z"
   },
   {
    "duration": 499,
    "start_time": "2024-10-30T13:36:00.381Z"
   },
   {
    "duration": 476,
    "start_time": "2024-10-30T13:36:00.882Z"
   },
   {
    "duration": 19,
    "start_time": "2024-10-30T13:36:01.359Z"
   },
   {
    "duration": 54,
    "start_time": "2024-10-30T13:36:01.379Z"
   },
   {
    "duration": 49,
    "start_time": "2024-10-30T13:36:01.435Z"
   },
   {
    "duration": 19,
    "start_time": "2024-10-30T13:36:01.486Z"
   },
   {
    "duration": 6,
    "start_time": "2024-10-30T14:02:15.657Z"
   },
   {
    "duration": 5,
    "start_time": "2024-10-30T14:15:52.019Z"
   },
   {
    "duration": 6,
    "start_time": "2024-10-30T14:16:34.740Z"
   },
   {
    "duration": 8,
    "start_time": "2024-10-30T15:05:48.726Z"
   },
   {
    "duration": 1540,
    "start_time": "2024-11-02T10:41:13.959Z"
   },
   {
    "duration": 345,
    "start_time": "2024-11-02T10:41:15.502Z"
   },
   {
    "duration": 22,
    "start_time": "2024-11-02T10:41:15.848Z"
   },
   {
    "duration": 33,
    "start_time": "2024-11-02T10:41:15.873Z"
   },
   {
    "duration": 9,
    "start_time": "2024-11-02T10:41:15.907Z"
   },
   {
    "duration": 19,
    "start_time": "2024-11-02T10:41:15.918Z"
   },
   {
    "duration": 14,
    "start_time": "2024-11-02T10:41:15.939Z"
   },
   {
    "duration": 26,
    "start_time": "2024-11-02T10:41:15.954Z"
   },
   {
    "duration": 16,
    "start_time": "2024-11-02T10:41:15.983Z"
   },
   {
    "duration": 5,
    "start_time": "2024-11-02T10:41:16.001Z"
   },
   {
    "duration": 6,
    "start_time": "2024-11-02T10:41:16.008Z"
   },
   {
    "duration": 7,
    "start_time": "2024-11-02T10:41:16.016Z"
   },
   {
    "duration": 5,
    "start_time": "2024-11-02T10:41:16.025Z"
   },
   {
    "duration": 263,
    "start_time": "2024-11-02T10:41:16.032Z"
   },
   {
    "duration": 205,
    "start_time": "2024-11-02T10:41:16.296Z"
   },
   {
    "duration": 343,
    "start_time": "2024-11-02T10:41:16.502Z"
   },
   {
    "duration": 9,
    "start_time": "2024-11-02T10:41:16.847Z"
   },
   {
    "duration": 470,
    "start_time": "2024-11-02T10:41:16.858Z"
   },
   {
    "duration": 12,
    "start_time": "2024-11-02T10:41:17.330Z"
   },
   {
    "duration": 189,
    "start_time": "2024-11-02T10:41:17.344Z"
   },
   {
    "duration": 398,
    "start_time": "2024-11-02T10:41:17.536Z"
   },
   {
    "duration": 9,
    "start_time": "2024-11-02T10:41:17.936Z"
   },
   {
    "duration": 187,
    "start_time": "2024-11-02T10:41:17.947Z"
   },
   {
    "duration": 18,
    "start_time": "2024-11-02T10:41:18.136Z"
   },
   {
    "duration": 60,
    "start_time": "2024-11-02T10:41:18.157Z"
   },
   {
    "duration": 22,
    "start_time": "2024-11-02T10:41:18.219Z"
   },
   {
    "duration": 17,
    "start_time": "2024-11-02T10:41:18.243Z"
   },
   {
    "duration": 464,
    "start_time": "2024-11-02T10:41:18.282Z"
   },
   {
    "duration": 508,
    "start_time": "2024-11-02T10:41:18.747Z"
   },
   {
    "duration": 40,
    "start_time": "2024-11-02T10:41:19.257Z"
   },
   {
    "duration": 21,
    "start_time": "2024-11-02T10:41:19.299Z"
   },
   {
    "duration": 76,
    "start_time": "2024-11-02T10:41:19.322Z"
   },
   {
    "duration": 20,
    "start_time": "2024-11-02T10:41:19.400Z"
   },
   {
    "duration": 6,
    "start_time": "2024-11-02T10:41:19.422Z"
   },
   {
    "duration": 17,
    "start_time": "2024-11-02T10:41:19.429Z"
   },
   {
    "duration": 10,
    "start_time": "2024-11-02T10:41:19.448Z"
   },
   {
    "duration": 1322,
    "start_time": "2024-11-02T11:39:00.670Z"
   },
   {
    "duration": 73,
    "start_time": "2024-11-02T11:39:01.994Z"
   },
   {
    "duration": 21,
    "start_time": "2024-11-02T11:39:02.069Z"
   },
   {
    "duration": 36,
    "start_time": "2024-11-02T11:39:02.092Z"
   },
   {
    "duration": 15,
    "start_time": "2024-11-02T11:39:02.130Z"
   },
   {
    "duration": 12,
    "start_time": "2024-11-02T11:39:02.147Z"
   },
   {
    "duration": 44,
    "start_time": "2024-11-02T11:39:02.161Z"
   },
   {
    "duration": 16,
    "start_time": "2024-11-02T11:39:02.206Z"
   },
   {
    "duration": 26,
    "start_time": "2024-11-02T11:39:02.224Z"
   },
   {
    "duration": 9,
    "start_time": "2024-11-02T11:39:02.253Z"
   },
   {
    "duration": 16,
    "start_time": "2024-11-02T11:39:02.264Z"
   },
   {
    "duration": 7,
    "start_time": "2024-11-02T11:39:02.282Z"
   },
   {
    "duration": 17,
    "start_time": "2024-11-02T11:39:02.290Z"
   },
   {
    "duration": 227,
    "start_time": "2024-11-02T11:39:02.309Z"
   },
   {
    "duration": 177,
    "start_time": "2024-11-02T11:39:02.538Z"
   },
   {
    "duration": 329,
    "start_time": "2024-11-02T11:39:02.716Z"
   },
   {
    "duration": 9,
    "start_time": "2024-11-02T11:39:03.046Z"
   },
   {
    "duration": 374,
    "start_time": "2024-11-02T11:39:03.056Z"
   },
   {
    "duration": 9,
    "start_time": "2024-11-02T11:39:03.431Z"
   },
   {
    "duration": 166,
    "start_time": "2024-11-02T11:39:03.441Z"
   },
   {
    "duration": 376,
    "start_time": "2024-11-02T11:39:03.609Z"
   },
   {
    "duration": 9,
    "start_time": "2024-11-02T11:39:03.987Z"
   },
   {
    "duration": 168,
    "start_time": "2024-11-02T11:39:03.998Z"
   },
   {
    "duration": 15,
    "start_time": "2024-11-02T11:39:04.168Z"
   },
   {
    "duration": 30,
    "start_time": "2024-11-02T11:39:04.185Z"
   },
   {
    "duration": 15,
    "start_time": "2024-11-02T11:39:04.217Z"
   },
   {
    "duration": 13,
    "start_time": "2024-11-02T11:39:04.233Z"
   },
   {
    "duration": 537,
    "start_time": "2024-11-02T11:39:04.249Z"
   },
   {
    "duration": 455,
    "start_time": "2024-11-02T11:39:04.788Z"
   },
   {
    "duration": 31,
    "start_time": "2024-11-02T11:39:05.245Z"
   },
   {
    "duration": 52,
    "start_time": "2024-11-02T11:39:05.278Z"
   },
   {
    "duration": 62,
    "start_time": "2024-11-02T11:39:05.331Z"
   },
   {
    "duration": 19,
    "start_time": "2024-11-02T11:39:05.395Z"
   },
   {
    "duration": 25,
    "start_time": "2024-11-02T11:39:05.415Z"
   },
   {
    "duration": 22,
    "start_time": "2024-11-02T11:39:05.441Z"
   },
   {
    "duration": 29,
    "start_time": "2024-11-02T11:39:05.464Z"
   },
   {
    "duration": 289,
    "start_time": "2024-11-02T11:43:47.228Z"
   },
   {
    "duration": 190,
    "start_time": "2024-11-02T11:44:02.526Z"
   },
   {
    "duration": 289,
    "start_time": "2024-11-02T11:44:07.660Z"
   },
   {
    "duration": 293,
    "start_time": "2024-11-02T11:44:17.061Z"
   },
   {
    "duration": 348,
    "start_time": "2024-11-02T11:45:27.766Z"
   },
   {
    "duration": 256,
    "start_time": "2024-11-02T11:46:08.902Z"
   },
   {
    "duration": 285,
    "start_time": "2024-11-02T11:51:27.497Z"
   },
   {
    "duration": 280,
    "start_time": "2024-11-02T11:51:44.112Z"
   },
   {
    "duration": 286,
    "start_time": "2024-11-02T11:51:50.241Z"
   },
   {
    "duration": 59,
    "start_time": "2024-11-02T12:06:39.625Z"
   },
   {
    "duration": 10,
    "start_time": "2024-11-02T12:14:02.391Z"
   },
   {
    "duration": 1313,
    "start_time": "2024-11-02T12:14:14.290Z"
   },
   {
    "duration": 318,
    "start_time": "2024-11-02T12:14:15.605Z"
   },
   {
    "duration": 20,
    "start_time": "2024-11-02T12:14:15.925Z"
   },
   {
    "duration": 24,
    "start_time": "2024-11-02T12:14:15.947Z"
   },
   {
    "duration": 17,
    "start_time": "2024-11-02T12:14:15.973Z"
   },
   {
    "duration": 18,
    "start_time": "2024-11-02T12:14:15.992Z"
   },
   {
    "duration": 26,
    "start_time": "2024-11-02T12:14:16.011Z"
   },
   {
    "duration": 15,
    "start_time": "2024-11-02T12:14:16.039Z"
   },
   {
    "duration": 10,
    "start_time": "2024-11-02T12:14:16.056Z"
   },
   {
    "duration": 6,
    "start_time": "2024-11-02T12:14:16.068Z"
   },
   {
    "duration": 9,
    "start_time": "2024-11-02T12:14:16.075Z"
   },
   {
    "duration": 8,
    "start_time": "2024-11-02T12:14:16.086Z"
   },
   {
    "duration": 5,
    "start_time": "2024-11-02T12:14:16.096Z"
   },
   {
    "duration": 260,
    "start_time": "2024-11-02T12:14:16.103Z"
   },
   {
    "duration": 196,
    "start_time": "2024-11-02T12:14:16.365Z"
   },
   {
    "duration": 358,
    "start_time": "2024-11-02T12:14:16.563Z"
   },
   {
    "duration": 8,
    "start_time": "2024-11-02T12:14:16.923Z"
   },
   {
    "duration": 411,
    "start_time": "2024-11-02T12:14:16.932Z"
   },
   {
    "duration": 8,
    "start_time": "2024-11-02T12:14:17.345Z"
   },
   {
    "duration": 215,
    "start_time": "2024-11-02T12:14:17.354Z"
   },
   {
    "duration": 382,
    "start_time": "2024-11-02T12:14:17.571Z"
   },
   {
    "duration": 8,
    "start_time": "2024-11-02T12:14:17.954Z"
   },
   {
    "duration": 165,
    "start_time": "2024-11-02T12:14:17.977Z"
   },
   {
    "duration": 13,
    "start_time": "2024-11-02T12:14:18.144Z"
   },
   {
    "duration": 65,
    "start_time": "2024-11-02T12:14:18.158Z"
   },
   {
    "duration": 22,
    "start_time": "2024-11-02T12:14:18.226Z"
   },
   {
    "duration": 28,
    "start_time": "2024-11-02T12:14:18.250Z"
   },
   {
    "duration": 502,
    "start_time": "2024-11-02T12:14:18.282Z"
   },
   {
    "duration": 548,
    "start_time": "2024-11-02T12:14:18.786Z"
   },
   {
    "duration": 20,
    "start_time": "2024-11-02T12:14:19.336Z"
   },
   {
    "duration": 71,
    "start_time": "2024-11-02T12:14:19.358Z"
   },
   {
    "duration": 48,
    "start_time": "2024-11-02T12:14:19.431Z"
   },
   {
    "duration": 28,
    "start_time": "2024-11-02T12:14:19.481Z"
   },
   {
    "duration": 5,
    "start_time": "2024-11-02T12:14:19.510Z"
   },
   {
    "duration": 10,
    "start_time": "2024-11-02T12:14:19.516Z"
   },
   {
    "duration": 7,
    "start_time": "2024-11-02T12:14:19.527Z"
   },
   {
    "duration": 317,
    "start_time": "2024-11-02T12:14:19.536Z"
   },
   {
    "duration": 301,
    "start_time": "2024-11-02T12:14:19.855Z"
   },
   {
    "duration": 1242,
    "start_time": "2024-11-02T12:44:40.129Z"
   },
   {
    "duration": 69,
    "start_time": "2024-11-02T12:44:41.372Z"
   },
   {
    "duration": 19,
    "start_time": "2024-11-02T12:44:41.443Z"
   },
   {
    "duration": 104,
    "start_time": "2024-11-02T12:44:41.464Z"
   },
   {
    "duration": 9,
    "start_time": "2024-11-02T12:44:41.569Z"
   },
   {
    "duration": 11,
    "start_time": "2024-11-02T12:44:41.580Z"
   },
   {
    "duration": 11,
    "start_time": "2024-11-02T12:44:41.592Z"
   },
   {
    "duration": 10,
    "start_time": "2024-11-02T12:44:41.604Z"
   },
   {
    "duration": 6,
    "start_time": "2024-11-02T12:44:41.615Z"
   },
   {
    "duration": 4,
    "start_time": "2024-11-02T12:44:41.624Z"
   },
   {
    "duration": 5,
    "start_time": "2024-11-02T12:44:41.629Z"
   },
   {
    "duration": 5,
    "start_time": "2024-11-02T12:44:41.635Z"
   },
   {
    "duration": 5,
    "start_time": "2024-11-02T12:44:41.676Z"
   },
   {
    "duration": 214,
    "start_time": "2024-11-02T12:44:41.682Z"
   },
   {
    "duration": 167,
    "start_time": "2024-11-02T12:44:41.898Z"
   },
   {
    "duration": 298,
    "start_time": "2024-11-02T12:44:42.066Z"
   },
   {
    "duration": 15,
    "start_time": "2024-11-02T12:44:42.365Z"
   },
   {
    "duration": 358,
    "start_time": "2024-11-02T12:44:42.381Z"
   },
   {
    "duration": 8,
    "start_time": "2024-11-02T12:44:42.741Z"
   },
   {
    "duration": 176,
    "start_time": "2024-11-02T12:44:42.751Z"
   },
   {
    "duration": 343,
    "start_time": "2024-11-02T12:44:42.928Z"
   },
   {
    "duration": 9,
    "start_time": "2024-11-02T12:44:43.273Z"
   },
   {
    "duration": 154,
    "start_time": "2024-11-02T12:44:43.284Z"
   },
   {
    "duration": 13,
    "start_time": "2024-11-02T12:44:43.439Z"
   },
   {
    "duration": 40,
    "start_time": "2024-11-02T12:44:43.454Z"
   },
   {
    "duration": 44,
    "start_time": "2024-11-02T12:44:43.496Z"
   },
   {
    "duration": 15,
    "start_time": "2024-11-02T12:44:43.542Z"
   },
   {
    "duration": 427,
    "start_time": "2024-11-02T12:44:43.560Z"
   },
   {
    "duration": 449,
    "start_time": "2024-11-02T12:44:43.988Z"
   },
   {
    "duration": 20,
    "start_time": "2024-11-02T12:44:44.438Z"
   },
   {
    "duration": 31,
    "start_time": "2024-11-02T12:44:44.459Z"
   },
   {
    "duration": 49,
    "start_time": "2024-11-02T12:44:44.492Z"
   },
   {
    "duration": 39,
    "start_time": "2024-11-02T12:44:44.543Z"
   },
   {
    "duration": 5,
    "start_time": "2024-11-02T12:44:44.584Z"
   },
   {
    "duration": 4,
    "start_time": "2024-11-02T12:44:44.591Z"
   },
   {
    "duration": 7,
    "start_time": "2024-11-02T12:44:44.597Z"
   },
   {
    "duration": 333,
    "start_time": "2024-11-02T12:44:44.605Z"
   },
   {
    "duration": 287,
    "start_time": "2024-11-02T12:44:44.939Z"
   },
   {
    "duration": 1152,
    "start_time": "2024-11-02T14:21:22.080Z"
   },
   {
    "duration": 348,
    "start_time": "2024-11-02T14:21:23.233Z"
   },
   {
    "duration": 20,
    "start_time": "2024-11-02T14:21:23.583Z"
   },
   {
    "duration": 23,
    "start_time": "2024-11-02T14:21:23.605Z"
   },
   {
    "duration": 5,
    "start_time": "2024-11-02T14:21:23.630Z"
   },
   {
    "duration": 15,
    "start_time": "2024-11-02T14:21:23.637Z"
   },
   {
    "duration": 26,
    "start_time": "2024-11-02T14:21:23.653Z"
   },
   {
    "duration": 9,
    "start_time": "2024-11-02T14:21:23.680Z"
   },
   {
    "duration": 8,
    "start_time": "2024-11-02T14:21:23.691Z"
   },
   {
    "duration": 4,
    "start_time": "2024-11-02T14:21:23.702Z"
   },
   {
    "duration": 13,
    "start_time": "2024-11-02T14:21:23.708Z"
   },
   {
    "duration": 15,
    "start_time": "2024-11-02T14:21:23.723Z"
   },
   {
    "duration": 7,
    "start_time": "2024-11-02T14:21:23.739Z"
   },
   {
    "duration": 202,
    "start_time": "2024-11-02T14:21:23.748Z"
   },
   {
    "duration": 163,
    "start_time": "2024-11-02T14:21:23.952Z"
   },
   {
    "duration": 303,
    "start_time": "2024-11-02T14:21:24.121Z"
   },
   {
    "duration": 7,
    "start_time": "2024-11-02T14:21:24.425Z"
   },
   {
    "duration": 339,
    "start_time": "2024-11-02T14:21:24.434Z"
   },
   {
    "duration": 8,
    "start_time": "2024-11-02T14:21:24.775Z"
   },
   {
    "duration": 176,
    "start_time": "2024-11-02T14:21:24.784Z"
   },
   {
    "duration": 359,
    "start_time": "2024-11-02T14:21:24.962Z"
   },
   {
    "duration": 9,
    "start_time": "2024-11-02T14:21:25.322Z"
   },
   {
    "duration": 155,
    "start_time": "2024-11-02T14:21:25.332Z"
   },
   {
    "duration": 13,
    "start_time": "2024-11-02T14:21:25.488Z"
   },
   {
    "duration": 45,
    "start_time": "2024-11-02T14:21:25.503Z"
   },
   {
    "duration": 14,
    "start_time": "2024-11-02T14:21:25.550Z"
   },
   {
    "duration": 26,
    "start_time": "2024-11-02T14:21:25.566Z"
   },
   {
    "duration": 431,
    "start_time": "2024-11-02T14:21:25.595Z"
   },
   {
    "duration": 417,
    "start_time": "2024-11-02T14:21:26.027Z"
   },
   {
    "duration": 18,
    "start_time": "2024-11-02T14:21:26.445Z"
   },
   {
    "duration": 16,
    "start_time": "2024-11-02T14:21:26.465Z"
   },
   {
    "duration": 64,
    "start_time": "2024-11-02T14:21:26.482Z"
   },
   {
    "duration": 18,
    "start_time": "2024-11-02T14:21:26.547Z"
   },
   {
    "duration": 5,
    "start_time": "2024-11-02T14:21:26.567Z"
   },
   {
    "duration": 18,
    "start_time": "2024-11-02T14:21:26.573Z"
   },
   {
    "duration": 6,
    "start_time": "2024-11-02T14:21:26.593Z"
   },
   {
    "duration": 280,
    "start_time": "2024-11-02T14:21:26.601Z"
   },
   {
    "duration": 282,
    "start_time": "2024-11-02T14:21:26.882Z"
   },
   {
    "duration": 252,
    "start_time": "2024-11-02T14:21:44.324Z"
   },
   {
    "duration": 1495,
    "start_time": "2024-11-03T05:48:20.472Z"
   },
   {
    "duration": 287,
    "start_time": "2024-11-03T05:48:21.969Z"
   },
   {
    "duration": 29,
    "start_time": "2024-11-03T05:48:22.259Z"
   },
   {
    "duration": 28,
    "start_time": "2024-11-03T05:48:22.291Z"
   },
   {
    "duration": 10,
    "start_time": "2024-11-03T05:48:22.321Z"
   },
   {
    "duration": 8,
    "start_time": "2024-11-03T05:48:22.332Z"
   },
   {
    "duration": 10,
    "start_time": "2024-11-03T05:48:22.342Z"
   },
   {
    "duration": 9,
    "start_time": "2024-11-03T05:48:22.354Z"
   },
   {
    "duration": 22,
    "start_time": "2024-11-03T05:48:22.364Z"
   },
   {
    "duration": 5,
    "start_time": "2024-11-03T05:48:22.388Z"
   },
   {
    "duration": 29,
    "start_time": "2024-11-03T05:48:22.395Z"
   },
   {
    "duration": 7,
    "start_time": "2024-11-03T05:48:22.425Z"
   },
   {
    "duration": 10,
    "start_time": "2024-11-03T05:48:22.433Z"
   },
   {
    "duration": 243,
    "start_time": "2024-11-03T05:48:22.444Z"
   },
   {
    "duration": 182,
    "start_time": "2024-11-03T05:48:22.688Z"
   },
   {
    "duration": 326,
    "start_time": "2024-11-03T05:48:22.872Z"
   },
   {
    "duration": 23,
    "start_time": "2024-11-03T05:48:23.201Z"
   },
   {
    "duration": 414,
    "start_time": "2024-11-03T05:48:23.226Z"
   },
   {
    "duration": 10,
    "start_time": "2024-11-03T05:48:23.642Z"
   },
   {
    "duration": 269,
    "start_time": "2024-11-03T05:48:23.654Z"
   },
   {
    "duration": 291,
    "start_time": "2024-11-03T05:48:23.925Z"
   },
   {
    "duration": 10,
    "start_time": "2024-11-03T05:48:24.217Z"
   },
   {
    "duration": 167,
    "start_time": "2024-11-03T05:48:24.229Z"
   },
   {
    "duration": 24,
    "start_time": "2024-11-03T05:48:24.397Z"
   },
   {
    "duration": 31,
    "start_time": "2024-11-03T05:48:24.423Z"
   },
   {
    "duration": 16,
    "start_time": "2024-11-03T05:48:24.456Z"
   },
   {
    "duration": 16,
    "start_time": "2024-11-03T05:48:24.473Z"
   },
   {
    "duration": 459,
    "start_time": "2024-11-03T05:48:24.523Z"
   },
   {
    "duration": 548,
    "start_time": "2024-11-03T05:48:24.985Z"
   },
   {
    "duration": 27,
    "start_time": "2024-11-03T05:48:25.536Z"
   },
   {
    "duration": 21,
    "start_time": "2024-11-03T05:48:25.564Z"
   },
   {
    "duration": 77,
    "start_time": "2024-11-03T05:48:25.586Z"
   },
   {
    "duration": 19,
    "start_time": "2024-11-03T05:48:25.665Z"
   },
   {
    "duration": 6,
    "start_time": "2024-11-03T05:48:25.686Z"
   },
   {
    "duration": 28,
    "start_time": "2024-11-03T05:48:25.694Z"
   },
   {
    "duration": 11,
    "start_time": "2024-11-03T05:48:25.724Z"
   },
   {
    "duration": 349,
    "start_time": "2024-11-03T05:48:25.737Z"
   },
   {
    "duration": 289,
    "start_time": "2024-11-03T05:48:26.088Z"
   },
   {
    "duration": 21,
    "start_time": "2024-11-03T06:00:14.312Z"
   },
   {
    "duration": 18,
    "start_time": "2024-11-03T06:01:28.608Z"
   },
   {
    "duration": 17,
    "start_time": "2024-11-03T06:01:53.338Z"
   },
   {
    "duration": 30,
    "start_time": "2024-11-03T06:03:34.811Z"
   },
   {
    "duration": 14,
    "start_time": "2024-11-03T06:03:53.099Z"
   },
   {
    "duration": 16,
    "start_time": "2024-11-03T06:04:47.732Z"
   },
   {
    "duration": 17,
    "start_time": "2024-11-03T06:05:51.156Z"
   },
   {
    "duration": 24,
    "start_time": "2024-11-03T06:15:07.940Z"
   },
   {
    "duration": 27,
    "start_time": "2024-11-03T06:16:03.148Z"
   },
   {
    "duration": 75,
    "start_time": "2024-11-03T06:22:25.656Z"
   },
   {
    "duration": 17,
    "start_time": "2024-11-03T06:22:41.592Z"
   },
   {
    "duration": 15,
    "start_time": "2024-11-03T06:23:00.288Z"
   },
   {
    "duration": 19,
    "start_time": "2024-11-03T06:23:27.083Z"
   },
   {
    "duration": 18,
    "start_time": "2024-11-03T06:24:28.650Z"
   },
   {
    "duration": 19,
    "start_time": "2024-11-03T06:25:01.538Z"
   },
   {
    "duration": 19,
    "start_time": "2024-11-03T06:25:38.883Z"
   },
   {
    "duration": 24,
    "start_time": "2024-11-03T06:26:07.380Z"
   },
   {
    "duration": 124,
    "start_time": "2024-11-03T06:31:19.312Z"
   },
   {
    "duration": 20,
    "start_time": "2024-11-03T06:33:52.994Z"
   },
   {
    "duration": 24,
    "start_time": "2024-11-03T06:34:01.788Z"
   },
   {
    "duration": 25,
    "start_time": "2024-11-03T06:34:14.527Z"
   },
   {
    "duration": 23,
    "start_time": "2024-11-03T06:34:25.217Z"
   },
   {
    "duration": 31,
    "start_time": "2024-11-03T06:39:06.118Z"
   },
   {
    "duration": 30,
    "start_time": "2024-11-03T06:39:39.454Z"
   },
   {
    "duration": 4,
    "start_time": "2024-11-03T06:40:46.286Z"
   },
   {
    "duration": 21,
    "start_time": "2024-11-03T06:44:14.881Z"
   },
   {
    "duration": 23,
    "start_time": "2024-11-03T06:44:18.304Z"
   },
   {
    "duration": 21,
    "start_time": "2024-11-03T06:44:21.955Z"
   },
   {
    "duration": 1273,
    "start_time": "2024-11-03T06:44:47.863Z"
   },
   {
    "duration": 71,
    "start_time": "2024-11-03T06:44:49.138Z"
   },
   {
    "duration": 21,
    "start_time": "2024-11-03T06:44:49.211Z"
   },
   {
    "duration": 7,
    "start_time": "2024-11-03T06:44:49.234Z"
   },
   {
    "duration": 19,
    "start_time": "2024-11-03T06:44:49.242Z"
   },
   {
    "duration": 17,
    "start_time": "2024-11-03T06:44:49.263Z"
   },
   {
    "duration": 45,
    "start_time": "2024-11-03T06:44:49.282Z"
   },
   {
    "duration": 7,
    "start_time": "2024-11-03T06:44:49.328Z"
   },
   {
    "duration": 8,
    "start_time": "2024-11-03T06:44:49.337Z"
   },
   {
    "duration": 10,
    "start_time": "2024-11-03T06:44:49.348Z"
   },
   {
    "duration": 10,
    "start_time": "2024-11-03T06:44:49.359Z"
   },
   {
    "duration": 51,
    "start_time": "2024-11-03T06:44:49.370Z"
   },
   {
    "duration": 6,
    "start_time": "2024-11-03T06:44:49.423Z"
   },
   {
    "duration": 7,
    "start_time": "2024-11-03T06:44:49.430Z"
   },
   {
    "duration": 7,
    "start_time": "2024-11-03T06:44:49.438Z"
   },
   {
    "duration": 5,
    "start_time": "2024-11-03T06:44:49.447Z"
   },
   {
    "duration": 236,
    "start_time": "2024-11-03T06:44:49.453Z"
   },
   {
    "duration": 199,
    "start_time": "2024-11-03T06:44:49.691Z"
   },
   {
    "duration": 324,
    "start_time": "2024-11-03T06:44:49.892Z"
   },
   {
    "duration": 10,
    "start_time": "2024-11-03T06:44:50.218Z"
   },
   {
    "duration": 376,
    "start_time": "2024-11-03T06:44:50.229Z"
   },
   {
    "duration": 15,
    "start_time": "2024-11-03T06:44:50.607Z"
   },
   {
    "duration": 170,
    "start_time": "2024-11-03T06:44:50.623Z"
   },
   {
    "duration": 365,
    "start_time": "2024-11-03T06:44:50.795Z"
   },
   {
    "duration": 11,
    "start_time": "2024-11-03T06:44:51.161Z"
   },
   {
    "duration": 175,
    "start_time": "2024-11-03T06:44:51.174Z"
   },
   {
    "duration": 13,
    "start_time": "2024-11-03T06:44:51.351Z"
   },
   {
    "duration": 30,
    "start_time": "2024-11-03T06:44:51.367Z"
   },
   {
    "duration": 36,
    "start_time": "2024-11-03T06:44:51.398Z"
   },
   {
    "duration": 16,
    "start_time": "2024-11-03T06:44:51.435Z"
   },
   {
    "duration": 481,
    "start_time": "2024-11-03T06:44:51.452Z"
   },
   {
    "duration": 490,
    "start_time": "2024-11-03T06:44:51.935Z"
   },
   {
    "duration": 21,
    "start_time": "2024-11-03T06:44:52.427Z"
   },
   {
    "duration": 37,
    "start_time": "2024-11-03T06:44:52.450Z"
   },
   {
    "duration": 58,
    "start_time": "2024-11-03T06:44:52.489Z"
   },
   {
    "duration": 21,
    "start_time": "2024-11-03T06:44:52.549Z"
   },
   {
    "duration": 6,
    "start_time": "2024-11-03T06:44:52.572Z"
   },
   {
    "duration": 17,
    "start_time": "2024-11-03T06:44:52.580Z"
   },
   {
    "duration": 48,
    "start_time": "2024-11-03T06:44:52.599Z"
   },
   {
    "duration": 244,
    "start_time": "2024-11-03T06:44:52.650Z"
   },
   {
    "duration": 307,
    "start_time": "2024-11-03T06:44:52.895Z"
   },
   {
    "duration": 193,
    "start_time": "2024-11-03T06:49:41.835Z"
   },
   {
    "duration": 266,
    "start_time": "2024-11-03T06:55:04.724Z"
   },
   {
    "duration": 288,
    "start_time": "2024-11-03T06:55:19.369Z"
   },
   {
    "duration": 162,
    "start_time": "2024-11-03T06:55:33.467Z"
   },
   {
    "duration": 21,
    "start_time": "2024-11-03T06:58:07.635Z"
   },
   {
    "duration": 207,
    "start_time": "2024-11-03T06:58:15.059Z"
   },
   {
    "duration": 304,
    "start_time": "2024-11-03T07:35:23.006Z"
   },
   {
    "duration": 358,
    "start_time": "2024-11-03T07:35:45.000Z"
   },
   {
    "duration": 317,
    "start_time": "2024-11-03T07:35:57.551Z"
   },
   {
    "duration": 312,
    "start_time": "2024-11-03T07:36:07.087Z"
   },
   {
    "duration": 413,
    "start_time": "2024-11-03T07:36:21.110Z"
   },
   {
    "duration": 309,
    "start_time": "2024-11-03T07:36:47.151Z"
   },
   {
    "duration": 318,
    "start_time": "2024-11-03T07:36:55.375Z"
   },
   {
    "duration": 304,
    "start_time": "2024-11-03T07:37:06.271Z"
   },
   {
    "duration": 302,
    "start_time": "2024-11-03T07:37:15.873Z"
   },
   {
    "duration": 301,
    "start_time": "2024-11-03T07:37:24.128Z"
   },
   {
    "duration": 11,
    "start_time": "2024-11-03T07:41:08.002Z"
   },
   {
    "duration": 10,
    "start_time": "2024-11-03T07:41:35.850Z"
   },
   {
    "duration": 15,
    "start_time": "2024-11-03T07:41:57.836Z"
   },
   {
    "duration": 429,
    "start_time": "2024-11-03T08:06:26.670Z"
   },
   {
    "duration": 375,
    "start_time": "2024-11-03T08:07:46.224Z"
   },
   {
    "duration": 363,
    "start_time": "2024-11-03T08:08:08.599Z"
   },
   {
    "duration": 329,
    "start_time": "2024-11-03T08:08:16.191Z"
   },
   {
    "duration": 10,
    "start_time": "2024-11-03T08:43:13.621Z"
   },
   {
    "duration": 12,
    "start_time": "2024-11-03T08:50:45.416Z"
   },
   {
    "duration": 11,
    "start_time": "2024-11-03T08:51:33.049Z"
   },
   {
    "duration": 10,
    "start_time": "2024-11-03T08:52:46.228Z"
   },
   {
    "duration": 20,
    "start_time": "2024-11-03T08:55:21.780Z"
   },
   {
    "duration": 4,
    "start_time": "2024-11-03T08:56:08.868Z"
   },
   {
    "duration": 5,
    "start_time": "2024-11-03T08:57:06.373Z"
   },
   {
    "duration": 6,
    "start_time": "2024-11-03T08:58:15.581Z"
   },
   {
    "duration": 6,
    "start_time": "2024-11-03T09:03:40.613Z"
   },
   {
    "duration": 19,
    "start_time": "2024-11-03T09:36:29.655Z"
   },
   {
    "duration": 6,
    "start_time": "2024-11-03T09:36:40.240Z"
   },
   {
    "duration": 1346,
    "start_time": "2024-11-03T10:14:21.488Z"
   },
   {
    "duration": 70,
    "start_time": "2024-11-03T10:14:22.836Z"
   },
   {
    "duration": 22,
    "start_time": "2024-11-03T10:14:22.907Z"
   },
   {
    "duration": 4,
    "start_time": "2024-11-03T10:14:22.931Z"
   },
   {
    "duration": 23,
    "start_time": "2024-11-03T10:14:22.936Z"
   },
   {
    "duration": 18,
    "start_time": "2024-11-03T10:14:22.961Z"
   },
   {
    "duration": 49,
    "start_time": "2024-11-03T10:14:22.981Z"
   },
   {
    "duration": 6,
    "start_time": "2024-11-03T10:14:23.032Z"
   },
   {
    "duration": 11,
    "start_time": "2024-11-03T10:14:23.039Z"
   },
   {
    "duration": 11,
    "start_time": "2024-11-03T10:14:23.053Z"
   },
   {
    "duration": 10,
    "start_time": "2024-11-03T10:14:23.066Z"
   },
   {
    "duration": 45,
    "start_time": "2024-11-03T10:14:23.078Z"
   },
   {
    "duration": 5,
    "start_time": "2024-11-03T10:14:23.125Z"
   },
   {
    "duration": 5,
    "start_time": "2024-11-03T10:14:23.132Z"
   },
   {
    "duration": 6,
    "start_time": "2024-11-03T10:14:23.139Z"
   },
   {
    "duration": 10,
    "start_time": "2024-11-03T10:14:23.147Z"
   },
   {
    "duration": 236,
    "start_time": "2024-11-03T10:14:23.159Z"
   },
   {
    "duration": 205,
    "start_time": "2024-11-03T10:14:23.397Z"
   },
   {
    "duration": 350,
    "start_time": "2024-11-03T10:14:23.603Z"
   },
   {
    "duration": 9,
    "start_time": "2024-11-03T10:14:23.954Z"
   },
   {
    "duration": 385,
    "start_time": "2024-11-03T10:14:23.965Z"
   },
   {
    "duration": 489,
    "start_time": "2024-11-03T10:14:24.352Z"
   },
   {
    "duration": 12,
    "start_time": "2024-11-03T10:14:24.842Z"
   },
   {
    "duration": 214,
    "start_time": "2024-11-03T10:14:24.856Z"
   },
   {
    "duration": 330,
    "start_time": "2024-11-03T10:14:25.072Z"
   },
   {
    "duration": 17,
    "start_time": "2024-11-03T10:14:25.404Z"
   },
   {
    "duration": 166,
    "start_time": "2024-11-03T10:14:25.423Z"
   },
   {
    "duration": 13,
    "start_time": "2024-11-03T10:14:25.592Z"
   },
   {
    "duration": 44,
    "start_time": "2024-11-03T10:14:25.607Z"
   },
   {
    "duration": 10,
    "start_time": "2024-11-03T10:14:25.653Z"
   },
   {
    "duration": 15,
    "start_time": "2024-11-03T10:14:25.666Z"
   },
   {
    "duration": 46,
    "start_time": "2024-11-03T10:14:25.682Z"
   },
   {
    "duration": 17,
    "start_time": "2024-11-03T10:14:25.729Z"
   },
   {
    "duration": 14,
    "start_time": "2024-11-03T10:14:25.748Z"
   },
   {
    "duration": 477,
    "start_time": "2024-11-03T10:14:25.764Z"
   },
   {
    "duration": 505,
    "start_time": "2024-11-03T10:14:26.242Z"
   },
   {
    "duration": 25,
    "start_time": "2024-11-03T10:14:26.749Z"
   },
   {
    "duration": 37,
    "start_time": "2024-11-03T10:14:26.776Z"
   },
   {
    "duration": 54,
    "start_time": "2024-11-03T10:14:26.815Z"
   },
   {
    "duration": 7,
    "start_time": "2024-11-03T10:14:26.871Z"
   },
   {
    "duration": 42,
    "start_time": "2024-11-03T10:14:26.880Z"
   },
   {
    "duration": 7,
    "start_time": "2024-11-03T10:14:26.924Z"
   },
   {
    "duration": 16,
    "start_time": "2024-11-03T10:14:26.932Z"
   },
   {
    "duration": 12,
    "start_time": "2024-11-03T10:14:26.950Z"
   },
   {
    "duration": 321,
    "start_time": "2024-11-03T10:14:26.964Z"
   },
   {
    "duration": 441,
    "start_time": "2024-11-03T10:14:27.287Z"
   },
   {
    "duration": 112,
    "start_time": "2024-11-03T10:19:30.097Z"
   },
   {
    "duration": 8,
    "start_time": "2024-11-03T10:24:50.950Z"
   },
   {
    "duration": 7,
    "start_time": "2024-11-03T10:25:37.774Z"
   },
   {
    "duration": 8,
    "start_time": "2024-11-03T10:26:22.784Z"
   },
   {
    "duration": 9,
    "start_time": "2024-11-03T10:30:29.610Z"
   },
   {
    "duration": 10,
    "start_time": "2024-11-03T10:31:44.619Z"
   },
   {
    "duration": 10,
    "start_time": "2024-11-03T10:34:40.381Z"
   },
   {
    "duration": 9,
    "start_time": "2024-11-03T10:40:14.536Z"
   },
   {
    "duration": 125,
    "start_time": "2024-11-03T10:47:56.399Z"
   },
   {
    "duration": 14,
    "start_time": "2024-11-03T10:48:43.903Z"
   },
   {
    "duration": 11,
    "start_time": "2024-11-03T10:50:55.329Z"
   },
   {
    "duration": 10,
    "start_time": "2024-11-03T10:51:06.385Z"
   },
   {
    "duration": 12,
    "start_time": "2024-11-03T10:52:05.075Z"
   },
   {
    "duration": 190,
    "start_time": "2024-11-03T10:52:19.999Z"
   },
   {
    "duration": 165330,
    "start_time": "2024-11-03T10:56:26.190Z"
   },
   {
    "duration": 13,
    "start_time": "2024-11-03T11:01:13.744Z"
   },
   {
    "duration": 30,
    "start_time": "2024-11-03T11:01:56.505Z"
   },
   {
    "duration": 10,
    "start_time": "2024-11-03T11:02:29.810Z"
   },
   {
    "duration": 10,
    "start_time": "2024-11-03T11:03:08.018Z"
   },
   {
    "duration": 480,
    "start_time": "2024-11-03T11:05:47.012Z"
   },
   {
    "duration": 14,
    "start_time": "2024-11-03T11:16:02.999Z"
   },
   {
    "duration": 10,
    "start_time": "2024-11-03T11:16:26.164Z"
   },
   {
    "duration": 15,
    "start_time": "2024-11-03T11:24:56.667Z"
   },
   {
    "duration": 13,
    "start_time": "2024-11-03T11:26:30.452Z"
   },
   {
    "duration": 97,
    "start_time": "2024-11-03T11:29:45.228Z"
   },
   {
    "duration": 31,
    "start_time": "2024-11-03T11:30:00.262Z"
   },
   {
    "duration": 12,
    "start_time": "2024-11-03T11:33:18.432Z"
   },
   {
    "duration": 5,
    "start_time": "2024-11-03T11:34:15.248Z"
   },
   {
    "duration": 10,
    "start_time": "2024-11-03T11:34:25.563Z"
   },
   {
    "duration": 11,
    "start_time": "2024-11-03T11:35:05.028Z"
   },
   {
    "duration": 57,
    "start_time": "2024-11-03T11:36:24.371Z"
   },
   {
    "duration": 10,
    "start_time": "2024-11-03T11:37:03.483Z"
   },
   {
    "duration": 10,
    "start_time": "2024-11-03T11:38:42.204Z"
   },
   {
    "duration": 41,
    "start_time": "2024-11-03T11:42:21.731Z"
   },
   {
    "duration": 30,
    "start_time": "2024-11-03T11:44:27.232Z"
   },
   {
    "duration": 23,
    "start_time": "2024-11-03T11:46:00.753Z"
   },
   {
    "duration": 28,
    "start_time": "2024-11-03T11:46:29.193Z"
   },
   {
    "duration": 32,
    "start_time": "2024-11-03T11:47:51.691Z"
   },
   {
    "duration": 26,
    "start_time": "2024-11-03T11:48:14.314Z"
   },
   {
    "duration": 1323,
    "start_time": "2024-11-03T11:48:30.751Z"
   },
   {
    "duration": 79,
    "start_time": "2024-11-03T11:48:32.076Z"
   },
   {
    "duration": 30,
    "start_time": "2024-11-03T11:48:32.157Z"
   },
   {
    "duration": 4,
    "start_time": "2024-11-03T11:48:32.190Z"
   },
   {
    "duration": 45,
    "start_time": "2024-11-03T11:48:32.196Z"
   },
   {
    "duration": 19,
    "start_time": "2024-11-03T11:48:32.244Z"
   },
   {
    "duration": 65,
    "start_time": "2024-11-03T11:48:32.264Z"
   },
   {
    "duration": 15,
    "start_time": "2024-11-03T11:48:32.331Z"
   },
   {
    "duration": 15,
    "start_time": "2024-11-03T11:48:32.348Z"
   },
   {
    "duration": 35,
    "start_time": "2024-11-03T11:48:32.366Z"
   },
   {
    "duration": 27,
    "start_time": "2024-11-03T11:48:32.403Z"
   },
   {
    "duration": 19,
    "start_time": "2024-11-03T11:48:32.432Z"
   },
   {
    "duration": 33,
    "start_time": "2024-11-03T11:48:32.453Z"
   },
   {
    "duration": 26,
    "start_time": "2024-11-03T11:48:32.487Z"
   },
   {
    "duration": 53,
    "start_time": "2024-11-03T11:48:32.515Z"
   },
   {
    "duration": 26,
    "start_time": "2024-11-03T11:48:32.570Z"
   },
   {
    "duration": 213,
    "start_time": "2024-11-03T11:48:32.598Z"
   },
   {
    "duration": 177,
    "start_time": "2024-11-03T11:48:32.812Z"
   },
   {
    "duration": 329,
    "start_time": "2024-11-03T11:48:32.991Z"
   },
   {
    "duration": 9,
    "start_time": "2024-11-03T11:48:33.322Z"
   },
   {
    "duration": 348,
    "start_time": "2024-11-03T11:48:33.333Z"
   },
   {
    "duration": 461,
    "start_time": "2024-11-03T11:48:33.683Z"
   },
   {
    "duration": 9,
    "start_time": "2024-11-03T11:48:34.146Z"
   },
   {
    "duration": 165,
    "start_time": "2024-11-03T11:48:34.157Z"
   },
   {
    "duration": 290,
    "start_time": "2024-11-03T11:48:34.324Z"
   },
   {
    "duration": 11,
    "start_time": "2024-11-03T11:48:34.616Z"
   },
   {
    "duration": 185,
    "start_time": "2024-11-03T11:48:34.629Z"
   },
   {
    "duration": 15,
    "start_time": "2024-11-03T11:48:34.817Z"
   },
   {
    "duration": 34,
    "start_time": "2024-11-03T11:48:34.834Z"
   },
   {
    "duration": 15,
    "start_time": "2024-11-03T11:48:34.870Z"
   },
   {
    "duration": 49,
    "start_time": "2024-11-03T11:48:34.887Z"
   },
   {
    "duration": 16,
    "start_time": "2024-11-03T11:48:34.937Z"
   },
   {
    "duration": 12,
    "start_time": "2024-11-03T11:48:34.955Z"
   },
   {
    "duration": 17,
    "start_time": "2024-11-03T11:48:34.969Z"
   },
   {
    "duration": 527,
    "start_time": "2024-11-03T11:48:34.988Z"
   },
   {
    "duration": 502,
    "start_time": "2024-11-03T11:48:35.517Z"
   },
   {
    "duration": 21,
    "start_time": "2024-11-03T11:48:36.021Z"
   },
   {
    "duration": 29,
    "start_time": "2024-11-03T11:48:36.044Z"
   },
   {
    "duration": 63,
    "start_time": "2024-11-03T11:48:36.075Z"
   },
   {
    "duration": 5,
    "start_time": "2024-11-03T11:48:36.140Z"
   },
   {
    "duration": 59,
    "start_time": "2024-11-03T11:48:36.147Z"
   },
   {
    "duration": 29,
    "start_time": "2024-11-03T11:48:36.208Z"
   },
   {
    "duration": 47,
    "start_time": "2024-11-03T11:48:36.239Z"
   },
   {
    "duration": 41,
    "start_time": "2024-11-03T11:48:36.287Z"
   },
   {
    "duration": 25,
    "start_time": "2024-11-03T11:48:36.330Z"
   },
   {
    "duration": 48,
    "start_time": "2024-11-03T11:48:36.357Z"
   },
   {
    "duration": 19,
    "start_time": "2024-11-03T11:48:36.407Z"
   },
   {
    "duration": 17,
    "start_time": "2024-11-03T11:48:36.428Z"
   },
   {
    "duration": 27,
    "start_time": "2024-11-03T11:48:36.446Z"
   },
   {
    "duration": 326,
    "start_time": "2024-11-03T11:48:36.475Z"
   },
   {
    "duration": 397,
    "start_time": "2024-11-03T11:48:36.803Z"
   },
   {
    "duration": 21,
    "start_time": "2024-11-03T11:49:26.445Z"
   },
   {
    "duration": 31,
    "start_time": "2024-11-03T11:49:56.661Z"
   },
   {
    "duration": 46,
    "start_time": "2024-11-03T11:50:19.637Z"
   },
   {
    "duration": 46,
    "start_time": "2024-11-03T11:50:38.542Z"
   },
   {
    "duration": 32,
    "start_time": "2024-11-03T12:07:17.156Z"
   },
   {
    "duration": 39,
    "start_time": "2024-11-03T12:08:37.053Z"
   },
   {
    "duration": 38,
    "start_time": "2024-11-03T12:09:06.566Z"
   },
   {
    "duration": 45,
    "start_time": "2024-11-03T12:09:37.903Z"
   },
   {
    "duration": 37,
    "start_time": "2024-11-03T12:10:00.524Z"
   },
   {
    "duration": 123,
    "start_time": "2024-11-03T12:47:28.757Z"
   },
   {
    "duration": 74,
    "start_time": "2024-11-03T12:51:42.176Z"
   },
   {
    "duration": 200,
    "start_time": "2024-11-03T12:52:01.152Z"
   },
   {
    "duration": 119,
    "start_time": "2024-11-03T13:11:53.664Z"
   },
   {
    "duration": 11,
    "start_time": "2024-11-03T13:12:45.721Z"
   },
   {
    "duration": 1732,
    "start_time": "2024-11-03T13:13:22.664Z"
   },
   {
    "duration": 12,
    "start_time": "2024-11-03T13:13:57.728Z"
   },
   {
    "duration": 13,
    "start_time": "2024-11-03T13:14:32.611Z"
   },
   {
    "duration": 166,
    "start_time": "2024-11-03T13:14:49.730Z"
   },
   {
    "duration": 124,
    "start_time": "2024-11-03T13:15:11.347Z"
   },
   {
    "duration": 132,
    "start_time": "2024-11-03T13:15:48.747Z"
   },
   {
    "duration": 119,
    "start_time": "2024-11-03T13:15:59.947Z"
   },
   {
    "duration": 206,
    "start_time": "2024-11-03T13:20:56.832Z"
   },
   {
    "duration": 206,
    "start_time": "2024-11-03T13:21:44.040Z"
   },
   {
    "duration": 203,
    "start_time": "2024-11-03T13:22:25.464Z"
   },
   {
    "duration": 14,
    "start_time": "2024-11-03T13:26:10.003Z"
   },
   {
    "duration": 10,
    "start_time": "2024-11-03T13:26:42.419Z"
   },
   {
    "duration": 24,
    "start_time": "2024-11-03T13:27:17.907Z"
   },
   {
    "duration": 51,
    "start_time": "2024-11-03T13:27:34.921Z"
   },
   {
    "duration": 292,
    "start_time": "2024-11-03T13:31:05.646Z"
   },
   {
    "duration": 280,
    "start_time": "2024-11-03T13:32:13.831Z"
   },
   {
    "duration": 392,
    "start_time": "2024-11-03T13:32:49.836Z"
   },
   {
    "duration": 265,
    "start_time": "2024-11-03T13:33:10.873Z"
   },
   {
    "duration": 282,
    "start_time": "2024-11-03T13:33:54.068Z"
   },
   {
    "duration": 286,
    "start_time": "2024-11-03T13:34:13.362Z"
   },
   {
    "duration": 1360,
    "start_time": "2024-11-03T13:35:36.018Z"
   },
   {
    "duration": 71,
    "start_time": "2024-11-03T13:35:37.380Z"
   },
   {
    "duration": 20,
    "start_time": "2024-11-03T13:35:37.453Z"
   },
   {
    "duration": 4,
    "start_time": "2024-11-03T13:35:37.475Z"
   },
   {
    "duration": 29,
    "start_time": "2024-11-03T13:35:37.480Z"
   },
   {
    "duration": 20,
    "start_time": "2024-11-03T13:35:37.511Z"
   },
   {
    "duration": 27,
    "start_time": "2024-11-03T13:35:37.533Z"
   },
   {
    "duration": 7,
    "start_time": "2024-11-03T13:35:37.562Z"
   },
   {
    "duration": 21,
    "start_time": "2024-11-03T13:35:37.571Z"
   },
   {
    "duration": 33,
    "start_time": "2024-11-03T13:35:37.596Z"
   },
   {
    "duration": 28,
    "start_time": "2024-11-03T13:35:37.631Z"
   },
   {
    "duration": 16,
    "start_time": "2024-11-03T13:35:37.662Z"
   },
   {
    "duration": 8,
    "start_time": "2024-11-03T13:35:37.680Z"
   },
   {
    "duration": 6,
    "start_time": "2024-11-03T13:35:37.690Z"
   },
   {
    "duration": 12,
    "start_time": "2024-11-03T13:35:37.698Z"
   },
   {
    "duration": 5,
    "start_time": "2024-11-03T13:35:37.721Z"
   },
   {
    "duration": 223,
    "start_time": "2024-11-03T13:35:37.728Z"
   },
   {
    "duration": 183,
    "start_time": "2024-11-03T13:35:37.953Z"
   },
   {
    "duration": 331,
    "start_time": "2024-11-03T13:35:38.138Z"
   },
   {
    "duration": 8,
    "start_time": "2024-11-03T13:35:38.471Z"
   },
   {
    "duration": 357,
    "start_time": "2024-11-03T13:35:38.481Z"
   },
   {
    "duration": 446,
    "start_time": "2024-11-03T13:35:38.840Z"
   },
   {
    "duration": 9,
    "start_time": "2024-11-03T13:35:39.287Z"
   },
   {
    "duration": 162,
    "start_time": "2024-11-03T13:35:39.297Z"
   },
   {
    "duration": 288,
    "start_time": "2024-11-03T13:35:39.461Z"
   },
   {
    "duration": 11,
    "start_time": "2024-11-03T13:35:39.751Z"
   },
   {
    "duration": 188,
    "start_time": "2024-11-03T13:35:39.764Z"
   },
   {
    "duration": 14,
    "start_time": "2024-11-03T13:35:39.956Z"
   },
   {
    "duration": 53,
    "start_time": "2024-11-03T13:35:39.971Z"
   },
   {
    "duration": 12,
    "start_time": "2024-11-03T13:35:40.027Z"
   },
   {
    "duration": 27,
    "start_time": "2024-11-03T13:35:40.041Z"
   },
   {
    "duration": 16,
    "start_time": "2024-11-03T13:35:40.070Z"
   },
   {
    "duration": 33,
    "start_time": "2024-11-03T13:35:40.088Z"
   },
   {
    "duration": 10,
    "start_time": "2024-11-03T13:35:40.123Z"
   },
   {
    "duration": 467,
    "start_time": "2024-11-03T13:35:40.135Z"
   },
   {
    "duration": 473,
    "start_time": "2024-11-03T13:35:40.604Z"
   },
   {
    "duration": 20,
    "start_time": "2024-11-03T13:35:41.079Z"
   },
   {
    "duration": 36,
    "start_time": "2024-11-03T13:35:41.101Z"
   },
   {
    "duration": 48,
    "start_time": "2024-11-03T13:35:41.139Z"
   },
   {
    "duration": 7,
    "start_time": "2024-11-03T13:35:41.188Z"
   },
   {
    "duration": 21,
    "start_time": "2024-11-03T13:35:41.220Z"
   },
   {
    "duration": 9,
    "start_time": "2024-11-03T13:35:41.243Z"
   },
   {
    "duration": 34,
    "start_time": "2024-11-03T13:35:41.254Z"
   },
   {
    "duration": 37,
    "start_time": "2024-11-03T13:35:41.321Z"
   },
   {
    "duration": 429,
    "start_time": "2024-11-03T13:35:41.360Z"
   },
   {
    "duration": 0,
    "start_time": "2024-11-03T13:35:41.791Z"
   },
   {
    "duration": 0,
    "start_time": "2024-11-03T13:35:41.792Z"
   },
   {
    "duration": 0,
    "start_time": "2024-11-03T13:35:41.792Z"
   },
   {
    "duration": 0,
    "start_time": "2024-11-03T13:35:41.794Z"
   },
   {
    "duration": 0,
    "start_time": "2024-11-03T13:35:41.795Z"
   },
   {
    "duration": 393,
    "start_time": "2024-11-03T13:37:42.043Z"
   },
   {
    "duration": 1339,
    "start_time": "2024-11-03T13:39:56.687Z"
   },
   {
    "duration": 277,
    "start_time": "2024-11-03T13:40:34.626Z"
   },
   {
    "duration": 302,
    "start_time": "2024-11-03T13:42:51.761Z"
   },
   {
    "duration": 287,
    "start_time": "2024-11-03T13:45:34.387Z"
   },
   {
    "duration": 25,
    "start_time": "2024-11-03T13:50:34.543Z"
   },
   {
    "duration": 4,
    "start_time": "2024-11-03T13:52:09.584Z"
   },
   {
    "duration": 69,
    "start_time": "2024-11-03T13:55:43.691Z"
   },
   {
    "duration": 62,
    "start_time": "2024-11-03T13:55:55.283Z"
   },
   {
    "duration": 69,
    "start_time": "2024-11-03T13:57:13.422Z"
   },
   {
    "duration": 295,
    "start_time": "2024-11-03T14:02:03.282Z"
   },
   {
    "duration": 64,
    "start_time": "2024-11-03T14:03:43.234Z"
   },
   {
    "duration": 65,
    "start_time": "2024-11-03T14:03:54.482Z"
   },
   {
    "duration": 275,
    "start_time": "2024-11-03T14:04:26.282Z"
   },
   {
    "duration": 258,
    "start_time": "2024-11-03T14:27:32.255Z"
   },
   {
    "duration": 207,
    "start_time": "2024-11-03T14:27:59.343Z"
   },
   {
    "duration": 436,
    "start_time": "2024-11-03T14:29:22.696Z"
   },
   {
    "duration": 20,
    "start_time": "2024-11-03T14:29:49.009Z"
   },
   {
    "duration": 502,
    "start_time": "2024-11-03T14:30:00.445Z"
   },
   {
    "duration": 411,
    "start_time": "2024-11-03T14:30:59.003Z"
   },
   {
    "duration": 1335,
    "start_time": "2024-11-03T14:32:07.571Z"
   },
   {
    "duration": 72,
    "start_time": "2024-11-03T14:32:08.908Z"
   },
   {
    "duration": 26,
    "start_time": "2024-11-03T14:32:08.982Z"
   },
   {
    "duration": 3,
    "start_time": "2024-11-03T14:32:09.010Z"
   },
   {
    "duration": 36,
    "start_time": "2024-11-03T14:32:09.015Z"
   },
   {
    "duration": 19,
    "start_time": "2024-11-03T14:32:09.053Z"
   },
   {
    "duration": 21,
    "start_time": "2024-11-03T14:32:09.074Z"
   },
   {
    "duration": 26,
    "start_time": "2024-11-03T14:32:09.097Z"
   },
   {
    "duration": 13,
    "start_time": "2024-11-03T14:32:09.125Z"
   },
   {
    "duration": 12,
    "start_time": "2024-11-03T14:32:09.141Z"
   },
   {
    "duration": 11,
    "start_time": "2024-11-03T14:32:09.155Z"
   },
   {
    "duration": 10,
    "start_time": "2024-11-03T14:32:09.167Z"
   },
   {
    "duration": 42,
    "start_time": "2024-11-03T14:32:09.179Z"
   },
   {
    "duration": 23,
    "start_time": "2024-11-03T14:32:09.222Z"
   },
   {
    "duration": 24,
    "start_time": "2024-11-03T14:32:09.247Z"
   },
   {
    "duration": 6,
    "start_time": "2024-11-03T14:32:09.273Z"
   },
   {
    "duration": 201,
    "start_time": "2024-11-03T14:32:09.281Z"
   },
   {
    "duration": 197,
    "start_time": "2024-11-03T14:32:09.483Z"
   },
   {
    "duration": 334,
    "start_time": "2024-11-03T14:32:09.681Z"
   },
   {
    "duration": 11,
    "start_time": "2024-11-03T14:32:10.016Z"
   },
   {
    "duration": 350,
    "start_time": "2024-11-03T14:32:10.028Z"
   },
   {
    "duration": 463,
    "start_time": "2024-11-03T14:32:10.380Z"
   },
   {
    "duration": 9,
    "start_time": "2024-11-03T14:32:10.845Z"
   },
   {
    "duration": 168,
    "start_time": "2024-11-03T14:32:10.856Z"
   },
   {
    "duration": 294,
    "start_time": "2024-11-03T14:32:11.026Z"
   },
   {
    "duration": 10,
    "start_time": "2024-11-03T14:32:11.322Z"
   },
   {
    "duration": 180,
    "start_time": "2024-11-03T14:32:11.334Z"
   },
   {
    "duration": 14,
    "start_time": "2024-11-03T14:32:11.523Z"
   },
   {
    "duration": 37,
    "start_time": "2024-11-03T14:32:11.539Z"
   },
   {
    "duration": 11,
    "start_time": "2024-11-03T14:32:11.578Z"
   },
   {
    "duration": 50,
    "start_time": "2024-11-03T14:32:11.591Z"
   },
   {
    "duration": 23,
    "start_time": "2024-11-03T14:32:11.643Z"
   },
   {
    "duration": 17,
    "start_time": "2024-11-03T14:32:11.668Z"
   },
   {
    "duration": 4,
    "start_time": "2024-11-03T14:32:11.687Z"
   },
   {
    "duration": 514,
    "start_time": "2024-11-03T14:32:11.693Z"
   },
   {
    "duration": 476,
    "start_time": "2024-11-03T14:32:12.209Z"
   },
   {
    "duration": 20,
    "start_time": "2024-11-03T14:32:12.687Z"
   },
   {
    "duration": 19,
    "start_time": "2024-11-03T14:32:12.720Z"
   },
   {
    "duration": 48,
    "start_time": "2024-11-03T14:32:12.740Z"
   },
   {
    "duration": 32,
    "start_time": "2024-11-03T14:32:12.790Z"
   },
   {
    "duration": 20,
    "start_time": "2024-11-03T14:32:12.823Z"
   },
   {
    "duration": 8,
    "start_time": "2024-11-03T14:32:12.845Z"
   },
   {
    "duration": 18,
    "start_time": "2024-11-03T14:32:12.854Z"
   },
   {
    "duration": 9,
    "start_time": "2024-11-03T14:32:12.873Z"
   },
   {
    "duration": 38,
    "start_time": "2024-11-03T14:32:12.884Z"
   },
   {
    "duration": 22,
    "start_time": "2024-11-03T14:32:12.924Z"
   },
   {
    "duration": 10,
    "start_time": "2024-11-03T14:32:12.948Z"
   },
   {
    "duration": 355,
    "start_time": "2024-11-03T14:32:12.960Z"
   },
   {
    "duration": 392,
    "start_time": "2024-11-03T14:32:13.320Z"
   },
   {
    "duration": 42,
    "start_time": "2024-11-04T09:13:18.119Z"
   },
   {
    "duration": 1367,
    "start_time": "2024-11-04T09:13:59.183Z"
   },
   {
    "duration": 293,
    "start_time": "2024-11-04T09:14:00.552Z"
   },
   {
    "duration": 17,
    "start_time": "2024-11-04T09:14:00.846Z"
   },
   {
    "duration": 70,
    "start_time": "2024-11-04T09:14:00.865Z"
   },
   {
    "duration": 21,
    "start_time": "2024-11-04T09:14:00.937Z"
   },
   {
    "duration": 31,
    "start_time": "2024-11-04T09:14:00.959Z"
   },
   {
    "duration": 26,
    "start_time": "2024-11-04T09:14:00.991Z"
   },
   {
    "duration": 5,
    "start_time": "2024-11-04T09:14:01.019Z"
   },
   {
    "duration": 20,
    "start_time": "2024-11-04T09:14:01.025Z"
   },
   {
    "duration": 53,
    "start_time": "2024-11-04T09:14:01.047Z"
   },
   {
    "duration": 25,
    "start_time": "2024-11-04T09:14:01.102Z"
   },
   {
    "duration": 14,
    "start_time": "2024-11-04T09:14:01.128Z"
   },
   {
    "duration": 3,
    "start_time": "2024-11-04T09:14:01.144Z"
   },
   {
    "duration": 4,
    "start_time": "2024-11-04T09:14:01.150Z"
   },
   {
    "duration": 39,
    "start_time": "2024-11-04T09:14:01.155Z"
   },
   {
    "duration": 8,
    "start_time": "2024-11-04T09:14:01.195Z"
   },
   {
    "duration": 169,
    "start_time": "2024-11-04T09:14:01.205Z"
   },
   {
    "duration": 161,
    "start_time": "2024-11-04T09:14:01.376Z"
   },
   {
    "duration": 269,
    "start_time": "2024-11-04T09:14:01.538Z"
   },
   {
    "duration": 7,
    "start_time": "2024-11-04T09:14:01.808Z"
   },
   {
    "duration": 444,
    "start_time": "2024-11-04T09:14:01.816Z"
   },
   {
    "duration": 360,
    "start_time": "2024-11-04T09:14:02.261Z"
   },
   {
    "duration": 8,
    "start_time": "2024-11-04T09:14:02.623Z"
   },
   {
    "duration": 164,
    "start_time": "2024-11-04T09:14:02.633Z"
   },
   {
    "duration": 244,
    "start_time": "2024-11-04T09:14:02.798Z"
   },
   {
    "duration": 7,
    "start_time": "2024-11-04T09:14:03.044Z"
   },
   {
    "duration": 225,
    "start_time": "2024-11-04T09:14:03.052Z"
   },
   {
    "duration": 12,
    "start_time": "2024-11-04T09:14:03.279Z"
   },
   {
    "duration": 105,
    "start_time": "2024-11-04T09:14:03.292Z"
   },
   {
    "duration": 63,
    "start_time": "2024-11-04T09:14:03.398Z"
   },
   {
    "duration": 60,
    "start_time": "2024-11-04T09:14:03.462Z"
   },
   {
    "duration": 48,
    "start_time": "2024-11-04T09:14:03.523Z"
   },
   {
    "duration": 34,
    "start_time": "2024-11-04T09:14:03.573Z"
   },
   {
    "duration": 49,
    "start_time": "2024-11-04T09:14:03.609Z"
   },
   {
    "duration": 456,
    "start_time": "2024-11-04T09:14:03.660Z"
   },
   {
    "duration": 357,
    "start_time": "2024-11-04T09:14:04.118Z"
   },
   {
    "duration": 17,
    "start_time": "2024-11-04T09:14:04.477Z"
   },
   {
    "duration": 17,
    "start_time": "2024-11-04T09:14:04.507Z"
   },
   {
    "duration": 40,
    "start_time": "2024-11-04T09:14:04.525Z"
   },
   {
    "duration": 6,
    "start_time": "2024-11-04T09:14:04.567Z"
   },
   {
    "duration": 43,
    "start_time": "2024-11-04T09:14:04.576Z"
   },
   {
    "duration": 7,
    "start_time": "2024-11-04T09:14:04.620Z"
   },
   {
    "duration": 11,
    "start_time": "2024-11-04T09:14:04.629Z"
   },
   {
    "duration": 51,
    "start_time": "2024-11-04T09:14:04.641Z"
   },
   {
    "duration": 4,
    "start_time": "2024-11-04T09:14:04.694Z"
   },
   {
    "duration": 10,
    "start_time": "2024-11-04T09:14:04.700Z"
   },
   {
    "duration": 14,
    "start_time": "2024-11-04T09:14:04.711Z"
   },
   {
    "duration": 307,
    "start_time": "2024-11-04T09:14:04.726Z"
   },
   {
    "duration": 323,
    "start_time": "2024-11-04T09:14:05.035Z"
   },
   {
    "duration": 10,
    "start_time": "2024-11-04T09:14:05.360Z"
   },
   {
    "duration": 150,
    "start_time": "2024-11-04T09:14:05.372Z"
   },
   {
    "duration": 37,
    "start_time": "2024-11-04T09:14:05.524Z"
   },
   {
    "duration": 55,
    "start_time": "2024-11-04T09:14:05.562Z"
   },
   {
    "duration": 64,
    "start_time": "2024-11-04T09:14:05.618Z"
   },
   {
    "duration": 16,
    "start_time": "2024-11-04T09:14:05.683Z"
   },
   {
    "duration": 124,
    "start_time": "2024-11-04T09:14:05.700Z"
   },
   {
    "duration": 70,
    "start_time": "2024-11-04T09:14:05.825Z"
   },
   {
    "duration": 28,
    "start_time": "2024-11-04T09:14:05.896Z"
   },
   {
    "duration": 5,
    "start_time": "2024-11-04T09:14:05.925Z"
   },
   {
    "duration": 168,
    "start_time": "2024-11-04T09:14:05.932Z"
   },
   {
    "duration": 0,
    "start_time": "2024-11-04T09:14:06.101Z"
   },
   {
    "duration": 0,
    "start_time": "2024-11-04T09:14:06.102Z"
   },
   {
    "duration": 0,
    "start_time": "2024-11-04T09:14:06.103Z"
   },
   {
    "duration": 0,
    "start_time": "2024-11-04T09:14:06.104Z"
   },
   {
    "duration": 0,
    "start_time": "2024-11-04T09:14:06.107Z"
   },
   {
    "duration": 0,
    "start_time": "2024-11-04T09:14:06.107Z"
   },
   {
    "duration": 0,
    "start_time": "2024-11-04T09:14:06.108Z"
   },
   {
    "duration": 0,
    "start_time": "2024-11-04T09:14:06.109Z"
   },
   {
    "duration": 4,
    "start_time": "2024-11-04T09:14:20.228Z"
   },
   {
    "duration": 9,
    "start_time": "2024-11-04T09:14:21.564Z"
   },
   {
    "duration": 1179,
    "start_time": "2024-11-04T09:14:25.966Z"
   },
   {
    "duration": 66,
    "start_time": "2024-11-04T09:14:27.146Z"
   },
   {
    "duration": 18,
    "start_time": "2024-11-04T09:14:27.213Z"
   },
   {
    "duration": 3,
    "start_time": "2024-11-04T09:14:27.232Z"
   },
   {
    "duration": 33,
    "start_time": "2024-11-04T09:14:27.237Z"
   },
   {
    "duration": 15,
    "start_time": "2024-11-04T09:14:27.272Z"
   },
   {
    "duration": 28,
    "start_time": "2024-11-04T09:14:27.288Z"
   },
   {
    "duration": 5,
    "start_time": "2024-11-04T09:14:27.318Z"
   },
   {
    "duration": 12,
    "start_time": "2024-11-04T09:14:27.325Z"
   },
   {
    "duration": 13,
    "start_time": "2024-11-04T09:14:27.339Z"
   },
   {
    "duration": 8,
    "start_time": "2024-11-04T09:14:27.353Z"
   },
   {
    "duration": 21,
    "start_time": "2024-11-04T09:14:27.362Z"
   },
   {
    "duration": 36,
    "start_time": "2024-11-04T09:14:27.384Z"
   },
   {
    "duration": 28,
    "start_time": "2024-11-04T09:14:27.423Z"
   },
   {
    "duration": 14,
    "start_time": "2024-11-04T09:14:27.452Z"
   },
   {
    "duration": 18,
    "start_time": "2024-11-04T09:14:27.467Z"
   },
   {
    "duration": 182,
    "start_time": "2024-11-04T09:14:27.487Z"
   },
   {
    "duration": 151,
    "start_time": "2024-11-04T09:14:27.670Z"
   },
   {
    "duration": 260,
    "start_time": "2024-11-04T09:14:27.823Z"
   },
   {
    "duration": 7,
    "start_time": "2024-11-04T09:14:28.085Z"
   },
   {
    "duration": 284,
    "start_time": "2024-11-04T09:14:28.094Z"
   },
   {
    "duration": 375,
    "start_time": "2024-11-04T09:14:28.379Z"
   },
   {
    "duration": 10,
    "start_time": "2024-11-04T09:14:28.756Z"
   },
   {
    "duration": 177,
    "start_time": "2024-11-04T09:14:28.767Z"
   },
   {
    "duration": 234,
    "start_time": "2024-11-04T09:14:28.945Z"
   },
   {
    "duration": 8,
    "start_time": "2024-11-04T09:14:29.180Z"
   },
   {
    "duration": 168,
    "start_time": "2024-11-04T09:14:29.189Z"
   },
   {
    "duration": 12,
    "start_time": "2024-11-04T09:14:29.358Z"
   },
   {
    "duration": 70,
    "start_time": "2024-11-04T09:14:29.371Z"
   },
   {
    "duration": 7,
    "start_time": "2024-11-04T09:14:29.442Z"
   },
   {
    "duration": 30,
    "start_time": "2024-11-04T09:14:29.450Z"
   },
   {
    "duration": 12,
    "start_time": "2024-11-04T09:14:29.481Z"
   },
   {
    "duration": 8,
    "start_time": "2024-11-04T09:14:29.494Z"
   },
   {
    "duration": 12,
    "start_time": "2024-11-04T09:14:29.503Z"
   },
   {
    "duration": 366,
    "start_time": "2024-11-04T09:14:29.516Z"
   },
   {
    "duration": 368,
    "start_time": "2024-11-04T09:14:29.883Z"
   },
   {
    "duration": 16,
    "start_time": "2024-11-04T09:14:30.253Z"
   },
   {
    "duration": 35,
    "start_time": "2024-11-04T09:14:30.270Z"
   },
   {
    "duration": 49,
    "start_time": "2024-11-04T09:14:30.307Z"
   },
   {
    "duration": 5,
    "start_time": "2024-11-04T09:14:30.358Z"
   },
   {
    "duration": 57,
    "start_time": "2024-11-04T09:14:30.368Z"
   },
   {
    "duration": 9,
    "start_time": "2024-11-04T09:14:30.427Z"
   },
   {
    "duration": 38,
    "start_time": "2024-11-04T09:14:30.438Z"
   },
   {
    "duration": 33,
    "start_time": "2024-11-04T09:14:30.478Z"
   },
   {
    "duration": 14,
    "start_time": "2024-11-04T09:14:30.513Z"
   },
   {
    "duration": 18,
    "start_time": "2024-11-04T09:14:30.529Z"
   },
   {
    "duration": 12,
    "start_time": "2024-11-04T09:14:30.549Z"
   },
   {
    "duration": 279,
    "start_time": "2024-11-04T09:14:30.563Z"
   },
   {
    "duration": 305,
    "start_time": "2024-11-04T09:14:30.843Z"
   },
   {
    "duration": 5,
    "start_time": "2024-11-04T09:14:31.150Z"
   },
   {
    "duration": 52,
    "start_time": "2024-11-04T09:14:31.156Z"
   },
   {
    "duration": 20,
    "start_time": "2024-11-04T09:14:31.210Z"
   },
   {
    "duration": 28,
    "start_time": "2024-11-04T09:14:31.232Z"
   },
   {
    "duration": 44,
    "start_time": "2024-11-04T09:14:31.262Z"
   },
   {
    "duration": 15,
    "start_time": "2024-11-04T09:14:31.308Z"
   },
   {
    "duration": 15,
    "start_time": "2024-11-04T09:14:31.324Z"
   },
   {
    "duration": 21,
    "start_time": "2024-11-04T09:14:31.340Z"
   },
   {
    "duration": 55,
    "start_time": "2024-11-04T09:14:31.362Z"
   },
   {
    "duration": 45,
    "start_time": "2024-11-04T09:14:31.418Z"
   },
   {
    "duration": 32,
    "start_time": "2024-11-04T09:14:31.465Z"
   },
   {
    "duration": 612,
    "start_time": "2024-11-04T09:14:31.498Z"
   },
   {
    "duration": 3,
    "start_time": "2024-11-04T09:14:32.111Z"
   },
   {
    "duration": 10,
    "start_time": "2024-11-04T09:14:32.116Z"
   },
   {
    "duration": 46,
    "start_time": "2024-11-04T09:14:32.128Z"
   },
   {
    "duration": 12,
    "start_time": "2024-11-04T09:14:32.175Z"
   },
   {
    "duration": 17,
    "start_time": "2024-11-04T09:14:32.188Z"
   },
   {
    "duration": 710,
    "start_time": "2024-11-04T09:14:32.206Z"
   },
   {
    "duration": 5,
    "start_time": "2024-11-04T09:14:32.917Z"
   },
   {
    "duration": 1178,
    "start_time": "2024-11-04T09:19:44.105Z"
   },
   {
    "duration": 74,
    "start_time": "2024-11-04T09:19:45.286Z"
   },
   {
    "duration": 22,
    "start_time": "2024-11-04T09:19:45.362Z"
   },
   {
    "duration": 3,
    "start_time": "2024-11-04T09:19:45.385Z"
   },
   {
    "duration": 95,
    "start_time": "2024-11-04T09:19:45.390Z"
   },
   {
    "duration": 15,
    "start_time": "2024-11-04T09:19:45.486Z"
   },
   {
    "duration": 30,
    "start_time": "2024-11-04T09:19:45.502Z"
   },
   {
    "duration": 5,
    "start_time": "2024-11-04T09:19:45.534Z"
   },
   {
    "duration": 21,
    "start_time": "2024-11-04T09:19:45.540Z"
   },
   {
    "duration": 15,
    "start_time": "2024-11-04T09:19:45.564Z"
   },
   {
    "duration": 10,
    "start_time": "2024-11-04T09:19:45.581Z"
   },
   {
    "duration": 5,
    "start_time": "2024-11-04T09:19:45.592Z"
   },
   {
    "duration": 5,
    "start_time": "2024-11-04T09:19:45.599Z"
   },
   {
    "duration": 16,
    "start_time": "2024-11-04T09:19:45.606Z"
   },
   {
    "duration": 13,
    "start_time": "2024-11-04T09:19:45.624Z"
   },
   {
    "duration": 12,
    "start_time": "2024-11-04T09:19:45.639Z"
   },
   {
    "duration": 171,
    "start_time": "2024-11-04T09:19:45.652Z"
   },
   {
    "duration": 160,
    "start_time": "2024-11-04T09:19:45.825Z"
   },
   {
    "duration": 274,
    "start_time": "2024-11-04T09:19:45.986Z"
   },
   {
    "duration": 8,
    "start_time": "2024-11-04T09:19:46.262Z"
   },
   {
    "duration": 272,
    "start_time": "2024-11-04T09:19:46.271Z"
   },
   {
    "duration": 337,
    "start_time": "2024-11-04T09:19:46.545Z"
   },
   {
    "duration": 7,
    "start_time": "2024-11-04T09:19:46.883Z"
   },
   {
    "duration": 184,
    "start_time": "2024-11-04T09:19:46.892Z"
   },
   {
    "duration": 253,
    "start_time": "2024-11-04T09:19:47.077Z"
   },
   {
    "duration": 8,
    "start_time": "2024-11-04T09:19:47.331Z"
   },
   {
    "duration": 143,
    "start_time": "2024-11-04T09:19:47.340Z"
   },
   {
    "duration": 22,
    "start_time": "2024-11-04T09:19:47.489Z"
   },
   {
    "duration": 24,
    "start_time": "2024-11-04T09:19:47.513Z"
   },
   {
    "duration": 7,
    "start_time": "2024-11-04T09:19:47.538Z"
   },
   {
    "duration": 15,
    "start_time": "2024-11-04T09:19:47.547Z"
   },
   {
    "duration": 49,
    "start_time": "2024-11-04T09:19:47.563Z"
   },
   {
    "duration": 11,
    "start_time": "2024-11-04T09:19:47.614Z"
   },
   {
    "duration": 8,
    "start_time": "2024-11-04T09:19:47.626Z"
   },
   {
    "duration": 375,
    "start_time": "2024-11-04T09:19:47.636Z"
   },
   {
    "duration": 359,
    "start_time": "2024-11-04T09:19:48.013Z"
   },
   {
    "duration": 16,
    "start_time": "2024-11-04T09:19:48.374Z"
   },
   {
    "duration": 29,
    "start_time": "2024-11-04T09:19:48.391Z"
   },
   {
    "duration": 39,
    "start_time": "2024-11-04T09:19:48.422Z"
   },
   {
    "duration": 5,
    "start_time": "2024-11-04T09:19:48.463Z"
   },
   {
    "duration": 40,
    "start_time": "2024-11-04T09:19:48.470Z"
   },
   {
    "duration": 7,
    "start_time": "2024-11-04T09:19:48.512Z"
   },
   {
    "duration": 6,
    "start_time": "2024-11-04T09:19:48.521Z"
   },
   {
    "duration": 12,
    "start_time": "2024-11-04T09:19:48.529Z"
   },
   {
    "duration": 5,
    "start_time": "2024-11-04T09:19:48.542Z"
   },
   {
    "duration": 7,
    "start_time": "2024-11-04T09:19:48.548Z"
   },
   {
    "duration": 7,
    "start_time": "2024-11-04T09:19:48.557Z"
   },
   {
    "duration": 279,
    "start_time": "2024-11-04T09:19:48.566Z"
   },
   {
    "duration": 304,
    "start_time": "2024-11-04T09:19:48.847Z"
   },
   {
    "duration": 5,
    "start_time": "2024-11-04T09:19:49.153Z"
   },
   {
    "duration": 111,
    "start_time": "2024-11-04T09:19:49.159Z"
   },
   {
    "duration": 38,
    "start_time": "2024-11-04T09:19:49.271Z"
   },
   {
    "duration": 17,
    "start_time": "2024-11-04T09:19:49.311Z"
   },
   {
    "duration": 16,
    "start_time": "2024-11-04T09:19:49.330Z"
   },
   {
    "duration": 24,
    "start_time": "2024-11-04T09:19:49.348Z"
   },
   {
    "duration": 37,
    "start_time": "2024-11-04T09:19:49.373Z"
   },
   {
    "duration": 61,
    "start_time": "2024-11-04T09:19:49.411Z"
   },
   {
    "duration": 7,
    "start_time": "2024-11-04T09:19:49.473Z"
   },
   {
    "duration": 8,
    "start_time": "2024-11-04T09:19:49.481Z"
   },
   {
    "duration": 8,
    "start_time": "2024-11-04T09:19:49.490Z"
   },
   {
    "duration": 598,
    "start_time": "2024-11-04T09:19:49.499Z"
   },
   {
    "duration": 9,
    "start_time": "2024-11-04T09:19:50.098Z"
   },
   {
    "duration": 46,
    "start_time": "2024-11-04T09:19:50.108Z"
   },
   {
    "duration": 39,
    "start_time": "2024-11-04T09:19:50.156Z"
   },
   {
    "duration": 8,
    "start_time": "2024-11-04T09:19:50.196Z"
   },
   {
    "duration": 12,
    "start_time": "2024-11-04T09:19:50.205Z"
   },
   {
    "duration": 656,
    "start_time": "2024-11-04T09:19:50.218Z"
   },
   {
    "duration": 6,
    "start_time": "2024-11-04T09:19:50.876Z"
   }
  ],
  "kernelspec": {
   "display_name": "Python 3 (ipykernel)",
   "language": "python",
   "name": "python3"
  },
  "language_info": {
   "codemirror_mode": {
    "name": "ipython",
    "version": 3
   },
   "file_extension": ".py",
   "mimetype": "text/x-python",
   "name": "python",
   "nbconvert_exporter": "python",
   "pygments_lexer": "ipython3",
   "version": "3.11.5"
  },
  "toc": {
   "base_numbering": 1,
   "nav_menu": {},
   "number_sections": true,
   "sideBar": true,
   "skip_h1_title": true,
   "title_cell": "Table of Contents",
   "title_sidebar": "Анализ сервиса аренды самокатов GoFast",
   "toc_cell": false,
   "toc_position": {
    "height": "calc(100% - 180px)",
    "left": "10px",
    "top": "150px",
    "width": "283px"
   },
   "toc_section_display": true,
   "toc_window_display": true
  }
 },
 "nbformat": 4,
 "nbformat_minor": 5
}
